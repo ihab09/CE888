{
  "nbformat": 4,
  "nbformat_minor": 0,
  "metadata": {
    "colab": {
      "name": "Copy of Copy of Lab_1.ipynb",
      "provenance": [],
      "include_colab_link": true
    },
    "kernelspec": {
      "name": "python3",
      "display_name": "Python 3"
    }
  },
  "cells": [
    {
      "cell_type": "markdown",
      "metadata": {
        "id": "view-in-github",
        "colab_type": "text"
      },
      "source": [
        "<a href=\"https://colab.research.google.com/github/ihab09/CE888/blob/main/Lb1/Lab_1_solved.ipynb\" target=\"_parent\"><img src=\"https://colab.research.google.com/assets/colab-badge.svg\" alt=\"Open In Colab\"/></a>"
      ]
    },
    {
      "cell_type": "markdown",
      "metadata": {
        "id": "6X-TO_KR1mjo"
      },
      "source": [
        "## Questions to be done during the lab:\n",
        "\n",
        "**Questions 1.** \n",
        "Write a function name 'avg', which take an array of number and calculate the average\n",
        "\n",
        "\n"
      ]
    },
    {
      "cell_type": "code",
      "metadata": {
        "id": "vbu3Vga33lw3"
      },
      "source": [
        "import numpy as np\n",
        "def avg(marks):\n",
        "  sum = 0\n",
        "  for num in mark2:\n",
        "    sum += num\n",
        "  return sum/len(mark2)\n",
        "  \n",
        "mark2 = [55,88,78,90,79]"
      ],
      "execution_count": null,
      "outputs": []
    },
    {
      "cell_type": "code",
      "metadata": {
        "id": "MtgR1Y695RpD"
      },
      "source": [
        "# Only run this cell to check your answer. If it is true then no error will be raised\n",
        "assert(avg(mark2) == np.mean(mark2))"
      ],
      "execution_count": null,
      "outputs": []
    },
    {
      "cell_type": "code",
      "metadata": {
        "colab": {
          "base_uri": "https://localhost:8080/"
        },
        "id": "wZ6o8M6HmPUo",
        "outputId": "c9d6e7f0-0dc9-4c74-b00c-5afe4e4c4e77"
      },
      "source": [
        "# print results to check\r\n",
        "\r\n",
        "import numpy as np\r\n",
        "def avg(marks):\r\n",
        "  sum = 0\r\n",
        "  for num in mark2:\r\n",
        "    sum += num\r\n",
        "  return sum/len(mark2)\r\n",
        "  \r\n",
        "mark2 = [55,88,78,90,79]\r\n",
        "\r\n",
        "print(\"NP Mean:\", np.mean(mark2), \"Avg:\", avg(mark2))"
      ],
      "execution_count": null,
      "outputs": [
        {
          "output_type": "stream",
          "text": [
            "NP Mean: 78.0 Avg: 78.0\n"
          ],
          "name": "stdout"
        }
      ]
    },
    {
      "cell_type": "markdown",
      "metadata": {
        "id": "W1hVtS896cfi"
      },
      "source": [
        "**Questions 2**.\n",
        "Write a function name 'areaCricle', which take radius as a argument and calculate the area. \n",
        "\n"
      ]
    },
    {
      "cell_type": "code",
      "metadata": {
        "id": "Fn7_nt8-vUao",
        "colab": {
          "base_uri": "https://localhost:8080/"
        },
        "outputId": "13a46391-4004-4324-a73b-38c95b8ccd47"
      },
      "source": [
        "from math import pi # Use pi value from math package\n",
        "def areaCricle(radius):\n",
        "  return pi * (radius ** 2)\n",
        "\n",
        "areaCricle(10)"
      ],
      "execution_count": null,
      "outputs": [
        {
          "output_type": "execute_result",
          "data": {
            "text/plain": [
              "314.1592653589793"
            ]
          },
          "metadata": {
            "tags": []
          },
          "execution_count": 11
        }
      ]
    },
    {
      "cell_type": "code",
      "metadata": {
        "id": "BML90x25vikN"
      },
      "source": [
        "# Only run this cell to check your answer. If it is true then no error will be raised\n",
        "assert(round(areaCricle(10),2) == 314.16)"
      ],
      "execution_count": null,
      "outputs": []
    },
    {
      "cell_type": "markdown",
      "metadata": {
        "id": "_EfKc7-3x2k8"
      },
      "source": [
        "**Question 3.**\n",
        "Write a function that takes a list of items and returns a new list with the order of items reversed, without using any inbuilt Python features that will do this for you (e.g. .reverse() or reversed(…)). As specified in the instructions, your function must not modify the contents of the original list."
      ]
    },
    {
      "cell_type": "code",
      "metadata": {
        "id": "rEtOO9yPyKwe"
      },
      "source": [
        "def reversed_list(in_list):\n",
        "  i = len(in_list)-1\n",
        "  new_list = []\n",
        "  while i >= 0:\n",
        "    new_list.append(in_list[i])\n",
        "    i -= 1\n",
        " \n",
        "  return new_list\n",
        "\n",
        "  raise NotImplementedError()"
      ],
      "execution_count": null,
      "outputs": []
    },
    {
      "cell_type": "code",
      "metadata": {
        "id": "bVyMOVMLyRib"
      },
      "source": [
        "# Only run this cell to check your answer. If it is true then no error will be raised\n",
        "assert(reversed_list([1, 2]) == [2, 1])"
      ],
      "execution_count": null,
      "outputs": []
    },
    {
      "cell_type": "code",
      "metadata": {
        "colab": {
          "base_uri": "https://localhost:8080/"
        },
        "id": "RuddJuBBoKWR",
        "outputId": "9784092d-0280-4efc-c7f1-2265b3034c04"
      },
      "source": [
        "# testing\r\n",
        "def reversed_list(in_list):\r\n",
        "\r\n",
        "  i = len(in_list)-1\r\n",
        "  new_list = []\r\n",
        "  while i >= 0:\r\n",
        "    new_list.append(in_list[i])\r\n",
        "    i -= 1\r\n",
        " \r\n",
        "  print(new_list)\r\n",
        "  # return new_list\r\n",
        "\r\n",
        "reversed_list([1, 2, 3, 4, 5, 6, 7, 8])"
      ],
      "execution_count": null,
      "outputs": [
        {
          "output_type": "stream",
          "text": [
            "[8, 7, 6, 5, 4, 3, 2, 1]\n"
          ],
          "name": "stdout"
        }
      ]
    },
    {
      "cell_type": "markdown",
      "metadata": {
        "id": "DFQPTbd90pPN"
      },
      "source": [
        "**Question 4.** \n",
        "\n",
        "*Read carefully: *Write a function to perform a Bubble Sort on a list of numbers. \n",
        "\n",
        "Bubble sort is a sorting algorithm and works by iterating over the list, comparing adjacent items, and swapping them if they are out of order.\n",
        "\n",
        "Notice that after the first pass of a bubble sort, the biggest item is always moved to the end of the list. This means the next iteration does not need to check the final position of the list.\n",
        "\n",
        "In addition, you can keep track of how many items were swapped on each iteration. If this count is zero on any iteration, then the list must be fully sorted, in which case the algorithm can stop early.\n",
        "\n",
        "Hint: To understand Bubble Sort Algorithm, please [Watch](https://www.youtube.com/watch?v=xli_FI7CuzA)"
      ]
    },
    {
      "cell_type": "code",
      "metadata": {
        "id": "sGkDiI3b1DpQ"
      },
      "source": [
        "def bubble_sort(in_list):\n",
        "  i = 1\n",
        "  total_swaps = 0\n",
        "  while i < len(in_list):\n",
        "      j = 0\n",
        "      while j < (len(in_list)-1):\n",
        "        if in_list[j] > in_list[j+1]:\n",
        "          swap = in_list[j]\n",
        "          in_list[j] = in_list[j+1]\n",
        "          in_list[j+1] = swap\n",
        "          total_swaps += 1\n",
        "        j += 1\n",
        "      i +=1\n",
        "  \n",
        "  # print(total_swaps)\n",
        "    \n",
        "  return in_list\n",
        "  raise NotImplementedError()"
      ],
      "execution_count": null,
      "outputs": []
    },
    {
      "cell_type": "code",
      "metadata": {
        "id": "ReCP5Nv_1ETF"
      },
      "source": [
        "# Only run this cell to check your answer. If it is true then no error will be raised\n",
        "assert(bubble_sort([37, 42, 9, 19, 35, 4, 53, 22]) == [4, 9, 19, 22, 35, 37, 42, 53])\n",
        "assert(bubble_sort([5, 4, 3, 2, 1]) == [1, 2, 3, 4, 5])"
      ],
      "execution_count": null,
      "outputs": []
    },
    {
      "cell_type": "code",
      "metadata": {
        "colab": {
          "base_uri": "https://localhost:8080/"
        },
        "id": "kYWgc67OumMD",
        "outputId": "1400e4ba-585c-405c-b22d-1acba28ef4be"
      },
      "source": [
        "# testing playground\r\n",
        "\r\n",
        "def bubble_sort(in_list):\r\n",
        "  i = 1\r\n",
        "  total_swaps = 0\r\n",
        "  while i < len(in_list):\r\n",
        "      j = 0\r\n",
        "      while j < (len(in_list)-1):\r\n",
        "        if in_list[j] > in_list[j+1]:\r\n",
        "          swap = in_list[j]\r\n",
        "          in_list[j] = in_list[j+1]\r\n",
        "          in_list[j+1] = swap\r\n",
        "          total_swaps += 1\r\n",
        "        j += 1\r\n",
        "      i +=1\r\n",
        "      \r\n",
        "  print(in_list)\r\n",
        "  print(total_swaps, \"swaps\")\r\n",
        "\r\n",
        "bubble_sort([37, 42, 9, 19, 35, 4, 53, 22])"
      ],
      "execution_count": null,
      "outputs": [
        {
          "output_type": "stream",
          "text": [
            "[4, 9, 19, 22, 35, 37, 42, 53]\n",
            "15 swaps\n"
          ],
          "name": "stdout"
        }
      ]
    },
    {
      "cell_type": "markdown",
      "metadata": {
        "id": "c6y0x8KsvySS"
      },
      "source": [
        "**Question 5.** \n",
        "\n",
        "Write a function to find $n^{th}$ Fibonacci number\n",
        "The Fibonacci numbers are the numbers in the following integer sequence.\n",
        "\n",
        "| 1  | 2 | 3  | 4 | 5  | 6 | 7  | 8 | 9 | 10 | 11 | 12 |\n",
        "| -- |-- | -- | --| -- | --| -- | --|-- | -- |-- |-- |\n",
        "| 0  | 1 | 1  | 2 | 3  | 5 | 8  | 13| 21| 34 |55 |89 |\n",
        "\n",
        "Please consider index starting from 1\n",
        "\n",
        "In mathematical terms, the sequence $F_n$ of Fibonacci numbers is defined by the recurrence relation \n",
        "\n",
        "$F_n = F_n-1 + F_n-2$\n",
        "\n",
        "with seed values \n",
        "\n",
        "$F_0 = 0$ and $F_1 = 1$\n"
      ]
    },
    {
      "cell_type": "code",
      "metadata": {
        "colab": {
          "base_uri": "https://localhost:8080/"
        },
        "id": "dlMnigUrvxb9",
        "outputId": "326f370f-e54f-4ad5-b9e4-6964a7014b43"
      },
      "source": [
        "def Fibonacci(n):\n",
        "  i = 2\n",
        "  f_seq = [0, 1]\n",
        "\n",
        "  while i < n:\n",
        "    f_seq.append(f_seq[i-1] + f_seq[i-2])\n",
        "    i += 1\n",
        "  \n",
        "  # print(f_seq)\n",
        "  return f_seq[-1]\n",
        "  raise NotImplementedError()\n",
        "\n",
        "Fibonacci(1)"
      ],
      "execution_count": null,
      "outputs": [
        {
          "output_type": "execute_result",
          "data": {
            "text/plain": [
              "1"
            ]
          },
          "metadata": {
            "tags": []
          },
          "execution_count": 78
        }
      ]
    },
    {
      "cell_type": "code",
      "metadata": {
        "id": "8OJv6zQKxzKj"
      },
      "source": [
        "# Only run this cell to check your answer. If it is true then no error will be raised\n",
        "assert(Fibonacci(7) == 8)\n",
        "assert(Fibonacci(9) == 21)"
      ],
      "execution_count": null,
      "outputs": []
    },
    {
      "cell_type": "code",
      "metadata": {
        "colab": {
          "base_uri": "https://localhost:8080/"
        },
        "id": "hvQl_q4xx8iU",
        "outputId": "2e6905d2-69b2-4698-9955-33a86aec0d1c"
      },
      "source": [
        "# testing playground\r\n",
        "\r\n",
        "def Fibonacci(n):\r\n",
        "  i = 2\r\n",
        "  f_seq = [0, 1]\r\n",
        "\r\n",
        "  while i < n:\r\n",
        "    f_seq.append(f_seq[i-1] + f_seq[i-2])\r\n",
        "    i += 1\r\n",
        "  \r\n",
        "  print(f_seq)\r\n",
        "  return f_seq[-1]\r\n",
        "\r\n",
        "\r\n",
        "Fibonacci(12)"
      ],
      "execution_count": null,
      "outputs": [
        {
          "output_type": "stream",
          "text": [
            "[0, 1, 1, 2, 3, 5, 8, 13, 21, 34, 55, 89]\n"
          ],
          "name": "stdout"
        },
        {
          "output_type": "execute_result",
          "data": {
            "text/plain": [
              "89"
            ]
          },
          "metadata": {
            "tags": []
          },
          "execution_count": 80
        }
      ]
    },
    {
      "cell_type": "code",
      "metadata": {
        "id": "NCbpgfSNyVRt"
      },
      "source": [
        ""
      ],
      "execution_count": null,
      "outputs": []
    }
  ]
}