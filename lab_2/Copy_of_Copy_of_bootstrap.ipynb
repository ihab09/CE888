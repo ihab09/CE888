{
  "nbformat": 4,
  "nbformat_minor": 0,
  "metadata": {
    "colab": {
      "name": "Copy of Copy of bootstrap.ipynb",
      "provenance": [],
      "collapsed_sections": [],
      "include_colab_link": true
    },
    "kernelspec": {
      "display_name": "Python 3",
      "language": "python",
      "name": "python3"
    },
    "language_info": {
      "codemirror_mode": {
        "name": "ipython",
        "version": 3
      },
      "file_extension": ".py",
      "mimetype": "text/x-python",
      "name": "python",
      "nbconvert_exporter": "python",
      "pygments_lexer": "ipython3",
      "version": "3.7.6"
    },
    "pycharm": {
      "stem_cell": {
        "cell_type": "raw",
        "metadata": {
          "collapsed": false
        },
        "source": []
      }
    }
  },
  "cells": [
    {
      "cell_type": "markdown",
      "metadata": {
        "id": "view-in-github",
        "colab_type": "text"
      },
      "source": [
        "<a href=\"https://colab.research.google.com/github/ihab09/CE888/blob/main/lab_2/Copy_of_Copy_of_bootstrap.ipynb\" target=\"_parent\"><img src=\"https://colab.research.google.com/assets/colab-badge.svg\" alt=\"Open In Colab\"/></a>"
      ]
    },
    {
      "cell_type": "markdown",
      "metadata": {
        "id": "nCi_99yMYIb1"
      },
      "source": [
        "In this notebook you'll create your own bootstrap function following the bootstrap algorithm (check the lecture notes!)"
      ]
    },
    {
      "cell_type": "code",
      "metadata": {
        "id": "LY5zujI2YC37",
        "pycharm": {
          "name": "#%%# Imports\n"
        }
      },
      "source": [
        "import matplotlib\n",
        "import pandas as pd\n",
        "import seaborn as sns\n",
        "import numpy as np\n",
        "\n"
      ],
      "execution_count": null,
      "outputs": []
    },
    {
      "cell_type": "code",
      "metadata": {
        "id": "Eqkwj4SMY38t"
      },
      "source": [
        "# Load the data\n",
        "df = pd.read_csv('https://raw.githubusercontent.com/albanda/CE888/master/lab2%20-%20bootstrap/customers.csv')\n",
        "data = df.values.T[1]"
      ],
      "execution_count": null,
      "outputs": []
    },
    {
      "cell_type": "code",
      "metadata": {
        "colab": {
          "base_uri": "https://localhost:8080/",
          "height": 488
        },
        "id": "mHbthMrNzneY",
        "outputId": "959aa63b-392f-48df-85ed-c3adacbc03ec"
      },
      "source": [
        "# Explore the dataset\r\n",
        "df"
      ],
      "execution_count": null,
      "outputs": [
        {
          "output_type": "execute_result",
          "data": {
            "text/html": [
              "<div>\n",
              "<style scoped>\n",
              "    .dataframe tbody tr th:only-of-type {\n",
              "        vertical-align: middle;\n",
              "    }\n",
              "\n",
              "    .dataframe tbody tr th {\n",
              "        vertical-align: top;\n",
              "    }\n",
              "\n",
              "    .dataframe thead th {\n",
              "        text-align: right;\n",
              "    }\n",
              "</style>\n",
              "<table border=\"1\" class=\"dataframe\">\n",
              "  <thead>\n",
              "    <tr style=\"text-align: right;\">\n",
              "      <th></th>\n",
              "      <th>Day</th>\n",
              "      <th>Millons of pounds in sales</th>\n",
              "    </tr>\n",
              "  </thead>\n",
              "  <tbody>\n",
              "    <tr>\n",
              "      <th>0</th>\n",
              "      <td>1</td>\n",
              "      <td>2.0</td>\n",
              "    </tr>\n",
              "    <tr>\n",
              "      <th>1</th>\n",
              "      <td>2</td>\n",
              "      <td>8.0</td>\n",
              "    </tr>\n",
              "    <tr>\n",
              "      <th>2</th>\n",
              "      <td>3</td>\n",
              "      <td>20.0</td>\n",
              "    </tr>\n",
              "    <tr>\n",
              "      <th>3</th>\n",
              "      <td>4</td>\n",
              "      <td>13.0</td>\n",
              "    </tr>\n",
              "    <tr>\n",
              "      <th>4</th>\n",
              "      <td>5</td>\n",
              "      <td>5.0</td>\n",
              "    </tr>\n",
              "    <tr>\n",
              "      <th>5</th>\n",
              "      <td>6</td>\n",
              "      <td>9.0</td>\n",
              "    </tr>\n",
              "    <tr>\n",
              "      <th>6</th>\n",
              "      <td>7</td>\n",
              "      <td>10.0</td>\n",
              "    </tr>\n",
              "    <tr>\n",
              "      <th>7</th>\n",
              "      <td>8</td>\n",
              "      <td>8.0</td>\n",
              "    </tr>\n",
              "    <tr>\n",
              "      <th>8</th>\n",
              "      <td>9</td>\n",
              "      <td>22.0</td>\n",
              "    </tr>\n",
              "    <tr>\n",
              "      <th>9</th>\n",
              "      <td>10</td>\n",
              "      <td>10.0</td>\n",
              "    </tr>\n",
              "    <tr>\n",
              "      <th>10</th>\n",
              "      <td>11</td>\n",
              "      <td>2.0</td>\n",
              "    </tr>\n",
              "    <tr>\n",
              "      <th>11</th>\n",
              "      <td>12</td>\n",
              "      <td>4.0</td>\n",
              "    </tr>\n",
              "    <tr>\n",
              "      <th>12</th>\n",
              "      <td>13</td>\n",
              "      <td>7.0</td>\n",
              "    </tr>\n",
              "    <tr>\n",
              "      <th>13</th>\n",
              "      <td>14</td>\n",
              "      <td>9.0</td>\n",
              "    </tr>\n",
              "  </tbody>\n",
              "</table>\n",
              "</div>"
            ],
            "text/plain": [
              "    Day   Millons of pounds in sales\n",
              "0     1                          2.0\n",
              "1     2                          8.0\n",
              "2     3                         20.0\n",
              "3     4                         13.0\n",
              "4     5                          5.0\n",
              "5     6                          9.0\n",
              "6     7                         10.0\n",
              "7     8                          8.0\n",
              "8     9                         22.0\n",
              "9    10                         10.0\n",
              "10   11                          2.0\n",
              "11   12                          4.0\n",
              "12   13                          7.0\n",
              "13   14                          9.0"
            ]
          },
          "metadata": {
            "tags": []
          },
          "execution_count": 3
        }
      ]
    },
    {
      "cell_type": "code",
      "metadata": {
        "colab": {
          "base_uri": "https://localhost:8080/"
        },
        "id": "BU-IBzbJzn0r",
        "outputId": "763ad598-5e42-4835-e517-d817862488a2"
      },
      "source": [
        "data"
      ],
      "execution_count": null,
      "outputs": [
        {
          "output_type": "execute_result",
          "data": {
            "text/plain": [
              "array([ 2.,  8., 20., 13.,  5.,  9., 10.,  8., 22., 10.,  2.,  4.,  7.,\n",
              "        9.])"
            ]
          },
          "metadata": {
            "tags": []
          },
          "execution_count": 4
        }
      ]
    },
    {
      "cell_type": "code",
      "metadata": {
        "id": "Gxvc_bScYC4H",
        "pycharm": {
          "name": "#%%\n"
        }
      },
      "source": [
        "# Checking the notes from the lecture, create here your own bootstrap function:\n",
        "# 1. Sample from the input array x to create an array of samples of shape (n_bootstraps, sample_size)\n",
        "# Hint: Check the function random.choice() on Numpy\n",
        "# 2. Calculate and save the mean of the array (this is \"data_mean\" that is returned by the function)\n",
        "# 3. Calculate the mean from each bootstrap (i.e., row) and store it.\n",
        "# (This should be an array of n_bootstraps values)\n",
        "# 4. Calculate the lower and upper bounds for a 95% CI (hint: check the percentile function on Numpy)\n",
        "# 5. Return data_mean, and the lower and upper bounds of your interval\n",
        "def bootstrap_mean(x, sample_size, n_bootstraps):\n",
        "\t# <---INSERT YOUR CODE HERE--->\n",
        "  # sample_size = 9\n",
        "  # n_bootstraps = 10\n",
        "  data_mean = []\n",
        "  i = 0\n",
        "  all_bootstraps = np.empty((n_bootstraps, sample_size))\n",
        "  bootstrap_means = []\n",
        "\n",
        "  while i < n_bootstraps:\n",
        "\n",
        "    size_itr = 0\n",
        "\n",
        "    while size_itr < sample_size:\n",
        "      all_bootstraps[i][size_itr] = np.random.choice(x)\n",
        "      size_itr += 1\n",
        "\n",
        "    i += 1\n",
        "\n",
        "  # data_mean = np.mean(x)\n",
        "\n",
        "  # print(round(data_mean, 2))\n",
        "  # print(all_bootstraps)\n",
        "\n",
        "  for each_bootstrap in all_bootstraps:\n",
        "    bootstrap_means.append(np.mean(each_bootstrap))\n",
        "    \n",
        "  bootstrap_means.sort()\n",
        "  \n",
        "  data_mean = np.mean(bootstrap_means)\n",
        "\n",
        "  upper = np.percentile(bootstrap_means, 97.5)\n",
        "  lower = np.percentile(bootstrap_means, 2.5)\n",
        "\n",
        "  return data_mean, lower, upper\n",
        "\n"
      ],
      "execution_count": null,
      "outputs": []
    },
    {
      "cell_type": "code",
      "metadata": {
        "colab": {
          "base_uri": "https://localhost:8080/"
        },
        "id": "LffdfMHbClUh",
        "outputId": "699e7910-63ce-4c84-a540-822278224864"
      },
      "source": [
        "# Testing Playground\r\n",
        "\r\n",
        "sample_size = 9\r\n",
        "n_bootstraps = 10\r\n",
        "data_mean = []\r\n",
        "i = 0\r\n",
        "all_bootstraps = np.empty((n_bootstraps, sample_size))\r\n",
        "bootstrap_means = []\r\n",
        "\r\n",
        "while i < n_bootstraps:\r\n",
        "\r\n",
        "  size_itr = 0\r\n",
        "\r\n",
        "  while size_itr < sample_size:\r\n",
        "    all_bootstraps[i][size_itr] = np.random.choice(data)\r\n",
        "    size_itr += 1\r\n",
        "\r\n",
        "  i += 1\r\n",
        "\r\n",
        "\r\n",
        "\r\n",
        "for each_bootstrap in all_bootstraps:\r\n",
        "  bootstrap_means.append(np.mean(each_bootstrap))\r\n",
        "  \r\n",
        "bootstrap_means.sort()\r\n",
        "data_mean = np.mean(bootstrap_means)\r\n",
        "\r\n",
        "upper = np.percentile(bootstrap_means, 97.5)\r\n",
        "lower = np.percentile(bootstrap_means, 2.5)\r\n",
        "\r\n",
        "print(\"The array of samples:\\n\", all_bootstraps)\r\n",
        "print(\"\\nMean for the whole data:\", round(data_mean, 3))\r\n",
        "print(\"Sorted means of bootstraps:\", bootstrap_means)\r\n",
        "print(\"Lower and upper boundaries:\", lower, upper)\r\n",
        "\r\n",
        "# bootstrap_mean(x, sample_size, n_bootstraps)"
      ],
      "execution_count": null,
      "outputs": [
        {
          "output_type": "stream",
          "text": [
            "The array of samples:\n",
            " [[10.  2.  7.  5. 10.  8. 22.  4.  2.]\n",
            " [ 8.  5.  9.  2. 20. 22. 22. 10.  8.]\n",
            " [10. 20.  2.  9.  5.  9.  2. 13. 10.]\n",
            " [ 9.  2.  5.  5.  8.  4.  2. 10. 22.]\n",
            " [ 5.  8. 20.  7.  4. 22.  8.  9.  7.]\n",
            " [ 8.  2.  5.  5. 10.  8. 10. 10.  2.]\n",
            " [ 8.  2.  4.  9.  7.  2. 10.  9.  9.]\n",
            " [ 9.  2.  7. 20.  7.  4.  2.  8.  7.]\n",
            " [ 7.  5.  5.  9.  4.  9.  8.  2. 13.]\n",
            " [ 9. 10.  4. 10. 13.  5. 10.  8.  8.]]\n",
            "\n",
            "Mean for the whole data: 8.2\n",
            "Sorted means of bootstraps: [6.666666666666667, 6.666666666666667, 6.888888888888889, 7.333333333333333, 7.444444444444445, 7.777777777777778, 8.555555555555555, 8.88888888888889, 10.0, 11.777777777777779]\n",
            "Lower and upper boundaries: 6.666666666666667 11.377777777777778\n"
          ],
          "name": "stdout"
        }
      ]
    },
    {
      "cell_type": "code",
      "metadata": {
        "id": "AN7sEOcMYC4P",
        "pycharm": {
          "name": "#%%\n"
        },
        "colab": {
          "base_uri": "https://localhost:8080/",
          "height": 458
        },
        "outputId": "b58c4bb3-4974-4be9-9b91-1994e94ebe22"
      },
      "source": [
        "# Call your bootstrap function and plot the results\n",
        "\n",
        "boots = []\n",
        "for i in range(100, 50000, 1000):\n",
        "    boot = bootstrap_mean(data, data.shape[0], i)\n",
        "    boots.append([i, boot[0], \"mean\"])\n",
        "    boots.append([i, boot[1], \"lower\"])\n",
        "    boots.append([i, boot[2], \"upper\"])\n",
        "\n",
        "df_boot = pd.DataFrame(boots, columns=['Bootstrap Iterations', 'Mean', \"Value\"])\n",
        "sns_plot = sns.lmplot(df_boot.columns[0], df_boot.columns[1], data=df_boot, fit_reg=False, hue=\"Value\")\n",
        "\n",
        "sns_plot.axes[0, 0].set_ylim(0,)\n",
        "sns_plot.axes[0, 0].set_xlim(0, 50000)\n"
      ],
      "execution_count": null,
      "outputs": [
        {
          "output_type": "stream",
          "text": [
            "/usr/local/lib/python3.6/dist-packages/seaborn/_decorators.py:43: FutureWarning: Pass the following variables as keyword args: x, y. From version 0.12, the only valid positional argument will be `data`, and passing other arguments without an explicit keyword will result in an error or misinterpretation.\n",
            "  FutureWarning\n"
          ],
          "name": "stderr"
        },
        {
          "output_type": "execute_result",
          "data": {
            "text/plain": [
              "(0.0, 50000.0)"
            ]
          },
          "metadata": {
            "tags": []
          },
          "execution_count": 7
        },
        {
          "output_type": "display_data",
          "data": {
            "image/png": "[encoded data removed]",
            "text/plain": [
              "<Figure size 425.125x360 with 1 Axes>"
            ]
          },
          "metadata": {
            "tags": [],
            "needs_background": "light"
          }
        }
      ]
    },
    {
      "cell_type": "markdown",
      "metadata": {
        "id": "MjtP4e2_YC4V"
      },
      "source": [
        "\n",
        "Now, modify the bootstrap function you created above so that you can pass your desired confidence interval as a parameter.\n",
        "\n"
      ]
    },
    {
      "cell_type": "code",
      "metadata": {
        "id": "3K9j0FuGYhHs"
      },
      "source": [
        "def bootstrap_std_ci(sample, sample_size, n_bootstraps, ci):\n",
        "\t# <---INSERT YOUR CODE HERE--->\n",
        "  data_std = []\n",
        "  i = 0\n",
        "  all_bootstraps = np.empty((n_bootstraps, sample_size))\n",
        "  bootstrap_stds = []\n",
        "\n",
        "  while i < n_bootstraps:\n",
        "\n",
        "    size_itr = 0\n",
        "\n",
        "    while size_itr < sample_size:\n",
        "      all_bootstraps[i][size_itr] = np.random.choice(sample)\n",
        "      size_itr += 1\n",
        "\n",
        "    i += 1\n",
        "\n",
        "  # print(round(data_mean, 2))\n",
        "  # print(all_bootstraps)\n",
        "\n",
        "  for each_bootstrap in all_bootstraps:\n",
        "    bootstrap_stds.append(np.std(each_bootstrap))\n",
        "    \n",
        "  bootstrap_stds.sort()\n",
        "\n",
        "  data_std = np.std(bootstrap_stds)\n",
        "  upper = np.percentile(bootstrap_stds, ci + ((100-ci)/2) )\n",
        "  lower = np.percentile(bootstrap_stds, (100 - ci)/2 )\n",
        "\n",
        "  return data_std, lower, upper"
      ],
      "execution_count": null,
      "outputs": []
    },
    {
      "cell_type": "code",
      "metadata": {
        "id": "kb0RT3b22CBR"
      },
      "source": [
        "def bootstrap_mean_ci(sample, sample_size, n_bootstraps, ci):\r\n",
        "\t# <---INSERT YOUR CODE HERE--->\r\n",
        "  data_mean = []\r\n",
        "  i = 0\r\n",
        "  all_bootstraps = np.empty((n_bootstraps, sample_size))\r\n",
        "  bootstrap_means = []\r\n",
        "\r\n",
        "  while i < n_bootstraps:\r\n",
        "\r\n",
        "    size_itr = 0\r\n",
        "\r\n",
        "    while size_itr < sample_size:\r\n",
        "      all_bootstraps[i][size_itr] = np.random.choice(sample)\r\n",
        "      size_itr += 1\r\n",
        "\r\n",
        "    i += 1\r\n",
        "\r\n",
        "  # data_mean = np.mean(sample)\r\n",
        "\r\n",
        "  # print(round(data_mean, 2))\r\n",
        "  # print(all_bootstraps)\r\n",
        "\r\n",
        "  for each_bootstrap in all_bootstraps:\r\n",
        "    bootstrap_means.append(np.mean(each_bootstrap))\r\n",
        "    \r\n",
        "  bootstrap_means.sort()\r\n",
        "\r\n",
        "  data_mean = np.mean(bootstrap_means)\r\n",
        "\r\n",
        "  upper = np.percentile(bootstrap_means, ci + ((100-ci)/2) )\r\n",
        "  lower = np.percentile(bootstrap_means, (100 - ci)/2 )\r\n",
        "\r\n",
        "  return data_mean, lower, upper"
      ],
      "execution_count": null,
      "outputs": []
    },
    {
      "cell_type": "code",
      "metadata": {
        "id": "uDnjq08GYl-C",
        "colab": {
          "base_uri": "https://localhost:8080/",
          "height": 458
        },
        "outputId": "f4b7d161-de09-4210-b9dc-7eb3a7f18ccf"
      },
      "source": [
        "boots = []\n",
        "for i in range(100, 50000, 1000):\n",
        "    boot = bootstrap_mean_ci(data, data.shape[0], i, 80)\n",
        "    boots.append([i, boot[0], \"mean\"])\n",
        "    boots.append([i, boot[1], \"lower\"])\n",
        "    boots.append([i, boot[2], \"upper\"])\n",
        "\n",
        "df_boot = pd.DataFrame(boots, columns=['Boostrap Iterations', 'Mean', \"Value\"])\n",
        "sns_plot = sns.lmplot(df_boot.columns[0], df_boot.columns[1], data=df_boot, fit_reg=False, hue=\"Value\")\n",
        "\n",
        "sns_plot.axes[0, 0].set_ylim(0,)\n",
        "sns_plot.axes[0, 0].set_xlim(0, 50000)\n",
        "\n",
        "#sns_plot.savefig(\"bootstrap_confidence_80.pdf\", bbox_inches='tight')\n"
      ],
      "execution_count": null,
      "outputs": [
        {
          "output_type": "stream",
          "text": [
            "/usr/local/lib/python3.6/dist-packages/seaborn/_decorators.py:43: FutureWarning: Pass the following variables as keyword args: x, y. From version 0.12, the only valid positional argument will be `data`, and passing other arguments without an explicit keyword will result in an error or misinterpretation.\n",
            "  FutureWarning\n"
          ],
          "name": "stderr"
        },
        {
          "output_type": "execute_result",
          "data": {
            "text/plain": [
              "(0.0, 50000.0)"
            ]
          },
          "metadata": {
            "tags": []
          },
          "execution_count": 10
        },
        {
          "output_type": "display_data",
          "data": {
            "image/png": "[encoded data removed]",
            "text/plain": [
              "<Figure size 425.125x360 with 1 Axes>"
            ]
          },
          "metadata": {
            "tags": [],
            "needs_background": "light"
          }
        }
      ]
    },
    {
      "cell_type": "markdown",
      "metadata": {
        "id": "qjNgXW6wdd7r"
      },
      "source": [
        "# Vehicles dataset\n",
        "\n",
        "Now let's work on a different dataset, which is stored in the vehicles.csv file.\n"
      ]
    },
    {
      "cell_type": "code",
      "metadata": {
        "colab": {
          "base_uri": "https://localhost:8080/",
          "height": 424
        },
        "id": "jNbMc5aAdU9c",
        "outputId": "7175e79c-f2ae-48f0-877e-7e7f68f62364"
      },
      "source": [
        "\r\n",
        "df = pd.read_csv('https://raw.githubusercontent.com/albanda/CE888/master/lab2%20-%20bootstrap/vehicles.csv')\r\n",
        "df\r\n"
      ],
      "execution_count": null,
      "outputs": [
        {
          "output_type": "execute_result",
          "data": {
            "text/html": [
              "<div>\n",
              "<style scoped>\n",
              "    .dataframe tbody tr th:only-of-type {\n",
              "        vertical-align: middle;\n",
              "    }\n",
              "\n",
              "    .dataframe tbody tr th {\n",
              "        vertical-align: top;\n",
              "    }\n",
              "\n",
              "    .dataframe thead th {\n",
              "        text-align: right;\n",
              "    }\n",
              "</style>\n",
              "<table border=\"1\" class=\"dataframe\">\n",
              "  <thead>\n",
              "    <tr style=\"text-align: right;\">\n",
              "      <th></th>\n",
              "      <th>Current fleet</th>\n",
              "      <th>New Fleet</th>\n",
              "    </tr>\n",
              "  </thead>\n",
              "  <tbody>\n",
              "    <tr>\n",
              "      <th>0</th>\n",
              "      <td>18</td>\n",
              "      <td>24.0</td>\n",
              "    </tr>\n",
              "    <tr>\n",
              "      <th>1</th>\n",
              "      <td>15</td>\n",
              "      <td>27.0</td>\n",
              "    </tr>\n",
              "    <tr>\n",
              "      <th>2</th>\n",
              "      <td>18</td>\n",
              "      <td>27.0</td>\n",
              "    </tr>\n",
              "    <tr>\n",
              "      <th>3</th>\n",
              "      <td>16</td>\n",
              "      <td>25.0</td>\n",
              "    </tr>\n",
              "    <tr>\n",
              "      <th>4</th>\n",
              "      <td>17</td>\n",
              "      <td>31.0</td>\n",
              "    </tr>\n",
              "    <tr>\n",
              "      <th>...</th>\n",
              "      <td>...</td>\n",
              "      <td>...</td>\n",
              "    </tr>\n",
              "    <tr>\n",
              "      <th>244</th>\n",
              "      <td>27</td>\n",
              "      <td>NaN</td>\n",
              "    </tr>\n",
              "    <tr>\n",
              "      <th>245</th>\n",
              "      <td>27</td>\n",
              "      <td>NaN</td>\n",
              "    </tr>\n",
              "    <tr>\n",
              "      <th>246</th>\n",
              "      <td>32</td>\n",
              "      <td>NaN</td>\n",
              "    </tr>\n",
              "    <tr>\n",
              "      <th>247</th>\n",
              "      <td>28</td>\n",
              "      <td>NaN</td>\n",
              "    </tr>\n",
              "    <tr>\n",
              "      <th>248</th>\n",
              "      <td>31</td>\n",
              "      <td>NaN</td>\n",
              "    </tr>\n",
              "  </tbody>\n",
              "</table>\n",
              "<p>249 rows × 2 columns</p>\n",
              "</div>"
            ],
            "text/plain": [
              "     Current fleet  New Fleet\n",
              "0               18       24.0\n",
              "1               15       27.0\n",
              "2               18       27.0\n",
              "3               16       25.0\n",
              "4               17       31.0\n",
              "..             ...        ...\n",
              "244             27        NaN\n",
              "245             27        NaN\n",
              "246             32        NaN\n",
              "247             28        NaN\n",
              "248             31        NaN\n",
              "\n",
              "[249 rows x 2 columns]"
            ]
          },
          "metadata": {
            "tags": []
          },
          "execution_count": 11
        }
      ]
    },
    {
      "cell_type": "code",
      "metadata": {
        "id": "avWv4ipFdpka",
        "colab": {
          "base_uri": "https://localhost:8080/"
        },
        "outputId": "fee4354e-8361-4a4e-8f7f-2d436b849982"
      },
      "source": [
        "# Load and visualise the vehicles dataset\n",
        "# To load the dataset: https://neptune.ai/blog/google-colab-dealing-with-files (check section \"Load individual files directly from GitHub\")\n",
        "# Note that the current and new fleets are in different columns and have different lengths, so bear this in mind when you're plotting.\n",
        "# You can create separate scatterplots for the two fleets, as you would with the histograms, \n",
        "# or plot them both in one plot (but not one against the other).\n",
        "# <---INSERT YOUR CODE HERE--->\n",
        "# Note: you can add more cells as needed to organise your code and your plots\n",
        "import matplotlib.pyplot as plt\n",
        "\n",
        "data_frame = pd.read_csv('https://raw.githubusercontent.com/albanda/CE888/master/lab2%20-%20bootstrap/vehicles.csv')\n",
        "data_frame\n",
        "\n",
        "current_fleet = data_frame['Current fleet']\n",
        "print(current_fleet)\n",
        "\n",
        "new_fleet = data_frame['New Fleet']\n",
        "new_fleet.dropna(inplace=True)\n",
        "print(new_fleet)\n"
      ],
      "execution_count": null,
      "outputs": [
        {
          "output_type": "stream",
          "text": [
            "0      18\n",
            "1      15\n",
            "2      18\n",
            "3      16\n",
            "4      17\n",
            "       ..\n",
            "244    27\n",
            "245    27\n",
            "246    32\n",
            "247    28\n",
            "248    31\n",
            "Name: Current fleet, Length: 249, dtype: int64\n",
            "0     24.0\n",
            "1     27.0\n",
            "2     27.0\n",
            "3     25.0\n",
            "4     31.0\n",
            "      ... \n",
            "74    34.0\n",
            "75    38.0\n",
            "76    32.0\n",
            "77    38.0\n",
            "78    32.0\n",
            "Name: New Fleet, Length: 79, dtype: float64\n"
          ],
          "name": "stdout"
        }
      ]
    },
    {
      "cell_type": "code",
      "metadata": {
        "colab": {
          "base_uri": "https://localhost:8080/",
          "height": 320
        },
        "id": "W6t9BRlDlBl7",
        "outputId": "bbd281db-2de0-42b0-c277-62e3010f75b0"
      },
      "source": [
        "# Set up for stacked plots\r\n",
        "plt.subplot(2,1,1)\r\n",
        "plt.hist(current_fleet, color='r')\r\n",
        "\r\n",
        "# Plot cumulative dist\r\n",
        "plt.subplot(2,1,2)\r\n",
        "plt.hist(new_fleet)"
      ],
      "execution_count": null,
      "outputs": [
        {
          "output_type": "execute_result",
          "data": {
            "text/plain": [
              "(array([ 5.,  5., 12.,  8., 20., 13., 11.,  3.,  0.,  2.]),\n",
              " array([18. , 20.9, 23.8, 26.7, 29.6, 32.5, 35.4, 38.3, 41.2, 44.1, 47. ]),\n",
              " <a list of 10 Patch objects>)"
            ]
          },
          "metadata": {
            "tags": []
          },
          "execution_count": 13
        },
        {
          "output_type": "display_data",
          "data": {
            "image/png": "[encoded data removed]",
            "text/plain": [
              "<Figure size 432x288 with 2 Axes>"
            ]
          },
          "metadata": {
            "tags": [],
            "needs_background": "light"
          }
        }
      ]
    },
    {
      "cell_type": "code",
      "metadata": {
        "colab": {
          "base_uri": "https://localhost:8080/",
          "height": 286
        },
        "id": "lXkaio6Txm7_",
        "outputId": "ff1a804f-8b4f-470c-ec9a-69718bea527b"
      },
      "source": [
        "# Set up for stacked plots\r\n",
        "plt.subplot(2,1,1)\r\n",
        "plt.plot(current_fleet, color='r')\r\n",
        "\r\n",
        "# Plot cumulative dist\r\n",
        "plt.subplot(2,1,2)\r\n",
        "plt.plot(new_fleet)"
      ],
      "execution_count": null,
      "outputs": [
        {
          "output_type": "execute_result",
          "data": {
            "text/plain": [
              "[<matplotlib.lines.Line2D at 0x7fba85d22e48>]"
            ]
          },
          "metadata": {
            "tags": []
          },
          "execution_count": 14
        },
        {
          "output_type": "display_data",
          "data": {
            "image/png": "[encoded data removed]",
            "text/plain": [
              "<Figure size 432x288 with 2 Axes>"
            ]
          },
          "metadata": {
            "tags": [],
            "needs_background": "light"
          }
        }
      ]
    },
    {
      "cell_type": "code",
      "metadata": {
        "colab": {
          "base_uri": "https://localhost:8080/",
          "height": 284
        },
        "id": "DKMiynnLoYJA",
        "outputId": "486acce5-6e11-4643-f424-03dd16671e5a"
      },
      "source": [
        "# Set up for stacked plots\r\n",
        "plt.subplot(1,2,1)\r\n",
        "plt.scatter(np.arange(0, 249, 1), current_fleet, color='r')\r\n",
        "\r\n",
        "# Plot cumulative dist\r\n",
        "plt.subplot(1,2,2)\r\n",
        "plt.scatter(np.arange(0, 79, 1), new_fleet)"
      ],
      "execution_count": null,
      "outputs": [
        {
          "output_type": "execute_result",
          "data": {
            "text/plain": [
              "<matplotlib.collections.PathCollection at 0x7fba85dc0b00>"
            ]
          },
          "metadata": {
            "tags": []
          },
          "execution_count": 15
        },
        {
          "output_type": "display_data",
          "data": {
            "image/png": "[encoded data removed]",
            "text/plain": [
              "<Figure size 432x288 with 2 Axes>"
            ]
          },
          "metadata": {
            "tags": [],
            "needs_background": "light"
          }
        }
      ]
    },
    {
      "cell_type": "code",
      "metadata": {
        "colab": {
          "base_uri": "https://localhost:8080/",
          "height": 284
        },
        "id": "g8BJEVY1oEeV",
        "outputId": "a84c1922-7dca-4ab1-ab4c-e3c85a2fcd79"
      },
      "source": [
        "plt.scatter(np.arange(0, 249, 1), current_fleet, color='r')"
      ],
      "execution_count": null,
      "outputs": [
        {
          "output_type": "execute_result",
          "data": {
            "text/plain": [
              "<matplotlib.collections.PathCollection at 0x7fba8ebd8908>"
            ]
          },
          "metadata": {
            "tags": []
          },
          "execution_count": 16
        },
        {
          "output_type": "display_data",
          "data": {
            "image/png": "[encoded data removed]",
            "text/plain": [
              "<Figure size 432x288 with 1 Axes>"
            ]
          },
          "metadata": {
            "tags": [],
            "needs_background": "light"
          }
        }
      ]
    },
    {
      "cell_type": "code",
      "metadata": {
        "colab": {
          "base_uri": "https://localhost:8080/",
          "height": 283
        },
        "id": "SZGKCPCx0cXi",
        "outputId": "aa18aec6-91f6-46e1-e98c-cb401ee26afb"
      },
      "source": [
        "plt.scatter(np.arange(0, 79, 1), new_fleet)"
      ],
      "execution_count": null,
      "outputs": [
        {
          "output_type": "execute_result",
          "data": {
            "text/plain": [
              "<matplotlib.collections.PathCollection at 0x7fba85be1390>"
            ]
          },
          "metadata": {
            "tags": []
          },
          "execution_count": 17
        },
        {
          "output_type": "display_data",
          "data": {
            "image/png": "[encoded data removed]",
            "text/plain": [
              "<Figure size 432x288 with 1 Axes>"
            ]
          },
          "metadata": {
            "tags": [],
            "needs_background": "light"
          }
        }
      ]
    },
    {
      "cell_type": "markdown",
      "metadata": {
        "id": "B5d0tXDpIEj8"
      },
      "source": [
        "## Compare the two fleets\r\n",
        "\r\n",
        "The business analysts come up a comparison algorithm that requires the upper and lower bounds for the mean in order to say which fleet is better.\r\n",
        "1. Calculate the mean of both samples.\r\n",
        "2. Using the bootstrap function that you created:\r\n",
        "    - Construct the 95% CI of the mean of the current fleet.\r\n",
        "    - Construct the 95% CI of the mean of the new fleet.\r\n",
        "    - Are they comparable? (i.e., is one better than the other?) -- you can do this with a permutation test (check the lecture notes!)"
      ]
    },
    {
      "cell_type": "code",
      "metadata": {
        "id": "po4mp6zRHC0m",
        "colab": {
          "base_uri": "https://localhost:8080/"
        },
        "outputId": "4132cf2b-05a8-48e7-f532-6b9bb7c0b621"
      },
      "source": [
        "# <---INSERT YOUR CODE HERE--->\n",
        "print(\"Mean, lower and upper bounds of the current fleet:\", bootstrap_mean_ci(current_fleet, current_fleet.shape[0], 100, 95))\n",
        "print(\"Mean, lower and upper bounds of the new fleet:\", bootstrap_mean_ci(new_fleet, new_fleet.shape[0], 10000, 95))"
      ],
      "execution_count": null,
      "outputs": [
        {
          "output_type": "stream",
          "text": [
            "Mean, lower and upper bounds of the current fleet: (20.123413654618474, 19.368975903614455, 21.156124497991968)\n",
            "Mean, lower and upper bounds of the new fleet: (30.475882278481016, 29.139240506329113, 31.823101265822782)\n"
          ],
          "name": "stdout"
        }
      ]
    },
    {
      "cell_type": "code",
      "metadata": {
        "colab": {
          "base_uri": "https://localhost:8080/",
          "height": 458
        },
        "id": "0smmgTy39D-5",
        "outputId": "6ef17336-94c0-4c43-8769-90b3cffe64a4"
      },
      "source": [
        "boots = []\r\n",
        "for i in range(100, 50000, 1000):\r\n",
        "    boot = bootstrap_mean_ci(current_fleet, current_fleet.shape[0], 100, 95)\r\n",
        "    boots.append([i, boot[0], \"mean\"])\r\n",
        "    boots.append([i, boot[1], \"lower\"])\r\n",
        "    boots.append([i, boot[2], \"upper\"])\r\n",
        "\r\n",
        "df_boot = pd.DataFrame(boots, columns=['Boostrap Iterations', 'Mean', \"Value\"])\r\n",
        "sns_plot = sns.lmplot(df_boot.columns[0], df_boot.columns[1], data=df_boot, fit_reg=False, hue=\"Value\")\r\n",
        "\r\n",
        "sns_plot.axes[0, 0].set_ylim(15,)\r\n",
        "sns_plot.axes[0, 0].set_xlim(0, 50000)\r\n",
        "\r\n",
        "#sns_plot.savefig(\"bootstrap_confidence_80.pdf\", bbox_inches='tight')\r\n"
      ],
      "execution_count": null,
      "outputs": [
        {
          "output_type": "stream",
          "text": [
            "/usr/local/lib/python3.6/dist-packages/seaborn/_decorators.py:43: FutureWarning: Pass the following variables as keyword args: x, y. From version 0.12, the only valid positional argument will be `data`, and passing other arguments without an explicit keyword will result in an error or misinterpretation.\n",
            "  FutureWarning\n"
          ],
          "name": "stderr"
        },
        {
          "output_type": "execute_result",
          "data": {
            "text/plain": [
              "(0.0, 50000.0)"
            ]
          },
          "metadata": {
            "tags": []
          },
          "execution_count": 19
        },
        {
          "output_type": "display_data",
          "data": {
            "image/png": "[encoded data removed]",
            "text/plain": [
              "<Figure size 425.125x360 with 1 Axes>"
            ]
          },
          "metadata": {
            "tags": [],
            "needs_background": "light"
          }
        }
      ]
    },
    {
      "cell_type": "code",
      "metadata": {
        "colab": {
          "base_uri": "https://localhost:8080/",
          "height": 458
        },
        "id": "4PgGGSoa9au6",
        "outputId": "dee08200-0757-4615-fcd1-2f23f1b53386"
      },
      "source": [
        "boots = []\r\n",
        "for i in range(100, 50000, 1000):\r\n",
        "    boot = bootstrap_mean_ci(new_fleet, new_fleet.shape[0], 100, 95)\r\n",
        "    boots.append([i, boot[0], \"mean\"])\r\n",
        "    boots.append([i, boot[1], \"lower\"])\r\n",
        "    boots.append([i, boot[2], \"upper\"])\r\n",
        "\r\n",
        "df_boot = pd.DataFrame(boots, columns=['Boostrap Iterations', 'Mean', \"Value\"])\r\n",
        "sns_plot = sns.lmplot(df_boot.columns[0], df_boot.columns[1], data=df_boot, fit_reg=False, hue=\"Value\")\r\n",
        "\r\n",
        "sns_plot.axes[0, 0].set_ylim(20,)\r\n",
        "sns_plot.axes[0, 0].set_xlim(0, 50000)\r\n",
        "\r\n",
        "#sns_plot.savefig(\"bootstrap_confidence_80.pdf\", bbox_inches='tight')\r\n"
      ],
      "execution_count": null,
      "outputs": [
        {
          "output_type": "stream",
          "text": [
            "/usr/local/lib/python3.6/dist-packages/seaborn/_decorators.py:43: FutureWarning: Pass the following variables as keyword args: x, y. From version 0.12, the only valid positional argument will be `data`, and passing other arguments without an explicit keyword will result in an error or misinterpretation.\n",
            "  FutureWarning\n"
          ],
          "name": "stderr"
        },
        {
          "output_type": "execute_result",
          "data": {
            "text/plain": [
              "(0.0, 50000.0)"
            ]
          },
          "metadata": {
            "tags": []
          },
          "execution_count": 20
        },
        {
          "output_type": "display_data",
          "data": {
            "image/png": "[encoded data removed]",
            "text/plain": [
              "<Figure size 425.125x360 with 1 Axes>"
            ]
          },
          "metadata": {
            "tags": [],
            "needs_background": "light"
          }
        }
      ]
    },
    {
      "cell_type": "code",
      "metadata": {
        "id": "MkxvDZG4HC0n"
      },
      "source": [
        "# Create your own function for a permutation test here (you will need it for the lab quiz!):\n",
        "def permut_test(sample1, sample2, n_permutations):\n",
        "\n",
        "  \"\"\"\n",
        "  sample1: 1D array\n",
        "  sample2: 1D array (note that the size of the two arrays can be different)\n",
        "  n_permutations: number of permutations to calculate the p-value\n",
        "  \"\"\"\n",
        "  \n",
        "  bigger = 0\n",
        "  i = 0\n",
        "  # t_obs is the observed difference in mean\n",
        "  t_obs = np.mean(sample2) - np.mean(sample1)\n",
        "  # print(t_obs)   currently around 10\n",
        "  concatenated_arr = np.concatenate((sample1, sample2))\n",
        "  \n",
        "  while i < n_permutations:\n",
        "    permuted_arr = np.random.permutation(concatenated_arr)\n",
        "\n",
        "    p_current = permuted_arr[:int(len(permuted_arr)/2)]\n",
        "    p_new = permuted_arr[int(len(permuted_arr)/2):]\n",
        "\n",
        "    # print(p_new)\n",
        "    # t_perm is the difference between the means of simulated current and new samples\n",
        "    t_perm = np.mean(p_new) - np.mean(p_current)\n",
        "    \n",
        "    # delete this\n",
        "    # t_perm_list.append(t_perm)\n",
        "\n",
        "    if t_perm > t_obs: bigger += 1\n",
        "    # print(t_perm)\n",
        "    i += 1\n",
        "\n",
        "\n",
        "  # print(\"Bigger\", bigger)\n",
        "  pvalue = bigger/n_permutations\n",
        "\n",
        "  return pvalue\n"
      ],
      "execution_count": null,
      "outputs": []
    },
    {
      "cell_type": "code",
      "metadata": {
        "colab": {
          "base_uri": "https://localhost:8080/"
        },
        "id": "iXGFZM4tx0-q",
        "outputId": "5bdfb714-00b4-4abe-f18c-fb1604e5b85c"
      },
      "source": [
        "\r\n",
        "sample1 = np.array([0, 0, 0, 0, 0, 0, 1, 0, 0, 1, 0])\r\n",
        "sample2 = np.array([1, 0, 0, 1, 1, 1, 0, 0, 0, 1, 0])\r\n",
        "\r\n",
        "permut_test(sample1, sample2, 20000)\r\n"
      ],
      "execution_count": null,
      "outputs": [
        {
          "output_type": "execute_result",
          "data": {
            "text/plain": [
              "0.03225"
            ]
          },
          "metadata": {
            "tags": []
          },
          "execution_count": 22
        }
      ]
    },
    {
      "cell_type": "code",
      "metadata": {
        "colab": {
          "base_uri": "https://localhost:8080/"
        },
        "id": "6zTkV_gADGZ_",
        "outputId": "e1f83fe8-e1a4-4d10-e8e4-b0b70c758281"
      },
      "source": [
        "# testing playground\r\n",
        "\r\n",
        "def permut_test(sample1, sample2, n_permutations):\r\n",
        "  bigger = 0\r\n",
        "  i = 0\r\n",
        "  # t_obs is the observed difference in mean\r\n",
        "  t_obs = np.mean(sample2) - np.mean(sample1)\r\n",
        "  # print(t_obs)   currently around 10\r\n",
        "  concatenated_arr = np.concatenate((sample1, sample2))\r\n",
        "  \r\n",
        "  while i < n_permutations:\r\n",
        "    permuted_arr = np.random.permutation(concatenated_arr)\r\n",
        "\r\n",
        "    p_current = permuted_arr[:int(len(permuted_arr)/2)]\r\n",
        "    p_new = permuted_arr[int(len(permuted_arr)/2):]\r\n",
        "\r\n",
        "    # print(p_new)\r\n",
        "    # t_perm is the difference between the means of simulated current and new samples\r\n",
        "    t_perm = np.mean(p_new) - np.mean(p_current)\r\n",
        "    \r\n",
        "    # delete this\r\n",
        "    # t_perm_list.append(t_perm)\r\n",
        "\r\n",
        "    if t_perm > t_obs: bigger += 1\r\n",
        "    # print(t_perm)\r\n",
        "    i += 1\r\n",
        "\r\n",
        "\r\n",
        "  # print(\"Bigger\", bigger)\r\n",
        "  pvalue = bigger/n_permutations\r\n",
        "\r\n",
        "  return pvalue\r\n",
        "\r\n",
        "\r\n",
        "sample1 = np.array([0, 0, 0, 0, 0, 0, 1, 0, 0, 1, 0])\r\n",
        "sample2 = np.array([1, 0, 0, 1, 1, 1, 0, 0, 0, 1, 0])\r\n",
        "\r\n",
        "permut_test(sample1, sample2, 20000)\r\n"
      ],
      "execution_count": null,
      "outputs": [
        {
          "output_type": "execute_result",
          "data": {
            "text/plain": [
              "0.03305"
            ]
          },
          "metadata": {
            "tags": []
          },
          "execution_count": 23
        }
      ]
    },
    {
      "cell_type": "code",
      "metadata": {
        "colab": {
          "base_uri": "https://localhost:8080/"
        },
        "id": "BX_s-Oxt9LW5",
        "outputId": "f27532d2-9817-4297-8e85-54fb4f94a735"
      },
      "source": [
        "# Q8: \r\n",
        "# The variables below represent the percentages of democratic votes in Pennsylvania and Ohio (one value for each state).\r\n",
        "dem_share_PA = [60.08, 40.64, 36.07, 41.21, 31.04, 43.78, 44.08, 46.85, 44.71, 46.15, 63.10, 52.20, 43.18, 40.24, 39.92, 47.87, 37.77, 40.11, 49.85, 48.61, 38.62, 54.25, 34.84, 47.75, 43.82, 55.97, 58.23, 42.97, 42.38, 36.11, 37.53, 42.65, 50.96, 47.43, 56.24, 45.60, 46.39, 35.22, 48.56, 32.97, 57.88, 36.05, 37.72, 50.36, 32.12, 41.55, 54.66, 57.81, 54.58, 32.88, 54.37, 40.45, 47.61, 60.49, 43.11, 27.32, 44.03, 33.56, 37.26, 54.64, 43.12, 25.34, 49.79, 83.56, 40.09, 60.81, 49.81]\r\n",
        "dem_share_OH = [56.94, 50.46, 65.99, 45.88, 42.23, 45.26, 57.01, 53.61, 59.10, 61.48, 43.43, 44.69, 54.59, 48.36, 45.89, 48.62, 43.92, 38.23, 28.79, 63.57, 38.07, 40.18, 43.05, 41.56, 42.49, 36.06, 52.76, 46.07, 39.43, 39.26, 47.47, 27.92, 38.01, 45.45, 29.07, 28.94, 51.28, 50.10, 39.84, 36.43, 35.71, 31.47, 47.01, 40.10, 48.76, 31.56, 39.86, 45.31, 35.47, 51.38, 46.33, 48.73, 41.77, 41.32, 48.46, 53.14, 34.01, 54.74, 40.67, 38.96, 46.29, 38.25, 6.80, 31.75, 46.33, 44.90, 33.57, 38.10, 39.67, 40.47, 49.44, 37.62, 36.71, 46.73, 42.20, 53.16, 52.40, 58.36, 68.02, 38.53, 34.58, 69.64, 60.50, 53.53, 36.54, 49.58, 41.97, 38.11]\r\n",
        "\r\n",
        "print(len(dem_share_PA))\r\n",
        "print(len(dem_share_OH))\r\n",
        "\r\n",
        "pa_votes = np.array(dem_share_PA)\r\n",
        "oh_votes = np.array(dem_share_OH)"
      ],
      "execution_count": null,
      "outputs": [
        {
          "output_type": "stream",
          "text": [
            "67\n",
            "88\n"
          ],
          "name": "stdout"
        }
      ]
    },
    {
      "cell_type": "code",
      "metadata": {
        "colab": {
          "base_uri": "https://localhost:8080/"
        },
        "id": "FmAfFFGFMv6s",
        "outputId": "0a917617-755c-4f20-c9e2-cb108dfc6f60"
      },
      "source": [
        "print(\"Mean, lower and upper bounds of Pennsylvania votes:\", bootstrap_mean_ci(pa_votes, pa_votes.shape[0], 20000, 95))\r\n",
        "print(\"Mean, lower and upper bounds of Ohio votes:\", bootstrap_mean_ci(oh_votes, oh_votes.shape[0], 20000, 95))\r\n",
        "\r\n",
        "print(permut_test(oh_votes, pa_votes, 10000))"
      ],
      "execution_count": null,
      "outputs": [
        {
          "output_type": "stream",
          "text": [
            "Mean, lower and upper bounds of Pennsylvania votes: (45.4636046641791, 43.18355223880596, 47.820197761194024)\n",
            "Mean, lower and upper bounds of Ohio votes: (44.31111776704545, 42.24928409090909, 46.35375284090909)\n",
            "0.2372\n"
          ],
          "name": "stdout"
        }
      ]
    },
    {
      "cell_type": "code",
      "metadata": {
        "id": "KXVBXJHTEKlM"
      },
      "source": [
        ""
      ],
      "execution_count": null,
      "outputs": []
    },
    {
      "cell_type": "code",
      "metadata": {
        "colab": {
          "base_uri": "https://localhost:8080/"
        },
        "id": "X58qx7Yqz4xr",
        "outputId": "81ec70c3-dfc9-4d21-cf82-d75b7af58a99"
      },
      "source": [
        "# Q2: The 80% confidence interval for the mean of the customers dataset using 10000 iterations is (Answer,Answer). Give your answer including the first two decimal points (e.g., 1.23).\r\n",
        "\r\n",
        "bootstrap_mean_ci(data, data.shape[0], 10000, 80)\r\n"
      ],
      "execution_count": null,
      "outputs": [
        {
          "output_type": "execute_result",
          "data": {
            "text/plain": [
              "(9.172471428571429, 7.285714285714286, 11.214285714285714)"
            ]
          },
          "metadata": {
            "tags": []
          },
          "execution_count": 26
        }
      ]
    },
    {
      "cell_type": "code",
      "metadata": {
        "colab": {
          "base_uri": "https://localhost:8080/"
        },
        "id": "mxZAj6-ODw8q",
        "outputId": "45e6a8ae-39ab-4ddb-f520-b402fa18e84f"
      },
      "source": [
        "# Q3: The 80% confidence interval for the mean of the new fleet in the vehicles dataset using 10000 iterations is (Answer,Answer). Give your answer including the first two decimal points (e.g., 1.23).\r\n",
        "\r\n",
        "bootstrap_mean_ci(new_fleet, new_fleet.shape[0], 10000, 80)\r\n"
      ],
      "execution_count": null,
      "outputs": [
        {
          "output_type": "execute_result",
          "data": {
            "text/plain": [
              "(30.483197468354426, 29.60759493670886, 31.354430379746834)"
            ]
          },
          "metadata": {
            "tags": []
          },
          "execution_count": 27
        }
      ]
    },
    {
      "cell_type": "code",
      "metadata": {
        "colab": {
          "base_uri": "https://localhost:8080/"
        },
        "id": "QigKkKIW4V1e",
        "outputId": "67bb5cf1-a42a-4f57-e286-37e5aa5b4a65"
      },
      "source": [
        "# Q4: The 85% confidence interval for the standard deviation of the customers dataset using 10000 iterations is (Answer,Answer). Give your answer including the first two decimal points (e.g., 1.23).\r\n",
        "\r\n",
        "bootstrap_std_ci(data, data.shape[0], 10000, 85)\r\n",
        "\r\n"
      ],
      "execution_count": null,
      "outputs": [
        {
          "output_type": "execute_result",
          "data": {
            "text/plain": [
              "(1.1977516760815246, 3.2646842520075543, 6.943283349645857)"
            ]
          },
          "metadata": {
            "tags": []
          },
          "execution_count": 28
        }
      ]
    },
    {
      "cell_type": "code",
      "metadata": {
        "colab": {
          "base_uri": "https://localhost:8080/"
        },
        "id": "0wUNzHke3Pwz",
        "outputId": "c4368e6e-f19a-4fc1-c623-5019cbcd43b6"
      },
      "source": [
        "# The 99% confidence interval for the standard deviation of the new fleet in the vehicles dataset using 10000 iterations is (Answer,Answer). Give your answer including the first two decimal points (e.g., 1.23).\r\n",
        "\r\n",
        "bootstrap_std_ci(new_fleet, new_fleet.shape[0], 10000 , 99)"
      ],
      "execution_count": null,
      "outputs": [
        {
          "output_type": "execute_result",
          "data": {
            "text/plain": [
              "(0.4516351767670392, 4.8804978761634725, 7.170264197576037)"
            ]
          },
          "metadata": {
            "tags": []
          },
          "execution_count": 29
        }
      ]
    },
    {
      "cell_type": "code",
      "metadata": {
        "id": "hNOWPATJK5Ed"
      },
      "source": [
        ""
      ],
      "execution_count": null,
      "outputs": []
    }
  ]
}