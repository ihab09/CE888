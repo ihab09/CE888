{
  "nbformat": 4,
  "nbformat_minor": 0,
  "metadata": {
    "colab": {
      "name": "Copy of Copy of bootstrap.ipynb",
      "provenance": [],
      "collapsed_sections": [],
      "include_colab_link": true
    },
    "kernelspec": {
      "display_name": "Python 3",
      "language": "python",
      "name": "python3"
    },
    "language_info": {
      "codemirror_mode": {
        "name": "ipython",
        "version": 3
      },
      "file_extension": ".py",
      "mimetype": "text/x-python",
      "name": "python",
      "nbconvert_exporter": "python",
      "pygments_lexer": "ipython3",
      "version": "3.7.6"
    },
    "pycharm": {
      "stem_cell": {
        "cell_type": "raw",
        "metadata": {
          "collapsed": false
        },
        "source": []
      }
    }
  },
  "cells": [
    {
      "cell_type": "markdown",
      "metadata": {
        "id": "view-in-github",
        "colab_type": "text"
      },
      "source": [
        "<a href=\"https://colab.research.google.com/github/ihab09/CE888/blob/main/lab_2/bootstrap_solved.ipynb\" target=\"_parent\"><img src=\"https://colab.research.google.com/assets/colab-badge.svg\" alt=\"Open In Colab\"/></a>"
      ]
    },
    {
      "cell_type": "markdown",
      "metadata": {
        "id": "nCi_99yMYIb1"
      },
      "source": [
        "In this notebook you'll create your own bootstrap function following the bootstrap algorithm (check the lecture notes!)"
      ]
    },
    {
      "cell_type": "code",
      "metadata": {
        "id": "LY5zujI2YC37",
        "pycharm": {
          "name": "#%%# Imports\n"
        }
      },
      "source": [
        "import matplotlib\n",
        "import pandas as pd\n",
        "import seaborn as sns\n",
        "import numpy as np\n",
        "\n"
      ],
      "execution_count": 2,
      "outputs": []
    },
    {
      "cell_type": "code",
      "metadata": {
        "id": "Eqkwj4SMY38t"
      },
      "source": [
        "# Load the data\n",
        "df = pd.read_csv('https://raw.githubusercontent.com/albanda/CE888/master/lab2%20-%20bootstrap/customers.csv')\n",
        "data = df.values.T[1]"
      ],
      "execution_count": 3,
      "outputs": []
    },
    {
      "cell_type": "code",
      "metadata": {
        "colab": {
          "base_uri": "https://localhost:8080/",
          "height": 488
        },
        "id": "mHbthMrNzneY",
        "outputId": "88359b0c-9023-4a9a-8d01-07b92db8f25b"
      },
      "source": [
        "# Explore the dataset\r\n",
        "df"
      ],
      "execution_count": 4,
      "outputs": [
        {
          "output_type": "execute_result",
          "data": {
            "text/html": [
              "<div>\n",
              "<style scoped>\n",
              "    .dataframe tbody tr th:only-of-type {\n",
              "        vertical-align: middle;\n",
              "    }\n",
              "\n",
              "    .dataframe tbody tr th {\n",
              "        vertical-align: top;\n",
              "    }\n",
              "\n",
              "    .dataframe thead th {\n",
              "        text-align: right;\n",
              "    }\n",
              "</style>\n",
              "<table border=\"1\" class=\"dataframe\">\n",
              "  <thead>\n",
              "    <tr style=\"text-align: right;\">\n",
              "      <th></th>\n",
              "      <th>Day</th>\n",
              "      <th>Millons of pounds in sales</th>\n",
              "    </tr>\n",
              "  </thead>\n",
              "  <tbody>\n",
              "    <tr>\n",
              "      <th>0</th>\n",
              "      <td>1</td>\n",
              "      <td>2.0</td>\n",
              "    </tr>\n",
              "    <tr>\n",
              "      <th>1</th>\n",
              "      <td>2</td>\n",
              "      <td>8.0</td>\n",
              "    </tr>\n",
              "    <tr>\n",
              "      <th>2</th>\n",
              "      <td>3</td>\n",
              "      <td>20.0</td>\n",
              "    </tr>\n",
              "    <tr>\n",
              "      <th>3</th>\n",
              "      <td>4</td>\n",
              "      <td>13.0</td>\n",
              "    </tr>\n",
              "    <tr>\n",
              "      <th>4</th>\n",
              "      <td>5</td>\n",
              "      <td>5.0</td>\n",
              "    </tr>\n",
              "    <tr>\n",
              "      <th>5</th>\n",
              "      <td>6</td>\n",
              "      <td>9.0</td>\n",
              "    </tr>\n",
              "    <tr>\n",
              "      <th>6</th>\n",
              "      <td>7</td>\n",
              "      <td>10.0</td>\n",
              "    </tr>\n",
              "    <tr>\n",
              "      <th>7</th>\n",
              "      <td>8</td>\n",
              "      <td>8.0</td>\n",
              "    </tr>\n",
              "    <tr>\n",
              "      <th>8</th>\n",
              "      <td>9</td>\n",
              "      <td>22.0</td>\n",
              "    </tr>\n",
              "    <tr>\n",
              "      <th>9</th>\n",
              "      <td>10</td>\n",
              "      <td>10.0</td>\n",
              "    </tr>\n",
              "    <tr>\n",
              "      <th>10</th>\n",
              "      <td>11</td>\n",
              "      <td>2.0</td>\n",
              "    </tr>\n",
              "    <tr>\n",
              "      <th>11</th>\n",
              "      <td>12</td>\n",
              "      <td>4.0</td>\n",
              "    </tr>\n",
              "    <tr>\n",
              "      <th>12</th>\n",
              "      <td>13</td>\n",
              "      <td>7.0</td>\n",
              "    </tr>\n",
              "    <tr>\n",
              "      <th>13</th>\n",
              "      <td>14</td>\n",
              "      <td>9.0</td>\n",
              "    </tr>\n",
              "  </tbody>\n",
              "</table>\n",
              "</div>"
            ],
            "text/plain": [
              "    Day   Millons of pounds in sales\n",
              "0     1                          2.0\n",
              "1     2                          8.0\n",
              "2     3                         20.0\n",
              "3     4                         13.0\n",
              "4     5                          5.0\n",
              "5     6                          9.0\n",
              "6     7                         10.0\n",
              "7     8                          8.0\n",
              "8     9                         22.0\n",
              "9    10                         10.0\n",
              "10   11                          2.0\n",
              "11   12                          4.0\n",
              "12   13                          7.0\n",
              "13   14                          9.0"
            ]
          },
          "metadata": {
            "tags": []
          },
          "execution_count": 4
        }
      ]
    },
    {
      "cell_type": "code",
      "metadata": {
        "colab": {
          "base_uri": "https://localhost:8080/"
        },
        "id": "BU-IBzbJzn0r",
        "outputId": "98194227-d537-4e9e-8c67-3234ccb8248d"
      },
      "source": [
        "data"
      ],
      "execution_count": 5,
      "outputs": [
        {
          "output_type": "execute_result",
          "data": {
            "text/plain": [
              "array([ 2.,  8., 20., 13.,  5.,  9., 10.,  8., 22., 10.,  2.,  4.,  7.,\n",
              "        9.])"
            ]
          },
          "metadata": {
            "tags": []
          },
          "execution_count": 5
        }
      ]
    },
    {
      "cell_type": "code",
      "metadata": {
        "id": "Gxvc_bScYC4H",
        "pycharm": {
          "name": "#%%\n"
        }
      },
      "source": [
        "# Checking the notes from the lecture, create here your own bootstrap function:\n",
        "# 1. Sample from the input array x to create an array of samples of shape (n_bootstraps, sample_size)\n",
        "# Hint: Check the function random.choice() on Numpy\n",
        "# 2. Calculate and save the mean of the array (this is \"data_mean\" that is returned by the function)\n",
        "# 3. Calculate the mean from each bootstrap (i.e., row) and store it.\n",
        "# (This should be an array of n_bootstraps values)\n",
        "# 4. Calculate the lower and upper bounds for a 95% CI (hint: check the percentile function on Numpy)\n",
        "# 5. Return data_mean, and the lower and upper bounds of your interval\n",
        "def bootstrap_mean(x, sample_size, n_bootstraps):\n",
        "\t# <---INSERT YOUR CODE HERE--->\n",
        "  # sample_size = 9\n",
        "  # n_bootstraps = 10\n",
        "  data_mean = []\n",
        "  i = 0\n",
        "  all_bootstraps = np.empty((n_bootstraps, sample_size))\n",
        "  bootstrap_means = []\n",
        "\n",
        "  while i < n_bootstraps:\n",
        "\n",
        "    size_itr = 0\n",
        "\n",
        "    while size_itr < sample_size:\n",
        "      all_bootstraps[i][size_itr] = np.random.choice(x)\n",
        "      size_itr += 1\n",
        "\n",
        "    i += 1\n",
        "\n",
        "  data_mean = np.mean(x)\n",
        "\n",
        "  # print(round(data_mean, 2))\n",
        "  # print(all_bootstraps)\n",
        "\n",
        "  for each_bootstrap in all_bootstraps:\n",
        "    bootstrap_means.append(np.mean(each_bootstrap))\n",
        "    \n",
        "  bootstrap_means.sort()\n",
        "\n",
        "  upper = np.percentile(bootstrap_means, 97.5)\n",
        "  lower = np.percentile(bootstrap_means, 2.5)\n",
        "\n",
        "  return data_mean, lower, upper\n",
        "\n"
      ],
      "execution_count": 6,
      "outputs": []
    },
    {
      "cell_type": "code",
      "metadata": {
        "colab": {
          "base_uri": "https://localhost:8080/"
        },
        "id": "LffdfMHbClUh",
        "outputId": "fc5fe960-e841-4d6a-eab5-00ffc184cb4c"
      },
      "source": [
        "# Testing Playground\r\n",
        "\r\n",
        "sample_size = 9\r\n",
        "n_bootstraps = 10\r\n",
        "data_mean = []\r\n",
        "i = 0\r\n",
        "all_bootstraps = np.empty((n_bootstraps, sample_size))\r\n",
        "bootstrap_means = []\r\n",
        "\r\n",
        "while i < n_bootstraps:\r\n",
        "\r\n",
        "  size_itr = 0\r\n",
        "\r\n",
        "  while size_itr < sample_size:\r\n",
        "    all_bootstraps[i][size_itr] = np.random.choice(data)\r\n",
        "    size_itr += 1\r\n",
        "\r\n",
        "  i += 1\r\n",
        "\r\n",
        "data_mean = np.mean(data)\r\n",
        "\r\n",
        "\r\n",
        "for each_bootstrap in all_bootstraps:\r\n",
        "  bootstrap_means.append(np.mean(each_bootstrap))\r\n",
        "  \r\n",
        "bootstrap_means.sort()\r\n",
        "\r\n",
        "upper = np.percentile(bootstrap_means, 97.5)\r\n",
        "lower = np.percentile(bootstrap_means, 2.5)\r\n",
        "\r\n",
        "print(\"The array of samples:\\n\", all_bootstraps)\r\n",
        "print(\"\\nMean for the whole data:\", round(data_mean, 3))\r\n",
        "print(\"Sorted means of bootstraps:\", bootstrap_means)\r\n",
        "print(\"Lower and upper boundaries:\", lower, upper)\r\n",
        "\r\n",
        "# bootstrap_mean(x, sample_size, n_bootstraps)"
      ],
      "execution_count": 7,
      "outputs": [
        {
          "output_type": "stream",
          "text": [
            "The array of samples:\n",
            " [[ 2.  4.  2.  8.  4.  4.  5.  2. 20.]\n",
            " [ 8. 10.  5.  2.  8.  5. 13. 13.  9.]\n",
            " [ 8.  2.  8.  9.  2.  9. 13. 10.  4.]\n",
            " [ 4.  8. 10. 10. 22. 20.  7.  5.  2.]\n",
            " [ 8.  9.  2.  8.  2.  7. 20.  2. 20.]\n",
            " [22.  4. 13. 22. 13.  4.  2. 22.  9.]\n",
            " [ 2. 10. 22.  8.  5. 13. 22. 20.  8.]\n",
            " [ 8. 20.  8.  8. 10.  5. 13.  8. 10.]\n",
            " [13.  8.  8. 10.  8.  9.  9.  8. 13.]\n",
            " [ 7.  2. 22.  7.  8.  2.  2.  7.  4.]]\n",
            "\n",
            "Mean for the whole data: 9.214\n",
            "Sorted means of bootstraps: [5.666666666666667, 6.777777777777778, 7.222222222222222, 8.11111111111111, 8.666666666666666, 9.555555555555555, 9.777777777777779, 10.0, 12.222222222222221, 12.333333333333334]\n",
            "Lower and upper boundaries: 5.916666666666666 12.308333333333334\n"
          ],
          "name": "stdout"
        }
      ]
    },
    {
      "cell_type": "code",
      "metadata": {
        "id": "AN7sEOcMYC4P",
        "pycharm": {
          "name": "#%%\n"
        },
        "colab": {
          "base_uri": "https://localhost:8080/",
          "height": 458
        },
        "outputId": "b41ca5b1-b667-49be-aa44-b6435b31cd5a"
      },
      "source": [
        "# Call your bootstrap function and plot the results\n",
        "\n",
        "boots = []\n",
        "for i in range(100, 50000, 1000):\n",
        "    boot = bootstrap_mean(data, data.shape[0], i)\n",
        "    boots.append([i, boot[0], \"mean\"])\n",
        "    boots.append([i, boot[1], \"lower\"])\n",
        "    boots.append([i, boot[2], \"upper\"])\n",
        "\n",
        "df_boot = pd.DataFrame(boots, columns=['Bootstrap Iterations', 'Mean', \"Value\"])\n",
        "sns_plot = sns.lmplot(df_boot.columns[0], df_boot.columns[1], data=df_boot, fit_reg=False, hue=\"Value\")\n",
        "\n",
        "sns_plot.axes[0, 0].set_ylim(0,)\n",
        "sns_plot.axes[0, 0].set_xlim(0, 50000)\n"
      ],
      "execution_count": 8,
      "outputs": [
        {
          "output_type": "stream",
          "text": [
            "/usr/local/lib/python3.6/dist-packages/seaborn/_decorators.py:43: FutureWarning: Pass the following variables as keyword args: x, y. From version 0.12, the only valid positional argument will be `data`, and passing other arguments without an explicit keyword will result in an error or misinterpretation.\n",
            "  FutureWarning\n"
          ],
          "name": "stderr"
        },
        {
          "output_type": "execute_result",
          "data": {
            "text/plain": [
              "(0.0, 50000.0)"
            ]
          },
          "metadata": {
            "tags": []
          },
          "execution_count": 8
        },
        {
          "output_type": "display_data",
          "data": {
            "image/png": "[encoded data removed]",
            "text/plain": [
              "<Figure size 425.125x360 with 1 Axes>"
            ]
          },
          "metadata": {
            "tags": [],
            "needs_background": "light"
          }
        }
      ]
    },
    {
      "cell_type": "markdown",
      "metadata": {
        "id": "MjtP4e2_YC4V"
      },
      "source": [
        "\n",
        "Now, modify the bootstrap function you created above so that you can pass your desired confidence interval as a parameter.\n",
        "\n"
      ]
    },
    {
      "cell_type": "code",
      "metadata": {
        "id": "3K9j0FuGYhHs"
      },
      "source": [
        "def bootstrap_std_ci(sample, sample_size, n_bootstraps, ci):\n",
        "\t# <---INSERT YOUR CODE HERE--->\n",
        "  data_std = []\n",
        "  i = 0\n",
        "  all_bootstraps = np.empty((n_bootstraps, sample_size))\n",
        "  bootstrap_stds = []\n",
        "\n",
        "  while i < n_bootstraps:\n",
        "\n",
        "    size_itr = 0\n",
        "\n",
        "    while size_itr < sample_size:\n",
        "      all_bootstraps[i][size_itr] = np.random.choice(sample)\n",
        "      size_itr += 1\n",
        "\n",
        "    i += 1\n",
        "\n",
        "  data_std = np.std(sample)\n",
        "\n",
        "  # print(round(data_mean, 2))\n",
        "  # print(all_bootstraps)\n",
        "\n",
        "  for each_bootstrap in all_bootstraps:\n",
        "    bootstrap_stds.append(np.std(each_bootstrap))\n",
        "    \n",
        "  bootstrap_stds.sort()\n",
        "\n",
        "  upper = np.percentile(bootstrap_stds, ci + ((100-ci)/2) )\n",
        "  lower = np.percentile(bootstrap_stds, (100 - ci)/2 )\n",
        "\n",
        "  return data_std, lower, upper"
      ],
      "execution_count": 65,
      "outputs": []
    },
    {
      "cell_type": "code",
      "metadata": {
        "colab": {
          "base_uri": "https://localhost:8080/"
        },
        "id": "0wUNzHke3Pwz",
        "outputId": "0f1fa673-edb6-4707-b794-56bcc368dae5"
      },
      "source": [
        "# The 99% confidence interval for the standard deviation of the old fleet in the vehicles dataset using 10000 iterations is ( , ). Give your answer including the first two decimal points (e.g., 1.23).\r\n",
        "\r\n",
        "bootstrap_std_ci(current_fleet, current_fleet.shape[0], 10000 , 99)"
      ],
      "execution_count": 66,
      "outputs": [
        {
          "output_type": "execute_result",
          "data": {
            "text/plain": [
              "(6.401805462179708, 5.622683686824083, 7.120384152968526)"
            ]
          },
          "metadata": {
            "tags": []
          },
          "execution_count": 66
        }
      ]
    },
    {
      "cell_type": "code",
      "metadata": {
        "colab": {
          "base_uri": "https://localhost:8080/"
        },
        "id": "X58qx7Yqz4xr",
        "outputId": "77f68780-ab63-4704-ee4f-d593e2d8bccb"
      },
      "source": [
        "bootstrap_mean_ci(data, data.shape[0], 10000, 90)\r\n"
      ],
      "execution_count": 63,
      "outputs": [
        {
          "output_type": "execute_result",
          "data": {
            "text/plain": [
              "(9.214285714285714, 6.857142857142857, 11.857142857142858)"
            ]
          },
          "metadata": {
            "tags": []
          },
          "execution_count": 63
        }
      ]
    },
    {
      "cell_type": "code",
      "metadata": {
        "colab": {
          "base_uri": "https://localhost:8080/"
        },
        "id": "QigKkKIW4V1e",
        "outputId": "64c046cc-3e5e-4f7a-e2d3-fe8430579dc3"
      },
      "source": [
        "bootstrap_std_ci(data, data.shape[0], 10000, 90)\r\n"
      ],
      "execution_count": 67,
      "outputs": [
        {
          "output_type": "execute_result",
          "data": {
            "text/plain": [
              "(5.684296305594556, 2.987217666618069, 7.09843328503134)"
            ]
          },
          "metadata": {
            "tags": []
          },
          "execution_count": 67
        }
      ]
    },
    {
      "cell_type": "code",
      "metadata": {
        "id": "kb0RT3b22CBR"
      },
      "source": [
        "def bootstrap_mean_ci(sample, sample_size, n_bootstraps, ci):\r\n",
        "\t# <---INSERT YOUR CODE HERE--->\r\n",
        "  data_mean = []\r\n",
        "  i = 0\r\n",
        "  all_bootstraps = np.empty((n_bootstraps, sample_size))\r\n",
        "  bootstrap_means = []\r\n",
        "\r\n",
        "  while i < n_bootstraps:\r\n",
        "\r\n",
        "    size_itr = 0\r\n",
        "\r\n",
        "    while size_itr < sample_size:\r\n",
        "      all_bootstraps[i][size_itr] = np.random.choice(sample)\r\n",
        "      size_itr += 1\r\n",
        "\r\n",
        "    i += 1\r\n",
        "\r\n",
        "  data_mean = np.mean(sample)\r\n",
        "\r\n",
        "  # print(round(data_mean, 2))\r\n",
        "  # print(all_bootstraps)\r\n",
        "\r\n",
        "  for each_bootstrap in all_bootstraps:\r\n",
        "    bootstrap_means.append(np.mean(each_bootstrap))\r\n",
        "    \r\n",
        "  bootstrap_means.sort()\r\n",
        "\r\n",
        "  upper = np.percentile(bootstrap_means, ci + ((100-ci)/2) )\r\n",
        "  lower = np.percentile(bootstrap_means, (100 - ci)/2 )\r\n",
        "\r\n",
        "  return data_mean, lower, upper"
      ],
      "execution_count": null,
      "outputs": []
    },
    {
      "cell_type": "code",
      "metadata": {
        "id": "uDnjq08GYl-C",
        "colab": {
          "base_uri": "https://localhost:8080/",
          "height": 458
        },
        "outputId": "6f0147c9-5d75-4f14-9429-11687644f8ab"
      },
      "source": [
        "boots = []\n",
        "for i in range(100, 50000, 1000):\n",
        "    boot = bootstrap_mean_ci(data, data.shape[0], i, 80)\n",
        "    boots.append([i, boot[0], \"mean\"])\n",
        "    boots.append([i, boot[1], \"lower\"])\n",
        "    boots.append([i, boot[2], \"upper\"])\n",
        "\n",
        "df_boot = pd.DataFrame(boots, columns=['Boostrap Iterations', 'Mean', \"Value\"])\n",
        "sns_plot = sns.lmplot(df_boot.columns[0], df_boot.columns[1], data=df_boot, fit_reg=False, hue=\"Value\")\n",
        "\n",
        "sns_plot.axes[0, 0].set_ylim(0,)\n",
        "sns_plot.axes[0, 0].set_xlim(0, 50000)\n",
        "\n",
        "#sns_plot.savefig(\"bootstrap_confidence_80.pdf\", bbox_inches='tight')\n"
      ],
      "execution_count": 10,
      "outputs": [
        {
          "output_type": "stream",
          "text": [
            "/usr/local/lib/python3.6/dist-packages/seaborn/_decorators.py:43: FutureWarning: Pass the following variables as keyword args: x, y. From version 0.12, the only valid positional argument will be `data`, and passing other arguments without an explicit keyword will result in an error or misinterpretation.\n",
            "  FutureWarning\n"
          ],
          "name": "stderr"
        },
        {
          "output_type": "execute_result",
          "data": {
            "text/plain": [
              "(0.0, 50000.0)"
            ]
          },
          "metadata": {
            "tags": []
          },
          "execution_count": 10
        },
        {
          "output_type": "display_data",
          "data": {
            "image/png": "[encoded data removed]",
            "text/plain": [
              "<Figure size 425.125x360 with 1 Axes>"
            ]
          },
          "metadata": {
            "tags": [],
            "needs_background": "light"
          }
        }
      ]
    },
    {
      "cell_type": "markdown",
      "metadata": {
        "id": "qjNgXW6wdd7r"
      },
      "source": [
        "# Vehicles dataset\n",
        "\n",
        "Now let's work on a different dataset, which is stored in the vehicles.csv file.\n"
      ]
    },
    {
      "cell_type": "code",
      "metadata": {
        "colab": {
          "base_uri": "https://localhost:8080/",
          "height": 424
        },
        "id": "jNbMc5aAdU9c",
        "outputId": "246a3f44-b13e-4faf-e992-05e76a09decb"
      },
      "source": [
        "\r\n",
        "df = pd.read_csv('https://raw.githubusercontent.com/albanda/CE888/master/lab2%20-%20bootstrap/vehicles.csv')\r\n",
        "df\r\n"
      ],
      "execution_count": 11,
      "outputs": [
        {
          "output_type": "execute_result",
          "data": {
            "text/html": [
              "<div>\n",
              "<style scoped>\n",
              "    .dataframe tbody tr th:only-of-type {\n",
              "        vertical-align: middle;\n",
              "    }\n",
              "\n",
              "    .dataframe tbody tr th {\n",
              "        vertical-align: top;\n",
              "    }\n",
              "\n",
              "    .dataframe thead th {\n",
              "        text-align: right;\n",
              "    }\n",
              "</style>\n",
              "<table border=\"1\" class=\"dataframe\">\n",
              "  <thead>\n",
              "    <tr style=\"text-align: right;\">\n",
              "      <th></th>\n",
              "      <th>Current fleet</th>\n",
              "      <th>New Fleet</th>\n",
              "    </tr>\n",
              "  </thead>\n",
              "  <tbody>\n",
              "    <tr>\n",
              "      <th>0</th>\n",
              "      <td>18</td>\n",
              "      <td>24.0</td>\n",
              "    </tr>\n",
              "    <tr>\n",
              "      <th>1</th>\n",
              "      <td>15</td>\n",
              "      <td>27.0</td>\n",
              "    </tr>\n",
              "    <tr>\n",
              "      <th>2</th>\n",
              "      <td>18</td>\n",
              "      <td>27.0</td>\n",
              "    </tr>\n",
              "    <tr>\n",
              "      <th>3</th>\n",
              "      <td>16</td>\n",
              "      <td>25.0</td>\n",
              "    </tr>\n",
              "    <tr>\n",
              "      <th>4</th>\n",
              "      <td>17</td>\n",
              "      <td>31.0</td>\n",
              "    </tr>\n",
              "    <tr>\n",
              "      <th>...</th>\n",
              "      <td>...</td>\n",
              "      <td>...</td>\n",
              "    </tr>\n",
              "    <tr>\n",
              "      <th>244</th>\n",
              "      <td>27</td>\n",
              "      <td>NaN</td>\n",
              "    </tr>\n",
              "    <tr>\n",
              "      <th>245</th>\n",
              "      <td>27</td>\n",
              "      <td>NaN</td>\n",
              "    </tr>\n",
              "    <tr>\n",
              "      <th>246</th>\n",
              "      <td>32</td>\n",
              "      <td>NaN</td>\n",
              "    </tr>\n",
              "    <tr>\n",
              "      <th>247</th>\n",
              "      <td>28</td>\n",
              "      <td>NaN</td>\n",
              "    </tr>\n",
              "    <tr>\n",
              "      <th>248</th>\n",
              "      <td>31</td>\n",
              "      <td>NaN</td>\n",
              "    </tr>\n",
              "  </tbody>\n",
              "</table>\n",
              "<p>249 rows × 2 columns</p>\n",
              "</div>"
            ],
            "text/plain": [
              "     Current fleet  New Fleet\n",
              "0               18       24.0\n",
              "1               15       27.0\n",
              "2               18       27.0\n",
              "3               16       25.0\n",
              "4               17       31.0\n",
              "..             ...        ...\n",
              "244             27        NaN\n",
              "245             27        NaN\n",
              "246             32        NaN\n",
              "247             28        NaN\n",
              "248             31        NaN\n",
              "\n",
              "[249 rows x 2 columns]"
            ]
          },
          "metadata": {
            "tags": []
          },
          "execution_count": 11
        }
      ]
    },
    {
      "cell_type": "code",
      "metadata": {
        "id": "avWv4ipFdpka",
        "colab": {
          "base_uri": "https://localhost:8080/"
        },
        "outputId": "3fa7b439-1b94-4aff-efc5-4f2ae86bc8a2"
      },
      "source": [
        "# Load and visualise the vehicles dataset\n",
        "# To load the dataset: https://neptune.ai/blog/google-colab-dealing-with-files (check section \"Load individual files directly from GitHub\")\n",
        "# Note that the current and new fleets are in different columns and have different lengths, so bear this in mind when you're plotting.\n",
        "# You can create separate scatterplots for the two fleets, as you would with the histograms, \n",
        "# or plot them both in one plot (but not one against the other).\n",
        "# <---INSERT YOUR CODE HERE--->\n",
        "# Note: you can add more cells as needed to organise your code and your plots\n",
        "import matplotlib.pyplot as plt\n",
        "\n",
        "data_frame = pd.read_csv('https://raw.githubusercontent.com/albanda/CE888/master/lab2%20-%20bootstrap/vehicles.csv')\n",
        "data_frame\n",
        "\n",
        "current_fleet = data_frame['Current fleet']\n",
        "print(current_fleet)\n",
        "\n",
        "new_fleet = data_frame['New Fleet']\n",
        "new_fleet.dropna(inplace=True)\n",
        "print(new_fleet)\n"
      ],
      "execution_count": 12,
      "outputs": [
        {
          "output_type": "stream",
          "text": [
            "0      18\n",
            "1      15\n",
            "2      18\n",
            "3      16\n",
            "4      17\n",
            "       ..\n",
            "244    27\n",
            "245    27\n",
            "246    32\n",
            "247    28\n",
            "248    31\n",
            "Name: Current fleet, Length: 249, dtype: int64\n",
            "0     24.0\n",
            "1     27.0\n",
            "2     27.0\n",
            "3     25.0\n",
            "4     31.0\n",
            "      ... \n",
            "74    34.0\n",
            "75    38.0\n",
            "76    32.0\n",
            "77    38.0\n",
            "78    32.0\n",
            "Name: New Fleet, Length: 79, dtype: float64\n"
          ],
          "name": "stdout"
        }
      ]
    },
    {
      "cell_type": "code",
      "metadata": {
        "colab": {
          "base_uri": "https://localhost:8080/",
          "height": 320
        },
        "id": "W6t9BRlDlBl7",
        "outputId": "c3734caa-9928-46e1-ce47-53ce9f8270ba"
      },
      "source": [
        "# Set up for stacked plots\r\n",
        "plt.subplot(2,1,1)\r\n",
        "plt.hist(current_fleet, color='r')\r\n",
        "\r\n",
        "# Plot cumulative dist\r\n",
        "plt.subplot(2,1,2)\r\n",
        "plt.hist(new_fleet)"
      ],
      "execution_count": 13,
      "outputs": [
        {
          "output_type": "execute_result",
          "data": {
            "text/plain": [
              "(array([ 5.,  5., 12.,  8., 20., 13., 11.,  3.,  0.,  2.]),\n",
              " array([18. , 20.9, 23.8, 26.7, 29.6, 32.5, 35.4, 38.3, 41.2, 44.1, 47. ]),\n",
              " <a list of 10 Patch objects>)"
            ]
          },
          "metadata": {
            "tags": []
          },
          "execution_count": 13
        },
        {
          "output_type": "display_data",
          "data": {
            "image/png": "[encoded data removed]",
            "text/plain": [
              "<Figure size 432x288 with 2 Axes>"
            ]
          },
          "metadata": {
            "tags": [],
            "needs_background": "light"
          }
        }
      ]
    },
    {
      "cell_type": "code",
      "metadata": {
        "colab": {
          "base_uri": "https://localhost:8080/",
          "height": 286
        },
        "id": "lXkaio6Txm7_",
        "outputId": "9981f890-acd9-45a3-c3df-eebdd9e7f55b"
      },
      "source": [
        "# Set up for stacked plots\r\n",
        "plt.subplot(2,1,1)\r\n",
        "plt.plot(current_fleet, color='r')\r\n",
        "\r\n",
        "# Plot cumulative dist\r\n",
        "plt.subplot(2,1,2)\r\n",
        "plt.plot(new_fleet)"
      ],
      "execution_count": 14,
      "outputs": [
        {
          "output_type": "execute_result",
          "data": {
            "text/plain": [
              "[<matplotlib.lines.Line2D at 0x7f584bc5b0f0>]"
            ]
          },
          "metadata": {
            "tags": []
          },
          "execution_count": 14
        },
        {
          "output_type": "display_data",
          "data": {
            "image/png": "[encoded data removed]",
            "text/plain": [
              "<Figure size 432x288 with 2 Axes>"
            ]
          },
          "metadata": {
            "tags": [],
            "needs_background": "light"
          }
        }
      ]
    },
    {
      "cell_type": "code",
      "metadata": {
        "colab": {
          "base_uri": "https://localhost:8080/",
          "height": 284
        },
        "id": "DKMiynnLoYJA",
        "outputId": "fbfe2c65-0c94-48fa-8b5f-e3fa2ee2c1b2"
      },
      "source": [
        "# Set up for stacked plots\r\n",
        "plt.subplot(1,2,1)\r\n",
        "plt.scatter(np.arange(0, 249, 1), current_fleet, color='r')\r\n",
        "\r\n",
        "# Plot cumulative dist\r\n",
        "plt.subplot(1,2,2)\r\n",
        "plt.scatter(np.arange(0, 79, 1), new_fleet)"
      ],
      "execution_count": 31,
      "outputs": [
        {
          "output_type": "execute_result",
          "data": {
            "text/plain": [
              "<matplotlib.collections.PathCollection at 0x7f584b481400>"
            ]
          },
          "metadata": {
            "tags": []
          },
          "execution_count": 31
        },
        {
          "output_type": "display_data",
          "data": {
            "image/png": "[encoded data removed]",
            "text/plain": [
              "<Figure size 432x288 with 2 Axes>"
            ]
          },
          "metadata": {
            "tags": [],
            "needs_background": "light"
          }
        }
      ]
    },
    {
      "cell_type": "code",
      "metadata": {
        "colab": {
          "base_uri": "https://localhost:8080/",
          "height": 284
        },
        "id": "g8BJEVY1oEeV",
        "outputId": "99ba48c6-d2e6-4217-80f5-fe885a1ed78b"
      },
      "source": [
        "plt.scatter(np.arange(0, 249, 1), current_fleet, color='r')"
      ],
      "execution_count": 29,
      "outputs": [
        {
          "output_type": "execute_result",
          "data": {
            "text/plain": [
              "<matplotlib.collections.PathCollection at 0x7f584b5ec898>"
            ]
          },
          "metadata": {
            "tags": []
          },
          "execution_count": 29
        },
        {
          "output_type": "display_data",
          "data": {
            "image/png": "[encoded data removed]",
            "text/plain": [
              "<Figure size 432x288 with 1 Axes>"
            ]
          },
          "metadata": {
            "tags": [],
            "needs_background": "light"
          }
        }
      ]
    },
    {
      "cell_type": "code",
      "metadata": {
        "colab": {
          "base_uri": "https://localhost:8080/",
          "height": 283
        },
        "id": "SZGKCPCx0cXi",
        "outputId": "edcf13cd-a5c5-45b1-d6c0-9486585f1235"
      },
      "source": [
        "plt.scatter(np.arange(0, 79, 1), new_fleet)"
      ],
      "execution_count": 28,
      "outputs": [
        {
          "output_type": "execute_result",
          "data": {
            "text/plain": [
              "<matplotlib.collections.PathCollection at 0x7f584b60b438>"
            ]
          },
          "metadata": {
            "tags": []
          },
          "execution_count": 28
        },
        {
          "output_type": "display_data",
          "data": {
            "image/png": "[encoded data removed]",
            "text/plain": [
              "<Figure size 432x288 with 1 Axes>"
            ]
          },
          "metadata": {
            "tags": [],
            "needs_background": "light"
          }
        }
      ]
    },
    {
      "cell_type": "markdown",
      "metadata": {
        "id": "B5d0tXDpIEj8"
      },
      "source": [
        "## Compare the two fleets\r\n",
        "\r\n",
        "The business analysts come up a comparison algorithm that requires the upper and lower bounds for the mean in order to say which fleet is better.\r\n",
        "1. Calculate the mean of both samples.\r\n",
        "2. Using the bootstrap function that you created:\r\n",
        "    - Construct the 95% CI of the mean of the current fleet.\r\n",
        "    - Construct the 95% CI of the mean of the new fleet.\r\n",
        "    - Are they comparable? (i.e., is one better than the other?) -- you can do this with a permutation test (check the lecture notes!)"
      ]
    },
    {
      "cell_type": "code",
      "metadata": {
        "id": "po4mp6zRHC0m",
        "colab": {
          "base_uri": "https://localhost:8080/"
        },
        "outputId": "f2eaf565-74d9-4cbe-df35-712a00627291"
      },
      "source": [
        "# <---INSERT YOUR CODE HERE--->\n",
        "print(\"Mean, lower and upper bounds of the current fleet:\", bootstrap_mean_ci(current_fleet, current_fleet.shape[0], 100, 95))\n",
        "print(\"Mean, lower and upper bounds of the new fleet:\", bootstrap_mean_ci(new_fleet, new_fleet.shape[0], 10000, 95))"
      ],
      "execution_count": 64,
      "outputs": [
        {
          "output_type": "stream",
          "text": [
            "Mean, lower and upper bounds of the current fleet: (20.14457831325301, 19.353413654618475, 20.955823293172692)\n",
            "Mean, lower and upper bounds of the new fleet: (30.481012658227847, 29.139240506329113, 31.82278481012658)\n"
          ],
          "name": "stdout"
        }
      ]
    },
    {
      "cell_type": "code",
      "metadata": {
        "colab": {
          "base_uri": "https://localhost:8080/",
          "height": 458
        },
        "id": "0smmgTy39D-5",
        "outputId": "9574bd59-b01a-4b92-d621-380abc965bc5"
      },
      "source": [
        "boots = []\r\n",
        "for i in range(100, 50000, 1000):\r\n",
        "    boot = bootstrap_mean_ci(current_fleet, current_fleet.shape[0], 100, 95)\r\n",
        "    boots.append([i, boot[0], \"mean\"])\r\n",
        "    boots.append([i, boot[1], \"lower\"])\r\n",
        "    boots.append([i, boot[2], \"upper\"])\r\n",
        "\r\n",
        "df_boot = pd.DataFrame(boots, columns=['Boostrap Iterations', 'Mean', \"Value\"])\r\n",
        "sns_plot = sns.lmplot(df_boot.columns[0], df_boot.columns[1], data=df_boot, fit_reg=False, hue=\"Value\")\r\n",
        "\r\n",
        "sns_plot.axes[0, 0].set_ylim(15,)\r\n",
        "sns_plot.axes[0, 0].set_xlim(0, 50000)\r\n",
        "\r\n",
        "#sns_plot.savefig(\"bootstrap_confidence_80.pdf\", bbox_inches='tight')\r\n"
      ],
      "execution_count": 17,
      "outputs": [
        {
          "output_type": "stream",
          "text": [
            "/usr/local/lib/python3.6/dist-packages/seaborn/_decorators.py:43: FutureWarning: Pass the following variables as keyword args: x, y. From version 0.12, the only valid positional argument will be `data`, and passing other arguments without an explicit keyword will result in an error or misinterpretation.\n",
            "  FutureWarning\n"
          ],
          "name": "stderr"
        },
        {
          "output_type": "execute_result",
          "data": {
            "text/plain": [
              "(0.0, 50000.0)"
            ]
          },
          "metadata": {
            "tags": []
          },
          "execution_count": 17
        },
        {
          "output_type": "display_data",
          "data": {
            "image/png": "[encoded data removed]",
            "text/plain": [
              "<Figure size 425.125x360 with 1 Axes>"
            ]
          },
          "metadata": {
            "tags": [],
            "needs_background": "light"
          }
        }
      ]
    },
    {
      "cell_type": "code",
      "metadata": {
        "colab": {
          "base_uri": "https://localhost:8080/",
          "height": 458
        },
        "id": "4PgGGSoa9au6",
        "outputId": "8dce7f24-24db-458c-d60e-42c7ce97ac6c"
      },
      "source": [
        "boots = []\r\n",
        "for i in range(100, 50000, 1000):\r\n",
        "    boot = bootstrap_mean_ci(new_fleet, new_fleet.shape[0], 100, 95)\r\n",
        "    boots.append([i, boot[0], \"mean\"])\r\n",
        "    boots.append([i, boot[1], \"lower\"])\r\n",
        "    boots.append([i, boot[2], \"upper\"])\r\n",
        "\r\n",
        "df_boot = pd.DataFrame(boots, columns=['Boostrap Iterations', 'Mean', \"Value\"])\r\n",
        "sns_plot = sns.lmplot(df_boot.columns[0], df_boot.columns[1], data=df_boot, fit_reg=False, hue=\"Value\")\r\n",
        "\r\n",
        "sns_plot.axes[0, 0].set_ylim(20,)\r\n",
        "sns_plot.axes[0, 0].set_xlim(0, 50000)\r\n",
        "\r\n",
        "#sns_plot.savefig(\"bootstrap_confidence_80.pdf\", bbox_inches='tight')\r\n"
      ],
      "execution_count": 18,
      "outputs": [
        {
          "output_type": "stream",
          "text": [
            "/usr/local/lib/python3.6/dist-packages/seaborn/_decorators.py:43: FutureWarning: Pass the following variables as keyword args: x, y. From version 0.12, the only valid positional argument will be `data`, and passing other arguments without an explicit keyword will result in an error or misinterpretation.\n",
            "  FutureWarning\n"
          ],
          "name": "stderr"
        },
        {
          "output_type": "execute_result",
          "data": {
            "text/plain": [
              "(0.0, 50000.0)"
            ]
          },
          "metadata": {
            "tags": []
          },
          "execution_count": 18
        },
        {
          "output_type": "display_data",
          "data": {
            "image/png": "[encoded data removed]",
            "text/plain": [
              "<Figure size 425.125x360 with 1 Axes>"
            ]
          },
          "metadata": {
            "tags": [],
            "needs_background": "light"
          }
        }
      ]
    },
    {
      "cell_type": "code",
      "metadata": {
        "id": "MkxvDZG4HC0n"
      },
      "source": [
        "# Create your own function for a permutation test here (you will need it for the lab quiz!):\n",
        "def permut_test(sample1, sample2, n_permutations):\n",
        "\n",
        "  \"\"\"\n",
        "  sample1: 1D array\n",
        "  sample2: 1D array (note that the size of the two arrays can be different)\n",
        "  n_permutations: number of permutations to calculate the p-value\n",
        "  \"\"\"\n",
        "  \n",
        "  bigger = 0\n",
        "  i = 0\n",
        "  # t_obs is the observed difference in mean\n",
        "  t_obs = np.mean(sample2) - np.mean(sample1)\n",
        "  # print(t_obs)   currently around 10\n",
        "  concatenated_arr = np.concatenate((sample1, sample2))\n",
        "  \n",
        "  while i < n_permutations:\n",
        "    permuted_arr = np.random.permutation(concatenated_arr)\n",
        "\n",
        "    p_current = permuted_arr[:int(len(permuted_arr)/2)]\n",
        "    p_new = permuted_arr[int(len(permuted_arr)/2):]\n",
        "\n",
        "    # print(p_new)\n",
        "    # t_perm is the difference between the means of simulated current and new samples\n",
        "    t_perm = np.mean(p_new) - np.mean(p_current)\n",
        "    \n",
        "    # delete this\n",
        "    # t_perm_list.append(t_perm)\n",
        "\n",
        "    if t_perm > t_obs: bigger += 1\n",
        "    # print(t_perm)\n",
        "    i += 1\n",
        "\n",
        "\n",
        "  # print(\"Bigger\", bigger)\n",
        "  pvalue = bigger/n_permutations\n",
        "\n",
        "  return pvalue\n"
      ],
      "execution_count": 59,
      "outputs": []
    },
    {
      "cell_type": "code",
      "metadata": {
        "colab": {
          "base_uri": "https://localhost:8080/"
        },
        "id": "iXGFZM4tx0-q",
        "outputId": "7196f203-05f2-4ef5-b1fa-9bfb0edd6cea"
      },
      "source": [
        "\r\n",
        "sample1 = np.array([0, 0, 0, 0, 0, 0, 1, 0, 0, 1, 0])\r\n",
        "sample2 = np.array([1, 0, 0, 1, 1, 1, 0, 0, 0, 1, 0])\r\n",
        "\r\n",
        "permut_test(sample1, sample2, 20000)\r\n"
      ],
      "execution_count": 60,
      "outputs": [
        {
          "output_type": "execute_result",
          "data": {
            "text/plain": [
              "0.03165"
            ]
          },
          "metadata": {
            "tags": []
          },
          "execution_count": 60
        }
      ]
    },
    {
      "cell_type": "code",
      "metadata": {
        "colab": {
          "base_uri": "https://localhost:8080/"
        },
        "id": "6zTkV_gADGZ_",
        "outputId": "c3ff1321-c3e5-4933-f4b3-788212e30cfe"
      },
      "source": [
        "# testing playground\r\n",
        "\r\n",
        "def permut_test(sample1, sample2, n_permutations):\r\n",
        "  bigger = 0\r\n",
        "  i = 0\r\n",
        "  # t_obs is the observed difference in mean\r\n",
        "  t_obs = np.mean(sample2) - np.mean(sample1)\r\n",
        "  # print(t_obs)   currently around 10\r\n",
        "  concatenated_arr = np.concatenate((sample1, sample2))\r\n",
        "  \r\n",
        "  while i < n_permutations:\r\n",
        "    permuted_arr = np.random.permutation(concatenated_arr)\r\n",
        "\r\n",
        "    p_current = permuted_arr[:int(len(permuted_arr)/2)]\r\n",
        "    p_new = permuted_arr[int(len(permuted_arr)/2):]\r\n",
        "\r\n",
        "    # print(p_new)\r\n",
        "    # t_perm is the difference between the means of simulated current and new samples\r\n",
        "    t_perm = np.mean(p_new) - np.mean(p_current)\r\n",
        "    \r\n",
        "    # delete this\r\n",
        "    # t_perm_list.append(t_perm)\r\n",
        "\r\n",
        "    if t_perm > t_obs: bigger += 1\r\n",
        "    # print(t_perm)\r\n",
        "    i += 1\r\n",
        "\r\n",
        "\r\n",
        "  # print(\"Bigger\", bigger)\r\n",
        "  pvalue = bigger/n_permutations\r\n",
        "\r\n",
        "  return pvalue\r\n",
        "\r\n",
        "\r\n",
        "sample1 = np.array([0, 0, 0, 0, 0, 0, 1, 0, 0, 1, 0])\r\n",
        "sample2 = np.array([1, 0, 0, 1, 1, 1, 0, 0, 0, 1, 0])\r\n",
        "\r\n",
        "permut_test(sample1, sample2, 20000)\r\n"
      ],
      "execution_count": 56,
      "outputs": [
        {
          "output_type": "execute_result",
          "data": {
            "text/plain": [
              "0.0324"
            ]
          },
          "metadata": {
            "tags": []
          },
          "execution_count": 56
        }
      ]
    },
    {
      "cell_type": "code",
      "metadata": {
        "colab": {
          "base_uri": "https://localhost:8080/"
        },
        "id": "BX_s-Oxt9LW5",
        "outputId": "f1005b10-0cee-4396-e244-4e1e86201810"
      },
      "source": [
        "# The variables below represent the percentages of democratic votes in Pennsylvania and Ohio (one value for each state).\r\n",
        "dem_share_PA = [60.08, 40.64, 36.07, 41.21, 31.04, 43.78, 44.08, 46.85, 44.71, 46.15, 63.10, 52.20, 43.18, 40.24, 39.92, 47.87, 37.77, 40.11, 49.85, 48.61, 38.62, 54.25, 34.84, 47.75, 43.82, 55.97, 58.23, 42.97, 42.38, 36.11, 37.53, 42.65, 50.96, 47.43, 56.24, 45.60, 46.39, 35.22, 48.56, 32.97, 57.88, 36.05, 37.72, 50.36, 32.12, 41.55, 54.66, 57.81, 54.58, 32.88, 54.37, 40.45, 47.61, 60.49, 43.11, 27.32, 44.03, 33.56, 37.26, 54.64, 43.12, 25.34, 49.79, 83.56, 40.09, 60.81, 49.81]\r\n",
        "dem_share_OH = [56.94, 50.46, 65.99, 45.88, 42.23, 45.26, 57.01, 53.61, 59.10, 61.48, 43.43, 44.69, 54.59, 48.36, 45.89, 48.62, 43.92, 38.23, 28.79, 63.57, 38.07, 40.18, 43.05, 41.56, 42.49, 36.06, 52.76, 46.07, 39.43, 39.26, 47.47, 27.92, 38.01, 45.45, 29.07, 28.94, 51.28, 50.10, 39.84, 36.43, 35.71, 31.47, 47.01, 40.10, 48.76, 31.56, 39.86, 45.31, 35.47, 51.38, 46.33, 48.73, 41.77, 41.32, 48.46, 53.14, 34.01, 54.74, 40.67, 38.96, 46.29, 38.25, 6.80, 31.75, 46.33, 44.90, 33.57, 38.10, 39.67, 40.47, 49.44, 37.62, 36.71, 46.73, 42.20, 53.16, 52.40, 58.36, 68.02, 38.53, 34.58, 69.64, 60.50, 53.53, 36.54, 49.58, 41.97, 38.11]\r\n",
        "\r\n",
        "print(len(dem_share_PA))\r\n",
        "print(len(dem_share_OH))\r\n",
        "\r\n",
        "pa_votes = np.array(dem_share_PA)\r\n",
        "oh_votes = np.array(dem_share_OH)"
      ],
      "execution_count": 74,
      "outputs": [
        {
          "output_type": "stream",
          "text": [
            "67\n",
            "88\n"
          ],
          "name": "stdout"
        }
      ]
    },
    {
      "cell_type": "code",
      "metadata": {
        "colab": {
          "base_uri": "https://localhost:8080/"
        },
        "id": "FmAfFFGFMv6s",
        "outputId": "619efb36-3369-49ea-d1ee-a36f53521565"
      },
      "source": [
        "print(\"Mean, lower and upper bounds of Pennsylvania votes:\", bootstrap_mean_ci(pa_votes, pa_votes.shape[0], 25000, 90))\r\n",
        "print(\"Mean, lower and upper bounds of Ohio votes:\", bootstrap_mean_ci(oh_votes, oh_votes.shape[0], 25000, 90))\r\n",
        "\r\n",
        "print(permut_test(oh_votes, pa_votes, 20000))"
      ],
      "execution_count": 79,
      "outputs": [
        {
          "output_type": "stream",
          "text": [
            "Mean, lower and upper bounds of Pennsylvania votes: (45.476417910447765, 43.55285820895523, 47.43329104477613)\n",
            "Mean, lower and upper bounds of Ohio votes: (44.31818181818182, 42.57011363636364, 46.03306818181818)\n",
            "0.2353\n"
          ],
          "name": "stdout"
        }
      ]
    },
    {
      "cell_type": "code",
      "metadata": {
        "id": "KXVBXJHTEKlM"
      },
      "source": [
        ""
      ],
      "execution_count": null,
      "outputs": []
    },
    {
      "cell_type": "code",
      "metadata": {
        "id": "mxZAj6-ODw8q"
      },
      "source": [
        ""
      ],
      "execution_count": null,
      "outputs": []
    }
  ]
}