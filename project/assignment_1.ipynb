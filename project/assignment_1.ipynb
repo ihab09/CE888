{
  "nbformat": 4,
  "nbformat_minor": 0,
  "metadata": {
    "colab": {
      "name": "DS&DM Assignment 1 draft.ipynb",
      "provenance": [],
      "collapsed_sections": [],
      "toc_visible": true,
      "authorship_tag": "ABX9TyP0vSDh6//5mRk2+YMonPF6",
      "include_colab_link": true
    },
    "kernelspec": {
      "name": "python3",
      "display_name": "Python 3"
    }
  },
  "cells": [
    {
      "cell_type": "markdown",
      "metadata": {
        "id": "view-in-github",
        "colab_type": "text"
      },
      "source": [
        "<a href=\"https://colab.research.google.com/github/ihab09/CE888/blob/main/project/assignment_1.ipynb\" target=\"_parent\"><img src=\"https://colab.research.google.com/assets/colab-badge.svg\" alt=\"Open In Colab\"/></a>"
      ]
    },
    {
      "cell_type": "code",
      "metadata": {
        "colab": {
          "base_uri": "https://localhost:8080/"
        },
        "id": "QO6-MsyFrjTd",
        "outputId": "f23a6a92-ecb8-4f94-c690-cc56b30882c7"
      },
      "source": [
        "!pip install transformers"
      ],
      "execution_count": 1,
      "outputs": [
        {
          "output_type": "stream",
          "text": [
            "Requirement already satisfied: transformers in /usr/local/lib/python3.7/dist-packages (4.3.2)\n",
            "Requirement already satisfied: numpy>=1.17 in /usr/local/lib/python3.7/dist-packages (from transformers) (1.19.5)\n",
            "Requirement already satisfied: sacremoses in /usr/local/lib/python3.7/dist-packages (from transformers) (0.0.43)\n",
            "Requirement already satisfied: packaging in /usr/local/lib/python3.7/dist-packages (from transformers) (20.9)\n",
            "Requirement already satisfied: tqdm>=4.27 in /usr/local/lib/python3.7/dist-packages (from transformers) (4.41.1)\n",
            "Requirement already satisfied: importlib-metadata; python_version < \"3.8\" in /usr/local/lib/python3.7/dist-packages (from transformers) (3.4.0)\n",
            "Requirement already satisfied: filelock in /usr/local/lib/python3.7/dist-packages (from transformers) (3.0.12)\n",
            "Requirement already satisfied: tokenizers<0.11,>=0.10.1 in /usr/local/lib/python3.7/dist-packages (from transformers) (0.10.1)\n",
            "Requirement already satisfied: regex!=2019.12.17 in /usr/local/lib/python3.7/dist-packages (from transformers) (2019.12.20)\n",
            "Requirement already satisfied: requests in /usr/local/lib/python3.7/dist-packages (from transformers) (2.23.0)\n",
            "Requirement already satisfied: joblib in /usr/local/lib/python3.7/dist-packages (from sacremoses->transformers) (1.0.1)\n",
            "Requirement already satisfied: six in /usr/local/lib/python3.7/dist-packages (from sacremoses->transformers) (1.15.0)\n",
            "Requirement already satisfied: click in /usr/local/lib/python3.7/dist-packages (from sacremoses->transformers) (7.1.2)\n",
            "Requirement already satisfied: pyparsing>=2.0.2 in /usr/local/lib/python3.7/dist-packages (from packaging->transformers) (2.4.7)\n",
            "Requirement already satisfied: typing-extensions>=3.6.4; python_version < \"3.8\" in /usr/local/lib/python3.7/dist-packages (from importlib-metadata; python_version < \"3.8\"->transformers) (3.7.4.3)\n",
            "Requirement already satisfied: zipp>=0.5 in /usr/local/lib/python3.7/dist-packages (from importlib-metadata; python_version < \"3.8\"->transformers) (3.4.0)\n",
            "Requirement already satisfied: idna<3,>=2.5 in /usr/local/lib/python3.7/dist-packages (from requests->transformers) (2.10)\n",
            "Requirement already satisfied: urllib3!=1.25.0,!=1.25.1,<1.26,>=1.21.1 in /usr/local/lib/python3.7/dist-packages (from requests->transformers) (1.24.3)\n",
            "Requirement already satisfied: certifi>=2017.4.17 in /usr/local/lib/python3.7/dist-packages (from requests->transformers) (2020.12.5)\n",
            "Requirement already satisfied: chardet<4,>=3.0.2 in /usr/local/lib/python3.7/dist-packages (from requests->transformers) (3.0.4)\n"
          ],
          "name": "stdout"
        }
      ]
    },
    {
      "cell_type": "code",
      "metadata": {
        "id": "bYlBGEoYlmEc"
      },
      "source": [
        "import numpy as np\r\n",
        "import pandas as pd\r\n",
        "import matplotlib.pyplot as plt\r\n",
        "import seaborn as sns\r\n",
        "\r\n",
        "import re\r\n",
        "import urllib.request\r\n",
        "import csv\r\n",
        "\r\n",
        "from transformers import AutoTokenizer, AutoModel, TFAutoModel\r\n",
        "from transformers import TFAutoModelForSequenceClassification\r\n",
        "from transformers import AutoModelForSequenceClassification\r\n",
        "from transformers import AutoTokenizer\r\n",
        "\r\n",
        "from scipy.special import softmax\r\n",
        "\r\n",
        "import torch\r\n",
        "from torch.utils.data import Dataset, DataLoader\r\n",
        "\r\n",
        "pd.options.mode.chained_assignment = None  # default='warn'"
      ],
      "execution_count": 2,
      "outputs": []
    },
    {
      "cell_type": "markdown",
      "metadata": {
        "id": "Q4z-ZEWHlZQv"
      },
      "source": [
        "# Exploratory Data Analysis"
      ]
    },
    {
      "cell_type": "markdown",
      "metadata": {
        "id": "K7Y1wg_OA-_5"
      },
      "source": [
        "## Hate Speech Detection Dataset"
      ]
    },
    {
      "cell_type": "markdown",
      "metadata": {
        "id": "UAwOumNMBs-q"
      },
      "source": [
        "Loading the Dataset"
      ]
    },
    {
      "cell_type": "code",
      "metadata": {
        "id": "Qg2Te8kiQp9u",
        "colab": {
          "base_uri": "https://localhost:8080/",
          "height": 424
        },
        "outputId": "873d39f2-0106-4378-8ef3-62eb98a9dfaf"
      },
      "source": [
        "hate_train_df = pd.read_csv(\"https://raw.githubusercontent.com/cardiffnlp/tweeteval/main/datasets/hate/train_text.txt\", sep=\"\\n\", skip_blank_lines=False, header=None, quoting=csv.QUOTE_NONE,)\r\n",
        "hate_train_df.columns= [\"tweet\"]\r\n",
        "hate_train_labels = pd.read_csv(\"https://raw.githubusercontent.com/cardiffnlp/tweeteval/main/datasets/hate/train_labels.txt\", sep=\"\\n\", header=None)\r\n",
        "hate_train_labels.columns= [\"label\"]\r\n",
        "\r\n",
        "hate_val_df = pd.read_csv(\"https://raw.githubusercontent.com/cardiffnlp/tweeteval/main/datasets/hate/val_text.txt\", sep=\"\\n\", skip_blank_lines=False, quoting=csv.QUOTE_NONE, header=None)\r\n",
        "hate_val_df.columns= [\"tweet\"]\r\n",
        "hate_val_labels = pd.read_csv(\"https://raw.githubusercontent.com/cardiffnlp/tweeteval/main/datasets/hate/val_labels.txt\", sep=\"\\n\", header=None)\r\n",
        "hate_val_labels.columns= [\"label\"]\r\n",
        "\r\n",
        "hate_test_df = pd.read_csv(\"https://raw.githubusercontent.com/cardiffnlp/tweeteval/main/datasets/hate/test_text.txt\", sep=\"\\n\", quoting=csv.QUOTE_NONE, skip_blank_lines=False, header=None)\r\n",
        "hate_test_df.columns= [\"tweet\"]\r\n",
        "hate_test_labels = pd.read_csv(\"https://raw.githubusercontent.com/cardiffnlp/tweeteval/main/datasets/hate/test_labels.txt\", sep=\"\\n\", header=None)\r\n",
        "hate_test_labels.columns= [\"label\"]\r\n",
        "\r\n",
        "hate_train_df"
      ],
      "execution_count": 3,
      "outputs": [
        {
          "output_type": "execute_result",
          "data": {
            "text/html": [
              "<div>\n",
              "<style scoped>\n",
              "    .dataframe tbody tr th:only-of-type {\n",
              "        vertical-align: middle;\n",
              "    }\n",
              "\n",
              "    .dataframe tbody tr th {\n",
              "        vertical-align: top;\n",
              "    }\n",
              "\n",
              "    .dataframe thead th {\n",
              "        text-align: right;\n",
              "    }\n",
              "</style>\n",
              "<table border=\"1\" class=\"dataframe\">\n",
              "  <thead>\n",
              "    <tr style=\"text-align: right;\">\n",
              "      <th></th>\n",
              "      <th>tweet</th>\n",
              "    </tr>\n",
              "  </thead>\n",
              "  <tbody>\n",
              "    <tr>\n",
              "      <th>0</th>\n",
              "      <td>@user nice new signage. Are you not concerned ...</td>\n",
              "    </tr>\n",
              "    <tr>\n",
              "      <th>1</th>\n",
              "      <td>A woman who you fucked multiple times saying y...</td>\n",
              "    </tr>\n",
              "    <tr>\n",
              "      <th>2</th>\n",
              "      <td>@user @user real talk do you have eyes or were...</td>\n",
              "    </tr>\n",
              "    <tr>\n",
              "      <th>3</th>\n",
              "      <td>your girlfriend lookin at me like a groupie in...</td>\n",
              "    </tr>\n",
              "    <tr>\n",
              "      <th>4</th>\n",
              "      <td>Hysterical woman like @user</td>\n",
              "    </tr>\n",
              "    <tr>\n",
              "      <th>...</th>\n",
              "      <td>...</td>\n",
              "    </tr>\n",
              "    <tr>\n",
              "      <th>8995</th>\n",
              "      <td>Oooohhhh bitch didn't even listen to the dead ...</td>\n",
              "    </tr>\n",
              "    <tr>\n",
              "      <th>8996</th>\n",
              "      <td>@user Good Luck @user More Americans #WalkAway...</td>\n",
              "    </tr>\n",
              "    <tr>\n",
              "      <th>8997</th>\n",
              "      <td>Bitch you can't keep up so stop trying</td>\n",
              "    </tr>\n",
              "    <tr>\n",
              "      <th>8998</th>\n",
              "      <td>@user @user @user @user @user @user Japan is a...</td>\n",
              "    </tr>\n",
              "    <tr>\n",
              "      <th>8999</th>\n",
              "      <td>@user hi Best l see someone fucking girl comme...</td>\n",
              "    </tr>\n",
              "  </tbody>\n",
              "</table>\n",
              "<p>9000 rows × 1 columns</p>\n",
              "</div>"
            ],
            "text/plain": [
              "                                                  tweet\n",
              "0     @user nice new signage. Are you not concerned ...\n",
              "1     A woman who you fucked multiple times saying y...\n",
              "2     @user @user real talk do you have eyes or were...\n",
              "3     your girlfriend lookin at me like a groupie in...\n",
              "4                          Hysterical woman like @user \n",
              "...                                                 ...\n",
              "8995  Oooohhhh bitch didn't even listen to the dead ...\n",
              "8996  @user Good Luck @user More Americans #WalkAway...\n",
              "8997            Bitch you can't keep up so stop trying \n",
              "8998  @user @user @user @user @user @user Japan is a...\n",
              "8999  @user hi Best l see someone fucking girl comme...\n",
              "\n",
              "[9000 rows x 1 columns]"
            ]
          },
          "metadata": {
            "tags": []
          },
          "execution_count": 3
        }
      ]
    },
    {
      "cell_type": "code",
      "metadata": {
        "colab": {
          "base_uri": "https://localhost:8080/"
        },
        "id": "O4ja7An1ABQy",
        "outputId": "f7670fb0-dea2-43bd-c207-d332ec376709"
      },
      "source": [
        "\r\n",
        "# Checking whether the data is loaded correctly by checking the dimensions of the data frames for the training, validation, and testing datasets matches the dimensions of their corresponding labels datasets.\r\n",
        "print(hate_train_df.shape, hate_train_labels.shape)\r\n",
        "print(hate_val_df.shape, hate_val_labels.shape)\r\n",
        "print(hate_test_df.shape, hate_test_labels.shape)\r\n"
      ],
      "execution_count": 4,
      "outputs": [
        {
          "output_type": "stream",
          "text": [
            "(9000, 1) (9000, 1)\n",
            "(1000, 1) (1000, 1)\n",
            "(2970, 1) (2970, 1)\n"
          ],
          "name": "stdout"
        }
      ]
    },
    {
      "cell_type": "markdown",
      "metadata": {
        "id": "kKVXqGxcMZFc"
      },
      "source": [
        "How the Data is Split"
      ]
    },
    {
      "cell_type": "code",
      "metadata": {
        "colab": {
          "base_uri": "https://localhost:8080/",
          "height": 313
        },
        "id": "Om7sMSJjtx40",
        "outputId": "c64f9486-50ff-4f8f-82c1-ce6f395f77e3"
      },
      "source": [
        "# Pie chart\r\n",
        "labels = ['Training Set', 'Validation Set', 'Test Set']\r\n",
        "sizes = [len(hate_train_labels), len(hate_val_labels), len(hate_test_labels)]\r\n",
        "explode = (0, 0, 0.1)  \r\n",
        "fig1, ax1 = plt.subplots()\r\n",
        "ax1.pie(sizes, explode=explode, labels=labels, autopct='%1.1f%%', startangle=90)\r\n",
        "ax1.axis('equal')  \r\n",
        "plt.tight_layout()\r\n",
        "plt.title(\"How the data is split\")\r\n",
        "plt.show()\r\n"
      ],
      "execution_count": 5,
      "outputs": [
        {
          "output_type": "display_data",
          "data": {
            "image/png": "[encoded data removed]",
            "text/plain": [
              "<Figure size 432x288 with 1 Axes>"
            ]
          },
          "metadata": {
            "tags": []
          }
        }
      ]
    },
    {
      "cell_type": "code",
      "metadata": {
        "colab": {
          "base_uri": "https://localhost:8080/",
          "height": 112
        },
        "id": "gp6YaqKIKeUy",
        "outputId": "617db276-1ca0-4a4f-9bd1-7427a56885ee"
      },
      "source": [
        "hate_labels = pd.read_csv(\"https://raw.githubusercontent.com/cardiffnlp/tweeteval/main/datasets/hate/mapping.txt\", sep=\"\\t\", header=None)\r\n",
        "hate_labels"
      ],
      "execution_count": 6,
      "outputs": [
        {
          "output_type": "execute_result",
          "data": {
            "text/html": [
              "<div>\n",
              "<style scoped>\n",
              "    .dataframe tbody tr th:only-of-type {\n",
              "        vertical-align: middle;\n",
              "    }\n",
              "\n",
              "    .dataframe tbody tr th {\n",
              "        vertical-align: top;\n",
              "    }\n",
              "\n",
              "    .dataframe thead th {\n",
              "        text-align: right;\n",
              "    }\n",
              "</style>\n",
              "<table border=\"1\" class=\"dataframe\">\n",
              "  <thead>\n",
              "    <tr style=\"text-align: right;\">\n",
              "      <th></th>\n",
              "      <th>0</th>\n",
              "      <th>1</th>\n",
              "    </tr>\n",
              "  </thead>\n",
              "  <tbody>\n",
              "    <tr>\n",
              "      <th>0</th>\n",
              "      <td>0</td>\n",
              "      <td>not-hate</td>\n",
              "    </tr>\n",
              "    <tr>\n",
              "      <th>1</th>\n",
              "      <td>1</td>\n",
              "      <td>hate</td>\n",
              "    </tr>\n",
              "  </tbody>\n",
              "</table>\n",
              "</div>"
            ],
            "text/plain": [
              "   0         1\n",
              "0  0  not-hate\n",
              "1  1      hate"
            ]
          },
          "metadata": {
            "tags": []
          },
          "execution_count": 6
        }
      ]
    },
    {
      "cell_type": "code",
      "metadata": {
        "colab": {
          "base_uri": "https://localhost:8080/"
        },
        "id": "KMYepjUmndja",
        "outputId": "e4836b85-0b15-46a8-89a0-85f3dba272a6"
      },
      "source": [
        "print(\"Training Data Statistics: \")\r\n",
        "print(\"Total number of tweets:\", hate_train_labels.shape[0])\r\n",
        "print(\"Number of Not Hateful tweets:\", int(hate_train_labels.value_counts()[0]))\r\n",
        "print(\"Number of Hateful tweets:\", int(hate_train_labels.value_counts()[1]), \"\\n\")\r\n",
        "\r\n",
        "print(\"Validation Data Statistics: \")\r\n",
        "print(\"Total number of tweets:\", hate_val_labels.shape[0])\r\n",
        "print(\"Number of Not Hateful tweets:\", int(hate_val_labels.value_counts()[0]))\r\n",
        "print(\"Number of Hateful tweets:\", int(hate_val_labels.value_counts()[1]), \"\\n\")\r\n",
        "\r\n",
        "print(\"Testing Data Statistics: \")\r\n",
        "print(\"Total number of tweets:\", hate_test_labels.shape[0])\r\n",
        "print(\"Number of Not Hateful tweets:\", int(hate_test_labels.value_counts()[0]))\r\n",
        "print(\"Number of Hateful tweets:\", int(hate_test_labels.value_counts()[1]))"
      ],
      "execution_count": 7,
      "outputs": [
        {
          "output_type": "stream",
          "text": [
            "Training Data Statistics: \n",
            "Total number of tweets: 9000\n",
            "Number of Not Hateful tweets: 5217\n",
            "Number of Hateful tweets: 3783 \n",
            "\n",
            "Validation Data Statistics: \n",
            "Total number of tweets: 1000\n",
            "Number of Not Hateful tweets: 573\n",
            "Number of Hateful tweets: 427 \n",
            "\n",
            "Testing Data Statistics: \n",
            "Total number of tweets: 2970\n",
            "Number of Not Hateful tweets: 1718\n",
            "Number of Hateful tweets: 1252\n"
          ],
          "name": "stdout"
        }
      ]
    },
    {
      "cell_type": "code",
      "metadata": {
        "colab": {
          "base_uri": "https://localhost:8080/",
          "height": 313
        },
        "id": "O5jaqzwPDwwa",
        "outputId": "622d2cea-6c42-40ff-bf31-2baa5f6a11c2"
      },
      "source": [
        "# Pie chart\r\n",
        "not_hateful_count = hate_train_labels[hate_train_labels.label == 0].shape[0]\r\n",
        "hateful_count = hate_train_labels[hate_train_labels.label == 1].shape[0]\r\n",
        "\r\n",
        "labels = ['Not Hateful Tweets', ' Hateful Tweets']\r\n",
        "sizes = [not_hateful_count, hateful_count]\r\n",
        "fig1, ax1 = plt.subplots()\r\n",
        "explode = (0.02, 0.02)  \r\n",
        "ax1.pie(sizes, explode= explode, labels=labels, autopct='%1.1f%%', startangle=90)\r\n",
        "ax1.axis('equal')  \r\n",
        "plt.tight_layout()\r\n",
        "plt.title(\"Percentages of Hateful and Not Hateful Tweets\")\r\n",
        "plt.show()\r\n"
      ],
      "execution_count": 8,
      "outputs": [
        {
          "output_type": "display_data",
          "data": {
            "image/png": "[encoded data removed]",
            "text/plain": [
              "<Figure size 432x288 with 1 Axes>"
            ]
          },
          "metadata": {
            "tags": []
          }
        }
      ]
    },
    {
      "cell_type": "markdown",
      "metadata": {
        "id": "ebBCG_FFMMdR"
      },
      "source": [
        "Distribution of Hateful and Not Hateful Tweets in All Datasets"
      ]
    },
    {
      "cell_type": "code",
      "metadata": {
        "colab": {
          "base_uri": "https://localhost:8080/",
          "height": 388
        },
        "id": "RC8EjTvPTgvh",
        "outputId": "38abc632-92c0-40ca-9a11-05ab4062e34c"
      },
      "source": [
        "\r\n",
        "# Count Plots\r\n",
        "fig, axes = plt.subplots(1, 3, figsize=(15, 5), sharey=False)\r\n",
        "fig.suptitle('Distribution of Hateful and Not Hateful Tweets in All Datasets')\r\n",
        "\r\n",
        "sns.countplot(ax=axes[0], x=hate_train_labels.label)\r\n",
        "axes[0].set_title('Training Data')\r\n",
        "axes[0].set_xticklabels(labels)\r\n",
        "\r\n",
        "sns.countplot(ax=axes[1], x=hate_val_labels.label)\r\n",
        "axes[1].set_title('Validation Data')\r\n",
        "axes[1].set_xticklabels(labels)\r\n",
        "\r\n",
        "sns.countplot(ax=axes[2], x=hate_test_labels.label)\r\n",
        "axes[2].set_title('Test Data')\r\n",
        "axes[2].set_xticklabels(labels)\r\n"
      ],
      "execution_count": 9,
      "outputs": [
        {
          "output_type": "execute_result",
          "data": {
            "text/plain": [
              "[Text(0, 0, 'Not Hateful Tweets'), Text(0, 0, ' Hateful Tweets')]"
            ]
          },
          "metadata": {
            "tags": []
          },
          "execution_count": 9
        },
        {
          "output_type": "display_data",
          "data": {
            "image/png": "[encoded data removed]",
            "text/plain": [
              "<Figure size 1080x360 with 3 Axes>"
            ]
          },
          "metadata": {
            "tags": [],
            "needs_background": "light"
          }
        }
      ]
    },
    {
      "cell_type": "markdown",
      "metadata": {
        "id": "3-AWn7BIN5ep"
      },
      "source": [
        "## Emotion Recognition Dataset"
      ]
    },
    {
      "cell_type": "code",
      "metadata": {
        "colab": {
          "base_uri": "https://localhost:8080/",
          "height": 424
        },
        "id": "fqel0IonN9jQ",
        "outputId": "d8a5f82c-b9ae-4123-a06b-a1b393285723"
      },
      "source": [
        "emotion_train_df = pd.read_csv(\"https://raw.githubusercontent.com/cardiffnlp/tweeteval/main/datasets/emotion/train_text.txt\", sep=\"\\t\", skip_blank_lines=False, quoting=csv.QUOTE_NONE, header=None)\r\n",
        "emotion_train_df.columns= [\"tweet\"]\r\n",
        "emotion_train_labels = pd.read_csv(\"https://raw.githubusercontent.com/cardiffnlp/tweeteval/main/datasets/emotion/train_labels.txt\", sep=\"\\n\", header=None)\r\n",
        "emotion_train_labels.columns= [\"label\"]\r\n",
        "\r\n",
        "emotion_val_df = pd.read_csv(\"https://raw.githubusercontent.com/cardiffnlp/tweeteval/main/datasets/emotion/val_text.txt\", sep=\"\\n\", skip_blank_lines=False, quoting=csv.QUOTE_NONE, header=None)\r\n",
        "emotion_val_df.columns= [\"tweet\"]\r\n",
        "emotion_val_labels = pd.read_csv(\"https://raw.githubusercontent.com/cardiffnlp/tweeteval/main/datasets/emotion/val_labels.txt\", sep=\"\\n\", header=None)\r\n",
        "emotion_val_labels.columns= [\"label\"]\r\n",
        "\r\n",
        "emotion_test_df = pd.read_csv(\"https://raw.githubusercontent.com/cardiffnlp/tweeteval/main/datasets/emotion/test_text.txt\", sep=\"\\n\", quoting=csv.QUOTE_NONE, skip_blank_lines=False, header=None)\r\n",
        "emotion_test_df.columns= [\"tweet\"]\r\n",
        "emotion_test_labels = pd.read_csv(\"https://raw.githubusercontent.com/cardiffnlp/tweeteval/main/datasets/emotion/test_labels.txt\", sep=\"\\n\", header=None)\r\n",
        "emotion_test_labels.columns= [\"label\"]\r\n",
        "\r\n",
        "emotion_train_df\r\n"
      ],
      "execution_count": 10,
      "outputs": [
        {
          "output_type": "execute_result",
          "data": {
            "text/html": [
              "<div>\n",
              "<style scoped>\n",
              "    .dataframe tbody tr th:only-of-type {\n",
              "        vertical-align: middle;\n",
              "    }\n",
              "\n",
              "    .dataframe tbody tr th {\n",
              "        vertical-align: top;\n",
              "    }\n",
              "\n",
              "    .dataframe thead th {\n",
              "        text-align: right;\n",
              "    }\n",
              "</style>\n",
              "<table border=\"1\" class=\"dataframe\">\n",
              "  <thead>\n",
              "    <tr style=\"text-align: right;\">\n",
              "      <th></th>\n",
              "      <th>tweet</th>\n",
              "    </tr>\n",
              "  </thead>\n",
              "  <tbody>\n",
              "    <tr>\n",
              "      <th>0</th>\n",
              "      <td>“Worry is a down payment on a problem you may ...</td>\n",
              "    </tr>\n",
              "    <tr>\n",
              "      <th>1</th>\n",
              "      <td>My roommate: it's okay that we can't spell bec...</td>\n",
              "    </tr>\n",
              "    <tr>\n",
              "      <th>2</th>\n",
              "      <td>No but that's so cute. Atsu was probably shy a...</td>\n",
              "    </tr>\n",
              "    <tr>\n",
              "      <th>3</th>\n",
              "      <td>Rooneys fucking untouchable isn't he? Been fuc...</td>\n",
              "    </tr>\n",
              "    <tr>\n",
              "      <th>4</th>\n",
              "      <td>it's pretty depressing when u hit pan on ur fa...</td>\n",
              "    </tr>\n",
              "    <tr>\n",
              "      <th>...</th>\n",
              "      <td>...</td>\n",
              "    </tr>\n",
              "    <tr>\n",
              "      <th>3252</th>\n",
              "      <td>I get discouraged because I try for 5 fucking ...</td>\n",
              "    </tr>\n",
              "    <tr>\n",
              "      <th>3253</th>\n",
              "      <td>The @user are in contention and hosting @user ...</td>\n",
              "    </tr>\n",
              "    <tr>\n",
              "      <th>3254</th>\n",
              "      <td>@user @user @user @user @user as a fellow UP g...</td>\n",
              "    </tr>\n",
              "    <tr>\n",
              "      <th>3255</th>\n",
              "      <td>You have a #problem? Yes! Can you do #somethin...</td>\n",
              "    </tr>\n",
              "    <tr>\n",
              "      <th>3256</th>\n",
              "      <td>@user @user i will fight this guy! Don't insul...</td>\n",
              "    </tr>\n",
              "  </tbody>\n",
              "</table>\n",
              "<p>3257 rows × 1 columns</p>\n",
              "</div>"
            ],
            "text/plain": [
              "                                                  tweet\n",
              "0     “Worry is a down payment on a problem you may ...\n",
              "1     My roommate: it's okay that we can't spell bec...\n",
              "2     No but that's so cute. Atsu was probably shy a...\n",
              "3     Rooneys fucking untouchable isn't he? Been fuc...\n",
              "4     it's pretty depressing when u hit pan on ur fa...\n",
              "...                                                 ...\n",
              "3252  I get discouraged because I try for 5 fucking ...\n",
              "3253  The @user are in contention and hosting @user ...\n",
              "3254  @user @user @user @user @user as a fellow UP g...\n",
              "3255  You have a #problem? Yes! Can you do #somethin...\n",
              "3256  @user @user i will fight this guy! Don't insul...\n",
              "\n",
              "[3257 rows x 1 columns]"
            ]
          },
          "metadata": {
            "tags": []
          },
          "execution_count": 10
        }
      ]
    },
    {
      "cell_type": "code",
      "metadata": {
        "colab": {
          "base_uri": "https://localhost:8080/"
        },
        "id": "C8wKPTCUOQzP",
        "outputId": "302db60b-728c-46fb-8c46-60ee97185837"
      },
      "source": [
        "# Checking whether the data is loaded correctly by checking the dimensions of the data frames for the training, validation, and testing datasets matches the dimensions of their corresponding labels datasets.\r\n",
        "print(emotion_train_df.shape, emotion_train_labels.shape)\r\n",
        "print(emotion_val_df.shape, emotion_val_labels.shape)\r\n",
        "print(emotion_test_df.shape, emotion_test_labels.shape)"
      ],
      "execution_count": 11,
      "outputs": [
        {
          "output_type": "stream",
          "text": [
            "(3257, 1) (3257, 1)\n",
            "(374, 1) (374, 1)\n",
            "(1421, 1) (1421, 1)\n"
          ],
          "name": "stdout"
        }
      ]
    },
    {
      "cell_type": "code",
      "metadata": {
        "colab": {
          "base_uri": "https://localhost:8080/",
          "height": 313
        },
        "id": "S-SW-qQNOchQ",
        "outputId": "33e0be22-1ccd-4ea9-c7e3-cd248ea79db4"
      },
      "source": [
        "# Pie chart\r\n",
        "labels = ['Training Set', 'Validation Set', 'Test Set']\r\n",
        "sizes = [len(emotion_train_labels), len(emotion_val_labels), len(emotion_test_labels)]\r\n",
        "explode = (0, 0, 0.1)  \r\n",
        "fig1, ax1 = plt.subplots()\r\n",
        "ax1.pie(sizes, explode=explode, labels=labels, autopct='%1.1f%%', startangle=90)\r\n",
        "ax1.axis('equal')  \r\n",
        "plt.tight_layout()\r\n",
        "plt.title(\"How the data is split\")\r\n",
        "plt.show()\r\n"
      ],
      "execution_count": 12,
      "outputs": [
        {
          "output_type": "display_data",
          "data": {
            "image/png": "[encoded data removed]",
            "text/plain": [
              "<Figure size 432x288 with 1 Axes>"
            ]
          },
          "metadata": {
            "tags": []
          }
        }
      ]
    },
    {
      "cell_type": "code",
      "metadata": {
        "colab": {
          "base_uri": "https://localhost:8080/"
        },
        "id": "8ca9a7hdO0ni",
        "outputId": "7ab0ad2b-c84f-4028-bf5f-b30fd95afa25"
      },
      "source": [
        "print(\"Training Data Statistics: \")\r\n",
        "print(\"Total number of tweets:\", emotion_train_labels.shape[0])\r\n",
        "print(\"Number of Anger tweets:\", int(emotion_train_labels.value_counts()[0]))\r\n",
        "print(\"Number of Joy tweets:\", int(emotion_train_labels.value_counts()[1]))\r\n",
        "print(\"Number of Optimism tweets:\", int(emotion_train_labels.value_counts()[2]))\r\n",
        "print(\"Number of Sadness tweets:\", int(emotion_train_labels.value_counts()[3]), \"\\n\")\r\n",
        "\r\n",
        "print(\"Validation Data Statistics: \")\r\n",
        "print(\"Total number of tweets:\", emotion_val_labels.shape[0])\r\n",
        "print(\"Number of Anger tweets:\", int(emotion_val_labels.value_counts()[0]))\r\n",
        "print(\"Number of Joy tweets:\", int(emotion_val_labels.value_counts()[1]))\r\n",
        "print(\"Number of Optimism tweets:\", int(emotion_val_labels.value_counts()[2]))\r\n",
        "print(\"Number of Sadness tweets:\", int(emotion_val_labels.value_counts()[3]), \"\\n\")\r\n",
        "\r\n",
        "print(\"Testing Data Statistics: \")\r\n",
        "print(\"Total number of tweets:\", emotion_test_labels.shape[0])\r\n",
        "print(\"Number of Anger tweets:\", int(emotion_test_labels.value_counts()[0]))\r\n",
        "print(\"Number of Joy tweets:\", int(emotion_test_labels.value_counts()[1]))\r\n",
        "print(\"Number of Optimism tweets:\", int(emotion_test_labels.value_counts()[2]))\r\n",
        "print(\"Number of Sadness tweets:\", int(emotion_test_labels.value_counts()[3]))"
      ],
      "execution_count": 13,
      "outputs": [
        {
          "output_type": "stream",
          "text": [
            "Training Data Statistics: \n",
            "Total number of tweets: 3257\n",
            "Number of Anger tweets: 1400\n",
            "Number of Joy tweets: 708\n",
            "Number of Optimism tweets: 294\n",
            "Number of Sadness tweets: 855 \n",
            "\n",
            "Validation Data Statistics: \n",
            "Total number of tweets: 374\n",
            "Number of Anger tweets: 160\n",
            "Number of Joy tweets: 97\n",
            "Number of Optimism tweets: 28\n",
            "Number of Sadness tweets: 89 \n",
            "\n",
            "Testing Data Statistics: \n",
            "Total number of tweets: 1421\n",
            "Number of Anger tweets: 558\n",
            "Number of Joy tweets: 358\n",
            "Number of Optimism tweets: 123\n",
            "Number of Sadness tweets: 382\n"
          ],
          "name": "stdout"
        }
      ]
    },
    {
      "cell_type": "code",
      "metadata": {
        "colab": {
          "base_uri": "https://localhost:8080/",
          "height": 175
        },
        "id": "Q00hNpYJOqkU",
        "outputId": "d444407a-6631-4b1d-c7e9-dec1d4ef1bf5"
      },
      "source": [
        "emotion_labels = pd.read_csv(\"https://raw.githubusercontent.com/cardiffnlp/tweeteval/main/datasets/emotion/mapping.txt\", sep=\"\\t\", header=None)\r\n",
        "emotion_labels"
      ],
      "execution_count": 14,
      "outputs": [
        {
          "output_type": "execute_result",
          "data": {
            "text/html": [
              "<div>\n",
              "<style scoped>\n",
              "    .dataframe tbody tr th:only-of-type {\n",
              "        vertical-align: middle;\n",
              "    }\n",
              "\n",
              "    .dataframe tbody tr th {\n",
              "        vertical-align: top;\n",
              "    }\n",
              "\n",
              "    .dataframe thead th {\n",
              "        text-align: right;\n",
              "    }\n",
              "</style>\n",
              "<table border=\"1\" class=\"dataframe\">\n",
              "  <thead>\n",
              "    <tr style=\"text-align: right;\">\n",
              "      <th></th>\n",
              "      <th>0</th>\n",
              "      <th>1</th>\n",
              "    </tr>\n",
              "  </thead>\n",
              "  <tbody>\n",
              "    <tr>\n",
              "      <th>0</th>\n",
              "      <td>0</td>\n",
              "      <td>anger</td>\n",
              "    </tr>\n",
              "    <tr>\n",
              "      <th>1</th>\n",
              "      <td>1</td>\n",
              "      <td>joy</td>\n",
              "    </tr>\n",
              "    <tr>\n",
              "      <th>2</th>\n",
              "      <td>2</td>\n",
              "      <td>optimism</td>\n",
              "    </tr>\n",
              "    <tr>\n",
              "      <th>3</th>\n",
              "      <td>3</td>\n",
              "      <td>sadness</td>\n",
              "    </tr>\n",
              "  </tbody>\n",
              "</table>\n",
              "</div>"
            ],
            "text/plain": [
              "   0         1\n",
              "0  0     anger\n",
              "1  1       joy\n",
              "2  2  optimism\n",
              "3  3   sadness"
            ]
          },
          "metadata": {
            "tags": []
          },
          "execution_count": 14
        }
      ]
    },
    {
      "cell_type": "code",
      "metadata": {
        "colab": {
          "base_uri": "https://localhost:8080/",
          "height": 189
        },
        "id": "rN-zNz3eQjcs",
        "outputId": "3712138a-6b5c-470a-8fca-f2b5bb8c414d"
      },
      "source": [
        "data = emotion_train_labels.groupby(\"label\").sum()\r\n",
        "data"
      ],
      "execution_count": 15,
      "outputs": [
        {
          "output_type": "execute_result",
          "data": {
            "text/html": [
              "<div>\n",
              "<style scoped>\n",
              "    .dataframe tbody tr th:only-of-type {\n",
              "        vertical-align: middle;\n",
              "    }\n",
              "\n",
              "    .dataframe tbody tr th {\n",
              "        vertical-align: top;\n",
              "    }\n",
              "\n",
              "    .dataframe thead th {\n",
              "        text-align: right;\n",
              "    }\n",
              "</style>\n",
              "<table border=\"1\" class=\"dataframe\">\n",
              "  <thead>\n",
              "    <tr style=\"text-align: right;\">\n",
              "      <th></th>\n",
              "    </tr>\n",
              "    <tr>\n",
              "      <th>label</th>\n",
              "    </tr>\n",
              "  </thead>\n",
              "  <tbody>\n",
              "    <tr>\n",
              "      <th>0</th>\n",
              "    </tr>\n",
              "    <tr>\n",
              "      <th>1</th>\n",
              "    </tr>\n",
              "    <tr>\n",
              "      <th>2</th>\n",
              "    </tr>\n",
              "    <tr>\n",
              "      <th>3</th>\n",
              "    </tr>\n",
              "  </tbody>\n",
              "</table>\n",
              "</div>"
            ],
            "text/plain": [
              "Empty DataFrame\n",
              "Columns: []\n",
              "Index: [0, 1, 2, 3]"
            ]
          },
          "metadata": {
            "tags": []
          },
          "execution_count": 15
        }
      ]
    },
    {
      "cell_type": "code",
      "metadata": {
        "colab": {
          "base_uri": "https://localhost:8080/",
          "height": 313
        },
        "id": "PFQ_-7WmPHq4",
        "outputId": "533990cb-3ef9-43c2-85b0-d0a19e565dbb"
      },
      "source": [
        "# Pie chart\r\n",
        "emo_ang_count = emotion_train_labels[emotion_train_labels.label == 0].shape[0]\r\n",
        "emo_joy_count = emotion_train_labels[emotion_train_labels.label == 1].shape[0]\r\n",
        "emo_opt_count = emotion_train_labels[emotion_train_labels.label == 2].shape[0]\r\n",
        "emo_sad_count = emotion_train_labels[emotion_train_labels.label == 3].shape[0]\r\n",
        "\r\n",
        "labels = ['Anger', 'Joy', ' Optimism', 'Sadness']\r\n",
        "sizes = [emo_ang_count, emo_joy_count, emo_opt_count, emo_sad_count]\r\n",
        "fig1, ax1 = plt.subplots()\r\n",
        "explode = (0.02, 0.02, 0.02, 0.02)  \r\n",
        "ax1.pie(sizes, explode= explode, labels=labels, autopct='%1.1f%%', startangle=90)\r\n",
        "ax1.axis('equal')  \r\n",
        "plt.tight_layout()\r\n",
        "plt.title(\"Percentages of Anger, Joy, Optimism and Sadness Tweets in the Training Dataset\")\r\n",
        "plt.show()\r\n"
      ],
      "execution_count": 16,
      "outputs": [
        {
          "output_type": "display_data",
          "data": {
            "image/png": "[encoded data removed]",
            "text/plain": [
              "<Figure size 432x288 with 1 Axes>"
            ]
          },
          "metadata": {
            "tags": []
          }
        }
      ]
    },
    {
      "cell_type": "code",
      "metadata": {
        "colab": {
          "base_uri": "https://localhost:8080/",
          "height": 444
        },
        "id": "BgDz_ccGTVPm",
        "outputId": "a3a71003-9a80-45d2-95e5-2a5473523699"
      },
      "source": [
        "# Count Plots\r\n",
        "fig, axes = plt.subplots(1, 3, figsize=(15, 5), sharey=False)\r\n",
        "fig.suptitle('Distribution of Anger, Joy, Optimism and Sadness Tweets in All Datasets')\r\n",
        "\r\n",
        "sns.countplot(ax=axes[0], x=emotion_train_labels.label)\r\n",
        "axes[0].set_title('Training Data')\r\n",
        "axes[0].set_xticklabels(labels)\r\n",
        "\r\n",
        "sns.countplot(ax=axes[1], x=emotion_val_labels.label)\r\n",
        "axes[1].set_title('Validation Data')\r\n",
        "axes[1].set_xticklabels(labels)\r\n",
        "\r\n",
        "sns.countplot(ax=axes[2], x=emotion_test_labels.label)\r\n",
        "axes[2].set_title('Test Data')\r\n",
        "axes[2].set_xticklabels(labels)"
      ],
      "execution_count": 17,
      "outputs": [
        {
          "output_type": "execute_result",
          "data": {
            "text/plain": [
              "[Text(0, 0, 'Anger'),\n",
              " Text(0, 0, 'Joy'),\n",
              " Text(0, 0, ' Optimism'),\n",
              " Text(0, 0, 'Sadness')]"
            ]
          },
          "metadata": {
            "tags": []
          },
          "execution_count": 17
        },
        {
          "output_type": "display_data",
          "data": {
            "image/png": "[encoded data removed]",
            "text/plain": [
              "<Figure size 1080x360 with 3 Axes>"
            ]
          },
          "metadata": {
            "tags": [],
            "needs_background": "light"
          }
        }
      ]
    },
    {
      "cell_type": "markdown",
      "metadata": {
        "id": "oCcNzksmBEYM"
      },
      "source": [
        "## Sentiment Analysis Dataset"
      ]
    },
    {
      "cell_type": "code",
      "metadata": {
        "colab": {
          "base_uri": "https://localhost:8080/",
          "height": 424
        },
        "id": "SeUVYNGYBD4l",
        "outputId": "c44777dc-9d39-4ff4-c360-4e7d83cb44b1"
      },
      "source": [
        "sentiment_train_df = pd.read_csv(\"https://raw.githubusercontent.com/cardiffnlp/tweeteval/main/datasets/sentiment/train_text.txt\", sep=\"\\t\", skip_blank_lines=False, quoting=csv.QUOTE_NONE, header=None)\r\n",
        "sentiment_train_df.columns= [\"tweet\"]\r\n",
        "sentiment_train_labels = pd.read_csv(\"https://raw.githubusercontent.com/cardiffnlp/tweeteval/main/datasets/sentiment/train_labels.txt\", sep=\"\\n\", header=None)\r\n",
        "sentiment_train_labels.columns= [\"label\"]\r\n",
        "\r\n",
        "sentiment_val_df = pd.read_csv(\"https://raw.githubusercontent.com/cardiffnlp/tweeteval/main/datasets/sentiment/val_text.txt\", sep=\"\\n\", skip_blank_lines=False, quoting=csv.QUOTE_NONE, header=None)\r\n",
        "sentiment_val_df.columns= [\"tweet\"]\r\n",
        "sentiment_val_labels = pd.read_csv(\"https://raw.githubusercontent.com/cardiffnlp/tweeteval/main/datasets/sentiment/val_labels.txt\", sep=\"\\n\", header=None)\r\n",
        "sentiment_val_labels.columns= [\"label\"]\r\n",
        "\r\n",
        "sentiment_test_df = pd.read_csv(\"https://raw.githubusercontent.com/cardiffnlp/tweeteval/main/datasets/sentiment/test_text.txt\", sep=\"\\n\", quoting=csv.QUOTE_NONE, skip_blank_lines=False, header=None)\r\n",
        "sentiment_test_df.columns= [\"tweet\"]\r\n",
        "sentiment_test_labels = pd.read_csv(\"https://raw.githubusercontent.com/cardiffnlp/tweeteval/main/datasets/sentiment/test_labels.txt\", sep=\"\\n\", header=None)\r\n",
        "sentiment_test_labels.columns= [\"label\"]\r\n",
        "\r\n",
        "sentiment_train_df"
      ],
      "execution_count": 18,
      "outputs": [
        {
          "output_type": "execute_result",
          "data": {
            "text/html": [
              "<div>\n",
              "<style scoped>\n",
              "    .dataframe tbody tr th:only-of-type {\n",
              "        vertical-align: middle;\n",
              "    }\n",
              "\n",
              "    .dataframe tbody tr th {\n",
              "        vertical-align: top;\n",
              "    }\n",
              "\n",
              "    .dataframe thead th {\n",
              "        text-align: right;\n",
              "    }\n",
              "</style>\n",
              "<table border=\"1\" class=\"dataframe\">\n",
              "  <thead>\n",
              "    <tr style=\"text-align: right;\">\n",
              "      <th></th>\n",
              "      <th>tweet</th>\n",
              "    </tr>\n",
              "  </thead>\n",
              "  <tbody>\n",
              "    <tr>\n",
              "      <th>0</th>\n",
              "      <td>\"QT @user In the original draft of the 7th boo...</td>\n",
              "    </tr>\n",
              "    <tr>\n",
              "      <th>1</th>\n",
              "      <td>\"Ben Smith / Smith (concussion) remains out of...</td>\n",
              "    </tr>\n",
              "    <tr>\n",
              "      <th>2</th>\n",
              "      <td>Sorry bout the stream last night I crashed out...</td>\n",
              "    </tr>\n",
              "    <tr>\n",
              "      <th>3</th>\n",
              "      <td>Chase Headley's RBI double in the 8th inning o...</td>\n",
              "    </tr>\n",
              "    <tr>\n",
              "      <th>4</th>\n",
              "      <td>@user Alciato: Bee will invest 150 million in ...</td>\n",
              "    </tr>\n",
              "    <tr>\n",
              "      <th>...</th>\n",
              "      <td>...</td>\n",
              "    </tr>\n",
              "    <tr>\n",
              "      <th>45610</th>\n",
              "      <td>@user \\\"\"So amazing to have the beautiful Lady...</td>\n",
              "    </tr>\n",
              "    <tr>\n",
              "      <th>45611</th>\n",
              "      <td>9 September has arrived, which means Apple's n...</td>\n",
              "    </tr>\n",
              "    <tr>\n",
              "      <th>45612</th>\n",
              "      <td>Leeds 1-1 Sheff Wed. Giuseppe Bellusci securin...</td>\n",
              "    </tr>\n",
              "    <tr>\n",
              "      <th>45613</th>\n",
              "      <td>@user no I'm in hilton head till the 8th lol g...</td>\n",
              "    </tr>\n",
              "    <tr>\n",
              "      <th>45614</th>\n",
              "      <td>WASHINGTON (Reuters) - U.S. Vice President Joe...</td>\n",
              "    </tr>\n",
              "  </tbody>\n",
              "</table>\n",
              "<p>45615 rows × 1 columns</p>\n",
              "</div>"
            ],
            "text/plain": [
              "                                                   tweet\n",
              "0      \"QT @user In the original draft of the 7th boo...\n",
              "1      \"Ben Smith / Smith (concussion) remains out of...\n",
              "2      Sorry bout the stream last night I crashed out...\n",
              "3      Chase Headley's RBI double in the 8th inning o...\n",
              "4      @user Alciato: Bee will invest 150 million in ...\n",
              "...                                                  ...\n",
              "45610  @user \\\"\"So amazing to have the beautiful Lady...\n",
              "45611  9 September has arrived, which means Apple's n...\n",
              "45612  Leeds 1-1 Sheff Wed. Giuseppe Bellusci securin...\n",
              "45613  @user no I'm in hilton head till the 8th lol g...\n",
              "45614  WASHINGTON (Reuters) - U.S. Vice President Joe...\n",
              "\n",
              "[45615 rows x 1 columns]"
            ]
          },
          "metadata": {
            "tags": []
          },
          "execution_count": 18
        }
      ]
    },
    {
      "cell_type": "code",
      "metadata": {
        "colab": {
          "base_uri": "https://localhost:8080/"
        },
        "id": "SccCRzSjFZJZ",
        "outputId": "25d13b6b-9371-4dd2-f04f-d825c50f22c2"
      },
      "source": [
        "# Checking whether the data is loaded correctly by checking the dimensions of the data frames for the training, validation, and testing datasets matches the dimensions of their corresponding labels datasets.\r\n",
        "print(sentiment_train_df.shape, sentiment_train_labels.shape)\r\n",
        "print(sentiment_val_df.shape, sentiment_val_labels.shape)\r\n",
        "print(sentiment_test_df.shape, sentiment_test_labels.shape)"
      ],
      "execution_count": 19,
      "outputs": [
        {
          "output_type": "stream",
          "text": [
            "(45615, 1) (45615, 1)\n",
            "(2000, 1) (2000, 1)\n",
            "(12284, 1) (12284, 1)\n"
          ],
          "name": "stdout"
        }
      ]
    },
    {
      "cell_type": "code",
      "metadata": {
        "colab": {
          "base_uri": "https://localhost:8080/",
          "height": 313
        },
        "id": "r2XCQPW2GHIA",
        "outputId": "331ad4a7-9a5e-4c49-d249-1c6ad07faf62"
      },
      "source": [
        "# Pie chart\r\n",
        "labels = ['Training Set', 'Validation Set', 'Test Set']\r\n",
        "sizes = [len(sentiment_train_labels), len(sentiment_val_labels), len(sentiment_test_labels)]\r\n",
        "explode = (0, 0, 0.1)  \r\n",
        "fig1, ax1 = plt.subplots()\r\n",
        "ax1.pie(sizes, explode=explode, labels=labels, autopct='%1.1f%%', startangle=90)\r\n",
        "ax1.axis('equal')  \r\n",
        "plt.tight_layout()\r\n",
        "plt.title(\"How the data is split\")\r\n",
        "plt.show()\r\n"
      ],
      "execution_count": 20,
      "outputs": [
        {
          "output_type": "display_data",
          "data": {
            "image/png": "[encoded data removed]",
            "text/plain": [
              "<Figure size 432x288 with 1 Axes>"
            ]
          },
          "metadata": {
            "tags": []
          }
        }
      ]
    },
    {
      "cell_type": "code",
      "metadata": {
        "colab": {
          "base_uri": "https://localhost:8080/",
          "height": 143
        },
        "id": "IHtc0SQyJ-WL",
        "outputId": "035404a9-1c4a-4055-baab-1c2115eed70e"
      },
      "source": [
        "sentiment_labels = pd.read_csv(\"https://raw.githubusercontent.com/cardiffnlp/tweeteval/main/datasets/sentiment/mapping.txt\", sep=\"\\t\", header=None)\r\n",
        "sentiment_labels"
      ],
      "execution_count": 21,
      "outputs": [
        {
          "output_type": "execute_result",
          "data": {
            "text/html": [
              "<div>\n",
              "<style scoped>\n",
              "    .dataframe tbody tr th:only-of-type {\n",
              "        vertical-align: middle;\n",
              "    }\n",
              "\n",
              "    .dataframe tbody tr th {\n",
              "        vertical-align: top;\n",
              "    }\n",
              "\n",
              "    .dataframe thead th {\n",
              "        text-align: right;\n",
              "    }\n",
              "</style>\n",
              "<table border=\"1\" class=\"dataframe\">\n",
              "  <thead>\n",
              "    <tr style=\"text-align: right;\">\n",
              "      <th></th>\n",
              "      <th>0</th>\n",
              "      <th>1</th>\n",
              "    </tr>\n",
              "  </thead>\n",
              "  <tbody>\n",
              "    <tr>\n",
              "      <th>0</th>\n",
              "      <td>0</td>\n",
              "      <td>negative</td>\n",
              "    </tr>\n",
              "    <tr>\n",
              "      <th>1</th>\n",
              "      <td>1</td>\n",
              "      <td>neutral</td>\n",
              "    </tr>\n",
              "    <tr>\n",
              "      <th>2</th>\n",
              "      <td>2</td>\n",
              "      <td>positive</td>\n",
              "    </tr>\n",
              "  </tbody>\n",
              "</table>\n",
              "</div>"
            ],
            "text/plain": [
              "   0         1\n",
              "0  0  negative\n",
              "1  1   neutral\n",
              "2  2  positive"
            ]
          },
          "metadata": {
            "tags": []
          },
          "execution_count": 21
        }
      ]
    },
    {
      "cell_type": "code",
      "metadata": {
        "colab": {
          "base_uri": "https://localhost:8080/"
        },
        "id": "CQdDDth7GjQP",
        "outputId": "f11ec6c6-75e1-4850-bb02-415b80981def"
      },
      "source": [
        "print(\"Training Data Statistics: \")\r\n",
        "print(\"Total number of tweets:\", sentiment_train_labels.shape[0])\r\n",
        "print(\"Number of Negative tweets:\", int(sentiment_train_labels.value_counts()[0]))\r\n",
        "print(\"Number of Neutral tweets:\", int(sentiment_train_labels.value_counts()[1]))\r\n",
        "print(\"Number of Positive tweets:\", int(sentiment_train_labels.value_counts()[2]),\"\\n\")\r\n",
        "\r\n",
        "print(\"Validation Data Statistics: \")\r\n",
        "print(\"Total number of tweets:\", sentiment_val_labels.shape[0])\r\n",
        "print(\"Number of Negative tweets:\", int(sentiment_val_labels.value_counts()[0]))\r\n",
        "print(\"Number of Neutral tweets:\", int(sentiment_val_labels.value_counts()[1]))\r\n",
        "print(\"Number of Positive tweets:\", int(sentiment_val_labels.value_counts()[2]),\"\\n\")\r\n",
        "\r\n",
        "print(\"Testing Data Statistics: \")\r\n",
        "print(\"Total number of tweets:\", sentiment_test_labels.shape[0])\r\n",
        "print(\"Number of Negative tweets:\", int(sentiment_test_labels.value_counts()[0]))\r\n",
        "print(\"Number of Neutral tweets:\", int(sentiment_test_labels.value_counts()[1]))\r\n",
        "print(\"Number of Positive tweets:\", int(sentiment_test_labels.value_counts()[2]))"
      ],
      "execution_count": 22,
      "outputs": [
        {
          "output_type": "stream",
          "text": [
            "Training Data Statistics: \n",
            "Total number of tweets: 45615\n",
            "Number of Negative tweets: 7093\n",
            "Number of Neutral tweets: 20673\n",
            "Number of Positive tweets: 17849 \n",
            "\n",
            "Validation Data Statistics: \n",
            "Total number of tweets: 2000\n",
            "Number of Negative tweets: 312\n",
            "Number of Neutral tweets: 869\n",
            "Number of Positive tweets: 819 \n",
            "\n",
            "Testing Data Statistics: \n",
            "Total number of tweets: 12284\n",
            "Number of Negative tweets: 3972\n",
            "Number of Neutral tweets: 5937\n",
            "Number of Positive tweets: 2375\n"
          ],
          "name": "stdout"
        }
      ]
    },
    {
      "cell_type": "code",
      "metadata": {
        "colab": {
          "base_uri": "https://localhost:8080/",
          "height": 313
        },
        "id": "jIV_vpa0Gb6g",
        "outputId": "f00d77d9-41df-4b60-f6ce-c535c4b27d9e"
      },
      "source": [
        "# Pie chart\r\n",
        "senti_neg_count = sentiment_train_labels[sentiment_train_labels.label == 0].shape[0]\r\n",
        "senti_neut_count = sentiment_train_labels[sentiment_train_labels.label == 1].shape[0]\r\n",
        "senti_pos_count = sentiment_train_labels[sentiment_train_labels.label == 2].shape[0]\r\n",
        "\r\n",
        "labels = ['Negative', 'Neutral', ' Positive']\r\n",
        "sizes = [senti_neg_count, senti_neut_count, senti_pos_count]\r\n",
        "fig1, ax1 = plt.subplots()\r\n",
        "explode = (0.02, 0.02, 0.02)  \r\n",
        "ax1.pie(sizes, explode= explode, labels=labels, autopct='%1.1f%%', startangle=90)\r\n",
        "ax1.axis('equal')  \r\n",
        "plt.tight_layout()\r\n",
        "plt.title(\"Percentages of Neagtive, Neutral, and Positive Tweets in the Training Dataset\")\r\n",
        "plt.show()\r\n"
      ],
      "execution_count": 23,
      "outputs": [
        {
          "output_type": "display_data",
          "data": {
            "image/png": "[encoded data removed]",
            "text/plain": [
              "<Figure size 432x288 with 1 Axes>"
            ]
          },
          "metadata": {
            "tags": []
          }
        }
      ]
    },
    {
      "cell_type": "code",
      "metadata": {
        "colab": {
          "base_uri": "https://localhost:8080/",
          "height": 388
        },
        "id": "RROJlAT_TdZw",
        "outputId": "514b9ee1-4ace-44c4-de88-1537bb535676"
      },
      "source": [
        "# Count Plots\r\n",
        "fig, axes = plt.subplots(1, 3, figsize=(15, 5), sharey=False)\r\n",
        "fig.suptitle('Distribution of Hateful and Not Hateful Tweets in All Datasets')\r\n",
        "\r\n",
        "sns.countplot(ax=axes[0], x=sentiment_train_labels.label)\r\n",
        "axes[0].set_title('Training Data')\r\n",
        "axes[0].set_xticklabels(labels)\r\n",
        "\r\n",
        "sns.countplot(ax=axes[1], x=sentiment_val_labels.label)\r\n",
        "axes[1].set_title('Validation Data')\r\n",
        "axes[1].set_xticklabels(labels)\r\n",
        "\r\n",
        "sns.countplot(ax=axes[2], x=sentiment_test_labels.label)\r\n",
        "axes[2].set_title('Test Data')\r\n",
        "axes[2].set_xticklabels(labels)"
      ],
      "execution_count": 24,
      "outputs": [
        {
          "output_type": "execute_result",
          "data": {
            "text/plain": [
              "[Text(0, 0, 'Negative'), Text(0, 0, 'Neutral'), Text(0, 0, ' Positive')]"
            ]
          },
          "metadata": {
            "tags": []
          },
          "execution_count": 24
        },
        {
          "output_type": "display_data",
          "data": {
            "image/png": "[encoded data removed]",
            "text/plain": [
              "<Figure size 1080x360 with 3 Axes>"
            ]
          },
          "metadata": {
            "tags": [],
            "needs_background": "light"
          }
        }
      ]
    },
    {
      "cell_type": "markdown",
      "metadata": {
        "id": "iAm95-Qb4HDZ"
      },
      "source": [
        "# Preprocessing"
      ]
    },
    {
      "cell_type": "markdown",
      "metadata": {
        "id": "nSIP-YsMlsp9"
      },
      "source": [
        "## Checking for null values"
      ]
    },
    {
      "cell_type": "code",
      "metadata": {
        "colab": {
          "base_uri": "https://localhost:8080/"
        },
        "id": "RizbPAFhX7Ae",
        "outputId": "b0690e72-8fed-46b9-c3d3-84706d30386b"
      },
      "source": [
        "print(\"Number of NULL values in the hate training set: \", hate_train_df['tweet'].isnull().values.sum())\r\n",
        "print(\"Number of NULL values in the hate validation set: \", hate_val_df['tweet'].isnull().values.sum())\r\n",
        "print(\"Number of NULL values in the hate testing set: \", hate_test_df['tweet'].isnull().values.sum(), '\\n')\r\n",
        "\r\n",
        "print(\"Number of NULL values in the emotion recognition training set: \", emotion_train_df['tweet'].isnull().values.sum())\r\n",
        "print(\"Number of NULL values in the emotion recognition validation set: \", emotion_val_df['tweet'].isnull().values.sum())\r\n",
        "print(\"Number of NULL values in the emotion recognition test set: \", emotion_test_df['tweet'].isnull().values.sum(), '\\n')\r\n",
        "\r\n",
        "print(\"Number of NULL values in the emotion sentiment analysis training set: \", sentiment_train_df['tweet'].isnull().values.sum())\r\n",
        "print(\"Number of NULL values in the emotion sentiment analysis validation set: \", sentiment_val_df['tweet'].isnull().values.sum())\r\n",
        "print(\"Number of NULL values in the emotion sentiment analysis test set: \", sentiment_test_df['tweet'].isnull().values.sum())\r\n"
      ],
      "execution_count": 25,
      "outputs": [
        {
          "output_type": "stream",
          "text": [
            "Number of NULL values in the hate training set:  7\n",
            "Number of NULL values in the hate validation set:  1\n",
            "Number of NULL values in the hate testing set:  0 \n",
            "\n",
            "Number of NULL values in the emotion recognition training set:  0\n",
            "Number of NULL values in the emotion recognition validation set:  0\n",
            "Number of NULL values in the emotion recognition test set:  0 \n",
            "\n",
            "Number of NULL values in the emotion sentiment analysis training set:  0\n",
            "Number of NULL values in the emotion sentiment analysis validation set:  0\n",
            "Number of NULL values in the emotion sentiment analysis test set:  0\n"
          ],
          "name": "stdout"
        }
      ]
    },
    {
      "cell_type": "markdown",
      "metadata": {
        "id": "Ia9quSsmrRIu"
      },
      "source": [
        "### Droping null values from the hate training set"
      ]
    },
    {
      "cell_type": "code",
      "metadata": {
        "colab": {
          "base_uri": "https://localhost:8080/",
          "height": 460
        },
        "id": "7vPZN5N6d3YV",
        "outputId": "f952f113-8d4d-4bc4-85c6-876d7068c0d6"
      },
      "source": [
        "print(hate_train_df.shape)\r\n",
        "print(hate_train_labels.shape)\r\n",
        "hate_train_df"
      ],
      "execution_count": 26,
      "outputs": [
        {
          "output_type": "stream",
          "text": [
            "(9000, 1)\n",
            "(9000, 1)\n"
          ],
          "name": "stdout"
        },
        {
          "output_type": "execute_result",
          "data": {
            "text/html": [
              "<div>\n",
              "<style scoped>\n",
              "    .dataframe tbody tr th:only-of-type {\n",
              "        vertical-align: middle;\n",
              "    }\n",
              "\n",
              "    .dataframe tbody tr th {\n",
              "        vertical-align: top;\n",
              "    }\n",
              "\n",
              "    .dataframe thead th {\n",
              "        text-align: right;\n",
              "    }\n",
              "</style>\n",
              "<table border=\"1\" class=\"dataframe\">\n",
              "  <thead>\n",
              "    <tr style=\"text-align: right;\">\n",
              "      <th></th>\n",
              "      <th>tweet</th>\n",
              "    </tr>\n",
              "  </thead>\n",
              "  <tbody>\n",
              "    <tr>\n",
              "      <th>0</th>\n",
              "      <td>@user nice new signage. Are you not concerned ...</td>\n",
              "    </tr>\n",
              "    <tr>\n",
              "      <th>1</th>\n",
              "      <td>A woman who you fucked multiple times saying y...</td>\n",
              "    </tr>\n",
              "    <tr>\n",
              "      <th>2</th>\n",
              "      <td>@user @user real talk do you have eyes or were...</td>\n",
              "    </tr>\n",
              "    <tr>\n",
              "      <th>3</th>\n",
              "      <td>your girlfriend lookin at me like a groupie in...</td>\n",
              "    </tr>\n",
              "    <tr>\n",
              "      <th>4</th>\n",
              "      <td>Hysterical woman like @user</td>\n",
              "    </tr>\n",
              "    <tr>\n",
              "      <th>...</th>\n",
              "      <td>...</td>\n",
              "    </tr>\n",
              "    <tr>\n",
              "      <th>8995</th>\n",
              "      <td>Oooohhhh bitch didn't even listen to the dead ...</td>\n",
              "    </tr>\n",
              "    <tr>\n",
              "      <th>8996</th>\n",
              "      <td>@user Good Luck @user More Americans #WalkAway...</td>\n",
              "    </tr>\n",
              "    <tr>\n",
              "      <th>8997</th>\n",
              "      <td>Bitch you can't keep up so stop trying</td>\n",
              "    </tr>\n",
              "    <tr>\n",
              "      <th>8998</th>\n",
              "      <td>@user @user @user @user @user @user Japan is a...</td>\n",
              "    </tr>\n",
              "    <tr>\n",
              "      <th>8999</th>\n",
              "      <td>@user hi Best l see someone fucking girl comme...</td>\n",
              "    </tr>\n",
              "  </tbody>\n",
              "</table>\n",
              "<p>9000 rows × 1 columns</p>\n",
              "</div>"
            ],
            "text/plain": [
              "                                                  tweet\n",
              "0     @user nice new signage. Are you not concerned ...\n",
              "1     A woman who you fucked multiple times saying y...\n",
              "2     @user @user real talk do you have eyes or were...\n",
              "3     your girlfriend lookin at me like a groupie in...\n",
              "4                          Hysterical woman like @user \n",
              "...                                                 ...\n",
              "8995  Oooohhhh bitch didn't even listen to the dead ...\n",
              "8996  @user Good Luck @user More Americans #WalkAway...\n",
              "8997            Bitch you can't keep up so stop trying \n",
              "8998  @user @user @user @user @user @user Japan is a...\n",
              "8999  @user hi Best l see someone fucking girl comme...\n",
              "\n",
              "[9000 rows x 1 columns]"
            ]
          },
          "metadata": {
            "tags": []
          },
          "execution_count": 26
        }
      ]
    },
    {
      "cell_type": "code",
      "metadata": {
        "colab": {
          "base_uri": "https://localhost:8080/",
          "height": 424
        },
        "id": "USeQiUfBeH3q",
        "outputId": "f0db173c-c8d6-42cd-e9a1-32ef7d0d9165"
      },
      "source": [
        "hate_train_labels"
      ],
      "execution_count": 27,
      "outputs": [
        {
          "output_type": "execute_result",
          "data": {
            "text/html": [
              "<div>\n",
              "<style scoped>\n",
              "    .dataframe tbody tr th:only-of-type {\n",
              "        vertical-align: middle;\n",
              "    }\n",
              "\n",
              "    .dataframe tbody tr th {\n",
              "        vertical-align: top;\n",
              "    }\n",
              "\n",
              "    .dataframe thead th {\n",
              "        text-align: right;\n",
              "    }\n",
              "</style>\n",
              "<table border=\"1\" class=\"dataframe\">\n",
              "  <thead>\n",
              "    <tr style=\"text-align: right;\">\n",
              "      <th></th>\n",
              "      <th>label</th>\n",
              "    </tr>\n",
              "  </thead>\n",
              "  <tbody>\n",
              "    <tr>\n",
              "      <th>0</th>\n",
              "      <td>0</td>\n",
              "    </tr>\n",
              "    <tr>\n",
              "      <th>1</th>\n",
              "      <td>1</td>\n",
              "    </tr>\n",
              "    <tr>\n",
              "      <th>2</th>\n",
              "      <td>1</td>\n",
              "    </tr>\n",
              "    <tr>\n",
              "      <th>3</th>\n",
              "      <td>1</td>\n",
              "    </tr>\n",
              "    <tr>\n",
              "      <th>4</th>\n",
              "      <td>0</td>\n",
              "    </tr>\n",
              "    <tr>\n",
              "      <th>...</th>\n",
              "      <td>...</td>\n",
              "    </tr>\n",
              "    <tr>\n",
              "      <th>8995</th>\n",
              "      <td>0</td>\n",
              "    </tr>\n",
              "    <tr>\n",
              "      <th>8996</th>\n",
              "      <td>0</td>\n",
              "    </tr>\n",
              "    <tr>\n",
              "      <th>8997</th>\n",
              "      <td>1</td>\n",
              "    </tr>\n",
              "    <tr>\n",
              "      <th>8998</th>\n",
              "      <td>0</td>\n",
              "    </tr>\n",
              "    <tr>\n",
              "      <th>8999</th>\n",
              "      <td>1</td>\n",
              "    </tr>\n",
              "  </tbody>\n",
              "</table>\n",
              "<p>9000 rows × 1 columns</p>\n",
              "</div>"
            ],
            "text/plain": [
              "      label\n",
              "0         0\n",
              "1         1\n",
              "2         1\n",
              "3         1\n",
              "4         0\n",
              "...     ...\n",
              "8995      0\n",
              "8996      0\n",
              "8997      1\n",
              "8998      0\n",
              "8999      1\n",
              "\n",
              "[9000 rows x 1 columns]"
            ]
          },
          "metadata": {
            "tags": []
          },
          "execution_count": 27
        }
      ]
    },
    {
      "cell_type": "code",
      "metadata": {
        "colab": {
          "base_uri": "https://localhost:8080/",
          "height": 424
        },
        "id": "h9mZwUsXaZLn",
        "outputId": "909a12d7-3b6f-4738-ede7-0e41ab49c939"
      },
      "source": [
        "df = pd.concat([hate_train_df, hate_train_labels], axis=1)\r\n",
        "df"
      ],
      "execution_count": 28,
      "outputs": [
        {
          "output_type": "execute_result",
          "data": {
            "text/html": [
              "<div>\n",
              "<style scoped>\n",
              "    .dataframe tbody tr th:only-of-type {\n",
              "        vertical-align: middle;\n",
              "    }\n",
              "\n",
              "    .dataframe tbody tr th {\n",
              "        vertical-align: top;\n",
              "    }\n",
              "\n",
              "    .dataframe thead th {\n",
              "        text-align: right;\n",
              "    }\n",
              "</style>\n",
              "<table border=\"1\" class=\"dataframe\">\n",
              "  <thead>\n",
              "    <tr style=\"text-align: right;\">\n",
              "      <th></th>\n",
              "      <th>tweet</th>\n",
              "      <th>label</th>\n",
              "    </tr>\n",
              "  </thead>\n",
              "  <tbody>\n",
              "    <tr>\n",
              "      <th>0</th>\n",
              "      <td>@user nice new signage. Are you not concerned ...</td>\n",
              "      <td>0</td>\n",
              "    </tr>\n",
              "    <tr>\n",
              "      <th>1</th>\n",
              "      <td>A woman who you fucked multiple times saying y...</td>\n",
              "      <td>1</td>\n",
              "    </tr>\n",
              "    <tr>\n",
              "      <th>2</th>\n",
              "      <td>@user @user real talk do you have eyes or were...</td>\n",
              "      <td>1</td>\n",
              "    </tr>\n",
              "    <tr>\n",
              "      <th>3</th>\n",
              "      <td>your girlfriend lookin at me like a groupie in...</td>\n",
              "      <td>1</td>\n",
              "    </tr>\n",
              "    <tr>\n",
              "      <th>4</th>\n",
              "      <td>Hysterical woman like @user</td>\n",
              "      <td>0</td>\n",
              "    </tr>\n",
              "    <tr>\n",
              "      <th>...</th>\n",
              "      <td>...</td>\n",
              "      <td>...</td>\n",
              "    </tr>\n",
              "    <tr>\n",
              "      <th>8995</th>\n",
              "      <td>Oooohhhh bitch didn't even listen to the dead ...</td>\n",
              "      <td>0</td>\n",
              "    </tr>\n",
              "    <tr>\n",
              "      <th>8996</th>\n",
              "      <td>@user Good Luck @user More Americans #WalkAway...</td>\n",
              "      <td>0</td>\n",
              "    </tr>\n",
              "    <tr>\n",
              "      <th>8997</th>\n",
              "      <td>Bitch you can't keep up so stop trying</td>\n",
              "      <td>1</td>\n",
              "    </tr>\n",
              "    <tr>\n",
              "      <th>8998</th>\n",
              "      <td>@user @user @user @user @user @user Japan is a...</td>\n",
              "      <td>0</td>\n",
              "    </tr>\n",
              "    <tr>\n",
              "      <th>8999</th>\n",
              "      <td>@user hi Best l see someone fucking girl comme...</td>\n",
              "      <td>1</td>\n",
              "    </tr>\n",
              "  </tbody>\n",
              "</table>\n",
              "<p>9000 rows × 2 columns</p>\n",
              "</div>"
            ],
            "text/plain": [
              "                                                  tweet  label\n",
              "0     @user nice new signage. Are you not concerned ...      0\n",
              "1     A woman who you fucked multiple times saying y...      1\n",
              "2     @user @user real talk do you have eyes or were...      1\n",
              "3     your girlfriend lookin at me like a groupie in...      1\n",
              "4                          Hysterical woman like @user       0\n",
              "...                                                 ...    ...\n",
              "8995  Oooohhhh bitch didn't even listen to the dead ...      0\n",
              "8996  @user Good Luck @user More Americans #WalkAway...      0\n",
              "8997            Bitch you can't keep up so stop trying       1\n",
              "8998  @user @user @user @user @user @user Japan is a...      0\n",
              "8999  @user hi Best l see someone fucking girl comme...      1\n",
              "\n",
              "[9000 rows x 2 columns]"
            ]
          },
          "metadata": {
            "tags": []
          },
          "execution_count": 28
        }
      ]
    },
    {
      "cell_type": "code",
      "metadata": {
        "id": "Ur8lbZXboOxe"
      },
      "source": [
        "df.dropna(inplace=True)\r\n",
        "df.reset_index(drop=True, inplace=True)"
      ],
      "execution_count": 29,
      "outputs": []
    },
    {
      "cell_type": "code",
      "metadata": {
        "colab": {
          "base_uri": "https://localhost:8080/",
          "height": 424
        },
        "id": "JIibokJ6hGFb",
        "outputId": "e5f372a1-2bdc-40b3-cc5e-305a76b50b4a"
      },
      "source": [
        "hate_train_df = df[['tweet']]\r\n",
        "hate_train_labels = df[['label']]\r\n",
        "hate_train_df"
      ],
      "execution_count": 30,
      "outputs": [
        {
          "output_type": "execute_result",
          "data": {
            "text/html": [
              "<div>\n",
              "<style scoped>\n",
              "    .dataframe tbody tr th:only-of-type {\n",
              "        vertical-align: middle;\n",
              "    }\n",
              "\n",
              "    .dataframe tbody tr th {\n",
              "        vertical-align: top;\n",
              "    }\n",
              "\n",
              "    .dataframe thead th {\n",
              "        text-align: right;\n",
              "    }\n",
              "</style>\n",
              "<table border=\"1\" class=\"dataframe\">\n",
              "  <thead>\n",
              "    <tr style=\"text-align: right;\">\n",
              "      <th></th>\n",
              "      <th>tweet</th>\n",
              "    </tr>\n",
              "  </thead>\n",
              "  <tbody>\n",
              "    <tr>\n",
              "      <th>0</th>\n",
              "      <td>@user nice new signage. Are you not concerned ...</td>\n",
              "    </tr>\n",
              "    <tr>\n",
              "      <th>1</th>\n",
              "      <td>A woman who you fucked multiple times saying y...</td>\n",
              "    </tr>\n",
              "    <tr>\n",
              "      <th>2</th>\n",
              "      <td>@user @user real talk do you have eyes or were...</td>\n",
              "    </tr>\n",
              "    <tr>\n",
              "      <th>3</th>\n",
              "      <td>your girlfriend lookin at me like a groupie in...</td>\n",
              "    </tr>\n",
              "    <tr>\n",
              "      <th>4</th>\n",
              "      <td>Hysterical woman like @user</td>\n",
              "    </tr>\n",
              "    <tr>\n",
              "      <th>...</th>\n",
              "      <td>...</td>\n",
              "    </tr>\n",
              "    <tr>\n",
              "      <th>8988</th>\n",
              "      <td>Oooohhhh bitch didn't even listen to the dead ...</td>\n",
              "    </tr>\n",
              "    <tr>\n",
              "      <th>8989</th>\n",
              "      <td>@user Good Luck @user More Americans #WalkAway...</td>\n",
              "    </tr>\n",
              "    <tr>\n",
              "      <th>8990</th>\n",
              "      <td>Bitch you can't keep up so stop trying</td>\n",
              "    </tr>\n",
              "    <tr>\n",
              "      <th>8991</th>\n",
              "      <td>@user @user @user @user @user @user Japan is a...</td>\n",
              "    </tr>\n",
              "    <tr>\n",
              "      <th>8992</th>\n",
              "      <td>@user hi Best l see someone fucking girl comme...</td>\n",
              "    </tr>\n",
              "  </tbody>\n",
              "</table>\n",
              "<p>8993 rows × 1 columns</p>\n",
              "</div>"
            ],
            "text/plain": [
              "                                                  tweet\n",
              "0     @user nice new signage. Are you not concerned ...\n",
              "1     A woman who you fucked multiple times saying y...\n",
              "2     @user @user real talk do you have eyes or were...\n",
              "3     your girlfriend lookin at me like a groupie in...\n",
              "4                          Hysterical woman like @user \n",
              "...                                                 ...\n",
              "8988  Oooohhhh bitch didn't even listen to the dead ...\n",
              "8989  @user Good Luck @user More Americans #WalkAway...\n",
              "8990            Bitch you can't keep up so stop trying \n",
              "8991  @user @user @user @user @user @user Japan is a...\n",
              "8992  @user hi Best l see someone fucking girl comme...\n",
              "\n",
              "[8993 rows x 1 columns]"
            ]
          },
          "metadata": {
            "tags": []
          },
          "execution_count": 30
        }
      ]
    },
    {
      "cell_type": "code",
      "metadata": {
        "colab": {
          "base_uri": "https://localhost:8080/",
          "height": 424
        },
        "id": "GQsj7j2JhhYX",
        "outputId": "7b8ff1df-d01c-4d04-976e-5b2ad299dbaf"
      },
      "source": [
        "hate_train_labels"
      ],
      "execution_count": 31,
      "outputs": [
        {
          "output_type": "execute_result",
          "data": {
            "text/html": [
              "<div>\n",
              "<style scoped>\n",
              "    .dataframe tbody tr th:only-of-type {\n",
              "        vertical-align: middle;\n",
              "    }\n",
              "\n",
              "    .dataframe tbody tr th {\n",
              "        vertical-align: top;\n",
              "    }\n",
              "\n",
              "    .dataframe thead th {\n",
              "        text-align: right;\n",
              "    }\n",
              "</style>\n",
              "<table border=\"1\" class=\"dataframe\">\n",
              "  <thead>\n",
              "    <tr style=\"text-align: right;\">\n",
              "      <th></th>\n",
              "      <th>label</th>\n",
              "    </tr>\n",
              "  </thead>\n",
              "  <tbody>\n",
              "    <tr>\n",
              "      <th>0</th>\n",
              "      <td>0</td>\n",
              "    </tr>\n",
              "    <tr>\n",
              "      <th>1</th>\n",
              "      <td>1</td>\n",
              "    </tr>\n",
              "    <tr>\n",
              "      <th>2</th>\n",
              "      <td>1</td>\n",
              "    </tr>\n",
              "    <tr>\n",
              "      <th>3</th>\n",
              "      <td>1</td>\n",
              "    </tr>\n",
              "    <tr>\n",
              "      <th>4</th>\n",
              "      <td>0</td>\n",
              "    </tr>\n",
              "    <tr>\n",
              "      <th>...</th>\n",
              "      <td>...</td>\n",
              "    </tr>\n",
              "    <tr>\n",
              "      <th>8988</th>\n",
              "      <td>0</td>\n",
              "    </tr>\n",
              "    <tr>\n",
              "      <th>8989</th>\n",
              "      <td>0</td>\n",
              "    </tr>\n",
              "    <tr>\n",
              "      <th>8990</th>\n",
              "      <td>1</td>\n",
              "    </tr>\n",
              "    <tr>\n",
              "      <th>8991</th>\n",
              "      <td>0</td>\n",
              "    </tr>\n",
              "    <tr>\n",
              "      <th>8992</th>\n",
              "      <td>1</td>\n",
              "    </tr>\n",
              "  </tbody>\n",
              "</table>\n",
              "<p>8993 rows × 1 columns</p>\n",
              "</div>"
            ],
            "text/plain": [
              "      label\n",
              "0         0\n",
              "1         1\n",
              "2         1\n",
              "3         1\n",
              "4         0\n",
              "...     ...\n",
              "8988      0\n",
              "8989      0\n",
              "8990      1\n",
              "8991      0\n",
              "8992      1\n",
              "\n",
              "[8993 rows x 1 columns]"
            ]
          },
          "metadata": {
            "tags": []
          },
          "execution_count": 31
        }
      ]
    },
    {
      "cell_type": "code",
      "metadata": {
        "colab": {
          "base_uri": "https://localhost:8080/"
        },
        "id": "cdGZhwPchrQs",
        "outputId": "c91b5941-bf72-455c-d9d1-20b89a68bfc4"
      },
      "source": [
        "print(\"Number of NULL values in the hate training set: \", hate_train_df['tweet'].isnull().values.sum())\r\n",
        "print(hate_train_df.shape)\r\n",
        "print(hate_train_labels.shape)"
      ],
      "execution_count": 32,
      "outputs": [
        {
          "output_type": "stream",
          "text": [
            "Number of NULL values in the hate training set:  0\n",
            "(8993, 1)\n",
            "(8993, 1)\n"
          ],
          "name": "stdout"
        }
      ]
    },
    {
      "cell_type": "markdown",
      "metadata": {
        "id": "B0pzBU35rZ-_"
      },
      "source": [
        "### Dropping null values from the hate validation set"
      ]
    },
    {
      "cell_type": "code",
      "metadata": {
        "colab": {
          "base_uri": "https://localhost:8080/"
        },
        "id": "7r6q6aGNiCRj",
        "outputId": "e2cc1259-3aaf-436e-841d-2957290e5115"
      },
      "source": [
        "print(\"Number of NULL values in the hate validation set: \", hate_val_df['tweet'].isnull().values.sum())"
      ],
      "execution_count": 33,
      "outputs": [
        {
          "output_type": "stream",
          "text": [
            "Number of NULL values in the hate validation set:  1\n"
          ],
          "name": "stdout"
        }
      ]
    },
    {
      "cell_type": "code",
      "metadata": {
        "colab": {
          "base_uri": "https://localhost:8080/",
          "height": 424
        },
        "id": "fJM4MsmZjCgx",
        "outputId": "9991bc27-bc70-4f77-865a-c0fbe2e1dd3b"
      },
      "source": [
        "hate_val_df"
      ],
      "execution_count": 34,
      "outputs": [
        {
          "output_type": "execute_result",
          "data": {
            "text/html": [
              "<div>\n",
              "<style scoped>\n",
              "    .dataframe tbody tr th:only-of-type {\n",
              "        vertical-align: middle;\n",
              "    }\n",
              "\n",
              "    .dataframe tbody tr th {\n",
              "        vertical-align: top;\n",
              "    }\n",
              "\n",
              "    .dataframe thead th {\n",
              "        text-align: right;\n",
              "    }\n",
              "</style>\n",
              "<table border=\"1\" class=\"dataframe\">\n",
              "  <thead>\n",
              "    <tr style=\"text-align: right;\">\n",
              "      <th></th>\n",
              "      <th>tweet</th>\n",
              "    </tr>\n",
              "  </thead>\n",
              "  <tbody>\n",
              "    <tr>\n",
              "      <th>0</th>\n",
              "      <td>@user @user If book Claire wanted to \"stay in ...</td>\n",
              "    </tr>\n",
              "    <tr>\n",
              "      <th>1</th>\n",
              "      <td>After arriving in the EU refugees make protest...</td>\n",
              "    </tr>\n",
              "    <tr>\n",
              "      <th>2</th>\n",
              "      <td>😳👇</td>\n",
              "    </tr>\n",
              "    <tr>\n",
              "      <th>3</th>\n",
              "      <td>@user Worst thing is if they are that stupid t...</td>\n",
              "    </tr>\n",
              "    <tr>\n",
              "      <th>4</th>\n",
              "      <td>@user Say's the HYSTERICAL woman. It is woman ...</td>\n",
              "    </tr>\n",
              "    <tr>\n",
              "      <th>...</th>\n",
              "      <td>...</td>\n",
              "    </tr>\n",
              "    <tr>\n",
              "      <th>995</th>\n",
              "      <td>Pass #MeritBased Immigration. Kill #ChainMigra...</td>\n",
              "    </tr>\n",
              "    <tr>\n",
              "      <th>996</th>\n",
              "      <td>imagine chaeyoung cutting some cooked meat for...</td>\n",
              "    </tr>\n",
              "    <tr>\n",
              "      <th>997</th>\n",
              "      <td>I usually dont hate people but I actually hate...</td>\n",
              "    </tr>\n",
              "    <tr>\n",
              "      <th>998</th>\n",
              "      <td>Cameron stopped immigrants voting on the EU in...</td>\n",
              "    </tr>\n",
              "    <tr>\n",
              "      <th>999</th>\n",
              "      <td>Large scale migration of illegal migrants to D...</td>\n",
              "    </tr>\n",
              "  </tbody>\n",
              "</table>\n",
              "<p>1000 rows × 1 columns</p>\n",
              "</div>"
            ],
            "text/plain": [
              "                                                 tweet\n",
              "0    @user @user If book Claire wanted to \"stay in ...\n",
              "1    After arriving in the EU refugees make protest...\n",
              "2                                                  😳👇 \n",
              "3    @user Worst thing is if they are that stupid t...\n",
              "4    @user Say's the HYSTERICAL woman. It is woman ...\n",
              "..                                                 ...\n",
              "995  Pass #MeritBased Immigration. Kill #ChainMigra...\n",
              "996  imagine chaeyoung cutting some cooked meat for...\n",
              "997  I usually dont hate people but I actually hate...\n",
              "998  Cameron stopped immigrants voting on the EU in...\n",
              "999  Large scale migration of illegal migrants to D...\n",
              "\n",
              "[1000 rows x 1 columns]"
            ]
          },
          "metadata": {
            "tags": []
          },
          "execution_count": 34
        }
      ]
    },
    {
      "cell_type": "code",
      "metadata": {
        "colab": {
          "base_uri": "https://localhost:8080/",
          "height": 424
        },
        "id": "8sU-Oa5bjs0j",
        "outputId": "8c528d6c-e050-44b6-e807-b65fd214b46d"
      },
      "source": [
        "hate_val_labels"
      ],
      "execution_count": 35,
      "outputs": [
        {
          "output_type": "execute_result",
          "data": {
            "text/html": [
              "<div>\n",
              "<style scoped>\n",
              "    .dataframe tbody tr th:only-of-type {\n",
              "        vertical-align: middle;\n",
              "    }\n",
              "\n",
              "    .dataframe tbody tr th {\n",
              "        vertical-align: top;\n",
              "    }\n",
              "\n",
              "    .dataframe thead th {\n",
              "        text-align: right;\n",
              "    }\n",
              "</style>\n",
              "<table border=\"1\" class=\"dataframe\">\n",
              "  <thead>\n",
              "    <tr style=\"text-align: right;\">\n",
              "      <th></th>\n",
              "      <th>label</th>\n",
              "    </tr>\n",
              "  </thead>\n",
              "  <tbody>\n",
              "    <tr>\n",
              "      <th>0</th>\n",
              "      <td>0</td>\n",
              "    </tr>\n",
              "    <tr>\n",
              "      <th>1</th>\n",
              "      <td>0</td>\n",
              "    </tr>\n",
              "    <tr>\n",
              "      <th>2</th>\n",
              "      <td>0</td>\n",
              "    </tr>\n",
              "    <tr>\n",
              "      <th>3</th>\n",
              "      <td>1</td>\n",
              "    </tr>\n",
              "    <tr>\n",
              "      <th>4</th>\n",
              "      <td>0</td>\n",
              "    </tr>\n",
              "    <tr>\n",
              "      <th>...</th>\n",
              "      <td>...</td>\n",
              "    </tr>\n",
              "    <tr>\n",
              "      <th>995</th>\n",
              "      <td>1</td>\n",
              "    </tr>\n",
              "    <tr>\n",
              "      <th>996</th>\n",
              "      <td>0</td>\n",
              "    </tr>\n",
              "    <tr>\n",
              "      <th>997</th>\n",
              "      <td>1</td>\n",
              "    </tr>\n",
              "    <tr>\n",
              "      <th>998</th>\n",
              "      <td>1</td>\n",
              "    </tr>\n",
              "    <tr>\n",
              "      <th>999</th>\n",
              "      <td>0</td>\n",
              "    </tr>\n",
              "  </tbody>\n",
              "</table>\n",
              "<p>1000 rows × 1 columns</p>\n",
              "</div>"
            ],
            "text/plain": [
              "     label\n",
              "0        0\n",
              "1        0\n",
              "2        0\n",
              "3        1\n",
              "4        0\n",
              "..     ...\n",
              "995      1\n",
              "996      0\n",
              "997      1\n",
              "998      1\n",
              "999      0\n",
              "\n",
              "[1000 rows x 1 columns]"
            ]
          },
          "metadata": {
            "tags": []
          },
          "execution_count": 35
        }
      ]
    },
    {
      "cell_type": "code",
      "metadata": {
        "colab": {
          "base_uri": "https://localhost:8080/",
          "height": 424
        },
        "id": "Xk5A79Cpjacl",
        "outputId": "813711f0-092f-4568-ef73-693dbc38eeba"
      },
      "source": [
        "df = pd.concat([hate_val_df, hate_val_labels], axis=1)\r\n",
        "df"
      ],
      "execution_count": 36,
      "outputs": [
        {
          "output_type": "execute_result",
          "data": {
            "text/html": [
              "<div>\n",
              "<style scoped>\n",
              "    .dataframe tbody tr th:only-of-type {\n",
              "        vertical-align: middle;\n",
              "    }\n",
              "\n",
              "    .dataframe tbody tr th {\n",
              "        vertical-align: top;\n",
              "    }\n",
              "\n",
              "    .dataframe thead th {\n",
              "        text-align: right;\n",
              "    }\n",
              "</style>\n",
              "<table border=\"1\" class=\"dataframe\">\n",
              "  <thead>\n",
              "    <tr style=\"text-align: right;\">\n",
              "      <th></th>\n",
              "      <th>tweet</th>\n",
              "      <th>label</th>\n",
              "    </tr>\n",
              "  </thead>\n",
              "  <tbody>\n",
              "    <tr>\n",
              "      <th>0</th>\n",
              "      <td>@user @user If book Claire wanted to \"stay in ...</td>\n",
              "      <td>0</td>\n",
              "    </tr>\n",
              "    <tr>\n",
              "      <th>1</th>\n",
              "      <td>After arriving in the EU refugees make protest...</td>\n",
              "      <td>0</td>\n",
              "    </tr>\n",
              "    <tr>\n",
              "      <th>2</th>\n",
              "      <td>😳👇</td>\n",
              "      <td>0</td>\n",
              "    </tr>\n",
              "    <tr>\n",
              "      <th>3</th>\n",
              "      <td>@user Worst thing is if they are that stupid t...</td>\n",
              "      <td>1</td>\n",
              "    </tr>\n",
              "    <tr>\n",
              "      <th>4</th>\n",
              "      <td>@user Say's the HYSTERICAL woman. It is woman ...</td>\n",
              "      <td>0</td>\n",
              "    </tr>\n",
              "    <tr>\n",
              "      <th>...</th>\n",
              "      <td>...</td>\n",
              "      <td>...</td>\n",
              "    </tr>\n",
              "    <tr>\n",
              "      <th>995</th>\n",
              "      <td>Pass #MeritBased Immigration. Kill #ChainMigra...</td>\n",
              "      <td>1</td>\n",
              "    </tr>\n",
              "    <tr>\n",
              "      <th>996</th>\n",
              "      <td>imagine chaeyoung cutting some cooked meat for...</td>\n",
              "      <td>0</td>\n",
              "    </tr>\n",
              "    <tr>\n",
              "      <th>997</th>\n",
              "      <td>I usually dont hate people but I actually hate...</td>\n",
              "      <td>1</td>\n",
              "    </tr>\n",
              "    <tr>\n",
              "      <th>998</th>\n",
              "      <td>Cameron stopped immigrants voting on the EU in...</td>\n",
              "      <td>1</td>\n",
              "    </tr>\n",
              "    <tr>\n",
              "      <th>999</th>\n",
              "      <td>Large scale migration of illegal migrants to D...</td>\n",
              "      <td>0</td>\n",
              "    </tr>\n",
              "  </tbody>\n",
              "</table>\n",
              "<p>1000 rows × 2 columns</p>\n",
              "</div>"
            ],
            "text/plain": [
              "                                                 tweet  label\n",
              "0    @user @user If book Claire wanted to \"stay in ...      0\n",
              "1    After arriving in the EU refugees make protest...      0\n",
              "2                                                  😳👇       0\n",
              "3    @user Worst thing is if they are that stupid t...      1\n",
              "4    @user Say's the HYSTERICAL woman. It is woman ...      0\n",
              "..                                                 ...    ...\n",
              "995  Pass #MeritBased Immigration. Kill #ChainMigra...      1\n",
              "996  imagine chaeyoung cutting some cooked meat for...      0\n",
              "997  I usually dont hate people but I actually hate...      1\n",
              "998  Cameron stopped immigrants voting on the EU in...      1\n",
              "999  Large scale migration of illegal migrants to D...      0\n",
              "\n",
              "[1000 rows x 2 columns]"
            ]
          },
          "metadata": {
            "tags": []
          },
          "execution_count": 36
        }
      ]
    },
    {
      "cell_type": "code",
      "metadata": {
        "colab": {
          "base_uri": "https://localhost:8080/"
        },
        "id": "EMWLQc84WJ_u",
        "outputId": "648ba069-9a00-449e-df56-606e641dbd65"
      },
      "source": [
        "df.dropna(inplace=True)\r\n",
        "df.reset_index(drop=True, inplace=True)\r\n",
        "df.shape"
      ],
      "execution_count": 37,
      "outputs": [
        {
          "output_type": "execute_result",
          "data": {
            "text/plain": [
              "(999, 2)"
            ]
          },
          "metadata": {
            "tags": []
          },
          "execution_count": 37
        }
      ]
    },
    {
      "cell_type": "code",
      "metadata": {
        "colab": {
          "base_uri": "https://localhost:8080/"
        },
        "id": "CzE0NHqVkO21",
        "outputId": "6a88730e-f3ad-406d-cb9f-5605db5bb2a8"
      },
      "source": [
        "hate_val_df = df[['tweet']]\r\n",
        "hate_val_labels = df[['label']]\r\n",
        "print(hate_val_df.shape)\r\n",
        "print(hate_val_labels.shape)"
      ],
      "execution_count": 38,
      "outputs": [
        {
          "output_type": "stream",
          "text": [
            "(999, 1)\n",
            "(999, 1)\n"
          ],
          "name": "stdout"
        }
      ]
    },
    {
      "cell_type": "code",
      "metadata": {
        "colab": {
          "base_uri": "https://localhost:8080/"
        },
        "id": "WPhYNJYAkv1A",
        "outputId": "76b893a2-9808-4b10-952d-9986039f161d"
      },
      "source": [
        "print(\"Number of NULL values in the hate training set: \", hate_train_df['tweet'].isnull().values.sum())\r\n",
        "print(\"Number of NULL values in the hate validation set: \", hate_val_df['tweet'].isnull().values.sum())\r\n",
        "print(\"Number of NULL values in the hate testing set: \", hate_test_df['tweet'].isnull().values.sum(), '\\n')"
      ],
      "execution_count": 39,
      "outputs": [
        {
          "output_type": "stream",
          "text": [
            "Number of NULL values in the hate training set:  0\n",
            "Number of NULL values in the hate validation set:  0\n",
            "Number of NULL values in the hate testing set:  0 \n",
            "\n"
          ],
          "name": "stdout"
        }
      ]
    },
    {
      "cell_type": "markdown",
      "metadata": {
        "id": "tE1WLTCGbSAh"
      },
      "source": [
        "## Cleaning Tweets Text"
      ]
    },
    {
      "cell_type": "code",
      "metadata": {
        "id": "jhd49hpwllII"
      },
      "source": [
        "# Create a function to clean the tweets\r\n",
        "def cleanTxt(text):\r\n",
        "  text = re.sub('@[A-Za-z0–9]+', '', text) #Removing @mentions\r\n",
        "  text = re.sub('#', '', text) # Removing '#' hash tag\r\n",
        "  text = re.sub('RT[\\s]+', '', text) # Removing RT\r\n",
        "  # text = re.sub('https?:\\/\\/\\S+', '', text) # Removing hyperlink\r\n",
        " \r\n",
        "  return text"
      ],
      "execution_count": 40,
      "outputs": []
    },
    {
      "cell_type": "markdown",
      "metadata": {
        "id": "GYfnBCAFPD5u"
      },
      "source": [
        "Apply cleaning on all datasets"
      ]
    },
    {
      "cell_type": "code",
      "metadata": {
        "colab": {
          "base_uri": "https://localhost:8080/",
          "height": 424
        },
        "id": "w6WbmA1tlmdy",
        "outputId": "9d4cd8f5-f160-41ad-f576-415c4283b678"
      },
      "source": [
        "# Clean the tweets\r\n",
        "sentiment_train_df['tweet'] = sentiment_train_df['tweet'].apply(cleanTxt)\r\n",
        "sentiment_val_df['tweet'] = sentiment_val_df['tweet'].apply(cleanTxt)\r\n",
        "sentiment_test_df['tweet'] = sentiment_test_df['tweet'].apply(cleanTxt)\r\n",
        "\r\n",
        "emotion_train_df['tweet'] = emotion_train_df['tweet'].apply(cleanTxt)\r\n",
        "emotion_val_df['tweet'] = emotion_val_df['tweet'].apply(cleanTxt)\r\n",
        "emotion_test_df['tweet'] = emotion_test_df['tweet'].apply(cleanTxt)\r\n",
        "\r\n",
        "hate_train_df['tweet'] = hate_train_df['tweet'].apply(cleanTxt)\r\n",
        "hate_val_df['tweet'] = hate_val_df['tweet'].apply(cleanTxt)\r\n",
        "hate_test_df['tweet'] = hate_test_df['tweet'].apply(cleanTxt)\r\n",
        "\r\n",
        "# Show the cleaned tweets\r\n",
        "sentiment_train_df"
      ],
      "execution_count": 41,
      "outputs": [
        {
          "output_type": "execute_result",
          "data": {
            "text/html": [
              "<div>\n",
              "<style scoped>\n",
              "    .dataframe tbody tr th:only-of-type {\n",
              "        vertical-align: middle;\n",
              "    }\n",
              "\n",
              "    .dataframe tbody tr th {\n",
              "        vertical-align: top;\n",
              "    }\n",
              "\n",
              "    .dataframe thead th {\n",
              "        text-align: right;\n",
              "    }\n",
              "</style>\n",
              "<table border=\"1\" class=\"dataframe\">\n",
              "  <thead>\n",
              "    <tr style=\"text-align: right;\">\n",
              "      <th></th>\n",
              "      <th>tweet</th>\n",
              "    </tr>\n",
              "  </thead>\n",
              "  <tbody>\n",
              "    <tr>\n",
              "      <th>0</th>\n",
              "      <td>\"QT  In the original draft of the 7th book, Re...</td>\n",
              "    </tr>\n",
              "    <tr>\n",
              "      <th>1</th>\n",
              "      <td>\"Ben Smith / Smith (concussion) remains out of...</td>\n",
              "    </tr>\n",
              "    <tr>\n",
              "      <th>2</th>\n",
              "      <td>Sorry bout the stream last night I crashed out...</td>\n",
              "    </tr>\n",
              "    <tr>\n",
              "      <th>3</th>\n",
              "      <td>Chase Headley's RBI double in the 8th inning o...</td>\n",
              "    </tr>\n",
              "    <tr>\n",
              "      <th>4</th>\n",
              "      <td>Alciato: Bee will invest 150 million in Janua...</td>\n",
              "    </tr>\n",
              "    <tr>\n",
              "      <th>...</th>\n",
              "      <td>...</td>\n",
              "    </tr>\n",
              "    <tr>\n",
              "      <th>45610</th>\n",
              "      <td>\\\"\"So amazing to have the beautiful Lady Gaga...</td>\n",
              "    </tr>\n",
              "    <tr>\n",
              "      <th>45611</th>\n",
              "      <td>9 September has arrived, which means Apple's n...</td>\n",
              "    </tr>\n",
              "    <tr>\n",
              "      <th>45612</th>\n",
              "      <td>Leeds 1-1 Sheff Wed. Giuseppe Bellusci securin...</td>\n",
              "    </tr>\n",
              "    <tr>\n",
              "      <th>45613</th>\n",
              "      <td>no I'm in hilton head till the 8th lol go to ...</td>\n",
              "    </tr>\n",
              "    <tr>\n",
              "      <th>45614</th>\n",
              "      <td>WASHINGTON (Reuters) - U.S. Vice President Joe...</td>\n",
              "    </tr>\n",
              "  </tbody>\n",
              "</table>\n",
              "<p>45615 rows × 1 columns</p>\n",
              "</div>"
            ],
            "text/plain": [
              "                                                   tweet\n",
              "0      \"QT  In the original draft of the 7th book, Re...\n",
              "1      \"Ben Smith / Smith (concussion) remains out of...\n",
              "2      Sorry bout the stream last night I crashed out...\n",
              "3      Chase Headley's RBI double in the 8th inning o...\n",
              "4       Alciato: Bee will invest 150 million in Janua...\n",
              "...                                                  ...\n",
              "45610   \\\"\"So amazing to have the beautiful Lady Gaga...\n",
              "45611  9 September has arrived, which means Apple's n...\n",
              "45612  Leeds 1-1 Sheff Wed. Giuseppe Bellusci securin...\n",
              "45613   no I'm in hilton head till the 8th lol go to ...\n",
              "45614  WASHINGTON (Reuters) - U.S. Vice President Joe...\n",
              "\n",
              "[45615 rows x 1 columns]"
            ]
          },
          "metadata": {
            "tags": []
          },
          "execution_count": 41
        }
      ]
    },
    {
      "cell_type": "markdown",
      "metadata": {
        "id": "YWy990PWbW53"
      },
      "source": [
        "## Tokenizing\r\n",
        "\r\n",
        "Exploring the tokenization process"
      ]
    },
    {
      "cell_type": "code",
      "metadata": {
        "id": "H2OEoNBzPtVf"
      },
      "source": [
        "from transformers import BertTokenizer\r\n",
        "tokenizer = BertTokenizer.from_pretrained('bert-base-uncased')"
      ],
      "execution_count": 42,
      "outputs": []
    },
    {
      "cell_type": "code",
      "metadata": {
        "colab": {
          "base_uri": "https://localhost:8080/",
          "height": 36
        },
        "id": "FR3-C5go2vEl",
        "outputId": "29ee724a-5f27-4fa4-bab0-09c1b58db8ec"
      },
      "source": [
        "sentiment_train_df.iloc[3256,0]"
      ],
      "execution_count": 43,
      "outputs": [
        {
          "output_type": "execute_result",
          "data": {
            "application/vnd.google.colaboratory.intrinsic+json": {
              "type": "string"
            },
            "text/plain": [
              "'Would take Pato all day long as a 3rd striker behind Berahino and Kane for a bench or cup player. '"
            ]
          },
          "metadata": {
            "tags": []
          },
          "execution_count": 43
        }
      ]
    },
    {
      "cell_type": "code",
      "metadata": {
        "colab": {
          "base_uri": "https://localhost:8080/"
        },
        "id": "BOTZrcFo47mw",
        "outputId": "5274bb34-79c8-4aaf-f47a-3423d77cf281"
      },
      "source": [
        "# tokenizing and removing white spaces while keepng punctuation\r\n",
        "sentence_sample = sentiment_train_df.iloc[3256,0]\r\n",
        "token_sample = tokenizer.tokenize(sentence_sample)\r\n",
        "print(token_sample)"
      ],
      "execution_count": 44,
      "outputs": [
        {
          "output_type": "stream",
          "text": [
            "['would', 'take', 'pat', '##o', 'all', 'day', 'long', 'as', 'a', '3rd', 'striker', 'behind', 'be', '##rah', '##ino', 'and', 'kane', 'for', 'a', 'bench', 'or', 'cup', 'player', '.']\n"
          ],
          "name": "stdout"
        }
      ]
    },
    {
      "cell_type": "code",
      "metadata": {
        "colab": {
          "base_uri": "https://localhost:8080/"
        },
        "id": "Q7HmKtXMssvX",
        "outputId": "7a3c82dc-9544-4341-82b7-58dcb2a79bb3"
      },
      "source": [
        "print(emotion_train_df.iloc[654,0])"
      ],
      "execution_count": 45,
      "outputs": [
        {
          "output_type": "stream",
          "text": [
            "  Did they get the wrong fur Pal? shocking 😱 \n"
          ],
          "name": "stdout"
        }
      ]
    },
    {
      "cell_type": "code",
      "metadata": {
        "colab": {
          "base_uri": "https://localhost:8080/"
        },
        "id": "bVJ_mfposcrr",
        "outputId": "f29ae694-a750-4fa3-c114-54aae7db06f8"
      },
      "source": [
        "# The tokenizer is 'masking' or tokenizing emojis as [UNK]\r\n",
        "tweet_sample = emotion_train_df.iloc[654,0]\r\n",
        "token_sample = tokenizer.tokenize(tweet_sample)\r\n",
        "print(token_sample)"
      ],
      "execution_count": 46,
      "outputs": [
        {
          "output_type": "stream",
          "text": [
            "['did', 'they', 'get', 'the', 'wrong', 'fur', 'pal', '?', 'shocking', '[UNK]']\n"
          ],
          "name": "stdout"
        }
      ]
    },
    {
      "cell_type": "code",
      "metadata": {
        "colab": {
          "base_uri": "https://localhost:8080/"
        },
        "id": "IIsjmHBakt_4",
        "outputId": "6b6e09b1-f87a-4f71-e2bd-31a05a100f69"
      },
      "source": [
        "# Converting the corpus into ids of unqiue integers associated with each token. \r\n",
        "# \"Convert each token to its ID, and that is an integer representing the index of that token in the vocabulary of the model\"\r\n",
        "token_id_sample = tokenizer.convert_tokens_to_ids(token_sample)\r\n",
        "print(token_id_sample)"
      ],
      "execution_count": 47,
      "outputs": [
        {
          "output_type": "stream",
          "text": [
            "[2106, 2027, 2131, 1996, 3308, 6519, 14412, 1029, 16880, 100]\n"
          ],
          "name": "stdout"
        }
      ]
    },
    {
      "cell_type": "markdown",
      "metadata": {
        "id": "S3LDPHoRBNxT"
      },
      "source": [
        "We have to provide sequences of equal length therefore we'll add some padding.\r\n",
        "\r\n",
        "Then pass \"attention mask\" where each term has a value of 1 and each padding character has a value of 0\r\n",
        "\r\n",
        "Special tokens are needed for separating betwen sentences and that's an artifact from the way that BERT initially trained.  telling BERT that we're interested in squence classification. \"\r\n",
        "\r\n",
        "Exploring types of tokens when encoding them into IDs"
      ]
    },
    {
      "cell_type": "code",
      "metadata": {
        "colab": {
          "base_uri": "https://localhost:8080/"
        },
        "id": "s3Bui9W8biUn",
        "outputId": "2cea4478-8967-4083-a4f6-f32e48bb8d87"
      },
      "source": [
        "print(\"Types of tokens and their IDs:\", tokenizer.special_tokens_map)\r\n",
        "print(tokenizer.pad_token, tokenizer.pad_token_id)\r\n",
        "print(tokenizer.unk_token, tokenizer.unk_token_id)\r\n",
        "print(tokenizer.cls_token, tokenizer.cls_token_id) # CLS is sequence/text classification task\r\n",
        "print(tokenizer.sep_token, tokenizer.sep_token_id)\r\n",
        "print(tokenizer.mask_token, tokenizer.mask_token_id)"
      ],
      "execution_count": 48,
      "outputs": [
        {
          "output_type": "stream",
          "text": [
            "Types of tokens and their IDs: {'unk_token': '[UNK]', 'sep_token': '[SEP]', 'pad_token': '[PAD]', 'cls_token': '[CLS]', 'mask_token': '[MASK]'}\n",
            "[PAD] 0\n",
            "[UNK] 100\n",
            "[CLS] 101\n",
            "[SEP] 102\n",
            "[MASK] 103\n"
          ],
          "name": "stdout"
        }
      ]
    },
    {
      "cell_type": "markdown",
      "metadata": {
        "id": "fpBL1_ciNmDN"
      },
      "source": [
        "Exploring the encoding process"
      ]
    },
    {
      "cell_type": "code",
      "metadata": {
        "colab": {
          "base_uri": "https://localhost:8080/"
        },
        "id": "7WK-bL-KbiXP",
        "outputId": "b246908a-0bda-47c8-8f2d-e17a0a67cd29"
      },
      "source": [
        "encoding = tokenizer.encode_plus( # why plus?\r\n",
        "        \r\n",
        "    text = tweet_sample,\r\n",
        "    add_special_tokens=True, # Add '[CLS]' and '[SEP]'\r\n",
        "    return_token_type_ids=False,\r\n",
        "    # pad_to_max_length=True,\r\n",
        "    truncation=True,\r\n",
        "    max_length=60, # number of tokens\r\n",
        "    padding='max_length',\r\n",
        "    return_attention_mask = True,\r\n",
        "    return_tensors='pt',  # Return PyTorch tensors, and tf can be used for TensorFlow as well\r\n",
        ")\r\n",
        "\r\n",
        "encoding.keys()"
      ],
      "execution_count": 49,
      "outputs": [
        {
          "output_type": "execute_result",
          "data": {
            "text/plain": [
              "dict_keys(['input_ids', 'attention_mask'])"
            ]
          },
          "metadata": {
            "tags": []
          },
          "execution_count": 49
        }
      ]
    },
    {
      "cell_type": "code",
      "metadata": {
        "colab": {
          "base_uri": "https://localhost:8080/"
        },
        "id": "9wKJThlCJ1-X",
        "outputId": "e69d062b-744d-41bc-cb5e-f7220d1bb53d"
      },
      "source": [
        "encoded_seq = encoding['input_ids'][0]\r\n",
        "print(\"Encoded sequence (IDs):\\n\", encoded_seq)\r\n",
        "print(\"Attention Mask:\\n\", encoding['attention_mask'])"
      ],
      "execution_count": 50,
      "outputs": [
        {
          "output_type": "stream",
          "text": [
            "Encoded sequence (IDs):\n",
            " tensor([  101,  2106,  2027,  2131,  1996,  3308,  6519, 14412,  1029, 16880,\n",
            "          100,   102,     0,     0,     0,     0,     0,     0,     0,     0,\n",
            "            0,     0,     0,     0,     0,     0,     0,     0,     0,     0,\n",
            "            0,     0,     0,     0,     0,     0,     0,     0,     0,     0,\n",
            "            0,     0,     0,     0,     0,     0,     0,     0,     0,     0,\n",
            "            0,     0,     0,     0,     0,     0,     0,     0,     0,     0])\n",
            "Attention Mask:\n",
            " tensor([[1, 1, 1, 1, 1, 1, 1, 1, 1, 1, 1, 1, 0, 0, 0, 0, 0, 0, 0, 0, 0, 0, 0, 0,\n",
            "         0, 0, 0, 0, 0, 0, 0, 0, 0, 0, 0, 0, 0, 0, 0, 0, 0, 0, 0, 0, 0, 0, 0, 0,\n",
            "         0, 0, 0, 0, 0, 0, 0, 0, 0, 0, 0, 0]])\n"
          ],
          "name": "stdout"
        }
      ]
    },
    {
      "cell_type": "code",
      "metadata": {
        "colab": {
          "base_uri": "https://localhost:8080/"
        },
        "id": "aupPI-JjLDaq",
        "outputId": "973cb6c1-2ce2-4641-bd9d-bad7b98a6c51"
      },
      "source": [
        "print(\"Converting the encoded sequence back to tokens:\\n\", tokenizer.convert_ids_to_tokens(encoded_seq))"
      ],
      "execution_count": 51,
      "outputs": [
        {
          "output_type": "stream",
          "text": [
            "Converting the encoded sequence back to tokens:\n",
            " ['[CLS]', 'did', 'they', 'get', 'the', 'wrong', 'fur', 'pal', '?', 'shocking', '[UNK]', '[SEP]', '[PAD]', '[PAD]', '[PAD]', '[PAD]', '[PAD]', '[PAD]', '[PAD]', '[PAD]', '[PAD]', '[PAD]', '[PAD]', '[PAD]', '[PAD]', '[PAD]', '[PAD]', '[PAD]', '[PAD]', '[PAD]', '[PAD]', '[PAD]', '[PAD]', '[PAD]', '[PAD]', '[PAD]', '[PAD]', '[PAD]', '[PAD]', '[PAD]', '[PAD]', '[PAD]', '[PAD]', '[PAD]', '[PAD]', '[PAD]', '[PAD]', '[PAD]', '[PAD]', '[PAD]', '[PAD]', '[PAD]', '[PAD]', '[PAD]', '[PAD]', '[PAD]', '[PAD]', '[PAD]', '[PAD]', '[PAD]']\n"
          ],
          "name": "stdout"
        }
      ]
    },
    {
      "cell_type": "markdown",
      "metadata": {
        "id": "9Crvn_KQWYOH"
      },
      "source": [
        "Choosing the right size of sequence (or number of tokens) for our dataset is necessary because the larger the sequence length the slower is the process of training the model because there is a corelation between the two."
      ]
    },
    {
      "cell_type": "code",
      "metadata": {
        "colab": {
          "base_uri": "https://localhost:8080/",
          "height": 317
        },
        "id": "98qBBWUkQo24",
        "outputId": "f2b1e603-16ef-442c-e839-8d4a95715681"
      },
      "source": [
        "token_lens = []\r\n",
        "\r\n",
        "for each_tweet in hate_train_df.tweet:\r\n",
        "  \r\n",
        "  tokens = tokenizer.encode(each_tweet, max_length=512) # max length by the model\r\n",
        "  token_lens.append(len(tokens)) \r\n",
        "\r\n",
        "\r\n",
        "sns.histplot(token_lens)\r\n",
        "plt.xlim([0, 100]);\r\n",
        "plt.xlabel('Number of Tokens per Tweet'); "
      ],
      "execution_count": 52,
      "outputs": [
        {
          "output_type": "stream",
          "text": [
            "Truncation was not explicitly activated but `max_length` is provided a specific value, please use `truncation=True` to explicitly truncate examples to max length. Defaulting to 'longest_first' truncation strategy. If you encode pairs of sequences (GLUE-style) with the tokenizer you can select this strategy more precisely by providing a specific strategy to `truncation`.\n"
          ],
          "name": "stderr"
        },
        {
          "output_type": "display_data",
          "data": {
            "image/png": "[encoded data removed]",
            "text/plain": [
              "<Figure size 432x288 with 1 Axes>"
            ]
          },
          "metadata": {
            "tags": [],
            "needs_background": "light"
          }
        }
      ]
    },
    {
      "cell_type": "code",
      "metadata": {
        "colab": {
          "base_uri": "https://localhost:8080/",
          "height": 281
        },
        "id": "syFUoJ2TbGMj",
        "outputId": "02fd7661-70c3-4fe8-cad8-8b1cea7866c8"
      },
      "source": [
        "token_lens = []\r\n",
        "\r\n",
        "for each_tweet in sentiment_train_df.tweet:\r\n",
        "  \r\n",
        "  tokens = tokenizer.encode(each_tweet, max_length=512) # max length by the model\r\n",
        "  token_lens.append(len(tokens)) \r\n",
        "\r\n",
        "\r\n",
        "sns.histplot(token_lens)\r\n",
        "plt.xlim([0, 100]);\r\n",
        "plt.xlabel('Number of Tokens per Tweet'); "
      ],
      "execution_count": 53,
      "outputs": [
        {
          "output_type": "display_data",
          "data": {
            "image/png": "[encoded data removed]",
            "text/plain": [
              "<Figure size 432x288 with 1 Axes>"
            ]
          },
          "metadata": {
            "tags": [],
            "needs_background": "light"
          }
        }
      ]
    },
    {
      "cell_type": "code",
      "metadata": {
        "colab": {
          "base_uri": "https://localhost:8080/",
          "height": 279
        },
        "id": "iPilesbjbGXV",
        "outputId": "12574fb4-a5fd-4d3b-dda2-95e26ca2cc9c"
      },
      "source": [
        "token_lens = []\r\n",
        "\r\n",
        "for each_tweet in emotion_train_df.tweet:\r\n",
        "  \r\n",
        "  tokens = tokenizer.encode(each_tweet, max_length=512) # max length by the model\r\n",
        "  token_lens.append(len(tokens)) \r\n",
        "\r\n",
        "\r\n",
        "sns.histplot(token_lens)\r\n",
        "plt.xlim([0, 100]);\r\n",
        "plt.xlabel('Number of Tokens per Tweet'); "
      ],
      "execution_count": 54,
      "outputs": [
        {
          "output_type": "display_data",
          "data": {
            "image/png": "[encoded data removed]",
            "text/plain": [
              "<Figure size 432x288 with 1 Axes>"
            ]
          },
          "metadata": {
            "tags": [],
            "needs_background": "light"
          }
        }
      ]
    },
    {
      "cell_type": "markdown",
      "metadata": {
        "id": "hXEYKNelN3FM"
      },
      "source": [
        "# BERT: Exploring Initial Model\r\n",
        "\r\n",
        "Loading the dataset to BERT using PyTorch library"
      ]
    },
    {
      "cell_type": "code",
      "metadata": {
        "id": "_P0o_sQQaI3L"
      },
      "source": [
        "MAX_LEN = 100  # The highest number of tokens in our dataset\r\n",
        "BATCH_SIZE = 16\r\n",
        "\r\n",
        "class SentimentsDataset(Dataset):\r\n",
        "\r\n",
        "  def __init__(self, sentiment, targets, tokenizer, max_len):\r\n",
        "\r\n",
        "    self.sentiment = sentiment\r\n",
        "    self.targets = targets\r\n",
        "    self.tokenizer = tokenizer\r\n",
        "    self.max_len = max_len\r\n",
        "\r\n",
        "  def __len__(self):\r\n",
        "\r\n",
        "    return len(self.sentiment)\r\n",
        "\r\n",
        "  def __getitem__(self, item):\r\n",
        "\r\n",
        "    sentiment = str(self.sentiment[item])\r\n",
        "    target = self.targets[item]\r\n",
        "    encoding = self.tokenizer.encode_plus(\r\n",
        "\r\n",
        "      sentiment,\r\n",
        "      add_special_tokens=True,\r\n",
        "      max_length=self.max_len,\r\n",
        "      return_token_type_ids=False,\r\n",
        "      padding='max_length',\r\n",
        "      return_attention_mask=True,\r\n",
        "      return_tensors='pt',\r\n",
        "\r\n",
        "    )\r\n",
        "\r\n",
        "    return {\r\n",
        "\r\n",
        "      'sentiment_text': sentiment,\r\n",
        "      'input_ids': encoding['input_ids'].flatten(),\r\n",
        "      'attention_mask': encoding['attention_mask'].flatten(),\r\n",
        "      'targets': torch.tensor(target, dtype=torch.long)\r\n",
        "    }"
      ],
      "execution_count": 55,
      "outputs": []
    },
    {
      "cell_type": "code",
      "metadata": {
        "id": "K6xz6u8DcP_n"
      },
      "source": [
        "def create_data_loader(df, labels, tokenizer, max_len, batch_size):\r\n",
        "\r\n",
        "  ds = SentimentsDataset(\r\n",
        "           \r\n",
        "      sentiment=df.tweet.to_numpy(),\r\n",
        "      targets=labels.label.to_numpy(),\r\n",
        "      tokenizer=tokenizer,\r\n",
        "      max_len=max_len\r\n",
        "\r\n",
        "  )\r\n",
        "\r\n",
        "  return DataLoader(\r\n",
        "      \r\n",
        "      ds,\r\n",
        "      batch_size=batch_size,\r\n",
        "      num_workers=4\r\n",
        "\r\n",
        "  )\r\n",
        "\r\n",
        "train_data_loader = create_data_loader(sentiment_train_df, sentiment_train_labels, tokenizer, MAX_LEN, BATCH_SIZE)\r\n",
        "val_data_loader = create_data_loader(sentiment_val_df, sentiment_val_labels, tokenizer, MAX_LEN, BATCH_SIZE)\r\n",
        "test_data_loader = create_data_loader(sentiment_test_df, sentiment_test_labels, tokenizer, MAX_LEN, BATCH_SIZE)"
      ],
      "execution_count": 56,
      "outputs": []
    },
    {
      "cell_type": "code",
      "metadata": {
        "colab": {
          "base_uri": "https://localhost:8080/"
        },
        "id": "IpsPfnqGihA8",
        "outputId": "42a32a7e-364e-4c39-9dbf-6f76e6af5139"
      },
      "source": [
        "data = next(iter(train_data_loader))\r\n",
        "\r\n",
        "data.keys()\r\n",
        "\r\n",
        "(['sentiment_text', 'input_ids', 'attention_mask', 'targets'])\r\n",
        "\r\n",
        "print(data['input_ids'].shape)\r\n",
        "print(data['attention_mask'].shape)\r\n",
        "print(data['targets'].shape)"
      ],
      "execution_count": 57,
      "outputs": [
        {
          "output_type": "stream",
          "text": [
            "torch.Size([16, 100])\n",
            "torch.Size([16, 100])\n",
            "torch.Size([16])\n"
          ],
          "name": "stdout"
        }
      ]
    }
  ]
}