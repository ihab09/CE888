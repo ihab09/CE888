{
  "nbformat": 4,
  "nbformat_minor": 0,
  "metadata": {
    "colab": {
      "name": "DS&DM Assignment 1 draft.ipynb",
      "provenance": [],
      "collapsed_sections": [],
      "toc_visible": true,
      "authorship_tag": "ABX9TyNdFB2l5OdbF475qpSYdbOC",
      "include_colab_link": true
    },
    "kernelspec": {
      "name": "python3",
      "display_name": "Python 3"
    },
    "widgets": {
      "application/vnd.jupyter.widget-state+json": {
        "89243a801d78435dafa9cd14141d31bb": {
          "model_module": "@jupyter-widgets/controls",
          "model_name": "HBoxModel",
          "state": {
            "_view_name": "HBoxView",
            "_dom_classes": [],
            "_model_name": "HBoxModel",
            "_view_module": "@jupyter-widgets/controls",
            "_model_module_version": "1.5.0",
            "_view_count": null,
            "_view_module_version": "1.5.0",
            "box_style": "",
            "layout": "IPY_MODEL_109a122de34142cfb6aafb21e7b7a4c4",
            "_model_module": "@jupyter-widgets/controls",
            "children": [
              "IPY_MODEL_a0f78744024c4b9e94be67882c47a8d1",
              "IPY_MODEL_b5fad29d7ab44a7c9ef9699e94c8de45"
            ]
          }
        },
        "109a122de34142cfb6aafb21e7b7a4c4": {
          "model_module": "@jupyter-widgets/base",
          "model_name": "LayoutModel",
          "state": {
            "_view_name": "LayoutView",
            "grid_template_rows": null,
            "right": null,
            "justify_content": null,
            "_view_module": "@jupyter-widgets/base",
            "overflow": null,
            "_model_module_version": "1.2.0",
            "_view_count": null,
            "flex_flow": null,
            "width": null,
            "min_width": null,
            "border": null,
            "align_items": null,
            "bottom": null,
            "_model_module": "@jupyter-widgets/base",
            "top": null,
            "grid_column": null,
            "overflow_y": null,
            "overflow_x": null,
            "grid_auto_flow": null,
            "grid_area": null,
            "grid_template_columns": null,
            "flex": null,
            "_model_name": "LayoutModel",
            "justify_items": null,
            "grid_row": null,
            "max_height": null,
            "align_content": null,
            "visibility": null,
            "align_self": null,
            "height": null,
            "min_height": null,
            "padding": null,
            "grid_auto_rows": null,
            "grid_gap": null,
            "max_width": null,
            "order": null,
            "_view_module_version": "1.2.0",
            "grid_template_areas": null,
            "object_position": null,
            "object_fit": null,
            "grid_auto_columns": null,
            "margin": null,
            "display": null,
            "left": null
          }
        },
        "a0f78744024c4b9e94be67882c47a8d1": {
          "model_module": "@jupyter-widgets/controls",
          "model_name": "FloatProgressModel",
          "state": {
            "_view_name": "ProgressView",
            "style": "IPY_MODEL_348413d24050401e902b3d9d85de36c6",
            "_dom_classes": [],
            "description": "Downloading: 100%",
            "_model_name": "FloatProgressModel",
            "bar_style": "success",
            "max": 231508,
            "_view_module": "@jupyter-widgets/controls",
            "_model_module_version": "1.5.0",
            "value": 231508,
            "_view_count": null,
            "_view_module_version": "1.5.0",
            "orientation": "horizontal",
            "min": 0,
            "description_tooltip": null,
            "_model_module": "@jupyter-widgets/controls",
            "layout": "IPY_MODEL_99bcd5a002184b3195825b7bbb396e70"
          }
        },
        "b5fad29d7ab44a7c9ef9699e94c8de45": {
          "model_module": "@jupyter-widgets/controls",
          "model_name": "HTMLModel",
          "state": {
            "_view_name": "HTMLView",
            "style": "IPY_MODEL_2bd662b711824c3ea6cc9c72bc39c75e",
            "_dom_classes": [],
            "description": "",
            "_model_name": "HTMLModel",
            "placeholder": "​",
            "_view_module": "@jupyter-widgets/controls",
            "_model_module_version": "1.5.0",
            "value": " 232k/232k [00:00&lt;00:00, 2.06MB/s]",
            "_view_count": null,
            "_view_module_version": "1.5.0",
            "description_tooltip": null,
            "_model_module": "@jupyter-widgets/controls",
            "layout": "IPY_MODEL_8c5fb13618e0418083efc05cd244f59f"
          }
        },
        "348413d24050401e902b3d9d85de36c6": {
          "model_module": "@jupyter-widgets/controls",
          "model_name": "ProgressStyleModel",
          "state": {
            "_view_name": "StyleView",
            "_model_name": "ProgressStyleModel",
            "description_width": "initial",
            "_view_module": "@jupyter-widgets/base",
            "_model_module_version": "1.5.0",
            "_view_count": null,
            "_view_module_version": "1.2.0",
            "bar_color": null,
            "_model_module": "@jupyter-widgets/controls"
          }
        },
        "99bcd5a002184b3195825b7bbb396e70": {
          "model_module": "@jupyter-widgets/base",
          "model_name": "LayoutModel",
          "state": {
            "_view_name": "LayoutView",
            "grid_template_rows": null,
            "right": null,
            "justify_content": null,
            "_view_module": "@jupyter-widgets/base",
            "overflow": null,
            "_model_module_version": "1.2.0",
            "_view_count": null,
            "flex_flow": null,
            "width": null,
            "min_width": null,
            "border": null,
            "align_items": null,
            "bottom": null,
            "_model_module": "@jupyter-widgets/base",
            "top": null,
            "grid_column": null,
            "overflow_y": null,
            "overflow_x": null,
            "grid_auto_flow": null,
            "grid_area": null,
            "grid_template_columns": null,
            "flex": null,
            "_model_name": "LayoutModel",
            "justify_items": null,
            "grid_row": null,
            "max_height": null,
            "align_content": null,
            "visibility": null,
            "align_self": null,
            "height": null,
            "min_height": null,
            "padding": null,
            "grid_auto_rows": null,
            "grid_gap": null,
            "max_width": null,
            "order": null,
            "_view_module_version": "1.2.0",
            "grid_template_areas": null,
            "object_position": null,
            "object_fit": null,
            "grid_auto_columns": null,
            "margin": null,
            "display": null,
            "left": null
          }
        },
        "2bd662b711824c3ea6cc9c72bc39c75e": {
          "model_module": "@jupyter-widgets/controls",
          "model_name": "DescriptionStyleModel",
          "state": {
            "_view_name": "StyleView",
            "_model_name": "DescriptionStyleModel",
            "description_width": "",
            "_view_module": "@jupyter-widgets/base",
            "_model_module_version": "1.5.0",
            "_view_count": null,
            "_view_module_version": "1.2.0",
            "_model_module": "@jupyter-widgets/controls"
          }
        },
        "8c5fb13618e0418083efc05cd244f59f": {
          "model_module": "@jupyter-widgets/base",
          "model_name": "LayoutModel",
          "state": {
            "_view_name": "LayoutView",
            "grid_template_rows": null,
            "right": null,
            "justify_content": null,
            "_view_module": "@jupyter-widgets/base",
            "overflow": null,
            "_model_module_version": "1.2.0",
            "_view_count": null,
            "flex_flow": null,
            "width": null,
            "min_width": null,
            "border": null,
            "align_items": null,
            "bottom": null,
            "_model_module": "@jupyter-widgets/base",
            "top": null,
            "grid_column": null,
            "overflow_y": null,
            "overflow_x": null,
            "grid_auto_flow": null,
            "grid_area": null,
            "grid_template_columns": null,
            "flex": null,
            "_model_name": "LayoutModel",
            "justify_items": null,
            "grid_row": null,
            "max_height": null,
            "align_content": null,
            "visibility": null,
            "align_self": null,
            "height": null,
            "min_height": null,
            "padding": null,
            "grid_auto_rows": null,
            "grid_gap": null,
            "max_width": null,
            "order": null,
            "_view_module_version": "1.2.0",
            "grid_template_areas": null,
            "object_position": null,
            "object_fit": null,
            "grid_auto_columns": null,
            "margin": null,
            "display": null,
            "left": null
          }
        }
      }
    }
  },
  "cells": [
    {
      "cell_type": "markdown",
      "metadata": {
        "id": "view-in-github",
        "colab_type": "text"
      },
      "source": [
        "<a href=\"https://colab.research.google.com/github/ihab09/CE888/blob/main/project/assignment_1.ipynb\" target=\"_parent\"><img src=\"https://colab.research.google.com/assets/colab-badge.svg\" alt=\"Open In Colab\"/></a>"
      ]
    },
    {
      "cell_type": "code",
      "metadata": {
        "colab": {
          "base_uri": "https://localhost:8080/"
        },
        "id": "QO6-MsyFrjTd",
        "outputId": "e79d5e56-8610-4b2f-9ef7-dbcc911dae67"
      },
      "source": [
        "!pip install transformers"
      ],
      "execution_count": 1,
      "outputs": [
        {
          "output_type": "stream",
          "text": [
            "Collecting transformers\n",
            "\u001b[?25l  Downloading https://files.pythonhosted.org/packages/f9/54/5ca07ec9569d2f232f3166de5457b63943882f7950ddfcc887732fc7fb23/transformers-4.3.3-py3-none-any.whl (1.9MB)\n",
            "\u001b[K     |████████████████████████████████| 1.9MB 5.6MB/s \n",
            "\u001b[?25hRequirement already satisfied: requests in /usr/local/lib/python3.7/dist-packages (from transformers) (2.23.0)\n",
            "Collecting tokenizers<0.11,>=0.10.1\n",
            "\u001b[?25l  Downloading https://files.pythonhosted.org/packages/71/23/2ddc317b2121117bf34dd00f5b0de194158f2a44ee2bf5e47c7166878a97/tokenizers-0.10.1-cp37-cp37m-manylinux2010_x86_64.whl (3.2MB)\n",
            "\u001b[K     |████████████████████████████████| 3.2MB 25.5MB/s \n",
            "\u001b[?25hRequirement already satisfied: regex!=2019.12.17 in /usr/local/lib/python3.7/dist-packages (from transformers) (2019.12.20)\n",
            "Requirement already satisfied: numpy>=1.17 in /usr/local/lib/python3.7/dist-packages (from transformers) (1.19.5)\n",
            "Requirement already satisfied: packaging in /usr/local/lib/python3.7/dist-packages (from transformers) (20.9)\n",
            "Requirement already satisfied: filelock in /usr/local/lib/python3.7/dist-packages (from transformers) (3.0.12)\n",
            "Requirement already satisfied: tqdm>=4.27 in /usr/local/lib/python3.7/dist-packages (from transformers) (4.41.1)\n",
            "Collecting sacremoses\n",
            "\u001b[?25l  Downloading https://files.pythonhosted.org/packages/7d/34/09d19aff26edcc8eb2a01bed8e98f13a1537005d31e95233fd48216eed10/sacremoses-0.0.43.tar.gz (883kB)\n",
            "\u001b[K     |████████████████████████████████| 890kB 36.0MB/s \n",
            "\u001b[?25hRequirement already satisfied: importlib-metadata; python_version < \"3.8\" in /usr/local/lib/python3.7/dist-packages (from transformers) (3.4.0)\n",
            "Requirement already satisfied: chardet<4,>=3.0.2 in /usr/local/lib/python3.7/dist-packages (from requests->transformers) (3.0.4)\n",
            "Requirement already satisfied: certifi>=2017.4.17 in /usr/local/lib/python3.7/dist-packages (from requests->transformers) (2020.12.5)\n",
            "Requirement already satisfied: idna<3,>=2.5 in /usr/local/lib/python3.7/dist-packages (from requests->transformers) (2.10)\n",
            "Requirement already satisfied: urllib3!=1.25.0,!=1.25.1,<1.26,>=1.21.1 in /usr/local/lib/python3.7/dist-packages (from requests->transformers) (1.24.3)\n",
            "Requirement already satisfied: pyparsing>=2.0.2 in /usr/local/lib/python3.7/dist-packages (from packaging->transformers) (2.4.7)\n",
            "Requirement already satisfied: six in /usr/local/lib/python3.7/dist-packages (from sacremoses->transformers) (1.15.0)\n",
            "Requirement already satisfied: click in /usr/local/lib/python3.7/dist-packages (from sacremoses->transformers) (7.1.2)\n",
            "Requirement already satisfied: joblib in /usr/local/lib/python3.7/dist-packages (from sacremoses->transformers) (1.0.1)\n",
            "Requirement already satisfied: zipp>=0.5 in /usr/local/lib/python3.7/dist-packages (from importlib-metadata; python_version < \"3.8\"->transformers) (3.4.0)\n",
            "Requirement already satisfied: typing-extensions>=3.6.4; python_version < \"3.8\" in /usr/local/lib/python3.7/dist-packages (from importlib-metadata; python_version < \"3.8\"->transformers) (3.7.4.3)\n",
            "Building wheels for collected packages: sacremoses\n",
            "  Building wheel for sacremoses (setup.py) ... \u001b[?25l\u001b[?25hdone\n",
            "  Created wheel for sacremoses: filename=sacremoses-0.0.43-cp37-none-any.whl size=893262 sha256=5400c4056897c6ca5eebc6534ad6ebbb4433d74b5ff75600fd094546306315e2\n",
            "  Stored in directory: /root/.cache/pip/wheels/29/3c/fd/7ce5c3f0666dab31a50123635e6fb5e19ceb42ce38d4e58f45\n",
            "Successfully built sacremoses\n",
            "Installing collected packages: tokenizers, sacremoses, transformers\n",
            "Successfully installed sacremoses-0.0.43 tokenizers-0.10.1 transformers-4.3.3\n"
          ],
          "name": "stdout"
        }
      ]
    },
    {
      "cell_type": "code",
      "metadata": {
        "id": "bYlBGEoYlmEc"
      },
      "source": [
        "import numpy as np\r\n",
        "import pandas as pd\r\n",
        "import matplotlib.pyplot as plt\r\n",
        "import seaborn as sns\r\n",
        "\r\n",
        "import re\r\n",
        "import urllib.request\r\n",
        "import csv\r\n",
        "\r\n",
        "from transformers import AutoTokenizer, AutoModel, TFAutoModel\r\n",
        "from transformers import TFAutoModelForSequenceClassification\r\n",
        "from transformers import AutoModelForSequenceClassification\r\n",
        "from transformers import AutoTokenizer\r\n",
        "\r\n",
        "from scipy.special import softmax\r\n",
        "\r\n",
        "import torch\r\n",
        "from torch.utils.data import Dataset, DataLoader\r\n",
        "\r\n",
        "pd.options.mode.chained_assignment = None  # default='warn'"
      ],
      "execution_count": 2,
      "outputs": []
    },
    {
      "cell_type": "markdown",
      "metadata": {
        "id": "Q4z-ZEWHlZQv"
      },
      "source": [
        "# Exploratory Data Analysis"
      ]
    },
    {
      "cell_type": "markdown",
      "metadata": {
        "id": "K7Y1wg_OA-_5"
      },
      "source": [
        "## Hate Speech Detection Dataset"
      ]
    },
    {
      "cell_type": "markdown",
      "metadata": {
        "id": "UAwOumNMBs-q"
      },
      "source": [
        "Loading the Dataset"
      ]
    },
    {
      "cell_type": "code",
      "metadata": {
        "id": "Qg2Te8kiQp9u",
        "colab": {
          "base_uri": "https://localhost:8080/",
          "height": 424
        },
        "outputId": "992aad44-460a-4fa6-c0fb-b463ef6aec16"
      },
      "source": [
        "hate_train_df = pd.read_csv(\"https://raw.githubusercontent.com/cardiffnlp/tweeteval/main/datasets/hate/train_text.txt\", sep=\"\\n\", skip_blank_lines=False, header=None, quoting=csv.QUOTE_NONE,)\r\n",
        "hate_train_df.columns= [\"tweet\"]\r\n",
        "hate_train_labels = pd.read_csv(\"https://raw.githubusercontent.com/cardiffnlp/tweeteval/main/datasets/hate/train_labels.txt\", sep=\"\\n\", header=None)\r\n",
        "hate_train_labels.columns= [\"label\"]\r\n",
        "\r\n",
        "hate_val_df = pd.read_csv(\"https://raw.githubusercontent.com/cardiffnlp/tweeteval/main/datasets/hate/val_text.txt\", sep=\"\\n\", skip_blank_lines=False, quoting=csv.QUOTE_NONE, header=None)\r\n",
        "hate_val_df.columns= [\"tweet\"]\r\n",
        "hate_val_labels = pd.read_csv(\"https://raw.githubusercontent.com/cardiffnlp/tweeteval/main/datasets/hate/val_labels.txt\", sep=\"\\n\", header=None)\r\n",
        "hate_val_labels.columns= [\"label\"]\r\n",
        "\r\n",
        "hate_test_df = pd.read_csv(\"https://raw.githubusercontent.com/cardiffnlp/tweeteval/main/datasets/hate/test_text.txt\", sep=\"\\n\", quoting=csv.QUOTE_NONE, skip_blank_lines=False, header=None)\r\n",
        "hate_test_df.columns= [\"tweet\"]\r\n",
        "hate_test_labels = pd.read_csv(\"https://raw.githubusercontent.com/cardiffnlp/tweeteval/main/datasets/hate/test_labels.txt\", sep=\"\\n\", header=None)\r\n",
        "hate_test_labels.columns= [\"label\"]\r\n",
        "\r\n",
        "hate_train_df"
      ],
      "execution_count": 3,
      "outputs": [
        {
          "output_type": "execute_result",
          "data": {
            "text/html": [
              "<div>\n",
              "<style scoped>\n",
              "    .dataframe tbody tr th:only-of-type {\n",
              "        vertical-align: middle;\n",
              "    }\n",
              "\n",
              "    .dataframe tbody tr th {\n",
              "        vertical-align: top;\n",
              "    }\n",
              "\n",
              "    .dataframe thead th {\n",
              "        text-align: right;\n",
              "    }\n",
              "</style>\n",
              "<table border=\"1\" class=\"dataframe\">\n",
              "  <thead>\n",
              "    <tr style=\"text-align: right;\">\n",
              "      <th></th>\n",
              "      <th>tweet</th>\n",
              "    </tr>\n",
              "  </thead>\n",
              "  <tbody>\n",
              "    <tr>\n",
              "      <th>0</th>\n",
              "      <td>@user nice new signage. Are you not concerned ...</td>\n",
              "    </tr>\n",
              "    <tr>\n",
              "      <th>1</th>\n",
              "      <td>A woman who you fucked multiple times saying y...</td>\n",
              "    </tr>\n",
              "    <tr>\n",
              "      <th>2</th>\n",
              "      <td>@user @user real talk do you have eyes or were...</td>\n",
              "    </tr>\n",
              "    <tr>\n",
              "      <th>3</th>\n",
              "      <td>your girlfriend lookin at me like a groupie in...</td>\n",
              "    </tr>\n",
              "    <tr>\n",
              "      <th>4</th>\n",
              "      <td>Hysterical woman like @user</td>\n",
              "    </tr>\n",
              "    <tr>\n",
              "      <th>...</th>\n",
              "      <td>...</td>\n",
              "    </tr>\n",
              "    <tr>\n",
              "      <th>8995</th>\n",
              "      <td>Oooohhhh bitch didn't even listen to the dead ...</td>\n",
              "    </tr>\n",
              "    <tr>\n",
              "      <th>8996</th>\n",
              "      <td>@user Good Luck @user More Americans #WalkAway...</td>\n",
              "    </tr>\n",
              "    <tr>\n",
              "      <th>8997</th>\n",
              "      <td>Bitch you can't keep up so stop trying</td>\n",
              "    </tr>\n",
              "    <tr>\n",
              "      <th>8998</th>\n",
              "      <td>@user @user @user @user @user @user Japan is a...</td>\n",
              "    </tr>\n",
              "    <tr>\n",
              "      <th>8999</th>\n",
              "      <td>@user hi Best l see someone fucking girl comme...</td>\n",
              "    </tr>\n",
              "  </tbody>\n",
              "</table>\n",
              "<p>9000 rows × 1 columns</p>\n",
              "</div>"
            ],
            "text/plain": [
              "                                                  tweet\n",
              "0     @user nice new signage. Are you not concerned ...\n",
              "1     A woman who you fucked multiple times saying y...\n",
              "2     @user @user real talk do you have eyes or were...\n",
              "3     your girlfriend lookin at me like a groupie in...\n",
              "4                          Hysterical woman like @user \n",
              "...                                                 ...\n",
              "8995  Oooohhhh bitch didn't even listen to the dead ...\n",
              "8996  @user Good Luck @user More Americans #WalkAway...\n",
              "8997            Bitch you can't keep up so stop trying \n",
              "8998  @user @user @user @user @user @user Japan is a...\n",
              "8999  @user hi Best l see someone fucking girl comme...\n",
              "\n",
              "[9000 rows x 1 columns]"
            ]
          },
          "metadata": {
            "tags": []
          },
          "execution_count": 3
        }
      ]
    },
    {
      "cell_type": "markdown",
      "metadata": {
        "id": "DEfi4pf8UU_D"
      },
      "source": [
        "Checking whether the data is loaded correctly by checking the dimensions of the data frames for the training, validation, and testing datasets to match the dimensions of their corresponding labels dataframes.\r\n"
      ]
    },
    {
      "cell_type": "code",
      "metadata": {
        "colab": {
          "base_uri": "https://localhost:8080/"
        },
        "id": "O4ja7An1ABQy",
        "outputId": "ac9f71d9-add1-49b2-b673-10a1d1b1aeed"
      },
      "source": [
        "print(hate_train_df.shape, hate_train_labels.shape)\r\n",
        "print(hate_val_df.shape, hate_val_labels.shape)\r\n",
        "print(hate_test_df.shape, hate_test_labels.shape)\r\n"
      ],
      "execution_count": 4,
      "outputs": [
        {
          "output_type": "stream",
          "text": [
            "(9000, 1) (9000, 1)\n",
            "(1000, 1) (1000, 1)\n",
            "(2970, 1) (2970, 1)\n"
          ],
          "name": "stdout"
        }
      ]
    },
    {
      "cell_type": "markdown",
      "metadata": {
        "id": "kKVXqGxcMZFc"
      },
      "source": [
        "How the Data is Split"
      ]
    },
    {
      "cell_type": "code",
      "metadata": {
        "colab": {
          "base_uri": "https://localhost:8080/",
          "height": 313
        },
        "id": "Om7sMSJjtx40",
        "outputId": "c4b8c4a1-1983-4bf1-a44d-00e63db57e14"
      },
      "source": [
        "# Pie chart\r\n",
        "labels = ['Training Set', 'Validation Set', 'Test Set']\r\n",
        "sizes = [len(hate_train_labels), len(hate_val_labels), len(hate_test_labels)]\r\n",
        "explode = (0, 0, 0.1)  \r\n",
        "fig1, ax1 = plt.subplots()\r\n",
        "ax1.pie(sizes, explode=explode, labels=labels, autopct='%1.1f%%', startangle=90)\r\n",
        "ax1.axis('equal')  \r\n",
        "plt.tight_layout()\r\n",
        "plt.title(\"How the data is split\")\r\n",
        "plt.show()"
      ],
      "execution_count": 5,
      "outputs": [
        {
          "output_type": "display_data",
          "data": {
            "image/png": "[encoded data removed]",
            "text/plain": [
              "<Figure size 432x288 with 1 Axes>"
            ]
          },
          "metadata": {
            "tags": []
          }
        }
      ]
    },
    {
      "cell_type": "code",
      "metadata": {
        "colab": {
          "base_uri": "https://localhost:8080/",
          "height": 112
        },
        "id": "gp6YaqKIKeUy",
        "outputId": "a7986a6a-4e31-451c-cf0b-fccb1e3969f5"
      },
      "source": [
        "# Checking the labels\r\n",
        "hate_labels = pd.read_csv(\"https://raw.githubusercontent.com/cardiffnlp/tweeteval/main/datasets/hate/mapping.txt\", sep=\"\\t\", header=None)\r\n",
        "hate_labels"
      ],
      "execution_count": 6,
      "outputs": [
        {
          "output_type": "execute_result",
          "data": {
            "text/html": [
              "<div>\n",
              "<style scoped>\n",
              "    .dataframe tbody tr th:only-of-type {\n",
              "        vertical-align: middle;\n",
              "    }\n",
              "\n",
              "    .dataframe tbody tr th {\n",
              "        vertical-align: top;\n",
              "    }\n",
              "\n",
              "    .dataframe thead th {\n",
              "        text-align: right;\n",
              "    }\n",
              "</style>\n",
              "<table border=\"1\" class=\"dataframe\">\n",
              "  <thead>\n",
              "    <tr style=\"text-align: right;\">\n",
              "      <th></th>\n",
              "      <th>0</th>\n",
              "      <th>1</th>\n",
              "    </tr>\n",
              "  </thead>\n",
              "  <tbody>\n",
              "    <tr>\n",
              "      <th>0</th>\n",
              "      <td>0</td>\n",
              "      <td>not-hate</td>\n",
              "    </tr>\n",
              "    <tr>\n",
              "      <th>1</th>\n",
              "      <td>1</td>\n",
              "      <td>hate</td>\n",
              "    </tr>\n",
              "  </tbody>\n",
              "</table>\n",
              "</div>"
            ],
            "text/plain": [
              "   0         1\n",
              "0  0  not-hate\n",
              "1  1      hate"
            ]
          },
          "metadata": {
            "tags": []
          },
          "execution_count": 6
        }
      ]
    },
    {
      "cell_type": "markdown",
      "metadata": {
        "id": "-59ATH5rU434"
      },
      "source": [
        "Data Statistics:"
      ]
    },
    {
      "cell_type": "code",
      "metadata": {
        "colab": {
          "base_uri": "https://localhost:8080/"
        },
        "id": "KMYepjUmndja",
        "outputId": "201c82e4-931c-4582-daf8-23b19b60ffca"
      },
      "source": [
        "print(\"Training Data Statistics: \")\r\n",
        "print(\"Total number of tweets:\", hate_train_labels.shape[0])\r\n",
        "print(\"Number of Not Hateful tweets:\", int(hate_train_labels.value_counts()[0]))\r\n",
        "print(\"Number of Hateful tweets:\", int(hate_train_labels.value_counts()[1]), \"\\n\")\r\n",
        "\r\n",
        "print(\"Validation Data Statistics: \")\r\n",
        "print(\"Total number of tweets:\", hate_val_labels.shape[0])\r\n",
        "print(\"Number of Not Hateful tweets:\", int(hate_val_labels.value_counts()[0]))\r\n",
        "print(\"Number of Hateful tweets:\", int(hate_val_labels.value_counts()[1]), \"\\n\")\r\n",
        "\r\n",
        "print(\"Testing Data Statistics: \")\r\n",
        "print(\"Total number of tweets:\", hate_test_labels.shape[0])\r\n",
        "print(\"Number of Not Hateful tweets:\", int(hate_test_labels.value_counts()[0]))\r\n",
        "print(\"Number of Hateful tweets:\", int(hate_test_labels.value_counts()[1]))"
      ],
      "execution_count": 7,
      "outputs": [
        {
          "output_type": "stream",
          "text": [
            "Training Data Statistics: \n",
            "Total number of tweets: 9000\n",
            "Number of Not Hateful tweets: 5217\n",
            "Number of Hateful tweets: 3783 \n",
            "\n",
            "Validation Data Statistics: \n",
            "Total number of tweets: 1000\n",
            "Number of Not Hateful tweets: 573\n",
            "Number of Hateful tweets: 427 \n",
            "\n",
            "Testing Data Statistics: \n",
            "Total number of tweets: 2970\n",
            "Number of Not Hateful tweets: 1718\n",
            "Number of Hateful tweets: 1252\n"
          ],
          "name": "stdout"
        }
      ]
    },
    {
      "cell_type": "markdown",
      "metadata": {
        "id": "CsXxav8EubjV"
      },
      "source": [
        "![hate table.JPG](data:image/jpeg;base64,/9j/4AAQSkZJRgABAQEAeAB4AAD/4RDaRXhpZgAATU0AKgAAAAgABAE7AAIAAAAFAAAISodpAAQAAAABAAAIUJydAAEAAAAKAAAQyOocAAcAAAgMAAAAPgAAAAAc6gAAAAgAAAAAAAAAAAAAAAAAAAAAAAAAAAAAAAAAAAAAAAAAAAAAAAAAAAAAAAAAAAAAAAAAAAAAAAAAAAAAAAAAAAAAAAAAAAAAAAAAAAAAAAAAAAAAAAAAAAAAAAAAAAAAAAAAAAAAAAAAAAAAAAAAAAAAAAAAAAAAAAAAAAAAAAAAAAAAAAAAAAAAAAAAAAAAAAAAAAAAAAAAAAAAAAAAAAAAAAAAAAAAAAAAAAAAAAAAAAAAAAAAAAAAAAAAAAAAAAAAAAAAAAAAAAAAAAAAAAAAAAAAAAAAAAAAAAAAAAAAAAAAAAAAAAAAAAAAAAAAAAAAAAAAAAAAAAAAAAAAAAAAAAAAAAAAAAAAAAAAAAAAAAAAAAAAAAAAAAAAAAAAAAAAAAAAAAAAAAAAAAAAAAAAAAAAAAAAAAAAAAAAAAAAAAAAAAAAAAAAAAAAAAAAAAAAAAAAAAAAAAAAAAAAAAAAAAAAAAAAAAAAAAAAAAAAAAAAAAAAAAAAAAAAAAAAAAAAAAAAAAAAAAAAAAAAAAAAAAAAAAAAAAAAAAAAAAAAAAAAAAAAAAAAAAAAAAAAAAAAAAAAAAAAAAAAAAAAAAAAAAAAAAAAAAAAAAAAAAAAAAAAAAAAAAAAAAAAAAAAAAAAAAAAAAAAAAAAAAAAAAAAAAAAAAAAAAAAAAAAAAAAAAAAAAAAAAAAAAAAAAAAAAAAAAAAAAAAAAAAAAAAAAAAAAAAAAAAAAAAAAAAAAAAAAAAAAAAAAAAAAAAAAAAAAAAAAAAAAAAAAAAAAAAAAAAAAAAAAAAAAAAAAAAAAAAAAAAAAAAAAAAAAAAAAAAAAAAAAAAAAAAAAAAAAAAAAAAAAAAAAAAAAAAAAAAAAAAAAAAAAAAAAAAAAAAAAAAAAAAAAAAAAAAAAAAAAAAAAAAAAAAAAAAAAAAAAAAAAAAAAAAAAAAAAAAAAAAAAAAAAAAAAAAAAAAAAAAAAAAAAAAAAAAAAAAAAAAAAAAAAAAAAAAAAAAAAAAAAAAAAAAAAAAAAAAAAAAAAAAAAAAAAAAAAAAAAAAAAAAAAAAAAAAAAAAAAAAAAAAAAAAAAAAAAAAAAAAAAAAAAAAAAAAAAAAAAAAAAAAAAAAAAAAAAAAAAAAAAAAAAAAAAAAAAAAAAAAAAAAAAAAAAAAAAAAAAAAAAAAAAAAAAAAAAAAAAAAAAAAAAAAAAAAAAAAAAAAAAAAAAAAAAAAAAAAAAAAAAAAAAAAAAAAAAAAAAAAAAAAAAAAAAAAAAAAAAAAAAAAAAAAAAAAAAAAAAAAAAAAAAAAAAAAAAAAAAAAAAAAAAAAAAAAAAAAAAAAAAAAAAAAAAAAAAAAAAAAAAAAAAAAAAAAAAAAAAAAAAAAAAAAAAAAAAAAAAAAAAAAAAAAAAAAAAAAAAAAAAAAAAAAAAAAAAAAAAAAAAAAAAAAAAAAAAAAAAAAAAAAAAAAAAAAAAAAAAAAAAAAAAAAAAAAAAAAAAAAAAAAAAAAAAAAAAAAAAAAAAAAAAAAAAAAAAAAAAAAAAAAAAAAAAAAAAAAAAAAAAAAAAAAAAAAAAAAAAAAAAAAAAAAAAAAAAAAAAAAAAAAAAAAAAAAAAAAAAAAAAAAAAAAAAAAAAAAAAAAAAAAAAAAAAAAAAAAAAAAAAAAAAAAAAAAAAAAAAAAAAAAAAAAAAAAAAAAAAAAAAAAAAAAAAAAAAAAAAAAAAAAAAAAAAAAAAAAAAAAAAAAAAAAAAAAAAAAAAAAAAAAAAAAAAAAAAAAAAAAAAAAAAAAAAAAAAAAAAAAAAAAAAAAAAAAAAAAAAAAAAAAAAAAAAAAAAAAAAAAAAAAAAAAAAAAAAAAAAAAAAAAAAAAAAAAAAAAAAAAAAAAAAAAAAAAAAAAAAAAAAAAAAAAAAAAAAAAAAAAAAAAAAAAAAAAAAAAAAAAAAAAAAAAAAAAAAAAAAAAAAAAAAAAAAAAAAAAAAAAAAAAAAAAAAAAAAAAAAAAAAAAAAAAAAAAAAAAAAAAAAAAAAAAAAAAAAAAAAAAAAAAAAAAAAAAAAAAAAAAAAAAAAAAAAAAAAAAAAAAAAAAAAAAAAAAAAAAAAAAAAAAAAAAAAAAAAAAAAAAAAAAAAAAAAAAAAAAAAAAAAAAAAAAAAAAAAAAAAAAAAAAAAAAAAAAAAAAAAAAAAAAAAAAAAAAAAAAAAAAAAAAAAAAAAAAAAAAAAAAAAAAAAAAAAAAAAAAAAAAAAAAAAAAAAAAAAAAAAAAAAAAAAAAAAAAAAAAAAAAAAAAAAAAAAAAAAAAAAAAAAAAAAAAAAAAAAAAAAAAAAAAAAAAAAAAAAAAAAAAAAAAAAAAAAAAAAAAAAAAAAAAAAAAAAAAAAAAAAAAAAAAAAAAAAAAAAAAAAAAAAAAAAAAAAAAAAAAAAAAAAAAAAAAAAAAAAAAAAAAAAAAAAAAAAAAAAAAAAAAAAAAAAAAAAAAAAAAAAAAAAAAAAAAAAAAAAAAAAAAAAAAAAAAAAAAAAAAAAAAAAAAAAAAAAAAAAAAAAAAAAAAAAAAAAAAAAAAAAAAAAAAAAAAAAAAAAAAAAAAAAAAAAAAAAAAAAAAAAAAAAAAAAAAAAAAAAAAAAAAAAAAAAAAAAAAAAAAAAAAAAAAAAAAAAAAAAAAAAAAAAAAAAAAAAAAAAAAAAAAAAAAAAAAAAAAAAAAAAAAAAAAAAAAAAAAAAAAAAAAAAAAAAAAAAAAAAAAAAAAAAAAAEloYWIAAAAFkAMAAgAAABQAABCekAQAAgAAABQAABCykpEAAgAAAAMyMwAAkpIAAgAAAAMyMwAA6hwABwAACAwAAAiSAAAAABzqAAAACAAAAAAAAAAAAAAAAAAAAAAAAAAAAAAAAAAAAAAAAAAAAAAAAAAAAAAAAAAAAAAAAAAAAAAAAAAAAAAAAAAAAAAAAAAAAAAAAAAAAAAAAAAAAAAAAAAAAAAAAAAAAAAAAAAAAAAAAAAAAAAAAAAAAAAAAAAAAAAAAAAAAAAAAAAAAAAAAAAAAAAAAAAAAAAAAAAAAAAAAAAAAAAAAAAAAAAAAAAAAAAAAAAAAAAAAAAAAAAAAAAAAAAAAAAAAAAAAAAAAAAAAAAAAAAAAAAAAAAAAAAAAAAAAAAAAAAAAAAAAAAAAAAAAAAAAAAAAAAAAAAAAAAAAAAAAAAAAAAAAAAAAAAAAAAAAAAAAAAAAAAAAAAAAAAAAAAAAAAAAAAAAAAAAAAAAAAAAAAAAAAAAAAAAAAAAAAAAAAAAAAAAAAAAAAAAAAAAAAAAAAAAAAAAAAAAAAAAAAAAAAAAAAAAAAAAAAAAAAAAAAAAAAAAAAAAAAAAAAAAAAAAAAAAAAAAAAAAAAAAAAAAAAAAAAAAAAAAAAAAAAAAAAAAAAAAAAAAAAAAAAAAAAAAAAAAAAAAAAAAAAAAAAAAAAAAAAAAAAAAAAAAAAAAAAAAAAAAAAAAAAAAAAAAAAAAAAAAAAAAAAAAAAAAAAAAAAAAAAAAAAAAAAAAAAAAAAAAAAAAAAAAAAAAAAAAAAAAAAAAAAAAAAAAAAAAAAAAAAAAAAAAAAAAAAAAAAAAAAAAAAAAAAAAAAAAAAAAAAAAAAAAAAAAAAAAAAAAAAAAAAAAAAAAAAAAAAAAAAAAAAAAAAAAAAAAAAAAAAAAAAAAAAAAAAAAAAAAAAAAAAAAAAAAAAAAAAAAAAAAAAAAAAAAAAAAAAAAAAAAAAAAAAAAAAAAAAAAAAAAAAAAAAAAAAAAAAAAAAAAAAAAAAAAAAAAAAAAAAAAAAAAAAAAAAAAAAAAAAAAAAAAAAAAAAAAAAAAAAAAAAAAAAAAAAAAAAAAAAAAAAAAAAAAAAAAAAAAAAAAAAAAAAAAAAAAAAAAAAAAAAAAAAAAAAAAAAAAAAAAAAAAAAAAAAAAAAAAAAAAAAAAAAAAAAAAAAAAAAAAAAAAAAAAAAAAAAAAAAAAAAAAAAAAAAAAAAAAAAAAAAAAAAAAAAAAAAAAAAAAAAAAAAAAAAAAAAAAAAAAAAAAAAAAAAAAAAAAAAAAAAAAAAAAAAAAAAAAAAAAAAAAAAAAAAAAAAAAAAAAAAAAAAAAAAAAAAAAAAAAAAAAAAAAAAAAAAAAAAAAAAAAAAAAAAAAAAAAAAAAAAAAAAAAAAAAAAAAAAAAAAAAAAAAAAAAAAAAAAAAAAAAAAAAAAAAAAAAAAAAAAAAAAAAAAAAAAAAAAAAAAAAAAAAAAAAAAAAAAAAAAAAAAAAAAAAAAAAAAAAAAAAAAAAAAAAAAAAAAAAAAAAAAAAAAAAAAAAAAAAAAAAAAAAAAAAAAAAAAAAAAAAAAAAAAAAAAAAAAAAAAAAAAAAAAAAAAAAAAAAAAAAAAAAAAAAAAAAAAAAAAAAAAAAAAAAAAAAAAAAAAAAAAAAAAAAAAAAAAAAAAAAAAAAAAAAAAAAAAAAAAAAAAAAAAAAAAAAAAAAAAAAAAAAAAAAAAAAAAAAAAAAAAAAAAAAAAAAAAAAAAAAAAAAAAAAAAAAAAAAAAAAAAAAAAAAAAAAAAAAAAAAAAAAAAAAAAAAAAAAAAAAAAAAAAAAAAAAAAAAAAAAAAAAAAAAAAAAAAAAAAAAAAAAAAAAAAAAAAAAAAAAAAAAAAAAAAAAAAAAAAAAAAAAAAAAAAAAAAAAAAAAAAAAAAAAAAAAAAAAAAAAAAAAAAAAAAAAAAAAAAAAAAAAAAAAAAAAAAAAAAAAAAAAAAAAAAAAAAAAAAAAAAAAAAAAAAAAAAAAAAAAAAAAAAAAAAAAAAAAAAAAAAAAAAAAAAAAAAAAAAAAAAAAAAAAAAAAAAAAAAAAAAAAAAAAAAAAAAAAAAAAAAAAAAAAAAAAAAAAAAAAAAAAAAAAAAAAAAAAAAAAAAAAAAAAAAAAAAAAAAAAAAAAAAAAAAAAAAAAAAAAAAAAAAAAAAAAAAAAAAAAAAAAAAAAAAAAAAAAAAAAAAAAAAAAAAAAAAAAAAAAAAAAAAAAAAAAAAAAAAAAAAAAAAAAAAAAAAAAAAAAAAAAAAAAAAAAAAAAAAAAAAAAAAAAAAAAAAAAAAAAAAAAAAAAAAAAAAAAAAAAAAAAAAAAAAAAAAAAAAAAAAAAAAAAAAAAAAAAAAAAAAAAAAAAAAAAAAAAAAAAAAAAAAAAAAAAAAAAAAAAAAAAAAAAAAAAAAAAAAAAAAAAAAAAAAAAAAAAAAAAAAAAAAAAAAAAAAAAAAAAAAAAAAAAAAAAAAAAAAAAAAAAAAAAAAAAAAAAAAAAAAAAAAAAAAAAAAAAAAAAAAAAAAAAAAAAAAAAAAAAAAAAAAAAAAAAAAAAAAAAAAAAAAAAAAAAAAAAAAAAAAAAAAAAAAAAAAAAAAAAAAAAAAAAAAAAAAAAAAAAAAAAAAAAAAAAAAAAAAAAAAAAAAAAAAAAAAAAAAAAAAAAAAAAAAAAAAAAAAAAAAAAAAAAAAAAAAAAAAAAAAAAAAAAAAAAAAAAAAAAAAAAAAAAAAAAAAAAAAAAAAAAAAAAAAAAAAAAAAAAAAAAAAAAAAAAAAAAAAAAAAAAAAAAAAAAAAAAAAAAAAAAAAAAAAAAAAAMjAyMTowMjoyNCAwNjoyNjo1MgAyMDIxOjAyOjI0IDA2OjI2OjUyAAAASQBoAGEAYgAAAP/hCxdodHRwOi8vbnMuYWRvYmUuY29tL3hhcC8xLjAvADw/eHBhY2tldCBiZWdpbj0n77u/JyBpZD0nVzVNME1wQ2VoaUh6cmVTek5UY3prYzlkJz8+DQo8eDp4bXBtZXRhIHhtbG5zOng9ImFkb2JlOm5zOm1ldGEvIj48cmRmOlJERiB4bWxuczpyZGY9Imh0dHA6Ly93d3cudzMub3JnLzE5OTkvMDIvMjItcmRmLXN5bnRheC1ucyMiPjxyZGY6RGVzY3JpcHRpb24gcmRmOmFib3V0PSJ1dWlkOmZhZjViZGQ1LWJhM2QtMTFkYS1hZDMxLWQzM2Q3NTE4MmYxYiIgeG1sbnM6ZGM9Imh0dHA6Ly9wdXJsLm9yZy9kYy9lbGVtZW50cy8xLjEvIi8+PHJkZjpEZXNjcmlwdGlvbiByZGY6YWJvdXQ9InV1aWQ6ZmFmNWJkZDUtYmEzZC0xMWRhLWFkMzEtZDMzZDc1MTgyZjFiIiB4bWxuczp4bXA9Imh0dHA6Ly9ucy5hZG9iZS5jb20veGFwLzEuMC8iPjx4bXA6Q3JlYXRlRGF0ZT4yMDIxLTAyLTI0VDA2OjI2OjUyLjIyNzwveG1wOkNyZWF0ZURhdGU+PC9yZGY6RGVzY3JpcHRpb24+PHJkZjpEZXNjcmlwdGlvbiByZGY6YWJvdXQ9InV1aWQ6ZmFmNWJkZDUtYmEzZC0xMWRhLWFkMzEtZDMzZDc1MTgyZjFiIiB4bWxuczpkYz0iaHR0cDovL3B1cmwub3JnL2RjL2VsZW1lbnRzLzEuMS8iPjxkYzpjcmVhdG9yPjxyZGY6U2VxIHhtbG5zOnJkZj0iaHR0cDovL3d3dy53My5vcmcvMTk5OS8wMi8yMi1yZGYtc3ludGF4LW5zIyI+PHJkZjpsaT5JaGFiPC9yZGY6bGk+PC9yZGY6U2VxPg0KCQkJPC9kYzpjcmVhdG9yPjwvcmRmOkRlc2NyaXB0aW9uPjwvcmRmOlJERj48L3g6eG1wbWV0YT4NCiAgICAgICAgICAgICAgICAgICAgICAgICAgICAgICAgICAgICAgICAgICAgICAgICAgICAgICAgICAgICAgICAgICAgICAgICAgICAgICAgICAgICAgICAgICAgICAgICAgICAKICAgICAgICAgICAgICAgICAgICAgICAgICAgICAgICAgICAgICAgICAgICAgICAgICAgICAgICAgICAgICAgICAgICAgICAgICAgICAgICAgICAgICAgICAgICAgICAgICAgIAogICAgICAgICAgICAgICAgICAgICAgICAgICAgICAgICAgICAgICAgICAgICAgICAgICAgICAgICAgICAgICAgICAgICAgICAgICAgICAgICAgICAgICAgICAgICAgICAgICAgCiAgICAgICAgICAgICAgICAgICAgICAgICAgICAgICAgICAgICAgICAgICAgICAgICAgICAgICAgICAgICAgICAgICAgICAgICAgICAgICAgICAgICAgICAgICAgICAgICAgICAKICAgICAgICAgICAgICAgICAgICAgICAgICAgICAgICAgICAgICAgICAgICAgICAgICAgICAgICAgICAgICAgICAgICAgICAgICAgICAgICAgICAgICAgICAgICAgICAgICAgIAogICAgICAgICAgICAgICAgICAgICAgICAgICAgICAgICAgICAgICAgICAgICAgICAgICAgICAgICAgICAgICAgICAgICAgICAgICAgICAgICAgICAgICAgICAgICAgICAgICAgCiAgICAgICAgICAgICAgICAgICAgICAgICAgICAgICAgICAgICAgICAgICAgICAgICAgICAgICAgICAgICAgICAgICAgICAgICAgICAgICAgICAgICAgICAgICAgICAgICAgICAKICAgICAgICAgICAgICAgICAgICAgICAgICAgICAgICAgICAgICAgICAgICAgICAgICAgICAgICAgICAgICAgICAgICAgICAgICAgICAgICAgICAgICAgICAgICAgICAgICAgIAogICAgICAgICAgICAgICAgICAgICAgICAgICAgICAgICAgICAgICAgICAgICAgICAgICAgICAgICAgICAgICAgICAgICAgICAgICAgICAgICAgICAgICAgICAgICAgICAgICAgCiAgICAgICAgICAgICAgICAgICAgICAgICAgICAgICAgICAgICAgICAgICAgICAgICAgICAgICAgICAgICAgICAgICAgICAgICAgICAgICAgICAgICAgICAgICAgICAgICAgICAKICAgICAgICAgICAgICAgICAgICAgICAgICAgICAgICAgICAgICAgICAgICAgICAgICAgICAgICAgICAgICAgICAgICAgICAgICAgICAgICAgICAgICAgICAgICAgICAgICAgIAogICAgICAgICAgICAgICAgICAgICAgICAgICAgICAgICAgICAgICAgICAgICAgICAgICAgICAgICAgICAgICAgICAgICAgICAgICAgICAgICAgICAgICAgICAgICAgICAgICAgCiAgICAgICAgICAgICAgICAgICAgICAgICAgICAgICAgICAgICAgICAgICAgICAgICAgICAgICAgICAgICAgICAgICAgICAgICAgICAgICAgICAgICAgICAgICAgICAgICAgICAKICAgICAgICAgICAgICAgICAgICAgICAgICAgICAgICAgICAgICAgICAgICAgICAgICAgICAgICAgICAgICAgICAgICAgICAgICAgICAgICAgICAgICAgICAgICAgICAgICAgIAogICAgICAgICAgICAgICAgICAgICAgICAgICAgICAgICAgICAgICAgICAgICAgICAgICAgICAgICAgICAgICAgICAgICAgICAgICAgICAgICAgICAgICAgICAgICAgICAgICAgCiAgICAgICAgICAgICAgICAgICAgICAgICAgICAgICAgICAgICAgICAgICAgICAgICAgICAgICAgICAgICAgICAgICAgICAgICAgICAgICAgICAgICAgICAgICAgICAgICAgICAKICAgICAgICAgICAgICAgICAgICAgICAgICAgICAgICAgICAgICAgICAgICAgICAgICAgICAgICAgICAgICAgICAgICAgICAgICAgICAgICAgICAgICAgICAgICAgICAgICAgIAogICAgICAgICAgICAgICAgICAgICAgICAgICAgICAgICAgICAgICAgICAgICAgICAgICAgICAgICAgICAgICAgICAgICAgICAgICAgICAgICAgICAgICAgICAgICAgICAgICAgCiAgICAgICAgICAgICAgICAgICAgICAgICAgICAgICAgICAgICAgICAgICAgICAgICAgICAgICAgICAgICAgICAgICAgICAgICAgICAgICAgICAgICAgICAgICAgICAgICAgICAKICAgICAgICAgICAgICAgICAgICAgICAgICAgICAgICAgICAgICAgICAgICAgICAgICAgICAgICAgICAgICAgICAgICAgICAgICAgICAgICAgICAgICAgICAgICAgICAgICAgIAogICAgICAgICAgICAgICAgICAgICAgICAgICAgPD94cGFja2V0IGVuZD0ndyc/Pv/bAEMABwUFBgUEBwYFBggHBwgKEQsKCQkKFQ8QDBEYFRoZGBUYFxseJyEbHSUdFxgiLiIlKCkrLCsaIC8zLyoyJyorKv/bAEMBBwgICgkKFAsLFCocGBwqKioqKioqKioqKioqKioqKioqKioqKioqKioqKioqKioqKioqKioqKioqKioqKioqKv/AABEIANQDlgMBIgACEQEDEQH/xAAfAAABBQEBAQEBAQAAAAAAAAAAAQIDBAUGBwgJCgv/xAC1EAACAQMDAgQDBQUEBAAAAX0BAgMABBEFEiExQQYTUWEHInEUMoGRoQgjQrHBFVLR8CQzYnKCCQoWFxgZGiUmJygpKjQ1Njc4OTpDREVGR0hJSlNUVVZXWFlaY2RlZmdoaWpzdHV2d3h5eoOEhYaHiImKkpOUlZaXmJmaoqOkpaanqKmqsrO0tba3uLm6wsPExcbHyMnK0tPU1dbX2Nna4eLj5OXm5+jp6vHy8/T19vf4+fr/xAAfAQADAQEBAQEBAQEBAAAAAAAAAQIDBAUGBwgJCgv/xAC1EQACAQIEBAMEBwUEBAABAncAAQIDEQQFITEGEkFRB2FxEyIygQgUQpGhscEJIzNS8BVictEKFiQ04SXxFxgZGiYnKCkqNTY3ODk6Q0RFRkdISUpTVFVWV1hZWmNkZWZnaGlqc3R1dnd4eXqCg4SFhoeIiYqSk5SVlpeYmZqio6Slpqeoqaqys7S1tre4ubrCw8TFxsfIycrS09TV1tfY2dri4+Tl5ufo6ery8/T19vf4+fr/2gAMAwEAAhEDEQA/APpGiiigAooooAKKKKACiiigAooooAKKKKACiiigAooooAKKKKACiiigAooooAKKKKACiiigAooooAKKKKACiiigAooooAKKKKACiiigAooooAKKKKACiiigAooooAKKKKACiiigAooooAKKKKACiiigAooooAKKKKACiiigAooooAKKKKACiiigAooooAKKKKACiiigAooooAKKKKACiiigAooooAKKKKACiiigAooooAKKKKACiiigAooooAKKKKACiiigAooooAKKKKACiiigAooooAKKKKACiiigAooooAKKKKACiiigAooooAKKKKACiiigAooooAKKKKACiiigAooooAKKKKACiiigAooooAKKKKACiiigAooooAKKKKACiiigAooqpa6tp19e3VnZX9rc3VkyrdQQzK7wE5wHUHKk4OM+hoAt0VA97ax30dk9zCt1KjSRwGQCR1UgMwXqQCwye2R61PQAUUUUAFFQXV7a2MaSX1zDbI8ixI00gQM7HCqCepJIAHc1JLLHBC808ixxRqWd3bCqBySSegoAfRUdvcQ3dtFcWsqTQTIHjljYMrqRkMCOCCOc1JQAUUUUAFFFYGh+LI/ENxu0vStQk0xi6x6s3krby7Tg7QZPNIyCAdmDjIOMGgDfoorL1TX7XSdV0jT545pLjV7hre3ESghSsbSMzZIwoVD0yeRxQBqUUUUAFFFFABRRRQAUUUUAFFFFABRUFpe2uoQefYXMNzFvZPMhkDruUlWGR3BBBHYgiljvbWa8ntIbmGS5twpmhWQF4g2Su5eozg4z1xQBNRRRQAUUUUAFFYeseKYtM1aHSrTTr3VtSlhNwbSxEYaOIHb5jNK6IBu4A3ZJzgHBxsxO0kKO8bRMygmNyNyH0OCRkexIoAfRUdxPHa2stxMdscSF3PoAMmqeg6xD4h8PWGsWkU0MF/bpcRJOAHCOoZcgEjOCO5oA0KKKKACiiigAooooAKKKKACiiigAooooAKKK56b4g+DLeeSG48XaFFLGxR431KFWVgcEEFuCDQB0NFZWk+KvD2vXDwaFrumalNGu947O8jmZVzjJCk4GT1rVoAKKKKACiisux1+11DxDqujwRzefpQh8+RlGwmVSwVTnJIABOQPvDGecAGpRRRQAUUUUAFFFFABRRRQAUUUUAFFFFABRRRQAUVj3fi7w3p+q/wBmX/iDSrbUNyr9kmvY0ly2No2Fs5ORjjnIrYoAKKKwovGGlyQ+ILiVpbe18PzNFe3EqfJlYllcrgkkBXGeAc9AaAN2iq9hfW+p6bbX9k5ktrqFJoXKFSyMAynBAI4I4IBqxQAUUUUAFFFFABRRRQAUUUUAFFFFABRRRQAUUUUAFFFFABRRRQAUUUUAFFFFABRRRQAUUUUAFFFFABRRRQAUUUUAFFFFABRRRQAUUUUAFFFFAASFUljgDkk9q8O8EbtG1jQvHD/LB4xv7u1vj2zLM72bHH+7s/7aAV6t40ubyz8Da3PpdtNdXq2Mv2eGBGd3kKEKAq8nkjpWNqHgk3Xwci8K2p8q5ttOhjtZM8x3ESq0b5/31B/OgCC0lS8+NmuX0zqsGhaLBalmxhGmdpnOf91I6n0/V/FvirSV1rw82k6XYXEZksINStJZ5blOSkrskqCIONpC7XIHJOTtHN+FdH17xJ8NPGl3qWnz6VrniZrhVt7qMxtH/o6woCGAwMqefQ5rdtvFV8PCttpeg+HtWXXltltkt7uwlhgtpFXaWed1ETIpGfkZiwxtBzQBl+L/ABZqWvfAiTXtDMOnTajbfZ3tpozM++VvI8tHDIAwduHww4ztrtvDOl6no2kxWGpXtjdRW0UcNsLOxe2CIq7cENLJu4A6Yrj/ABB4afw54B8I6PaQXWoWOk6pZNfm2geaR448sZPLQFmHmhCQAeCewr0KyvI9QsorqBZkjlGVWeB4XH1RwGX6ECgDhPibqMMXiHwVp9ylw8L6s1/KtraSXMhW3iZhiONWYjzHj5A44PFVfiP45srn4eavYadBrEd5qMP2CA3OiXkCbpiIuXkiVR989SPbmtw2V1e/GgXstrMLHTNEMcM7IwjeaebLhTjBISJc4PG7ntR47srrVtT8J6bBazS27a1Hd3cqIxSKOBHlG8gYGXVAM9TxQBNqOqXGj3OkeEvDMMEmoy2+RJcAmKztogFMrqpBbkqqoCuSfvKATVSy17xTbfEW08M6uml3VvLZTXzX1pFJEWRSiBPKZ22EO3XcwYHopBqK9mk8PfFe71nUbLUJ7C/0iG2guLKxmu/LeKWRmjZYlZlyJVYEjBweciofB8euap8TvEeveINKm0uGO0tbLTYZgCwiy8j5YZRmLFSdhYDIUklaAKHhi28T6n8TvFOqf2tpLLZSW2lM50qQh0RPOZE/0j5DmfBJ3ZODgdK6E+INY17VNSg8MSafY6dpUpt7jU9QhedZZ1/1kaRK8eFTIBkL/eDKFOCwp/DmWSyOr6dqdlqFvqs+rXt5M0tjMIXVpTsKz7fLb93swA2eOnFczoGi+GdC027svGPgWS/1u3vbl2u18Nvem+DStJHIs6RsvKuowzAqRg4xQBqX/jbWL74Maz4htJ9Pt7qxN1CLqOB5re9EZaMPB+8UqHbG1suBzw1TLJr/AMOfhfZWrXGm393H9h03ToY7KSIK7ukWJMzMZD82eNnQ8c8XviPIdQ0TQNIkieJta1mzhlgYrvVEbz5AdpI4WEgkEjJ64qT4iw3W/wAM3iWd1e2FhrUVzfR2kDTSKgSQI4jQFmCyFCQoJ744oA0/GWv3Wg2Om/2bHDJd6hqltYxCdSVAkf5zwQeIw5+o79KyrzOpfHDTYDzFo2izXR56SXEqxr/47FJ+fvWfdz6t4q+KPhiVNIvbbw9py3N6J7q3eJpphH5SllYZjA807VbDnDnaFALa/hWxun8d+MdZvLaaBLi5t7O1MyFd8UMIJZc9VMksnI4OPagDr6KKKACiiigAooooAKKKKACqWtaimj6Df6nLjy7K2kuGz0wilj/Krtcj8Ube9vvh1qOm6Xbz3FxqJistsCMxVJZFR2OAcBULEnpxzQBg/DbxLpuh/DXQ7G6tNdNyLUTTlPD18wMshMj4ZYSp+ZzyCQeopfB/iCwt9P8AHHjzUGlSym1OTBaFkkMNtGkSjY2GDFlYbSAcnkA16HKy6fprtBCzrbwkpFGCWYKOFAGSTxivL18N6qn7PumWv2CeXUFkt9VvbLYRNIftK3M0e087/vfKecjHWgDW8QeI/HPh/wAF3Pii4tdF2QwGaTRzHL5sAI4BuN+2RlJUlRGoPIDdGNb4kJr2pxeE9Fiu7CFtW1G3FzbvZPJl4Qbh2z5q/uwYgCmM/wC0KZ461LVPGNrpOjeH9F1I6Vd6rarqd5d2MtvtiWQOyLHIofooJcqEx8u4kkDV8VyS2XxJ8N6reWV/PpdnaXgEllZS3RjuH8tV3JErMPk8wA4xyRQBf1PXtW0WPTdJIs9Y8RanI6wLDE1rAkajLyuC8jKiAgHBJZmUDGcivp/iHWrX4gQ+GdXu9K1Uz2Ul08mnWz272WxlA81Glk+V9/ynK8qeD2zPGGkWMvxC0zWfEnh59c0N9MktAo01r77JOZBIGaEKzgMoK7gpwQAcbq6XwrLo6afcx+H9Ck0TToZMgSad9gSVioLMsbBW44BZlGccZxQByXg+38S6h8R/FGrS6tpckVtdW+lykaXIPNSJPMZY/wDSD5ZzOwJO/kZwOldX4M8QXXibTb+/uYoo4F1K5trMxgjfDFIYwxJJySytyMDpxWX8LVkn+HSaog2XOtXN1qeX9ZpndM/8BKflXLaVrOuaJ8FF0XRfDmsHxHZ2EqXCTWEqpHLli8iuV2zFmJKiMtksM4XLAA0Nc8V6hrnwF1jV2SGObVDPZWKxBlyktwbeEnJPzEMrEj16CvSLCzj0/TraygGIraJYkGMfKoAH8q8/vPDV1b+Hfh34YgtJnhs7y1kvZEQlI1toS+XYcDdKqdep4r0egAooooAKKKKACiiigAooooAKKKKACiiigAriPiHi/wBY8HaEOTe62ly68cx2yNMc+25U/Ou3rj7qyur/AOM2n3EltMLDStGmaOcowjaeaVVKhsYJCRnI6jcKANbxR4iHh3T4HitTe317cJaWNor7PPmbJALEHaoAZmbBwFPBOAcTUtb8UeF5tMu9fm0i+0+9vYbKaKztJYJLZpmCowdpXEgDEAjahIOeMYp/jW3urfxN4W8QR2Vze2WlXM/2uO0iMssYlhMayiNcs4UnBCgnDE4ODUN8bjx3rmjx2lhe2uiaXfLf3N1f2r2rXE0YzFFHFIFkwGYOXKhfkABPzYAMzxJb+IdV+M+jWVhqWmxRabYz6lCJ9Okl8kttgG/E67yd0m0jbgZ4bqOgvdd1iXXYPDOitYvqsVml1qOoTQObe2UkquIQ4ZmdlfC+YNqgkseA1C1mfTvjFrVxqtlqBW+s7G2065hsZpodgMpdWkRSseHbJ3leMHoaZb3U3hj4ieKbnUNM1O5j1c2stjJZWMlwsgSERmMsgKxkOpOXKjDg5xnABb8P+IPEk3j6+8N67Dprx2Fgly15ZI6eeZJGEfyMzeXhUcFSzZIBDAHAj+Geb238Ra4wz/auu3TxvnrFERbp+kJP4ms3wi2vwHx14p1zSJ7bUJ5ttrZLGZHMUEAMaLgfvDudhlcgtu2kjBPS/D3RpdA+HWhaZcqyXMNlH9oV85ErDdJnP+0WoA6OiiigAooooAKKKKACiiigAooooAKKKKACoL+O4l065jsZFiuXiZYZG6K5B2k/Q4qes3W9ZGh2sVzJp+oXsLSrHIbC3M7Qg/xmNfnZc4zsViM5xjJABxPw5vtCbwzB4G1uwWz1yG2xqWl6lCN16/IlnUtlZ1dlZtyluvOK0dY8V62vxKg8I+HLG1kB0v7XPdXCsUtC0mxWbaRkAK37sYLEr8yDcwr60X8c654fTSNMvoINJ1KO/uNRv7GW08tVDfuo1lVXZn4BIG0LnJzgVm6B4lFr8SvGWpX2lanJZTXUVjbXtnZSXa5towHjKxKzr88jEEjB+YZyuCAdR4b1/VJvE2t+H/EBs5bnTI7e4ju7OJoUmilDdY2dyrK0bD7xBBB45Fcl4f1+80P4Nt4kso4ZNT17VWubeOcEoz3V3sjzgg4CMp6jGMVdnstbt/CfjfxQ+m3C6xrduUsdPiXzJookiMdurBc/OWZnYAnG/GeKs6l4cngX4eeG7W1mey0y5jnuZkUlI1trdggZugzIUxnqR7GgCv49h1zVPiL4S0fTtQsIoPOm1NUmsHlMTQR7QzkTLuUtMuAAuCM5OMV6DZJdx2US6jPDPdAfvJYITEjH2QsxH/fRrjNQlk074yR6jqNjqEli2ira2dxa2M1yiytOTKGMats4WLlsDAPPBruqACiiigAooooAKKKKACiiigAooooAKKKKACmySCKJ5GDFUUsQqljgegHJPsKdRQBm/wBvWn/PHUP/AAW3H/xFH9vWn/PHUP8AwW3H/wARWlRQBm/29af88dQ/8Ftx/wDEUf29af8APHUP/Bbcf/EVpUUAZv8Ab1p/zx1D/wAFtx/8RR/b1p/zx1D/AMFtx/8AEVpUUAZv9vWn/PHUP/Bbcf8AxFH9vWn/ADx1D/wW3H/xFaVFAGb/AG9af88dQ/8ABbcf/EUf29af88dQ/wDBbcf/ABFaVFAGb/b1p/zx1D/wW3H/AMRR/b1p/wA8dQ/8Ftx/8RWlRQBm/wBvWn/PHUP/AAW3H/xFH9vWn/PHUP8AwW3H/wARWlRQBm/29af88dQ/8Ftx/wDEUf29af8APHUP/Bbcf/EVpUUAZv8Ab1p/zx1D/wAFtx/8RR/b1p/zx1D/AMFtx/8AEVasNRstVsY73S7yC9tJcmOe2lWSN8HBwykg8gj8KsUAZv8Ab1p/zx1D/wAFtx/8RR/b1p/zx1D/AMFtx/8AEVaGoWTak2nLdwG+WITNaiVfNEZOA5TOdueM9M1YoAzf7etP+eOof+C24/8AiKP7etP+eOof+C24/wDiK0qKAM3+3rT/AJ46h/4Lbj/4io08S6dIpMYvWAYqSunznBBwR9zqCCPwrWrC0j/j0n/6/br/ANHyUAWf+Eisf7l9/wCC64/+Io/4SKx/uX3/AILrj/4ipaKAIv8AhIrH+5ff+C64/wDiKP8AhIrH+5ff+C64/wDiKlooAi/4SKx/uX3/AILrj/4ij/hIrH+5ff8AguuP/iKlooAi/wCEisf7l9/4Lrj/AOIo/wCEisf7l9/4Lrj/AOIqWue1/wAd+HvDOpxadrF5NHdzQ+ekMNnNOxjzt3fu0bAzxzQBuf8ACRWP9y+/8F1x/wDEUf8ACRWP9y+/8F1x/wDEVV0bWrHxBpq3+lvK9uzFQZbeSFsg4Pyuob9Kra/4r0TwwsH9t3y273BIhiWN5ZJccnaiAscd8DigDT/4SKx/uX3/AILrj/4ij/hIrH+5ff8AguuP/iKpaB4i0nxRpa6joF9He2rMV3pkFWHVWU4Kn2IBqLTvFmh6tr17o2majFdX9goa5iiywiycYLY25yOmcjvQBpf8JFY/3L7/AMF1x/8AEUf8JFY/3L7/AMF1x/8AEVzmpfEbw1pGpTWF9c3q3EDbZBHpd1IoOM8MsZU/ga1PD3iTSvFWkjUtBuTc2hkaPeYnjO5Tgja4B4PtQBloi3fi231rXb6e7XTvN/s22ttDuYBCZBtZ5GO8yPs+UEbRy3y8jHR/8JFY/wBy+/8ABdcf/EVLRQBF/wAJFY/3L7/wXXH/AMRR/wAJFY/3L7/wXXH/AMRUtFAEX/CRWP8Acvv/AAXXH/xFH/CRWP8Acvv/AAXXH/xFS0UARf8ACRWP9y+/8F1x/wDEUf8ACRWP9y+/8F1x/wDEVLRQBF/wkVj/AHL7/wAF1x/8RR/wkVj/AHL7/wAF1x/8RUtFAEX/AAkVj/cvv/Bdcf8AxFH/AAkVj/cvv/Bdcf8AxFS0UARf8JFY/wBy+/8ABdcf/EUf8JFY/wBy+/8ABdcf/EVLRQBF/wAJFY/3L7/wXXH/AMRR/wAJFY/3L7/wXXH/AMRUtYfiDxloPhZ4Y9bv/IlmBaOGOJ5pGUdW2RqzYHrjFAGv/wAJFY/3L7/wXXH/AMRR/wAJFY/3L7/wXXH/AMRVbRdb03xFpMOp6JeR3lnMCUmiPBxwR6gj0PIqhr3jPRPDNzFb6xNdRySpvQQ2E84IzjrGjAfQ0AbH/CRWP9y+/wDBdcf/ABFYviW8n1qxNhp2pXGm2txG0V2x0O5lmZGwD5T8LG2N3LK/JBxxy3QfHfh3xLPew6Rfu8lgiyXKz2stuYlbOCfMVeODVbTvib4Q1XVIbCx1lHnuHKQF4JEjnYHGEkZQjn/dJoA3dP1PSNK0y10+xgvorW0hSCGMafcHYiqFUfc7ACrH/CRWP9y+/wDBdcf/ABFc/rvxD8LeG797LWNVWG4jVWlSOGSXyQ3QyFFIQH1bFdBa3UF9Zw3VnMk9vMgkiljbcrqRkEEdRigA/wCEisf7l9/4Lrj/AOIo/wCEisf7l9/4Lrj/AOIqWigCL/hIrH+5ff8AguuP/iKP+Eisf7l9/wCC64/+IqWigCL/AISKx/uX3/guuP8A4ij/AISKx/uX3/guuP8A4ipaKAIv+Eisf7l9/wCC64/+Io/4SKx/uX3/AILrj/4ipaKAIv8AhIrH+5ff+C64/wDiKP8AhIrH+5ff+C64/wDiKlooAi/4SKx/uX3/AILrj/4ij/hIrH+5ff8AguuP/iKlooAi/wCEisf7l9/4Lrj/AOIo/wCEisf7l9/4Lrj/AOIqWigCL/hIrH+5ff8AguuP/iKP+Eisf7l9/wCC64/+IqWuY1r4jeFPD2pSWGq6usVzCAZkjhkl8gHoZCikJn/aIoA6L/hIrH+5ff8AguuP/iKP+Eisf7l9/wCC64/+Ipbe4hu7aO4tZUmhlUPHJGwZXUjIII6isPxB468OeF7pLXWtSENzJH5ogihkmkCf3ysasQvuRigDb/4SKx/uX3/guuP/AIij/hIrH+5ff+C64/8AiKzW8V6CvhkeIm1W1GkFN4vPM+TGcdfXPGOueOtV/D/jjw74ouprXRdR865hUO8EsMkMgU9G2SKpK+4GKANr/hIrH+5ff+C64/8AiKP+Eisf7l9/4Lrj/wCIrmr/AOJng/S9Vk06+1uKOeGQRTMIpGjhfONryBSiHPZiK6lWDKGUggjII70AR/8ACRWP9y+/8F1x/wDEUf8ACRWP9y+/8F1x/wDEVLRQBF/wkVj/AHL7/wAF1x/8RR/wkVj/AHL7/wAF1x/8RUtFAEX/AAkVj/cvv/Bdcf8AxFH/AAkVj/cvv/Bdcf8AxFS0UARf8JFY/wBy+/8ABdcf/EUf8JFY/wBy+/8ABdcf/EVLRQBF/wAJFY/3L7/wXXH/AMRR/wAJFY/3L7/wXXH/AMRUtFAEX/CRWP8Acvv/AAXXH/xFH/CRWP8Acvv/AAXXH/xFS0UARf8ACRWP9y+/8F1x/wDEUf8ACRWP9y+/8F1x/wDEVLRQBF/wkVj/AHL7/wAF1x/8RWL4UNj4Z0NrGSe/vJpLq4uprg6XcIZHllaQnG04xux17UuveNvD3hm6jtdY1AR3Uq70toYZJ5Sv97ZGrMB74xUl14w0Cx8Nw6/d6lFDpk+PKncMPMJ6KFxuLcH5cZ4PFAGr/wAJFY/3L7/wXXH/AMRR/wAJFY/3L7/wXXH/AMRWRofjPw/4khupdI1FJfsf/HyksbwvCMZyyOAyjAPJGKXQfGWheJp5YdFvjPLEglKPBJEWjJwHXeo3oSPvLke9AGt/wkVj/cvv/Bdcf/EUf8JFY/3L7/wXXH/xFV7DWbDVLq+t7C48+Swm8i52o21JMAld2MEgEZwTjocGrtAEX/CRWP8Acvv/AAXXH/xFH/CRWP8Acvv/AAXXH/xFS0UARf8ACRWP9y+/8F1x/wDEUf8ACRWP9y+/8F1x/wDEVLRQBF/wkVj/AHL7/wAF1x/8RT4tesppkiRL3c7BRusJ1GT6kpgfU06nR/6xfqKALtFFFABRRRQAUUUUAFFFFABRRRQAUUUUAFFFFABRRRQAUUUUAFY+v6B4d1WH7X4k0XTtRW0jZle8tI5jGvVsbgcdK2K5H4qX8mn/AAt15rf/AF9xbG0hGcZeYiJf1cUAc98LfAHhif4c6PqOpeF9HmvL5GvjLLp8TMoldpEAJXICqygY6ACtnQfHeo+KtQv4fD+gxyW2nahLZ3F5dXrRRMEfbmPETF3wNxXAUAr85JIHQStbeE/BrsCBa6RYE5PACRR/pwtZXww0t9I+GOhQTrtuZbRbm5yOTLL+8cn33OaAHTeKdU1DUb628I6Nb6nHp0hgubm8vjaxtMACYoyschdlzhiQoB4yTnFKy+Icd94G8R+Ir3R5bKDRpbmFrW5lUvKYUG4NtyFO/cmAWHy5yc4rB8E+MdN8M/DlbC5cXXiS1e5a60iJs3TTmZ2YsvVUJOfMb5QpBJxWXHBPP8AfDum3J/0vxZqFuZyB94XNx9olODnjy9/4UAdjq3i+08EaJ4Yt7fw+UbVZVt4tLsAAYMxNIVRQoDEMAvO0fNklQDV6w8U6mPF1toPiDR7ewlvrSW6tJLa+NwGEbKHRwY02MN6njcDzzxzRvEXVfjhpsbgOmhaNNdD/AGJbiQRqfrsik/An1pbb/iY/G/ULgnMOiaJFb89FkuJTI347IU/A+9AFzT9d06fXPFV9/ZdvAdEZbWbUxt33AWFZmUnaCAm/GCT3PFYVv8UNVu/AK+Mbfwpt0iK1FzdfaL8xzFcZcwp5R8wKM8sY9xBxkYY4HnzN+z/rN/C7LeeLL6cxerfa7nyY8ev7sofoK6r4lWkUHw6tfDVgvkx6ld2ekwon8MbSKGA9hEr/AIUAdBrviaPSo7CGytm1DUdUYpY2iNs8zC7i7sfuRqMFmwSMgAEkA5MPjPWIPGmmeGtc8OR2txqAlkS6tb/z4PKjj3MwJjRiwcopUqOHBBPIqjrOpafoHxitNQ8Q3dvp2nHQngs7q7kEUImM4MiB2woYqEOM5IB9Kq+GtXbxd8aNS1FLWeHT9H0lLezaeMxtKZ5CzSbSAygiEAA4JUBujCgD0qsLSP8Aj0n/AOv26/8AR8lbtYWkf8ek/wD1+3X/AKPkoAvUUUUAFFFFABRRRQAVw3iLQPFKfEaDxP4Xj0mdU0htPeHULiSMkmYSZGxG/ugc4613Nc9rmkeJry+87QvFMemQMgUwTaalwAe7K25SCffIoAj8E+LJfFVjfC+05tM1LTLx7K8tTIJFWRQDlXAG5SCCP8k6+p3Wm6TazazqjQW8dpCxe6kABjTgkbuuCQOO5xXGalp0nw5+HWpjRby4vPEGqXJMd3KiNLdX05Cq23G0AcHbjAVT71N4r8B634rj0FpvEcNudMVZLi3m08Tw3VwAP3jKHQcHJCnI5oAr/DDR559K8Qa1qFo9lD4mv5LuG0PyPHAw2qWx0Zh8xx6im+G9KsdF+NWqafpNrFaWkOgWqxxRLgD99J+vv3rqNF03xJaR3Y1zxDbak8iAW7Rab9n8luckjzG3dRxx0965uz8CeLbbxhJ4hl8aWctxPBHbToNECh4kYtgfvjg/MeaANn4i+JJfDHgm6ubAb9SuStnp8Y6vcSnagHrgnd9FNXvB/h2Hwn4P03RICG+yQhZJMf6yQ8u/4sSfxqvrPhP+3PF+h6xd3p+y6MZJY7HysiSdhtWQtn+EZwMdTnNdFQAUUUUAFFFFABRRRQAUUUUAFFFFABRRRQAUUUUAFYXiS+1HSFW90Lwu+uXkiGNzDPDAyKvKgs5BIyTwM454rdrm9d0DX7zVxf8Ah7xVJpW6ERSWs1mt1A2CSHCllKt82CQcEAZHFAHP/BjyF8NasCxj1KXWLi41KyMRj+xTuQTEAf4QAMEcHmu81G/t9K0y51C+kEVtaxNNK5/hVRkn8hXA3+lT/DrwFrM+l6hcah4l1m5Gy7kjTfPeSkIm1MbQo67eQADW94m8KXni3wTb6FqOq+Q0hg/tGWOHJuVQgyIMEbNxHXnA7GgDlPDOm2938LPEviPxfM1gfFcU93eTfxW9qyFIkHrtjwQO+7HNczb32tT6V4O07xxpjab4Xs7yB7bVo4QGuGjIFsJY9xNuG4JJznOPlycey694fsvEHhe80G7DR2d1AYD5JClFxxt7ccY+lclN8Odb1aztNM8T+MG1PR7WWOQ2qackMk/lkFFkkDHIyBnCgnFAF3x1qOt6XYahF4a8GNrBvLYma5SWJVLkbMOhO+QhQvAByMDPpN8K106P4XaHFo96b61it/LE7IULOGIcFTyuGyMdsUup+GPFEupXc2ieNZrC1u23G2nsEuTAcAHynLKVHGcHcAa1fCnhmy8H+GbXRNMaV4LcMTJM255GZizMx9SSTQBsUUUUAFFFFABRRRQAUUUUAFFFFABRRRQAUUUUAFeV6JdXPhHUvFml634V1jUf7W1a4vIJ7GzNxFdQSgbUZ84UgfLhiAK9Urj9Y8K+J9Xnu7f/AITWS10m6YhoINOjW4SM9UWbPHHAbYT70AUvgi0zfBrQftBYsqTKpYgnYJ5AnT/ZApngP/SfiP4/u7hc3K38FsrN1WJYRtUeg5J985q1r73Wgf8ACJ+FPBTLZySXUasgRXEdjCP3xO4HqCi56ksOc1JqfgfUV8UXuveE/ER0S51KONL6OSyW5jmKAqjgFl2sAcZyQcdKAPL7JR/b1togjDaTH8RLkLHn5F2xB1jwOMByTj1+ld743JtPi94EvLNM3cqahA6qcGWMW+8Ke5AYAgev1q7J8LtP/wCENttFg1C7ivbW+Gpx6qdrTfbNxYykEYOSSCPTj3q1ovgy+h8TR+IPFGvNreoW1u1vabLRbaG3ViN7BAzZZsAEk9OMUAcx8P7K1vv2bcXqLIL+xvJrt3wTI7NIWdie/v2wPSus+GM81z8LPDUtySZDpsIJZskgKADn6AVhn4W6hBpt7oOleLLix8NXskjPp6WaNLEkjFnjjmJ+VTk9VJGTzXfWVnBp2n29lZRiK3tolhijHREUYA/AAUAT0UUUAFFFFABRRRQAUUUUAFFFFABRRRQAUUUUAeR+Gm8X33ivxxf+HRoayrrT2rT6ksru6xRoEiAQjaoBzuyeWbjiku9c1DxXp/gjxsmg3V1FpV9cjUtNtF86SN9rReYi/wAe1xuGOeR710954D1SHxBqmpeFPE76Imrsr3sDWSXAMgXb5kZZhsYjrkMM84q3B4NvNC8J6dongvWv7IWxzuluLRbr7RnJYuCVOSxLZBHJ9KAOHlkXxn8Xry2t9O1PSItT8J3NncPe23kO4MgVZNhO7jfgFgD2HFOvofEeia3ZLc3Wlwa0NFbTrZ7MvIlraqyPNey7lXbtEahUGQWOMnt3vhrwk+i6jeavq2qS6xrN8qxzXkkaxqka5KxxxjhFyScZJJOSTS2Pg+GNdbk1a5bULzWt8dxcbPL2QEFUhQZO1VUnvySWPWgDL8AeINE+y2fh7SdO1LT1+x/bLVtQiCm9iLDdOGDEklnDHdhvmziu3rkPDPgi60bVLS91XWf7UbTrD+zrBVtRD5URKkl8Md7nYgz8o46c119ABRRRQAUUUUAFOj/1i/UU2nR/6xfqKALtFFFABRRRQAUUUUAFFFFABRRRQAUUUUAFFFFABRRRQAUU2SRIYmkldUjRSzOxwFA6knsKZa3VvfWkV1ZTx3FvMgeKaJw6SKRkMGHBBHcUAS0VX+32f9pf2d9rg+2+T5/2bzB5nl5279vXbnjPTNWKACisvVtftdH1DSbO4jmkn1a6NrAsSg7SI3kLNkjCgIemTyOKfZ69pt/rmo6PaXPmX+mCI3kQjYeV5i7k+YjBJAzgE470AaNFNd1jjZ3O1VBJJ7Cs/wAPa3B4l8O2Os2UM8NvfQiaJLhQr7D0JAJHI5696ANKiiigAorOj17TZfEc2gx3G7UoLZbqWERt8kbMVUlsbckg8Zz3xitGgDG1WTxNBfI+h2uk31o0eGivLmW1kjcHqHWOQOCD02rjHVs4WDwvoF1pU2p6nq9xFPqurzJPc+QCIoQsaosSZ5KqF+8QCxJOFzgdBRQAVh6OjGznIUkfbbrt/wBPElblZug/8g6X/r9uv/SiSgCXy3/ut+VHlv8A3W/KrtFAFLy3/ut+VHlv/db8qu0UAUvLf+635UeW/wDdb8qu0UAUvLf+635UeW/91vyq7RQBS8t/7rflR5b/AN1vyrE8T+OrfwzrWn6SNH1XVr3UIpZYotNijchY9u4ne6/3h0zVi38U3E/hq51Y+GNchkgk2DTpIohcyj5fmVRIVI+buwPynjpkA0/Lf+635UeW/wDdb8q5CT4qRWuqaXY6n4R8Tac2qXkdlbyXNvAE8xz32zE4AySQDgCrWv8AxKsNAur2M6Lrmow6dj7dd2NlvhtuAxyzMu7CkE7Q2B1oA6Xy3/ut+VHlv/db8qfpmpWmsaVa6lpsyz2l3Es0Mq9GVhkH/wCtVqgCl5b/AN1vyo8t/wC635VdooApeW/91vyo8t/7rflV2igCl5b/AN1vyo8t/wC635VdooApeW/91vyo8t/7rflV2igCl5b/AN1vyo8t/wC635VdooApeW/91vyo8t/7rflV2igCl5b/AN1vyo8t/wC635VdooApeW/91vyo8t/7rflV2igCl5b/AN1vyo8t/wC635UurarZ6Ho93qmpzLBaWkTTTSH+FQMn6n271g6D8QtI17wVP4nSC+s7K3eSOWK5g/fKyHaV2IWyc8ADmgDd8t/7rflR5b/3W/Kuc0n4k6dqPiW20K+0rWNEvryNpLNdUtRELoKMsEIY8gclWwR6VJqPjm60/Ubi1XwV4mvEhcqLi2t4DFIB/EpaYHH1AoA3/Lf+635UeW/91vyqh4O8V2fjbwvba9plvdW9rcs4jS6RVc7WKk/KzDGQcEGtygCl5b/3W/Kjy3/ut+VXaKAKXlv/AHW/Kjy3/ut+VXaKAKXlv/db8qPLf+635VdooApeW/8Adb8qPLf+635VdooApeW/91vyo8t/7rflV2igCl5b/wB1vyo8t/7rflV2igCl5b/3W/Kjy3/ut+VXaKAKXlv/AHW/Kjy3/ut+VXa5TxB8R9A8OeItP0K5knudRvrqG28m0j3/AGcysFRpTkBASe/JHIBoA3vLf+635UeW/wDdb8qu1yuu/ECx0bXG0a10vVtb1GKETz2+lWwlMEZztLlmUDODgZyfSgDd8t/7rflR5b/3W/KsL/hZHhw+CE8VLcytYSOIUjWFjM0xbb5Ij6793GPx6c0aB4/sNc15tEuNN1TRdT8j7RHa6pbiNpos4LIVZgQD1Gcj0oA3fLf+635UeW/91vyrkb/4uaJZS3siabrV5pmnztBeata2e+1gdThstuDMFPUqpArt4J4rq2iuLeRZYZUDxupyGUjII9sUAVvLf+635UeW/wDdb8qu0UAUvLf+635UeW/91vyq7RQBS8t/7rflR5b/AN1vyq7RQBS8t/7rflR5b/3W/KrtFAFLy3/ut+VHlv8A3W/KrtFAFLy3/ut+VHlv/db8qu0UAUvLf+635UeW/wDdb8qu0UAUvLf+635UeW/91vyqa9vLfTrC4vb6VYLa2iaaaV+iIoyzH2ABNcZZfFjSbq4077TpGuadY6pMsNjqV7ZhLe4d/uAEMWXd23KM0Adb5b/3W/Kjy3/ut+Vc/f8AxH0nTtcnsJbTUHgtbqKzutSjhU21tNLt2I7bt2fnTJCkDcMkVr3PiOzt/FFnoCJNcX9zC1wywqCtvEvHmSEkbQW+UdSTnjAJABZ8t/7rflR5b/3W/KrtFAFLy3/ut+VHlv8A3W/KrtFAFLy3/ut+VHlv/db8qu0UAUvLf+635U5EYSLlT1HardFABRRRQAUUUUAFFFFABRRRQAUUUUAFFFFABRRRQAUUUUANdFkjZHG5WBBB7iuA+G2rW+hfBuKXWJvKh0AXVrcu5yVW3ldPxO1Rx+Feg15DYeHNX1Lx9rXhq906eDwxDrZ1ue5kiKx35dI3jgQ9GAm3O+P7gB60Aami3lx4c8O3njTXLGSbxF4muIlt9P3bWUMdtragkfLhTuc44JckHFW/EOu+OPDMOmyT/wBhaj/aV9b2OyG3mhNq8sijOTI3nKF3jP7sjAbBGQLvj62uV1DwvrEdpcXlnpOqeddxWsLTSqjwyRCQRqCz7WdSQoJxk44NZGqXWr+LPiN4SFvo97b+G7Oee9kuru2eJ5ZkiZEyjDdGoZ+PMCsxyVGAGIBp6jnUvjbottx5ej6RcXrc/wAczrEn/jqS/rS2fj4p4X8Qa/qkKNaWOqT2djHbKQ9yEcRIvJOXaXcoPAwV6cmk0eG7g8ZeN/EVxY3W1RBaWatE26eOGHeSi9WBklYAjqRxzXPx+HNT074P+D1exuZ7nTb+01XUbSOMtNzKZZcJ1ZlZy20cnbgZNAE/j/VPHej/AA+1LULhdGmW6ga2ayt0kjltGmPlxkTFyJirOoI8tN3UY6HflvrnRZNG8FeForY38dgrPNcqxhsraPbGHKKQXLH5VQMucMSQF5xfFN3qfjLWvDOn6Xo+oR6GNWiuL27u7SSAv5IaULsdQypuQZZwuWKBd2Ti9NcSeGvilrGqalp+o3NnqmnWsdpPY2M10EaFpd8bCJWKE+YrAsADzzwcAFjTdf8AFEfxIj8MaxFpc9sunSX76haRyRmQb0RE8tnbyyD5mfmcMACCpyKxPBlt4o1Dx74p1iTVtJZYr2HTJm/sqT96kCBmEf8ApH7v5pnGTv5Ge22tHwTDrl/8Q/FeveI9Ll03cttY2EMnJWBA0h+YZViWk+bYWUNkAnGaf8Mp3s9LvNM1Sx1G21c397d3hmsJlictcuQUmK+W+VKYCsSR24OAC3b+OFiHjDUdVEcWjeH7r7PFJGh82QrCjyAjOCd77Vxiqup6z4407wrdeJpoNGhjtbY3kmhvFI0wjVdzRm6EgUSbQekRUH5csPmOBD4b1i8+CjkadcNql7q39s3NhKPLllH20TmPD42t5agYPcYrc8Sapc+ONBm8OeHdO1WH+1E+z3t7fafLaJZ27cSH98qmRypZVVA3JyxUckAn8XeObvSbfwwfDmnrqV1r90qRW0nylovJaQndn5MHZliGwCx2tjFTW2ueINO8daboevyabdR6raXFxE1jbyRNbNCY8qxaRt4IkwGATlenPDH0qWb4t6Wy2cqaZomiSiCUxnyxNNIiBVY8EiOI5xyAw9akt7G6u/jLe6lNbTJaafo0VpbzOhCSSSys8mwnhsCOIHHTPvQB19Zug/8AIOl/6/br/wBKJK0qzdB/5B0v/X7df+lElAGlRRRQAUUUUAFFFFABRRRQBx3ivwdq2s+KtJ17QNeh0m7023ngHnWP2lZBIVzxvXH3fem+AfE2sarqPiDQvEy2j6noNzHE9zZArFcJIm9G2kkq2OozjNafiDwo+u3iXMPiLXNIdY/LK6bdKiOMk5KOrLnn7wAOMDPFT+GvCum+FdPmttM853uJTPc3VzKZZriQ9Xdz1P6e1AHI2Df8Jn8bLy/+/pfg+E2dueqvfSjMrD/cTCexNaPxDj8eXWl3tp4OttIktp7Uxs9xO4uQTkMEXbsztxgsw56itvwn4VsfB2h/2Zp0lxOrTSXE1xdOGlnkdizO5AAJ7dBwBWRqfw2tNQvrye28Q+IdMhv3L3VnY3+2GRm+8cMrFM99hXrQBN8LrzSb74XaBN4dWddOW1EUQuAPMBQlG3Y4zuVuRxXWVR0XRrDw9otrpOj2621laJ5cMSknaOvU8kkkkk9SavUAFFFFABRRRQAUUUUAFFFFABRRRQAUUUUAFFFFABRRRQB5V8RPF+gP480zwt4j1W303SrNU1O/+0MQLpg37mEeo3De3b5VHepfgj4i0jU9F1q00+/hnnTWLy5aNDyIpJmKP9CK9QrlR8P9NTwdq3huG91CG11aeeeeaOVVmUzPvcK23AHJHIPB70Ac5bt/wsX4rabrWm8+HfCvnrFej7t9dyLsZU9UQDlhwW4Ga1fixrN1ZeEk0XR3xrHiKddMs8dU8ziSTjkBU3HPY4p2h/Db/hH/ALDHY+MPEhs7Ep5dk81v5LKp+4VWEHacYOCD71t3nhSxv/Gen+JbqW4kutNt5ILWAsPJjMn3pAMZ3kDbnOMdu9AF3RNItdA0Gx0nT1221lAkEYPXCjGT7nqavUUUAFFFFABRRRQAUUUUAFFFFABRRRQAUUUUAFFFFABXnXxTs7a3TwxNb28UUtz4v0x5nRADKwfaCx7nCgc9gK9Fri/FPw2i8Waol3e+J/EFrHDcxXUFrazwrDBLGBtdQ0ROcjPJPJNAHaV538PST8RviN5+PtH9p2+em7y/IXy/wxnH41Z17SdcVvCvh3SNU1iYLqH2y/1eV8MbeIljFI6KqkuWVAuOQCSDg1f1v4e2Gr6/LrVnqur6JqFxEsNzPpVyIvtKLnaHDKwJGeGABHrQB5HZZHi62wFGmN8S7opnoZfJGMZ/292Md816B48Eh+L3w9NiAbwf2kRwfufZuc9sbtuM8ZxW9L8N/DknguDwwttLFY28gnhkjmYTxzBt3nCTrv3EnPvjpxTvD/gKx0LWn1i41HU9a1QwfZ0vNUuBK8UWclECqqqCeScZPrQByHw1Nqf2YYTcbfJ/sy9+0bv96Xfu9+ua6r4ViZfhJ4XFyMP/AGZBjg/d2Db19sVQufhDolw13Ampa1baTfTNPdaPb3uy0lZjlvl27lDHqqsBXcwwx28EcMEaxxRqEREGAqgYAA9KAH0UUUAFFFFABRRRQAUUUUAFFFFABRRRQAUUUUAYfja50m08C61N4jV30sWUoukjHzMhUghfc5wPevHvs/ijQNH8K3XxC23Xg6xu4WhgilX7VbNuAtjdYUCRUyMhMc9d2OfcdX0my13R7rS9UgE9ndxGKaMkjcpHPI5H1FchB8J9NBs4tS17xBq1hZSpLBp19fB4FZDlMgKGYKcYDMRxQBj+OPDK6NDqV8+ryNperapb3jaJFahpr29Ux+XFHLu+UO0KEjaSAGOQKq6P4mvfCV1rd7qmkjUp4r23TxDq6XQQxSyhNsUMRUloolkReWX+I4JJr0i58PWl54otNcupJpprKForaBmHlQsx+aULjO8j5ck8DgAZOcfUvh1pWp65c38t3qEUN7NDcXunxSqLa7ki27GdSpbPyLnawB2jINAHW0UUUAFFFFABRRRQAUUUUAFFFFABRRRQAUUUUAFFFFABRRRQAUUUUAFFFFABRRRQAUUUUAFFFFABRVTUtV0/RrJrzWL+2sLVSA091MsSAngAsxA5rG/4WP4I/wChy8P/APg0g/8AiqAOkoqvY39nqljHeaZdwXlrKMxz28gkRxnHDDIPIqxQAUUUUAFFZ0evabL4jm0GO43alBbLdSwiNvkjZiqktjbkkHjOe+MVo0AFFFFABWVocqLp8oY4P2267f8ATxJWrWFpH/HpP/1+3X/o+SgDZ8+P+9+lHnx/3v0qpRQBb8+P+9+lHnx/3v0qpRQBb8+P+9+lHnx/3v0qpRQBb8+P+9+lHnx/3v0qpXO+MPHWi+CNO+06zLI8jIzx2tsnmTShRliF9AOrEgDuaAOt8+P+9+lHnx/3v0rOs7lL2xguogwSeNZFDDkBhkZ/OsjXvEs+h3MUMPhzWtXEibjJp0UTqnOMHfIpz+FAHUefH/e/Sjz4/wC9+lcX4Z8eWnibVdV04aVqel3OkrG10uoxxoF3gsvKO3OBnnHFO8PfEDRPFPiG90nRWnnazhWZrry8QyqWK/u2Jy3KnkDHoTQB2Xnx/wB79KPPj/vfpXE6x8QLLTNcuNIstJ1fW72zjWS7j0u2En2YMMqHLMoyRyFGTjtWz4e1/T/FGhW+r6PMZbS4B2llKsCCQVIPIIIIxQBu+fH/AHv0o8+P+9+lVKKALfnx/wB79KPPj/vfpVSigC358f8Ae/Sjz4/736VUooAt+fH/AHv0o8+P+9+lVKKALfnx/wB79KPPj/vfpVSigC358f8Ae/Sjz4/736VUooAt+fH/AHv0o8+P+9+lVKKALfnx/wB79KPPj/vfpVSsDxd410bwVphu9ZmcsVZoraBN80wUZbavoByScADqRQB1Xnx/3v0o8+P+9+lZem38WqaTaahbq6xXcCTorgBgrKGAOM84NZniDxVBoE9vbDT9R1O8uVZ47XTrfzH2rjLEkhVHIHJGc8UAdP58f979KPPj/vfpXH6N490jXPDOo6zaJdRrpnmi9tJ4dk8DxruZGUnG7Hvj3qroHxAPiJ7FrXwn4igtL5FkivbiCEQhGXcrEiUnBGO3egDuvPj/AL36UefH/e/SuI174g2ehXt5bro+tal9gVWvZrCz3x24Kh/mZmXOFIYhdxANdBpGrWWu6Pa6ppUwns7uMSRSAEblPseh9qANfz4/736UefH/AHv0qpRQBb8+P+9+lHnx/wB79KqUUAW/Pj/vfpR58f8Ae/SqlFAFvz4/736UefH/AHv0qpRQBb8+P+9+lHnx/wB79KqUUAW/Pj/vfpR58f8Ae/SqlFAFvz4/736UefH/AHv0qpRQBb8+P+9+lHnx/wB79KqVx2ufErT9Cmvd+ka3eWunttvL60st0FucZOWJBbaDztDY70Ad558f979KPPj/AL36Vm2N9banp9vfWEyz2tzGssMq9HRhkEfga5vWviDYaTrU+kWmmatrV9axLLdQ6XbCX7MrDK7yWUZI5CgliO1AHbefH/e/Sjz4/wC9+lccvjizvPC9lr2gabqWu2t421Y9PiQyR4zncrsuMEEHnrVXS/iLBqHiu08PXPh3XdLvbuGSaM30MSpsQcklJGIGcDp1NAHd+fH/AHv0o8+P+9+leeX3xX0aykvJE07WLvTbCZoLvVbaz320DqcNltwZgp6lVIFdrBPFc28c9vIskUqB0dTkMpGQR+FAF7z4/wC9+lHnx/3v0qpRQBb8+P8AvfpR58f979KqUUAW/Pj/AL36UefH/e/SqlFAFvz4/wC9+lHnx/3v0qpRQBb8+P8AvfpR58f979KqUUAW/Pj/AL36UefH/e/SqlFAFvz4/wC9+lHnx/3v0qpRQBb8+P8AvfpR58f979K4PXPiVp+hTXu/SNbvLXT223l9aWW6C3OMnLEgttB52hsd61NS8YabYaLY6nbpdanHqO37FFp8BlkuNy7htHAA2jOWIA7mgDqPPj/vfpR58f8Ae/SuM0P4gaRrUerebFeaVc6Mu+/tNRhEcsCbSwcgEgqQCcgn9RT/AA743svEWofYVsNQ064e1F5Al9EqG4gJx5ibWbjJGQcEbhkc0Adh58f979KPPj/vfpXP6J4htPEDXzackzW9ncNbC6ZQI53X7/lnOWCtlScAZBxnFatAFvz4/wC9+lHnx/3v0qpRQBb8+P8AvfpR58f979KqUUAW/Pj/AL36UomQkANyfaqdOj/1i/UUAXaKKKACiiigAooooAKKKKACiiigAooooAKKKKACiiigAooooAKKKKACuI8G41H4geN9ZHKreQaXGTjgQQhmx/wOZvy9q7cnCknt6DNcf8L7G7tfBCXOp201rf6leXN/cwzoyujSzOwBVhkELtGD6UAWLzX9U1PxNdaF4VW0jawRGv8AUbyNpYoHcZSFYlZC7lcMfnUKGX7xOKxrX4i3Fn4T8VapqkdrqY8OzNEt1pmY4L47FYBdzPsKlwjfM2CCfasqDRPD2m+JvEY8ceD21S4u9Sa8tNQ/sB9RWW3dVCpvjjcoUKspRsdiMhq7WbWrSz8OWMlz4f1KPT7qPymtYtP85raPadqyQRbmCkALhVbGQGC84AH6N/wlBuYZtWvdEvLGeEsRY28sTRMcFdrtI4lXqM4Tscc4rjvBlt4o1Dx74p1iTVtJZYr2HTJm/sqT96kCBmEf+kfu/mmcZO/kZ7ba0PAmkCw8V6vdeH7G90rwtNBGILK6jkgVrne7SSQwSYaFMMFI2qGIyAQATJ8Mp3s9LvNM1Sx1G21c397d3hmsJlictcuQUmK+W+VKYCsSR24OAC/Y+L5pn8Y3dykK6ZoE7QwuqkO5jt0klLc4OGbAwBwK5qPxt42f4WL42uLTSLGKCxW8ksJoJGku1ADMVcSYhDDO0ESHGCcZ2iqdH1eT4D39r/Z96ureJLyV54PJbzIhdXWGLrjKhYm5z0wc11PxH0ybUPB9poOm2kskV/qFnayiCMkQ24lVpCcfdUIhGTxyB3oAv6/4kuba50zStDgjm1fVld4Rc5EdtEgBeaQDkhdyjaCCxYDI5YZUev8AivT/AIg6R4b1YaTe29/HPcte2kEkLLFGgBUxNI+1vMeP5txBBIwCMk1iSXQ/itDrt5Y39xps2jGyWays5boxSibeQyRKzAMuOcY+XGazvCdzqfiH4x65quq2L2EOm6ZBaWdtKQZI1ldpGL4JAdhGjEAnClAcHIoA9JrC0j/j0n/6/br/ANHyVu1haR/x6T/9ft1/6PkoAvUUUUAFFFFABRRRQAVx/wAUbW3/AOFaeJrswR/af7JnjE2wbwu0nbnrjPOK7Cub8XeDE8YWrWt1rmr6faSQtDNb2EsapMrdd25GPtwRQBqaB/yLemf9ekX/AKAKXXdZtfD3h++1fUG221lA00nqQBnA9z0Hua5LWtB1bw58Pb3SfD2qa3quoXxSzs5riQF7TfhN++NF2IgyxJ9OvIrb1nwda+I/C1loWtXl3NbwNA87K4DXZiwcSEg5ViATjB96AMr4ZaHPB4Le/wBdiD6l4hlfUb9HGR+9+7Hg9lTauO3NQaTDHb/HXV4YI1iij0C0VERQFUCWTAAHQV3Usfm27xK7RblKh4+GXI6j3FcRa/C9LTxB/bS+MPE0l6yJFI8lxAfNjRiwRsQ9Mk/nQBzWoW/iS++Inii7+Fk0NrKsaW+rPqODDNcrGNnkqASHVDgsflzjg9a634VXGmS+AbeDSbe4tfsc8tvdw3MgklW5VyZdzjhiWJORxyOB0D7/AOHVlc65earpms61olxfkNdrpt0qJOwGNxVlYBsDGRg1t+HPDun+FtFj0zSUdYFZnZpZC7yOxyzsx5LEnrQBqUUUUAFFFFABRRRQAUUUUAFFFFABRRRQAUUUUAFcv8RLS3b4eeJrtoIzcpol5GsxQb1UwsSoPUAkDj2FdRXPeLPCK+LrM2k+t6tp1tJDJDPDYSxqs6OMEPvRu2RxjqaALHg7/kRtC/7Btv8A+ilqbxD4g0/wxos2qavN5UEfAAGWlc/dRF6sxPAArktW8Oap4X+Hl5pHhvVdc1S9vVisbF7iVS1lu+QOHjRdiquWLH+6Oava58OLfxDJodxfa9rEF3osW2Ga2mj+d9oBlYOjZfjr15oAz/BvhLUpfCXiO410fYdT8VyzXEsGN32NJE2RoemWVeT0547VntL4s+F1l4ctrzVdP1zQzcW2ktGLI208KkBEZT5jBsYGc9f1HYaf4RlsrK+trjxPr2oC7QIJLm5QPBjPMbRopU8+/QVTtPh1ZR6vaahq2sazrkljJ51pFqd0rxQSdA4RVUFhk4LZIoAd4/8AEx0fSP7L0qL7Zr+rK1vp1kvJZiMGRvREB3EnjjHetDwX4cHhHwVpehCXzjZQBHkAwHc8sR7bice1Y1/8Mra88X3viS38Sa9p9/eokT/ZZ4dqIoACLviYquRkjPJOa6bRtMfSNNW0l1K91NlYn7RfOrSHJ6EqqjA+lAF+iiigAooooAKKKKACiiigAooooAKKKKACiiigAriPiTrkh0mTwnoSLd+INcge3ggB4giYbXnkP8KKCeT1OAM129cPL8L7c+JdT1yy8T+IbC81Nw0/2aeHGB91RuiJCjsM0AdN4c0aPw74Z03RoJGlSwto7cSMOX2qBn8cZrjksvFHhTx14hv9L8PLrun65JDOjw3kcElu6RhCriQjK8ZBXJHpVvXdK1pW8L+HtJ1PV5Qt/wDa7/VpXwxt4iWMbuiqpLllQLjkAkg4NaGteBxreoz3EniTxDZwXIUS2VpehIWAULgDaWTIHO1hkknuaAMT4Mef/wAIhqtxdJHCs+uXssaxyb41XzMEK2BlQwbnAzUfgIyeJ9c8R+PEG5bxm07RycY+zQkjcPZ5Mn8K7F/DVgvhF/Dmn+Zptg1q1qn2RtrxIRjKkg889TnnmrOi6RaaBodnpOmoUtbKFYYgTk7VGMk9yepPrQB5z8OTbH9mmI3G3yf7NvPtG7/el359+ua6n4XiZfhT4ZFwMP8A2bDjg/d2Db19sVQufhNos7XcKajrNtpV7M01zpEF5stZWY5bjG5QT1CsBXbQxR28KQwIscUahURRgKAMAAelAD6KKKACiiigAooooAKKKKACiiigAooooAKKKKAOI+JOuSHSZPCehIt34g1yB7eCAHiCJhteeQ/wooJ5PU4AzWvaaRqPhvwLY6R4ZFrdXdhbRW8Rv5GjjcKAGZiisQSATwOtY8vwvtz4l1PXLLxP4hsLzU3DT/Zp4cYH3VG6IkKOwzWle+CYb/SLC0udc1r7ZYM7Q6pHdCO6+Y8hiqhGGMDBXGFFAHF+GbO41Hx/4u0Tx5CsevazpanFk262+wcxYjJ+bduY53Dk9Biq+q6TqOl6z9gfxE95fQaMYLm+trQQnTdNUhnY/M26eQxhVPA4LADFd/4c8E6f4d1K61MXV9qeqXaCOW/1GYSSmMHIQYAVVzzgAVa03wvp+nW2pxN5l42qyvLey3RDPNuGNpIA+ULhQoGAB9TQBz/gjxPvk0vQX8OroltcaWLzS1juhMGgUoNrAKNjgOpI+Ycnmu5rmfDvgax8OX0d3HfahfywWosrX7bKr/ZYMg+Wm1Rx8q8tk/KOa6agAooooAKKKKACnR/6xfqKbTo/9Yv1FAF2iiigAooooAKKKKACiiigAooooAKKKKACiiigAooooAKKKKACiiigAooooAKKKKACiiigAooooAxtVsfEEt8lxoWuWtpGY9kltfaf9pjyDkOhSSNlPJByzA4GAuDlPDnhxdBS8nnunvtS1GYXF9eOgTzZAioAqj7qBVAVckgdSTknaooAKxdGidrKYqMj7bdd/wDp4krarN0H/kHS/wDX7df+lElAE/kSf3f1o8iT+7+tW6KAKnkSf3f1o8iT+7+tW6KAKnkSf3f1o8iT+7+tW6KAKnkSf3f1o8iT+7+tW6KAKnkSf3f1o8iT+7+tW6KAKnkSf3f1o8iT+7+tW6KAKnkSf3f1o8iT+7+tW6KAKnkSf3f1o8iT+7+tW6KAKnkSf3f1o8iT+7+tW6KAKnkSf3f1o8iT+7+tW6KAKnkSf3f1o8iT+7+tW6KAKnkSf3f1o8iT+7+tW6KAKnkSf3f1o8iT+7+tW6KAKnkSf3f1o8iT+7+tW6KAKnkSf3f1o8iT+7+tW6KAKnkSf3f1o8iT+7+tW6KAKnkSf3f1o8iT+7+tW6KAKnkSf3f1o8iT+7+tW6KAKnkSf3f1o8iT+7+tW6KAKnkSf3f1o8iT+7+tW6KAKnkSf3f1o8iT+7+tW6KAKnkSf3f1o8iT+7+tW6KAKnkSf3f1o8iT+7+tW6KAKnkSf3f1o8iT+7+tW6KAKnkSf3f1o8iT+7+tW6KAKnkSf3f1o8iT+7+tU/EnifSvCml/btZuDGjNsiiRS8s79kRByzewpui+KdP1zwbb+JofNt9Pntjdf6QoDogBJLBSewPQmgC95En939aPIk/u/rXKWnxS0ubW9P06/wBJ1vSV1R/LsLvUbLyobl+yg7iyk9gwXNdpJIkUbSSsqIgLMzHAUDqSaAK3kSf3f1o8iT+7+tcZD8YNClNtcNp2sw6PdziCDWprPbZyMTtX5t24KTwGKge9bWueLrjRdS+yQ+FPEGqrsDfaNPhhaPntl5VOR9KANnyJP7v60eRJ/d/WuW0r4o6LqGg65q97a6ho9toMxgvft8SBlkAGVARmycsBjrkgVJo/xJ07VNetNIvNK1jRbq/jaSx/tS1ES3YUZIQhm5A52tg47UAdL5En939aPIk/u/rVuigCp5En939aPIk/u/rVuigCp5En939aPIk/u/rVuigCp5En939aPIk/u/rVuigCp5En939aPIk/u/rVuigCp5En939aPIk/u/rVuigCp5En939aPIk/u/rVusjxJ4n0rwppf27WbgxozbIokUvLO/ZEQcs3sKALnkSf3f1o8iT+7+tUdE8U6drng638TRGS106e2N0WugFaOMAklsEgYAJ6muesfi1ot5eacs2mazYWOqSiGw1O8s/Ltrl2+6A24sN3bcozQB1/kSf3f1o8iT+7+tYGu/ECx0bXG0a10vVtb1GKETz2+lWwlMEZztLlmUDODgZyfSmj4kaHP4WsNc05bu/TULj7LbWlvEPtEk/OY9rEAMNrZyQBjOaAOh8iT+7+tHkSf3f1rItPHOjXHhO88QXDy2Nrp7yR3kd0m2W3kjOGjZQTls4AAJzkYzmtnTbw6hplteNa3FmbiJZPs9yoWSPIztYAkAjuMmgBvkSf3f1o8iT+7+tW6KAKnkSf3f1o8iT+7+tW6KAKnkSf3f1pUhcOpK8A+tWqKACiiigAooooAKKKKACiiigAooooAKKKKACiiigAooooAKKKKACiiigAooooAKKKKACiiigAooooAKKKKACs3Qf+QdL/ANft1/6USVpVm6D/AMg6X/r9uv8A0okoA0qKKKACiiigAooooAKKKKACiiigAooooAKKKKACiiigAooooAKKKKACiiigAooooAKKKKACiiigAooooAKKKKACiiigAooooAKKKKACiiigAooooAKKKKACiiigAooooAKKKKAKOq2lvNaSXE0Eck0EMnlSMgLR5XB2ntkelcx8Hf8Akjnhn/rxX+Zrc8SeHn8RWcdumt6ppIUks+nSRo0gIxtbejcfTFZHh34dQeGvDt1olp4i12eymtDaxLPcRZtFII3RFY12sM8E56CgDC11x8R/iLo+l6T+80jwrqK6hqN+v3Ddxg+Xbof4mGSWxwBx14r0DWtP/tbQdQ04P5f2y2kg34zt3qVz+tcbonwnj8O2NvY6P4y8T21nbnKW6T24Trk5/cc5PXuc1e0q11jU/iF4i1C7mv7TRo7dNNtLZ5HRZXHzSXCL25YIHHXaeelAHmnjJvFul/AG48K634SiijsrKCyOorqMbRS7GRY2SMfvCzEL8pUcnrXrHjDxL/whnw/vNYuh5txbW4WKPqZp2wqL75cj9aoWnw0sU1K0vNY1vXNeFjKJrW31S8EkUUg+6+1VXcw7FtxHXrWx4i8K2Pie40p9TluPL0u9W9jgjcCOWRQdvmAgkgE5ABHPXNAHl/iTw3P4U+DnhnT71vMuJdesrnWJXIPmSSTb5Cx7jeQPoBXUfFUE6r4B+z4+1f8ACUW5Xg58ry5PM6e2K7LX9B07xPoN1o+tW4uLK6XbImSDwQQQR0IIBB9RWFo3w50/S9cttXvtV1jXLyyRo7J9VuhKLUMMMUCqoyRwWOTjvQB11FFFABRRRQAUUUUAFFFFABRRRQAUUUUAFUdVtLea0kuJoI5JoIZPKkZAWjyuDtPbI9KvVjeJPDz+IrOO3TW9U0kKSWfTpI0aQEY2tvRuPpigDyqUzj9jUfZc7/7GXOP7u8bv/Hc1v/F0I3wLxZbDMW08WW0Ejf58W3GPbPSuh8M/Dqx8NaHPoh1XVdW0ma2NqLHUpI3jjjOQQoRFPIJByTVTTvhRo9jdae1xqes6lZ6XIsthp19diS3tXX7hVQoJ2j7u4tjtQBU+HpJ+I3xG8/H2j+07fPTd5fkL5f4Yzj8awPB/hmTxAPE82mXw06fTfG93eafcGAyoHEapIChI3Id7jgjnPNdvrfw9sNX1+XWrPVdX0TULiJYbmfSrkRfaUXO0OGVgSM8MACPWrlr4M03TvBb+GNIkutOs3jZDNbS/v/mOXbewPzNk5brzxjjAB5ZAXguoJlDa9Yf2+y26ti2i1fVnLM0p+9sghCEL97LLnkqM+reE/Ej+JLG8a5sTYXun3j2V3beaJVSVQp+VwBuUqykHA69KZqfgzStR8PWOjwiXTodNkjlsJbJgklq8YIVkyCOhI5BBBOetW/Dvh618N6fLbWks9w8873Nxc3LBpZ5W+87EADPAHAAAAAAoA1aKKKACiiigAooooAKKKKACiiigAooooAKKKKACiiigAooooAKKKKACiiigAooooAKKKKACiiigAooooAKKKKACiiigAooooAKo6Rby2tlJHOu1jdXEgGQflaZ2U8eoINXqKACiiigAooooAKKKKACiiigAooooAKKKKACiiigAooooAKKKKACiiigAooooAKKKKACiiigAooooAKKKKACiiigAooooAKKKKACiiigAooooAKKKKACiiigAooooAKKKKACiiigAooooAKKKKACiiigAooooAKKKKACiiigAooooAKKKKACiiigAooooAKKKKACiiigAooooAKKKKACiiigAooooAKKKKACiiigAooooAKKKKACiiigAooooAKKKKACiiigAooooAKKKKACiiigAooooAKKKKACiiigAooooAKKKKACiiigAooooAKKKKACiiigAooooAKKKKACiiigAooooAKKKKACiiigAooooAKKKKACiiigAooooAKKKKACiiigAooooAKKKKACiiigAooooAKKKKACiiigAooooAKKKKACiiigAooooAKKKKACiiigAooooAKKKKACiiigAooooAKKKKACiiigAooooAKKKKACiiigAooooAKKKKACiiigAooooAKKKKACiiigAooooAKKKKACiiigAooooAKKKKACiiigAooooAKKKKACiiigAooooAKKKKACiiigAooooAKKKKACiiigAooooAKKKKACiiigAooooAKKKKACiiigAooooAKKKKACiiigAooooAKKKKACiiigAooooAKKKKACiiigAooooAKKKKACiiigAooooAKKKKACiiigAooooAKKKKACiiigAooooAKKKKACiiigAooooAKKKKACiiigAooooAKKKKACiiigAooooAKKKKACiiigAooooAKKKKACiiigAooooAKKKKACiiigAooooAKKKKACiiigD/9k=)"
      ]
    },
    {
      "cell_type": "code",
      "metadata": {
        "colab": {
          "base_uri": "https://localhost:8080/",
          "height": 313
        },
        "id": "O5jaqzwPDwwa",
        "outputId": "f0016204-a056-4f19-da59-5c7b6f4a0e1e"
      },
      "source": [
        "# Pie chart\r\n",
        "not_hateful_count = hate_train_labels[hate_train_labels.label == 0].shape[0]\r\n",
        "hateful_count = hate_train_labels[hate_train_labels.label == 1].shape[0]\r\n",
        "\r\n",
        "labels = ['Not Hateful Tweets', ' Hateful Tweets']\r\n",
        "sizes = [not_hateful_count, hateful_count]\r\n",
        "fig1, ax1 = plt.subplots()\r\n",
        "explode = (0.02, 0.02)  \r\n",
        "ax1.pie(sizes, explode= explode, labels=labels, autopct='%1.1f%%', startangle=90)\r\n",
        "ax1.axis('equal')  \r\n",
        "plt.tight_layout()\r\n",
        "plt.title(\"Percentages of Hateful and Not Hateful Tweets\")\r\n",
        "plt.show()\r\n"
      ],
      "execution_count": 8,
      "outputs": [
        {
          "output_type": "display_data",
          "data": {
            "image/png": "[encoded data removed]",
            "text/plain": [
              "<Figure size 432x288 with 1 Axes>"
            ]
          },
          "metadata": {
            "tags": []
          }
        }
      ]
    },
    {
      "cell_type": "markdown",
      "metadata": {
        "id": "ebBCG_FFMMdR"
      },
      "source": [
        "Distribution of Hateful and Not Hateful Tweets in All Datasets"
      ]
    },
    {
      "cell_type": "code",
      "metadata": {
        "colab": {
          "base_uri": "https://localhost:8080/",
          "height": 388
        },
        "id": "RC8EjTvPTgvh",
        "outputId": "6489744b-7373-44f6-cd6f-7ce3b8cfb6b8"
      },
      "source": [
        "# Count Plots\r\n",
        "fig, axes = plt.subplots(1, 3, figsize=(15, 5), sharey=False)\r\n",
        "fig.suptitle('Distribution of Hateful and Not Hateful Tweets in All Datasets')\r\n",
        "\r\n",
        "sns.countplot(ax=axes[0], x=hate_train_labels.label)\r\n",
        "axes[0].set_title('Training Data')\r\n",
        "axes[0].set_xticklabels(labels)\r\n",
        "\r\n",
        "sns.countplot(ax=axes[1], x=hate_val_labels.label)\r\n",
        "axes[1].set_title('Validation Data')\r\n",
        "axes[1].set_xticklabels(labels)\r\n",
        "\r\n",
        "sns.countplot(ax=axes[2], x=hate_test_labels.label)\r\n",
        "axes[2].set_title('Test Data')\r\n",
        "axes[2].set_xticklabels(labels)\r\n"
      ],
      "execution_count": 9,
      "outputs": [
        {
          "output_type": "execute_result",
          "data": {
            "text/plain": [
              "[Text(0, 0, 'Not Hateful Tweets'), Text(0, 0, ' Hateful Tweets')]"
            ]
          },
          "metadata": {
            "tags": []
          },
          "execution_count": 9
        },
        {
          "output_type": "display_data",
          "data": {
            "image/png": "[encoded data removed]",
            "text/plain": [
              "<Figure size 1080x360 with 3 Axes>"
            ]
          },
          "metadata": {
            "tags": [],
            "needs_background": "light"
          }
        }
      ]
    },
    {
      "cell_type": "markdown",
      "metadata": {
        "id": "3-AWn7BIN5ep"
      },
      "source": [
        "## Emotion Recognition Dataset"
      ]
    },
    {
      "cell_type": "markdown",
      "metadata": {
        "id": "2XNzExSaVNLd"
      },
      "source": [
        "Loading the datasets"
      ]
    },
    {
      "cell_type": "code",
      "metadata": {
        "colab": {
          "base_uri": "https://localhost:8080/",
          "height": 424
        },
        "id": "fqel0IonN9jQ",
        "outputId": "72907bd4-0f57-402c-a06a-3472cc2a7687"
      },
      "source": [
        "emotion_train_df = pd.read_csv(\"https://raw.githubusercontent.com/cardiffnlp/tweeteval/main/datasets/emotion/train_text.txt\", sep=\"\\t\", skip_blank_lines=False, quoting=csv.QUOTE_NONE, header=None)\r\n",
        "emotion_train_df.columns= [\"tweet\"]\r\n",
        "emotion_train_labels = pd.read_csv(\"https://raw.githubusercontent.com/cardiffnlp/tweeteval/main/datasets/emotion/train_labels.txt\", sep=\"\\n\", header=None)\r\n",
        "emotion_train_labels.columns= [\"label\"]\r\n",
        "\r\n",
        "emotion_val_df = pd.read_csv(\"https://raw.githubusercontent.com/cardiffnlp/tweeteval/main/datasets/emotion/val_text.txt\", sep=\"\\n\", skip_blank_lines=False, quoting=csv.QUOTE_NONE, header=None)\r\n",
        "emotion_val_df.columns= [\"tweet\"]\r\n",
        "emotion_val_labels = pd.read_csv(\"https://raw.githubusercontent.com/cardiffnlp/tweeteval/main/datasets/emotion/val_labels.txt\", sep=\"\\n\", header=None)\r\n",
        "emotion_val_labels.columns= [\"label\"]\r\n",
        "\r\n",
        "emotion_test_df = pd.read_csv(\"https://raw.githubusercontent.com/cardiffnlp/tweeteval/main/datasets/emotion/test_text.txt\", sep=\"\\n\", quoting=csv.QUOTE_NONE, skip_blank_lines=False, header=None)\r\n",
        "emotion_test_df.columns= [\"tweet\"]\r\n",
        "emotion_test_labels = pd.read_csv(\"https://raw.githubusercontent.com/cardiffnlp/tweeteval/main/datasets/emotion/test_labels.txt\", sep=\"\\n\", header=None)\r\n",
        "emotion_test_labels.columns= [\"label\"]\r\n",
        "\r\n",
        "emotion_train_df"
      ],
      "execution_count": 10,
      "outputs": [
        {
          "output_type": "execute_result",
          "data": {
            "text/html": [
              "<div>\n",
              "<style scoped>\n",
              "    .dataframe tbody tr th:only-of-type {\n",
              "        vertical-align: middle;\n",
              "    }\n",
              "\n",
              "    .dataframe tbody tr th {\n",
              "        vertical-align: top;\n",
              "    }\n",
              "\n",
              "    .dataframe thead th {\n",
              "        text-align: right;\n",
              "    }\n",
              "</style>\n",
              "<table border=\"1\" class=\"dataframe\">\n",
              "  <thead>\n",
              "    <tr style=\"text-align: right;\">\n",
              "      <th></th>\n",
              "      <th>tweet</th>\n",
              "    </tr>\n",
              "  </thead>\n",
              "  <tbody>\n",
              "    <tr>\n",
              "      <th>0</th>\n",
              "      <td>“Worry is a down payment on a problem you may ...</td>\n",
              "    </tr>\n",
              "    <tr>\n",
              "      <th>1</th>\n",
              "      <td>My roommate: it's okay that we can't spell bec...</td>\n",
              "    </tr>\n",
              "    <tr>\n",
              "      <th>2</th>\n",
              "      <td>No but that's so cute. Atsu was probably shy a...</td>\n",
              "    </tr>\n",
              "    <tr>\n",
              "      <th>3</th>\n",
              "      <td>Rooneys fucking untouchable isn't he? Been fuc...</td>\n",
              "    </tr>\n",
              "    <tr>\n",
              "      <th>4</th>\n",
              "      <td>it's pretty depressing when u hit pan on ur fa...</td>\n",
              "    </tr>\n",
              "    <tr>\n",
              "      <th>...</th>\n",
              "      <td>...</td>\n",
              "    </tr>\n",
              "    <tr>\n",
              "      <th>3252</th>\n",
              "      <td>I get discouraged because I try for 5 fucking ...</td>\n",
              "    </tr>\n",
              "    <tr>\n",
              "      <th>3253</th>\n",
              "      <td>The @user are in contention and hosting @user ...</td>\n",
              "    </tr>\n",
              "    <tr>\n",
              "      <th>3254</th>\n",
              "      <td>@user @user @user @user @user as a fellow UP g...</td>\n",
              "    </tr>\n",
              "    <tr>\n",
              "      <th>3255</th>\n",
              "      <td>You have a #problem? Yes! Can you do #somethin...</td>\n",
              "    </tr>\n",
              "    <tr>\n",
              "      <th>3256</th>\n",
              "      <td>@user @user i will fight this guy! Don't insul...</td>\n",
              "    </tr>\n",
              "  </tbody>\n",
              "</table>\n",
              "<p>3257 rows × 1 columns</p>\n",
              "</div>"
            ],
            "text/plain": [
              "                                                  tweet\n",
              "0     “Worry is a down payment on a problem you may ...\n",
              "1     My roommate: it's okay that we can't spell bec...\n",
              "2     No but that's so cute. Atsu was probably shy a...\n",
              "3     Rooneys fucking untouchable isn't he? Been fuc...\n",
              "4     it's pretty depressing when u hit pan on ur fa...\n",
              "...                                                 ...\n",
              "3252  I get discouraged because I try for 5 fucking ...\n",
              "3253  The @user are in contention and hosting @user ...\n",
              "3254  @user @user @user @user @user as a fellow UP g...\n",
              "3255  You have a #problem? Yes! Can you do #somethin...\n",
              "3256  @user @user i will fight this guy! Don't insul...\n",
              "\n",
              "[3257 rows x 1 columns]"
            ]
          },
          "metadata": {
            "tags": []
          },
          "execution_count": 10
        }
      ]
    },
    {
      "cell_type": "markdown",
      "metadata": {
        "id": "PKCt7JzDVQsv"
      },
      "source": [
        "Checking whether the data is loaded correctly by checking the dimensions of the data frames for the training, validation, and testing datasets to match the dimensions of their corresponding labels dataframes.\r\n",
        "\r\n",
        "\r\n",
        "```\r\n",
        "# This is formatted as code\r\n",
        "```\r\n",
        "\r\n"
      ]
    },
    {
      "cell_type": "code",
      "metadata": {
        "colab": {
          "base_uri": "https://localhost:8080/"
        },
        "id": "C8wKPTCUOQzP",
        "outputId": "2e29e95d-cb01-4748-c382-6653c6fc4737"
      },
      "source": [
        "# Checking whether the data is loaded correctly by checking the dimensions of the data frames for the training, validation, and testing datasets matches the dimensions of their corresponding labels datasets.\r\n",
        "print(emotion_train_df.shape, emotion_train_labels.shape)\r\n",
        "print(emotion_val_df.shape, emotion_val_labels.shape)\r\n",
        "print(emotion_test_df.shape, emotion_test_labels.shape)"
      ],
      "execution_count": 11,
      "outputs": [
        {
          "output_type": "stream",
          "text": [
            "(3257, 1) (3257, 1)\n",
            "(374, 1) (374, 1)\n",
            "(1421, 1) (1421, 1)\n"
          ],
          "name": "stdout"
        }
      ]
    },
    {
      "cell_type": "code",
      "metadata": {
        "colab": {
          "base_uri": "https://localhost:8080/",
          "height": 313
        },
        "id": "S-SW-qQNOchQ",
        "outputId": "30fb4bf8-4594-414e-c2e7-6665bdf2d726"
      },
      "source": [
        "# Pie chart\r\n",
        "labels = ['Training Set', 'Validation Set', 'Test Set']\r\n",
        "sizes = [len(emotion_train_labels), len(emotion_val_labels), len(emotion_test_labels)]\r\n",
        "explode = (0, 0, 0.1)  \r\n",
        "fig1, ax1 = plt.subplots()\r\n",
        "ax1.pie(sizes, explode=explode, labels=labels, autopct='%1.1f%%', startangle=90)\r\n",
        "ax1.axis('equal')  \r\n",
        "plt.tight_layout()\r\n",
        "plt.title(\"How the data is split\")\r\n",
        "plt.show()\r\n"
      ],
      "execution_count": 12,
      "outputs": [
        {
          "output_type": "display_data",
          "data": {
            "image/png": "[encoded data removed]",
            "text/plain": [
              "<Figure size 432x288 with 1 Axes>"
            ]
          },
          "metadata": {
            "tags": []
          }
        }
      ]
    },
    {
      "cell_type": "markdown",
      "metadata": {
        "id": "rlg-XMoUVaXu"
      },
      "source": [
        "Data statitics:"
      ]
    },
    {
      "cell_type": "code",
      "metadata": {
        "colab": {
          "base_uri": "https://localhost:8080/",
          "height": 175
        },
        "id": "Q00hNpYJOqkU",
        "outputId": "3a122e07-b0db-4c4b-90a2-fe2df72c86c4"
      },
      "source": [
        "# Checking the labels\r\n",
        "emotion_labels = pd.read_csv(\"https://raw.githubusercontent.com/cardiffnlp/tweeteval/main/datasets/emotion/mapping.txt\", sep=\"\\t\", header=None)\r\n",
        "emotion_labels"
      ],
      "execution_count": 13,
      "outputs": [
        {
          "output_type": "execute_result",
          "data": {
            "text/html": [
              "<div>\n",
              "<style scoped>\n",
              "    .dataframe tbody tr th:only-of-type {\n",
              "        vertical-align: middle;\n",
              "    }\n",
              "\n",
              "    .dataframe tbody tr th {\n",
              "        vertical-align: top;\n",
              "    }\n",
              "\n",
              "    .dataframe thead th {\n",
              "        text-align: right;\n",
              "    }\n",
              "</style>\n",
              "<table border=\"1\" class=\"dataframe\">\n",
              "  <thead>\n",
              "    <tr style=\"text-align: right;\">\n",
              "      <th></th>\n",
              "      <th>0</th>\n",
              "      <th>1</th>\n",
              "    </tr>\n",
              "  </thead>\n",
              "  <tbody>\n",
              "    <tr>\n",
              "      <th>0</th>\n",
              "      <td>0</td>\n",
              "      <td>anger</td>\n",
              "    </tr>\n",
              "    <tr>\n",
              "      <th>1</th>\n",
              "      <td>1</td>\n",
              "      <td>joy</td>\n",
              "    </tr>\n",
              "    <tr>\n",
              "      <th>2</th>\n",
              "      <td>2</td>\n",
              "      <td>optimism</td>\n",
              "    </tr>\n",
              "    <tr>\n",
              "      <th>3</th>\n",
              "      <td>3</td>\n",
              "      <td>sadness</td>\n",
              "    </tr>\n",
              "  </tbody>\n",
              "</table>\n",
              "</div>"
            ],
            "text/plain": [
              "   0         1\n",
              "0  0     anger\n",
              "1  1       joy\n",
              "2  2  optimism\n",
              "3  3   sadness"
            ]
          },
          "metadata": {
            "tags": []
          },
          "execution_count": 13
        }
      ]
    },
    {
      "cell_type": "code",
      "metadata": {
        "colab": {
          "base_uri": "https://localhost:8080/"
        },
        "id": "8ca9a7hdO0ni",
        "outputId": "906e558e-568b-40ff-edb8-d7575e667415"
      },
      "source": [
        "print(\"Training Data Statistics: \")\r\n",
        "print(\"Total number of tweets:\", emotion_train_labels.shape[0])\r\n",
        "print(\"Number of Anger tweets:\", int(emotion_train_labels.value_counts()[0]))\r\n",
        "print(\"Number of Joy tweets:\", int(emotion_train_labels.value_counts()[1]))\r\n",
        "print(\"Number of Optimism tweets:\", int(emotion_train_labels.value_counts()[2]))\r\n",
        "print(\"Number of Sadness tweets:\", int(emotion_train_labels.value_counts()[3]), \"\\n\")\r\n",
        "\r\n",
        "print(\"Validation Data Statistics: \")\r\n",
        "print(\"Total number of tweets:\", emotion_val_labels.shape[0])\r\n",
        "print(\"Number of Anger tweets:\", int(emotion_val_labels.value_counts()[0]))\r\n",
        "print(\"Number of Joy tweets:\", int(emotion_val_labels.value_counts()[1]))\r\n",
        "print(\"Number of Optimism tweets:\", int(emotion_val_labels.value_counts()[2]))\r\n",
        "print(\"Number of Sadness tweets:\", int(emotion_val_labels.value_counts()[3]), \"\\n\")\r\n",
        "\r\n",
        "print(\"Testing Data Statistics: \")\r\n",
        "print(\"Total number of tweets:\", emotion_test_labels.shape[0])\r\n",
        "print(\"Number of Anger tweets:\", int(emotion_test_labels.value_counts()[0]))\r\n",
        "print(\"Number of Joy tweets:\", int(emotion_test_labels.value_counts()[1]))\r\n",
        "print(\"Number of Optimism tweets:\", int(emotion_test_labels.value_counts()[2]))\r\n",
        "print(\"Number of Sadness tweets:\", int(emotion_test_labels.value_counts()[3]))"
      ],
      "execution_count": 14,
      "outputs": [
        {
          "output_type": "stream",
          "text": [
            "Training Data Statistics: \n",
            "Total number of tweets: 3257\n",
            "Number of Anger tweets: 1400\n",
            "Number of Joy tweets: 708\n",
            "Number of Optimism tweets: 294\n",
            "Number of Sadness tweets: 855 \n",
            "\n",
            "Validation Data Statistics: \n",
            "Total number of tweets: 374\n",
            "Number of Anger tweets: 160\n",
            "Number of Joy tweets: 97\n",
            "Number of Optimism tweets: 28\n",
            "Number of Sadness tweets: 89 \n",
            "\n",
            "Testing Data Statistics: \n",
            "Total number of tweets: 1421\n",
            "Number of Anger tweets: 558\n",
            "Number of Joy tweets: 358\n",
            "Number of Optimism tweets: 123\n",
            "Number of Sadness tweets: 382\n"
          ],
          "name": "stdout"
        }
      ]
    },
    {
      "cell_type": "markdown",
      "metadata": {
        "id": "pc0fwYnxvC-H"
      },
      "source": [
        "![emotion table.JPG](data:image/jpeg;base64,/9j/4AAQSkZJRgABAQEAeAB4AAD/4RDaRXhpZgAATU0AKgAAAAgABAE7AAIAAAAFAAAISodpAAQAAAABAAAIUJydAAEAAAAKAAAQyOocAAcAAAgMAAAAPgAAAAAc6gAAAAgAAAAAAAAAAAAAAAAAAAAAAAAAAAAAAAAAAAAAAAAAAAAAAAAAAAAAAAAAAAAAAAAAAAAAAAAAAAAAAAAAAAAAAAAAAAAAAAAAAAAAAAAAAAAAAAAAAAAAAAAAAAAAAAAAAAAAAAAAAAAAAAAAAAAAAAAAAAAAAAAAAAAAAAAAAAAAAAAAAAAAAAAAAAAAAAAAAAAAAAAAAAAAAAAAAAAAAAAAAAAAAAAAAAAAAAAAAAAAAAAAAAAAAAAAAAAAAAAAAAAAAAAAAAAAAAAAAAAAAAAAAAAAAAAAAAAAAAAAAAAAAAAAAAAAAAAAAAAAAAAAAAAAAAAAAAAAAAAAAAAAAAAAAAAAAAAAAAAAAAAAAAAAAAAAAAAAAAAAAAAAAAAAAAAAAAAAAAAAAAAAAAAAAAAAAAAAAAAAAAAAAAAAAAAAAAAAAAAAAAAAAAAAAAAAAAAAAAAAAAAAAAAAAAAAAAAAAAAAAAAAAAAAAAAAAAAAAAAAAAAAAAAAAAAAAAAAAAAAAAAAAAAAAAAAAAAAAAAAAAAAAAAAAAAAAAAAAAAAAAAAAAAAAAAAAAAAAAAAAAAAAAAAAAAAAAAAAAAAAAAAAAAAAAAAAAAAAAAAAAAAAAAAAAAAAAAAAAAAAAAAAAAAAAAAAAAAAAAAAAAAAAAAAAAAAAAAAAAAAAAAAAAAAAAAAAAAAAAAAAAAAAAAAAAAAAAAAAAAAAAAAAAAAAAAAAAAAAAAAAAAAAAAAAAAAAAAAAAAAAAAAAAAAAAAAAAAAAAAAAAAAAAAAAAAAAAAAAAAAAAAAAAAAAAAAAAAAAAAAAAAAAAAAAAAAAAAAAAAAAAAAAAAAAAAAAAAAAAAAAAAAAAAAAAAAAAAAAAAAAAAAAAAAAAAAAAAAAAAAAAAAAAAAAAAAAAAAAAAAAAAAAAAAAAAAAAAAAAAAAAAAAAAAAAAAAAAAAAAAAAAAAAAAAAAAAAAAAAAAAAAAAAAAAAAAAAAAAAAAAAAAAAAAAAAAAAAAAAAAAAAAAAAAAAAAAAAAAAAAAAAAAAAAAAAAAAAAAAAAAAAAAAAAAAAAAAAAAAAAAAAAAAAAAAAAAAAAAAAAAAAAAAAAAAAAAAAAAAAAAAAAAAAAAAAAAAAAAAAAAAAAAAAAAAAAAAAAAAAAAAAAAAAAAAAAAAAAAAAAAAAAAAAAAAAAAAAAAAAAAAAAAAAAAAAAAAAAAAAAAAAAAAAAAAAAAAAAAAAAAAAAAAAAAAAAAAAAAAAAAAAAAAAAAAAAAAAAAAAAAAAAAAAAAAAAAAAAAAAAAAAAAAAAAAAAAAAAAAAAAAAAAAAAAAAAAAAAAAAAAAAAAAAAAAAAAAAAAAAAAAAAAAAAAAAAAAAAAAAAAAAAAAAAAAAAAAAAAAAAAAAAAAAAAAAAAAAAAAAAAAAAAAAAAAAAAAAAAAAAAAAAAAAAAAAAAAAAAAAAAAAAAAAAAAAAAAAAAAAAAAAAAAAAAAAAAAAAAAAAAAAAAAAAAAAAAAAAAAAAAAAAAAAAAAAAAAAAAAAAAAAAAAAAAAAAAAAAAAAAAAAAAAAAAAAAAAAAAAAAAAAAAAAAAAAAAAAAAAAAAAAAAAAAAAAAAAAAAAAAAAAAAAAAAAAAAAAAAAAAAAAAAAAAAAAAAAAAAAAAAAAAAAAAAAAAAAAAAAAAAAAAAAAAAAAAAAAAAAAAAAAAAAAAAAAAAAAAAAAAAAAAAAAAAAAAAAAAAAAAAAAAAAAAAAAAAAAAAAAAAAAAAAAAAAAAAAAAAAAAAAAAAAAAAAAAAAAAAAAAAAAAAAAAAAAAAAAAAAAAAAAAAAAAAAAAAAAAAAAAAAAAAAAAAAAAAAAAAAAAAAAAAAAAAAAAAAAAAAAAAAAAAAAAAAAAAAAAAAAAAAAAAAAAAAAAAAAAAAAAAAAAAAAAAAAAAAAAAAAAAAAAAAAAAAAAAAAAAAAAAAAAAAAAAAAAAAAAAAAAAAAAAAAAAAAAAAAAAAAAAAAAAAAAAAAAAAAAAAAAAAAAAAAAAAAAAAAAAAAAAAAAAAAAAAAAAAAAAAAAAAAAAAAAAAAAAAAAAAAAAAAAAAAAAAAAAAAAAAAAAAAAAAAAAAAAAAAAAAAAAAAAAAAAAAAAAAAAAAAAAAAAAAAAAAAAAAAAAAAAAAAAAAAAAAAAAAAAAAAAAAAAAAAAAAAAAAAAAAAAAAAAAAAAAAAAAAAAAAAAAAAAAAAAAAAAAAAAAAAAAAAAAAAAAAAAAAAAAAAAAAAAAAAAAAAAAAAAAAAAAAAAAAAAAAAAAAAAAAAAAAAAAAAAAAAAAAAAAAAAAAAAAAAAAAAAAAAAAAAAAAAAAAAAAAAAAAAAAAAAAAAAAAAAAAAAAAAAAAAAAAAAAAAAAAAAAAAAAAAAAAAAAAAAAAAAAAAAAAAAAAAAAAAAAAAAAAAAAAAAAAAAAAAAAAAAAAAAAAAAAAAAAAAAAAAAAAAAAAAAAAAAAAAAAAAAAAAAAAAAAAAAAAAAAAAAAAAAAAAAAAAAAAAAAAAAAAAAAAAAAAAAAAAAAAAAAAAAAAAAAAAAAAAAAAAAAAAAAAAAAAAAAAAAAAAAAAAAAAAAAAAAAAAAAAAAAAAAAAAAAAAAAAAAAAAAAAAAAAAAAAAAAAAAAAAAAAAAAAAAAAAAAAAAAAAAAAAAAAAAAAAAAAAAAAAAAAAAAAAAAAAAAAAAAAAAAAAAAAAAAAAAAAAAAAAAAAAAAAAAEloYWIAAAAFkAMAAgAAABQAABCekAQAAgAAABQAABCykpEAAgAAAAMxMAAAkpIAAgAAAAMxMAAA6hwABwAACAwAAAiSAAAAABzqAAAACAAAAAAAAAAAAAAAAAAAAAAAAAAAAAAAAAAAAAAAAAAAAAAAAAAAAAAAAAAAAAAAAAAAAAAAAAAAAAAAAAAAAAAAAAAAAAAAAAAAAAAAAAAAAAAAAAAAAAAAAAAAAAAAAAAAAAAAAAAAAAAAAAAAAAAAAAAAAAAAAAAAAAAAAAAAAAAAAAAAAAAAAAAAAAAAAAAAAAAAAAAAAAAAAAAAAAAAAAAAAAAAAAAAAAAAAAAAAAAAAAAAAAAAAAAAAAAAAAAAAAAAAAAAAAAAAAAAAAAAAAAAAAAAAAAAAAAAAAAAAAAAAAAAAAAAAAAAAAAAAAAAAAAAAAAAAAAAAAAAAAAAAAAAAAAAAAAAAAAAAAAAAAAAAAAAAAAAAAAAAAAAAAAAAAAAAAAAAAAAAAAAAAAAAAAAAAAAAAAAAAAAAAAAAAAAAAAAAAAAAAAAAAAAAAAAAAAAAAAAAAAAAAAAAAAAAAAAAAAAAAAAAAAAAAAAAAAAAAAAAAAAAAAAAAAAAAAAAAAAAAAAAAAAAAAAAAAAAAAAAAAAAAAAAAAAAAAAAAAAAAAAAAAAAAAAAAAAAAAAAAAAAAAAAAAAAAAAAAAAAAAAAAAAAAAAAAAAAAAAAAAAAAAAAAAAAAAAAAAAAAAAAAAAAAAAAAAAAAAAAAAAAAAAAAAAAAAAAAAAAAAAAAAAAAAAAAAAAAAAAAAAAAAAAAAAAAAAAAAAAAAAAAAAAAAAAAAAAAAAAAAAAAAAAAAAAAAAAAAAAAAAAAAAAAAAAAAAAAAAAAAAAAAAAAAAAAAAAAAAAAAAAAAAAAAAAAAAAAAAAAAAAAAAAAAAAAAAAAAAAAAAAAAAAAAAAAAAAAAAAAAAAAAAAAAAAAAAAAAAAAAAAAAAAAAAAAAAAAAAAAAAAAAAAAAAAAAAAAAAAAAAAAAAAAAAAAAAAAAAAAAAAAAAAAAAAAAAAAAAAAAAAAAAAAAAAAAAAAAAAAAAAAAAAAAAAAAAAAAAAAAAAAAAAAAAAAAAAAAAAAAAAAAAAAAAAAAAAAAAAAAAAAAAAAAAAAAAAAAAAAAAAAAAAAAAAAAAAAAAAAAAAAAAAAAAAAAAAAAAAAAAAAAAAAAAAAAAAAAAAAAAAAAAAAAAAAAAAAAAAAAAAAAAAAAAAAAAAAAAAAAAAAAAAAAAAAAAAAAAAAAAAAAAAAAAAAAAAAAAAAAAAAAAAAAAAAAAAAAAAAAAAAAAAAAAAAAAAAAAAAAAAAAAAAAAAAAAAAAAAAAAAAAAAAAAAAAAAAAAAAAAAAAAAAAAAAAAAAAAAAAAAAAAAAAAAAAAAAAAAAAAAAAAAAAAAAAAAAAAAAAAAAAAAAAAAAAAAAAAAAAAAAAAAAAAAAAAAAAAAAAAAAAAAAAAAAAAAAAAAAAAAAAAAAAAAAAAAAAAAAAAAAAAAAAAAAAAAAAAAAAAAAAAAAAAAAAAAAAAAAAAAAAAAAAAAAAAAAAAAAAAAAAAAAAAAAAAAAAAAAAAAAAAAAAAAAAAAAAAAAAAAAAAAAAAAAAAAAAAAAAAAAAAAAAAAAAAAAAAAAAAAAAAAAAAAAAAAAAAAAAAAAAAAAAAAAAAAAAAAAAAAAAAAAAAAAAAAAAAAAAAAAAAAAAAAAAAAAAAAAAAAAAAAAAAAAAAAAAAAAAAAAAAAAAAAAAAAAAAAAAAAAAAAAAAAAAAAAAAAAAAAAAAAAAAAAAAAAAAAAAAAAAAAAAAAAAAAAAAAAAAAAAAAAAAAAAAAAAAAAAAAAAAAAAAAAAAAAAAAAAAAAAAAAAAAAAAAAAAAAAAAAAAAAAAAAAAAAAAAAAAAAAAAAAAAAAAAAAAAAAAAAAAAAAAAAAAAAAAAAAAAAAAAAAAAAAAAAAAAAAAAAAAAAAAAAAAAAAAAAAAAAAAAAAAAAAAAAAAAAAAAAAAAAAAAAAAAAAAAAAAAAAAAAAAAAAAAAAAAAAAAAAAAAAAAAAAAAAAAAAAAAAAAAAAAAAAAAAAAAAAAAAAAAAAAAAAAAAAAAAAAAAAAAAAAAAAAAAAAAAAAAAAAAAAAAAAAAAAAAAAAAAAAAAAAAAAAAAAAAAAAAAAAAAAAAAAAAAAAAAAAAAAAAAAAAAAAAAAAAAAAAAAAAAAAAAAAAAAAAAAAAAAAAAAAAAAAAAAAAAAAAAAAAAAAAAAAAAAAAAAAAAAAAAAAAAAAAAAAAAAAAAAAAAAAAAAAAAAAAAAAAAAAAAAAAAAAAAAAAAAAAAAAAAAAAAAAAAAAAAAAAAAAAAAAAAAAAAAAAAAAAAAAAAAAAAAAAAAAAAAAAAAAAAAAAAAAAAAAAAAAAAAAAAAAAAAAAAAAAAAAAAAAAAAAAAAAAAAAAAAAAAAAAAAAAAAAAAAAAAAAAAAAAAAAAAAAAAAAAAAAAAAAAAAAAAAAAAAAAAAAAAAAAAAAAAAAAAAAAAAAAAAAAAAAAAAAAAAAAAAAAAAAAAAAAAAAAAAAAAAAAAAAAAAAAAAAAAAAAAAAAAAAAAAAAAAAAAAAAAAAAAAAAAAAAAAAAAAAAAAAAAAAAAAAAAAAAAAAAAAAAAAAAAAAAAAAAAAAAAAAAAAAAAAAAAAAAAAAAAAAAAAAAAAAAAAAAAAAAAAAAAAAAAAAAAAAAAAAAAAAAAAAAAAAAAAAAAAAAAAAAAAAAAAAAAAAAAAAAAAAAAAAAAAAAAAAAAAAAAAAAAAAAAAAAAAAAAAAAAAAAAAAAAAAAAAAAAAMjAyMTowMjoyNCAwNjoyODoxNAAyMDIxOjAyOjI0IDA2OjI4OjE0AAAASQBoAGEAYgAAAP/hCxdodHRwOi8vbnMuYWRvYmUuY29tL3hhcC8xLjAvADw/eHBhY2tldCBiZWdpbj0n77u/JyBpZD0nVzVNME1wQ2VoaUh6cmVTek5UY3prYzlkJz8+DQo8eDp4bXBtZXRhIHhtbG5zOng9ImFkb2JlOm5zOm1ldGEvIj48cmRmOlJERiB4bWxuczpyZGY9Imh0dHA6Ly93d3cudzMub3JnLzE5OTkvMDIvMjItcmRmLXN5bnRheC1ucyMiPjxyZGY6RGVzY3JpcHRpb24gcmRmOmFib3V0PSJ1dWlkOmZhZjViZGQ1LWJhM2QtMTFkYS1hZDMxLWQzM2Q3NTE4MmYxYiIgeG1sbnM6ZGM9Imh0dHA6Ly9wdXJsLm9yZy9kYy9lbGVtZW50cy8xLjEvIi8+PHJkZjpEZXNjcmlwdGlvbiByZGY6YWJvdXQ9InV1aWQ6ZmFmNWJkZDUtYmEzZC0xMWRhLWFkMzEtZDMzZDc1MTgyZjFiIiB4bWxuczp4bXA9Imh0dHA6Ly9ucy5hZG9iZS5jb20veGFwLzEuMC8iPjx4bXA6Q3JlYXRlRGF0ZT4yMDIxLTAyLTI0VDA2OjI4OjE0LjEwMTwveG1wOkNyZWF0ZURhdGU+PC9yZGY6RGVzY3JpcHRpb24+PHJkZjpEZXNjcmlwdGlvbiByZGY6YWJvdXQ9InV1aWQ6ZmFmNWJkZDUtYmEzZC0xMWRhLWFkMzEtZDMzZDc1MTgyZjFiIiB4bWxuczpkYz0iaHR0cDovL3B1cmwub3JnL2RjL2VsZW1lbnRzLzEuMS8iPjxkYzpjcmVhdG9yPjxyZGY6U2VxIHhtbG5zOnJkZj0iaHR0cDovL3d3dy53My5vcmcvMTk5OS8wMi8yMi1yZGYtc3ludGF4LW5zIyI+PHJkZjpsaT5JaGFiPC9yZGY6bGk+PC9yZGY6U2VxPg0KCQkJPC9kYzpjcmVhdG9yPjwvcmRmOkRlc2NyaXB0aW9uPjwvcmRmOlJERj48L3g6eG1wbWV0YT4NCiAgICAgICAgICAgICAgICAgICAgICAgICAgICAgICAgICAgICAgICAgICAgICAgICAgICAgICAgICAgICAgICAgICAgICAgICAgICAgICAgICAgICAgICAgICAgICAgICAgICAKICAgICAgICAgICAgICAgICAgICAgICAgICAgICAgICAgICAgICAgICAgICAgICAgICAgICAgICAgICAgICAgICAgICAgICAgICAgICAgICAgICAgICAgICAgICAgICAgICAgIAogICAgICAgICAgICAgICAgICAgICAgICAgICAgICAgICAgICAgICAgICAgICAgICAgICAgICAgICAgICAgICAgICAgICAgICAgICAgICAgICAgICAgICAgICAgICAgICAgICAgCiAgICAgICAgICAgICAgICAgICAgICAgICAgICAgICAgICAgICAgICAgICAgICAgICAgICAgICAgICAgICAgICAgICAgICAgICAgICAgICAgICAgICAgICAgICAgICAgICAgICAKICAgICAgICAgICAgICAgICAgICAgICAgICAgICAgICAgICAgICAgICAgICAgICAgICAgICAgICAgICAgICAgICAgICAgICAgICAgICAgICAgICAgICAgICAgICAgICAgICAgIAogICAgICAgICAgICAgICAgICAgICAgICAgICAgICAgICAgICAgICAgICAgICAgICAgICAgICAgICAgICAgICAgICAgICAgICAgICAgICAgICAgICAgICAgICAgICAgICAgICAgCiAgICAgICAgICAgICAgICAgICAgICAgICAgICAgICAgICAgICAgICAgICAgICAgICAgICAgICAgICAgICAgICAgICAgICAgICAgICAgICAgICAgICAgICAgICAgICAgICAgICAKICAgICAgICAgICAgICAgICAgICAgICAgICAgICAgICAgICAgICAgICAgICAgICAgICAgICAgICAgICAgICAgICAgICAgICAgICAgICAgICAgICAgICAgICAgICAgICAgICAgIAogICAgICAgICAgICAgICAgICAgICAgICAgICAgICAgICAgICAgICAgICAgICAgICAgICAgICAgICAgICAgICAgICAgICAgICAgICAgICAgICAgICAgICAgICAgICAgICAgICAgCiAgICAgICAgICAgICAgICAgICAgICAgICAgICAgICAgICAgICAgICAgICAgICAgICAgICAgICAgICAgICAgICAgICAgICAgICAgICAgICAgICAgICAgICAgICAgICAgICAgICAKICAgICAgICAgICAgICAgICAgICAgICAgICAgICAgICAgICAgICAgICAgICAgICAgICAgICAgICAgICAgICAgICAgICAgICAgICAgICAgICAgICAgICAgICAgICAgICAgICAgIAogICAgICAgICAgICAgICAgICAgICAgICAgICAgICAgICAgICAgICAgICAgICAgICAgICAgICAgICAgICAgICAgICAgICAgICAgICAgICAgICAgICAgICAgICAgICAgICAgICAgCiAgICAgICAgICAgICAgICAgICAgICAgICAgICAgICAgICAgICAgICAgICAgICAgICAgICAgICAgICAgICAgICAgICAgICAgICAgICAgICAgICAgICAgICAgICAgICAgICAgICAKICAgICAgICAgICAgICAgICAgICAgICAgICAgICAgICAgICAgICAgICAgICAgICAgICAgICAgICAgICAgICAgICAgICAgICAgICAgICAgICAgICAgICAgICAgICAgICAgICAgIAogICAgICAgICAgICAgICAgICAgICAgICAgICAgICAgICAgICAgICAgICAgICAgICAgICAgICAgICAgICAgICAgICAgICAgICAgICAgICAgICAgICAgICAgICAgICAgICAgICAgCiAgICAgICAgICAgICAgICAgICAgICAgICAgICAgICAgICAgICAgICAgICAgICAgICAgICAgICAgICAgICAgICAgICAgICAgICAgICAgICAgICAgICAgICAgICAgICAgICAgICAKICAgICAgICAgICAgICAgICAgICAgICAgICAgICAgICAgICAgICAgICAgICAgICAgICAgICAgICAgICAgICAgICAgICAgICAgICAgICAgICAgICAgICAgICAgICAgICAgICAgIAogICAgICAgICAgICAgICAgICAgICAgICAgICAgICAgICAgICAgICAgICAgICAgICAgICAgICAgICAgICAgICAgICAgICAgICAgICAgICAgICAgICAgICAgICAgICAgICAgICAgCiAgICAgICAgICAgICAgICAgICAgICAgICAgICAgICAgICAgICAgICAgICAgICAgICAgICAgICAgICAgICAgICAgICAgICAgICAgICAgICAgICAgICAgICAgICAgICAgICAgICAKICAgICAgICAgICAgICAgICAgICAgICAgICAgICAgICAgICAgICAgICAgICAgICAgICAgICAgICAgICAgICAgICAgICAgICAgICAgICAgICAgICAgICAgICAgICAgICAgICAgIAogICAgICAgICAgICAgICAgICAgICAgICAgICAgPD94cGFja2V0IGVuZD0ndyc/Pv/bAEMABwUFBgUEBwYFBggHBwgKEQsKCQkKFQ8QDBEYFRoZGBUYFxseJyEbHSUdFxgiLiIlKCkrLCsaIC8zLyoyJyorKv/bAEMBBwgICgkKFAsLFCocGBwqKioqKioqKioqKioqKioqKioqKioqKioqKioqKioqKioqKioqKioqKioqKioqKioqKv/AABEIAN4DjwMBIgACEQEDEQH/xAAfAAABBQEBAQEBAQAAAAAAAAAAAQIDBAUGBwgJCgv/xAC1EAACAQMDAgQDBQUEBAAAAX0BAgMABBEFEiExQQYTUWEHInEUMoGRoQgjQrHBFVLR8CQzYnKCCQoWFxgZGiUmJygpKjQ1Njc4OTpDREVGR0hJSlNUVVZXWFlaY2RlZmdoaWpzdHV2d3h5eoOEhYaHiImKkpOUlZaXmJmaoqOkpaanqKmqsrO0tba3uLm6wsPExcbHyMnK0tPU1dbX2Nna4eLj5OXm5+jp6vHy8/T19vf4+fr/xAAfAQADAQEBAQEBAQEBAAAAAAAAAQIDBAUGBwgJCgv/xAC1EQACAQIEBAMEBwUEBAABAncAAQIDEQQFITEGEkFRB2FxEyIygQgUQpGhscEJIzNS8BVictEKFiQ04SXxFxgZGiYnKCkqNTY3ODk6Q0RFRkdISUpTVFVWV1hZWmNkZWZnaGlqc3R1dnd4eXqCg4SFhoeIiYqSk5SVlpeYmZqio6Slpqeoqaqys7S1tre4ubrCw8TFxsfIycrS09TV1tfY2dri4+Tl5ufo6ery8/T19vf4+fr/2gAMAwEAAhEDEQA/APpGiiigAooooAKKKKACiiigAooooAKKKKACiiigAooooAKKKKACiiigAooooAKKKKACiiigAooooAKKKKACiiigAooooAKKKKACiiigAooooAKKKKACiiigAooooAKKKKACiiigAooooAKKKKACiiigAooooAKKKKACiiigAooooAKKKKACiiigAooooAKKKKACiiigAooooAKKKKACiiigAooooAKKKKACiiigAooooAKKKKACiiigAooooAKKKKACiiigAooooAKKKKACiiigAooooAKKKKACiiigAooooAKKKKACiiigAooooAKKKKACiiigAooooAKKKKACiiigAooooAKKKKACiiigAooooAKKKKACisrxN4gt/DHh651S5RpTEAsMCH57iVjtSJf9pmIA+tZPw88Rat4i8P3TeJYLW31ewv57G7jswwiDxtwV3EnBUqc55zQB1dFZd94o0DTIZZtS1zTbSKGcW0r3F3HGqS7d3lkk8Nt52nnHNaFtcwXlrFdWc0c9vMgkilicMkikZDKRwQQcgigCSisaLxj4ZnmuYoPEWkySWgJuUS+iJhAYKS4DfL8xA57kCtG/1Gy0qxkvdUvILK0iwZJ7mVY40ycDLMQByQPxoAsUVS0rWdL120N1ompWmo26uUM1pOsqBgASu5SRnBHHvUCeJ9Bku7S1j1vTmuL1S1rCt3GXnAJBKDOWGVI4z0PpQBqUUUUAFFFFABRRRQAUUUUAFFFc7oniC71Xxp4k00xwiw0hreGKRVO95Xj8yQE5wQA0YwAOpoA6KismTxX4dh1oaPNr2mR6mXVBZNeRiYsQCF8vO7JBGBjvV9r60XUEsGuoRePGZUtzIPMZAQCwXqQCQM9ORQBPRUDX1ouoJYNdQi8eMypbmQeYyAgFgvUgEgZ6cip6ACiiigAooooAKKKKACiuY1PxJf3PiKXw74Vt7ea+t40kvry7J8ixV/ugqvMkhALCMFeOSy5Gal3r3iLwvq2lr4lfTdS03U7uOxFzYWsls9rM+RHuRpJA6s2FyCpUkcHPAB2VFUrzWtL05pV1DUrO1aGH7RIJ51QpFnHmHJ4XPGemajg8Q6Lc6M+r22r2E2mRhi97Hco0KgdSXB2jHfmgDRorkfCPxI0Hxfc3dtZ6jpwuIryaC2t479JJbmOM484IMEKcMR14AOea0dNvVtU1fU9S8TWl7p32pvLbEcUVgq4VomcH5iGByWIIPGBigDdorOXxFoj642iprFg2qqMtYi6Qzj5d3Med3Tnp05otfEWiX2rTaVZaxYXGo24Jms4rpHmjwQDuQHIwSAcjvQBo0VkTG4l8X2yQa9DFDb2rSXGkCJGkm3thJSxO5VBVgMDBOeeMU+PxNoM2tnRotb059UUkGxW7jM4IGSPLzu4HPTpQBqUVQvdd0nThcnUNUsrQWiJJcGe4RPJRyVRnyflDEEAnqQcVE3ifQE0NNZfXNNXS5G2pfG7jEDHJXAkztJyCOvUGgDUoqG0vLbULOK7sLiK6tplDxTQuHR1PQhhwR9KmoAKKKKACiiigAori9N1zxJ4uS8v/AA1PpWm6ZDcy2tu19aSXUl00TsjSfJLGI13KQB8xIGTjOK6UX507QkvfEs9lYNFErXcgnxBG3fDuF+XPQkCgC/RWbYeI9E1UQnS9Y0+9FwXEJtrpJPM2Y37dpOdu4Zx0yM9abqvibQdCmih1zW9O02WYZiS8u44WcdMgMRmgDUorjfD2qtP4q8aapfX7R6Vp9xFZx+fPiGAQwCSZ8E7V5lOW9EGelbx8T6CNVh0s63pv9oTqGitPtcfmyAjIKpnJBHPA6UAalFV76/s9LsZLzU7uCztYhmSe4kEaIM45Y4A5NQ6Vrela9atdaHqdnqVujmNpbO4WZFYAEqSpIzgg49xQBeorMg8TaDdaxJpFrrenTalGWD2Ud3G0ylfvAoDuGO/HFGpeJtB0a8itNY1vTrC5nAMUN1dxxPICcAqrEE88cUAadFFFABRRRQAUUUUAFFFUdWi1aa2RdDvbOznD5d7yze4Urg8BVljIOcc5P0oAvUV5/oGq+ONe1PXbdNX8PxQ6TffYlm/sWdvPYRo7HH2obcF9vU9K6y913TvD2n2z+Kda02xkdQhnnlW2jlkA+bYHY4HU7dxIHc9aANSiqEuvaRBoo1mbVbKPSyquL57hBAVYgKfMztwSQBzyTWH4I+IWjeN7ESWV7YLeM0xFhHepLMsSSFFkZRgruAVsY43AZoA6uisuTxRoEWtHR5dc01NTHWxa7jEw+Xd/q87vu/N06c1gfETWGf4fBvD+oETaxcWtnZXdnN18+VF3o6n+4WII9PxoA7OigDCgDt6nNFABRRRQAUUUUAFFFFABRXGadrniPxa99deGp9L03TLW6ltIZL60kupLpo2KO+EljEa7gQB8xIGeOldJbXz21jYJ4gmsbXUbnbEY4p/kkm2klYywBbgMQMZwD6UAX6KztJ8RaJrzTjQtYsNSNvgTCzukm8rOcbtpOM4OM+hrA0jULi++KHid5LyRdO0m0tLRYTKfKErB5pHx0B2vGM9cUAdhRXBap44tvAnw/iv9c8Saf4g1CcebaP5sVoL5XkATywu4bFV1yw3cAsa7DStZ0vXbQ3Wialaajbq5QzWk6yoGABK7lJGcEce9AF2iiigAooooAKKKKACiiigAooooAKKKKACiiigAooooAKKKKACiiigAooooAKKKKACiiigAooooAKKKjuIjPaywrNJA0iFRLFjcmRjcMgjI6jINAHmt9rF34l+JC3FloGoa1oXhqR0iaze2CSajt2sx86VMiJGKjGfnZv7oq38Pr2f/AIT/AMb2V1p1zpfnXFrqMdrdNGzjzIRGzZjd15aHPB7jNdj4e0Gx8MaBa6RpasLe2TaGkOXkYnLOx7sxJYnuSarz+F7WbxJd64tzdQ3d3pw05xG6hQgdmVwCv3wXbBzjHagDj/hZpdkulat47vP3l1rd5dXiTSHd5Fr5hCImeFBVFYkfewuSdoxiaZ9oHwX8GaIpktU8UagscojO1o7SZ5bl0UjpmIeWCOgbjpXpUPhWytfAq+FLSW4gslsPsCyoy+cqbNm7OMbsc5x17Vl+KtO8NWHhnSLHWdQl0a106eE6fqCNsFnLEpCMZGUxqCuV/eDa27bgkgUAY3xO07Rp/wDhDPDyWdqlzPrEEdlEiKpgt4sNNsA+6vlqEIHHzKMejJJNb134satc2Ol6bqVt4cENpaR3+oPbiGeSMSySqqwybmKuiBjjAU4+8TVbRdK03Xfitpmt6RqVx4ij0q1uGutcllWRHlcLHHDG0arENqNKWWMAZYFvmOT2V94PSbXrjV9K1rU9Fu7xES7NiYWW42DCMyzRyAMBxlQDjg5wKAMS4s7zwhpfjDxtrE9sNQurAStb2SkRQiCN/LXe3MjndguQucLhVxWh8M/CMHg7wLp9kqbr2WCOS9nbJeWXaM5J5wo+UDsAKu33g+11PwdN4d1HUNRure4INxcTTBppv3gdgSV2hWxt2qoAU4ULxjoKACiiigAooooAKKKKACiiigArx6z1S7tPhLr2vaXN5N54l1+VbW4TGY1multo3B9VRQw+g9a9I1zQJ9ZZDBr+qaUoieKRLEw4lDY6+ZG5BGOCuCMnmi58JaNc+EV8MtaeXpSQpDHDFIymMIQUKsDuDKVUg5zkZoA57x1o2ieH/ghrmlQ2MS2EOmyRQwbc75SMRn1ZzKVO7qWOetQ6pHcaZ44+H15qDkzvb3Wm3UrHq7QLLkn/AHoD+dbUPgqJ72zudd1rVNe+wyCW1iv2hWOKQdJNsMcYdh2L7tp5GDzWD46sLb4geJdP8HRGQwabOmo6tcwylDAhR1jgBHIeUO2eeEBP8QoAueB1/wCEh8Ra142cZt70rYaSSc5s4WOZB7SSF2H+yENdxUdtbQ2drFbWkSQwQoI4oo1wqKBgADsABipKACiiigAooooAKKKKAOG+FQM+i61qU3/H3f69fST56gpKY1X6BI1AFP8AHBGreJvCnhy2+adtRTVbgD/llb2x3bj6ZlMSD1yfQ40JfBUcWq3t/oWt6poT6hIJbuKyMLxTS4x5myaOQIxGMlNu7AJyRmr+h+GrDQWuJrczXN9eMGu767kMk9wQMDLdAo5wihUXJ2qM0Acjo+j2viL4zeI9evV+0JoottOs0flElWMys+D/ABL52Ae2W+tSaDfQ6d4k+I+uRgLp1tPGWZR8rSw2qmY/XJCn3U1m/D/wsdZ0KfxVY69q2kXXiC8urqY2TxMssbTv5OVljkAIjC4ZQDg4JOBjvIfC2kW/hWbw7Da7NNuIZIZY97FpBICHLMTuLNuJLE5JOaAMT4fxf8I38H9Kmv8Aho9PN/c5PRpAZpOfq7Vw91p9zP8AAPwzoJkkt73xXfW/nSRnEi+fKbmVvqFDV6LH4N/4o+98N3mv6te2l1am0EsxgWWGIpsIVkiUE47sGNXLjwvYXN9odyxlQaGzNawKR5ZJiMQLDGThScYIwTQBxfjzw1YSReCfB2kxmyhk1bzVeBikkcUUUjysHHzB2zgvnJLkk5NXtb0+0i+J/gLS9Lt4rWPTYr66EcEYVYoREsQQY6AtIvH+z9K6u60C1u/FFhrs8kxuNPgmggi3Dyx5pXc2MZ3YQAHOME8UDw/a/wDCXnxGZJjeGxFgIyw8tY/MLkgYzuJxk56KOKAOY8OxPrPjzx1qEcjRbWg0i3nHWPy4d7kfR5z+VVfB8kvhx9E8B+KtEt1mgiaTTNRtyJbe8aIAtIQwDRTfOWOQQSWIaukt/B9rZ6ReWVlqOo20l5fyag95DMFmEzyb/wC7tKjhdrKVKjBBFP03wpFZ6ymr6jqd/rOoxQtBBcX5iH2eNiCwRIkRAWKjLbdxAAzgYoA5bwnotvrvxT8WeLLxTN9kvE0ywRzlIjDEBJIB03bpHUN1ALjuaT4Z6JZXGpeIvFskasbzWrz7CW5WCNX8qR07K0jREsR1AUHpXaaB4ftfDumy2dlLNJ51zPdSzTEGR5JZGkYkgAdWwOOgHWoNK8LWej+DV8N2c9yLZYHh89nXzjvyWfOMbiWJzjGe1AGF8H4/+Lb2t2g2xahdXV7DHtwI45Z3ZAB2G0g/jXcVS0bSrbQtCsdJsd32axt47aLecttRQoye5wOau0AFFFFABRRVLV9MXWNJnsXuruz85cC4sp2hliPUMrDuDzg5B6EEEigDg/E9hefDO11DxX4Yvj/ZSym51HQbkBopC7rue3b70Tkljt+ZWLdBWnMq+IPjB9ivVEtl4dsIryGBhlTdTO6rKR6okbBT23k9a0B4KW6uYJPEGu6rrsNu4litb3yEhEgIKuVhij3kEcB9wB5xkAiXVvCMeoa7/bNhq+o6NftbfZZ5bDyT58YbcodZY3GVJbDAA/MRkjGADnLeLSrn4+atqNpDF52j6Gkd9LEBkyyvuUNjqwjiHXnDAdhif4fiyf4cy+KfEIgMuuwPqOqTzgFfKIJWNif+WccWFA6YBOOTW54b8E6P4VvtVudJSYNqsiSXAnkMpJVcZ3Nl2JJZiXZiSx57Vmf8Kx05tFfRJdX1eTRAri30xpYhFbZJK7SIw7hM/KsjOowuQdq4AODtbH7L+zLDYaZF9jm8UXCw28eMiNbu5wo9SFhYfgtdT400LT9F8J+HfDmjweX9r1+ySOTO6TesomkmZjyzlY3Jbqc11Mvg/TZbDw/Zbp0tdAmimtYkZQrGKMxoH45ADZwMcgHtVrUtAtdV1rSNSunm8zSZZJoIlYeWzvGY9zDGSQrNjBHJoA4m6fWtd+LWpSWOmabqVt4bSGC3hv797dYriWMStMAsMgZtjIoJxtG7H3jW5pvhPUvt3iDWNRvoLPVNctY7bbp6tstBGHCNvODK48z75CdAAoq5f+D0uNem1jS9Z1LRby6jWO6axMLLcBfuFlmjkXKjIBUA4ODnjFg+GydCXT11vV1nWbz/AO0Bcgz+Zu3E8r5e3nHl7NgHAUYFAHL+Dp30WfR/AvinQLW2u7G2Mul3lqVltrryVVXkTIDxyjzTkEd2IY5qC4N14F1vWZ/EOlw6t4e8R6ivnajGQ0tv5vlwpDcRP96IZ2gqTgcFea6mw8IQW2oyajqOpahq+oPA1sl3dyIjwxNgskYhSNUyQCWA3HA+bAAFePwOksloNZ1/WNatbORJYLS+eHyxIhBR2McSPIVIyN7MM8kEgEAHToixxqkahEUAKqjAA9BS0UUAFFFFABRRRQAUjMqKWchVUZJJwAKWq2o2S6lpd1YySSRJcwvC0kRAdAykZXIIyM8ZBoA5L4SI0vw+h1SUMJdYu7nUm3dSJpmZf/HNtJ8N401i31DxheKJNQ1a8uI45G5aC1imaOKFT2XCbiBjLMSea6vR9Lt9D0Ox0qx3fZrG3S3i3YztRQozjHOBWAvgKK2e6j0rX9a0zT7u4e4m0+0miEe5zuk2O0ZljDHJwjrgsSu2gDltP1RNB8F/ErWrMCKwi1G8kslQYUusKI5X2Myv+OT3zWxqb3Pw9+BITTwFvdM0mK3hLc4mKrGGP/A2zXQXng/RrvwVL4US2+y6S9t9mWK3O0xr2Knn5gecnOTyc0P4XjvfDN5oev6le61b3iskkl4IkkCkAYBiRBwRkHGcnr0wAcp4+0nRfCfwK1TS3t4rhBaGGESrl7i7fhJOeTIZCHz1zk54zUmsabHB4i+HPhSJQ0Gns944UcKtrb+Wh/77lXH0rQvvhpY6zHar4i1nV9Yeznint3u5IR5ZjcNjakaod23BYqXwWAYAnO+2gWr+LU8Qu8zXcdk1lHGSPLRGcOzAYzuJVQTnoo4oA1KKKKACiiigAooooAKKKp6vpqaxpNxYSXN3aCdcCeyuGhmjOchldeQQQPY9CCCQQDg/FOn3nw3tdT8XeF77bpyObvUtDugDBNll3vC33oZD8xxyrMRkCn+MdKt/GHxP8MaLeqzWNjZ3OqXcDcCUEpFGjeoO59w7jIPBOd4+CVvJ4W8Q69quu28LiWOzvfISHzFYMrssMUe/BHAcsuecZAI5u28Px+Kvit4l1qPUb/T7rSPs2l2l3ZOoZQIzLKhV1ZHUmZchlOCoI55oA07qNJfjlpQskVWstBuPtbIMYjkmjESH2zHIQPY1y6ajLbfBjxv4ktlIuNcvr02rAjcd8n2WDB/4CmPr716Ro3hq10WK9aK4ubi+1Bt93qNwymeZgNq5IUKAo4VVUKOcDJOaK+A9KTwhpPhsS3X2DS5beVPnXdOYXDqJDtwQWALYAz7UAYfifTY7f/hX/hK2A8pNRhcqOB5VnC0n5blj4r0KsPxB4Xh16+02/TUL3TL/AE1pDb3VkYywEi7XUrIjqQRjqucqMEVswxtFbxxvK8zIoVpZAAzkD7x2gDJ68AD2oAfRRRQAUUUUAFFFFABRRRQA2RS8TosjRsykB1Ayp9RkEZ+oNZ/9l3f/AEHtQ/792/8A8arSooAzf7Lu/wDoPah/37t//jVH9l3f/Qe1D/v3b/8AxqtKigDN/su7/wCg9qH/AH7t/wD41R/Zd3/0HtQ/792//wAarSooAzf7Lu/+g9qH/fu3/wDjVH9l3f8A0HtQ/wC/dv8A/Gqi1i78QW0wOjaZpd1bCPdJJe6nJbMrZORtWCQEYxzkd+O9YPhPxZ4p8VaHputQ+G9JtbC+USDzNZlMqxk43bRbYJxyBuHbkUAdH/Zd3/0HtQ/792//AMao/su7/wCg9qH/AH7t/wD41WlRQBm/2Xd/9B7UP+/dv/8AGqP7Lu/+g9qH/fu3/wDjVXrjzhay/ZBGZ9h8oSkhS2OMkc4z6VX0j+0/7Htf7eNodS8sfafsQYQ7++zd82PrzQBD/Zd3/wBB7UP+/dv/APGqP7Lu/wDoPah/37t//jVaVZ1t/bP9v3v2v7ANIEcf2Pyt5uC/PmGTPygdMAZPXNACf2Xd/wDQe1D/AL92/wD8ao/su7/6D2of9+7f/wCNVpUUAZv9l3f/AEHtQ/792/8A8ao/su7/AOg9qH/fu3/+NVpUUAczpa6je6PZ3Uut3okngSRgscGAWUE4/d+9W/sl9/0HL7/v3b//ABqo/D//ACLOmf8AXnF/6AK0KAKf2S+/6Dl9/wB+7f8A+NUfZL7/AKDl9/37t/8A41VyigCn9kvv+g5ff9+7f/41R9kvv+g5ff8Afu3/APjVXK86fxB4uj+LGgWGpfZrDR9TF8I7GMLJI6wopWSSTHBYtkKuMAcknoAdz9kvv+g5ff8Afu3/APjVH2S+/wCg5ff9+7f/AONVcryz4qeONd0xp7fwhdJbf2OLefVLkxLJ/rpkjjgAYEAkMzk9QFHrQB6P9kvv+g5ff9+7f/41R9kvv+g5ff8Afu3/APjVcv4t1vWJvF2keEvDV5Hp91ewy3d1fPCJWggTAGxG4LMzYycgY6GsmHxnq/hDUfE2leLbtdXOk6WNXs7xYVheeEllMbquF3B1wCOuaAO++yX3/Qcvv+/dv/8AGqPsl9/0HL7/AL92/wD8arzLUtZ8c+F/Btn431bXYL23Hkzaho6WKLHFDKygiNx8+5dw5JIODXrNAFP7Jff9By+/792//wAao+yX3/Qcvv8Av3b/APxqrlFAFP7Jff8AQcvv+/dv/wDGqPsl9/0HL7/v3b//ABqrlFAFP7Jff9By+/792/8A8ao+yX3/AEHL7/v3b/8AxqrlFAFP7Jff9By+/wC/dv8A/GqPsl9/0HL7/v3b/wDxqrlFAFP7Jff9By+/792//wAao+yX3/Qcvv8Av3b/APxqodd0/UdSsFh0jWptGnEgY3EMEcpZcH5cSKRjkHOM8Vw2mT+Kbf4vWmgN4tuNYsbWxe81RJ7G3jC7spCgaNAQxb5+vRfegDv/ALJff9By+/792/8A8ao+yX3/AEHL7/v3b/8AxqvN7HVvG3jDw3qHi3w/r8Gn2iST/wBmab9iSVLiOFmXMrn5gXKH7pGPenap8QNS1XTfA5029i8PQeJkZ7jUpYllFu6oCIU3/LuZiwBb04BoA9G+yX3/AEHL7/v3b/8Axqj7Jff9By+/792//wAark/Amtazd+I/EWjanqUeuWmlPCsOqpAsRd2Ul4mCfIWTjO3pnnBNdxQBT+yX3/Qcvv8Av3b/APxqj7Jff9By+/792/8A8aq5RQBT+yX3/Qcvv+/dv/8AGqPsl9/0HL7/AL92/wD8aq5RQBT+yX3/AEHL7/v3b/8Axqj7Jff9By+/792//wAaq5RQBT+yX3/Qcvv+/dv/APGqPsl9/wBBy+/792//AMaq5RQBT+yX3/Qcvv8Av3b/APxqj7Jff9By+/792/8A8aq5RQBT+yX3/Qcvv+/dv/8AGqPsl9/0HL7/AL92/wD8arA8RaX4uvrm6m0nxRBolpDFm2SOySZpGC5JlaTOFzxhQOBnPauVtfiLrutfDLwlfWEdtZ614kvRYmeSMtHb7WkDyhM85EeQucfN145APSfsl9/0HL7/AL92/wD8ao+yX3/Qcvv+/dv/APGq43S9U8Q+HfiNZ+GvEOsDXLPVrOWezuntkglilixvQiMBSpU5BxntWV8R/G+u2erra+E7pLa20q4tRqtwYlk8x55VVLcbgQDsYuxHIyvTNAHo/wBkvv8AoOX3/fu3/wDjVH2S+/6Dl9/37t//AI1VyigCn9kvv+g5ff8Afu3/APjVH2S+/wCg5ff9+7f/AONVcooAp/ZL7/oOX3/fu3/+NUfZL7/oOX3/AH7t/wD41VyigCn9kvv+g5ff9+7f/wCNUfZL7/oOX3/fu3/+NVcooAp/ZL7/AKDl9/37t/8A41R9kvv+g5ff9+7f/wCNVcooAp/ZL7/oOX3/AH7t/wD41R9kvv8AoOX3/fu3/wDjVXKKAKf2S+/6Dl9/37t//jVH2S+/6Dl9/wB+7f8A+NVcrxI+N/FF34M1DxbF4ptrK9tbySBPDTWMb4dZCiW7H/WmRgAflI69OtAHsP2S+/6Dl9/37t//AI1R9kvv+g5ff9+7f/41XC+Ltb1pvGXhrSbXxAfDMF/Y3FxdN5MEhDp5eFzKpHG4jitLW59Z8MfCvXtQHiKTVr+3tJri2vpLeFdmE+UBUUIQCCeQetAHUfZL7/oOX3/fu3/+NUfZL7/oOX3/AH7t/wD41XLeDrbWbo2Wo3fjyXWIjCJJrIWtqqksnQtGgYYJz17V2tAFP7Jff9By+/792/8A8ao+yX3/AEHL7/v3b/8AxqrlFAFP7Jff9By+/wC/dv8A/GqPsl9/0HL7/v3b/wDxqrlFAFP7Jff9By+/792//wAao+yX3/Qcvv8Av3b/APxqrlFAFP7Jff8AQcvv+/dv/wDGqPsl9/0HL7/v3b//ABqrlFAFP7Jff9By+/792/8A8ao+yX3/AEHL7/v3b/8AxqrlZ+txarPpUkWgXNvaXrsqrPcxmRY1yNzBQRuOM4BIGcZoAk+yX3/Qcvv+/dv/APGqPsl9/wBBy+/792//AMaridF1XxFo/wAVB4V1jW11+1utNa+WZraOGa1KuFwwjAUq2eOM5+nPcaot+2l3C6O9vHfMhEL3Kkxq3qwHJx1x3oAb9kvv+g5ff9+7f/41R9kvv+g5ff8Afu3/APjVcG2qeKfCnxI8OaPq2vpr9lr4nRkezjgktniTfuTZ1U5xhs49TUEN/r+u+PPE2np45fRINOu4oLW0S1tXLBoVYnMiFjyTQB6H9kvv+g5ff9+7f/41R9kvv+g5ff8Afu3/APjVZ2qaNrV5ptlb6f4outOuIEAnuo7SCRrk4AyVdCq8gn5QOtcr4Su/EsnxS1bSbnxNNrWkaTZxrctNZwRf6VIdyqpjQZ2oMnnq2MUAd39kvv8AoOX3/fu3/wDjVH2S+/6Dl9/37t//AI1VyigCn9kvv+g5ff8Afu3/APjVH2S+/wCg5ff9+7f/AONVcooAp/ZL7/oOX3/fu3/+NUfZL7/oOX3/AH7t/wD41VyigCn9kvv+g5ff9+7f/wCNUfZL7/oOX3/fu3/+NVcooAp/ZL7/AKDl9/37t/8A41R9kvv+g5ff9+7f/wCNVxni7xZcL4r/AOEesfEFh4bt7W0W7v8AVbsRsU3sVjijEhChjtYkkHjHFReKNb1fw78F9X1nTvFEes3kKCS11SO3hxtLquMKCjYyecd+nFAHcfZL7/oOX3/fu3/+NUfZL7/oOX3/AH7t/wD41WF4a0/VEvzc3HjmXX7ZVKtb/ZbZVDHoS0Sg5HpmuT0HxprU+raDfXutRTQazfXtvcaSYo1FjHCJSGDAb8r5Y3FiQd3bigD0n7Jff9By+/792/8A8ao+yX3/AEHL7/v3b/8AxqsPwpq2peJb671vzTDoEg8nTLcxgNcKDzcsSNwDdFGcbRkjkY6igCn9kvv+g5ff9+7f/wCNUfZL7/oOX3/fu3/+NVcooArQWt6txGX1m9kUMCUaODDDPQ4jB/IitiqUf+sX6irtABRRRQAUUUUAFFFFABRRRQAUUUUAcz8SNUfRvhn4hvYSwmSwlSEr18x12Jj/AIEwrR0ezh8NeELGyfCQ6ZYpExHZY0AJ/SoPFnhw+KdJg09rv7NCt9b3Mw8vf5yRSrJ5fUYyVHPOPQ1a8R6VLrvhfU9Jt7v7HJfWsluLjy/M8repXdtyM4z6igDz/wCF/hOxbwTZeKfFFtFqF/dvJq8Buo1kWxWSQzL5IPCMdwYsPmJwCcKuLnhjw/pHjDwkvivxrZW9/datE12r3Q3fYLcgmNISeYtqYJZMEtls5wa7u0023tNGh0xF3W0NutuFPdAu3H5VxMnw31afwTL4Qm8U7dES1e2tlhsdlxs5EaTS+YRIijAYIsZfaPmALAgHK28bw/s1pCk08t14nufKWSZi8kn2y62gsTnLeW/X1FdH4w0mTxB8TvCWgWl1PZWemWtxqN0baQxyFMLCiK4+Zc7nBKkNjOCDg10E3gqOTTfCunx3fl2nh2aGURiLPn+VC0cYzn5cEhu/THvV218O+R421HxHLdea93ZwWcUPl48hI2dj82fm3NJnoMY70AcxomkaZonxqubLw1YW2mWaeH0e9gs4RFHJK058lmVQAWCrLz1w1YkWpvbfCPx34mt8mfV7+9+ytjlvmFpBx/wBfzrv7Hw3JY+IvEGspehrnVxCkeYeLdYoyqj73z/Mzt2+9jtmstPh7HH4C0HwsuoH7Ppc9rNPIYcm78lxIRjd8m51B6nA4560Acj4n8C6f4W+E1orxreeJYWsbW01WRQ08M5miVBC3WKNT0RcDGcglmLdTq6L4s+I3/CN3v7zRtLsUvry1z8l3NK7LEkg/ijUI7FDwSVyDit3xF4d/wCEgn0YvdeTDpuox37xiPcZyittXORtwzBs4P3cd6yr7Q7mbxte6r4V8Q2NlqT2UVrqNrc2v2sBQzNDJtWWNkb5pBySGGOOMkAwtH8PaTY/HWWLQYFtLPTNG82Wztztt4bieRVDLGPlRmjh5CgA8Hrkn0yvOfhRpdumpeLtes7ua/g1PVBHFfzuHa8WFArSBlAUr5rSgBQFAXCgDFejUAYHh/8A5FnTP+vOL/0AVoVn+H/+RZ0z/rzi/wDQBWhQAUUUUAFeQ+K/iD4UX4v+Ep2120EWmLqUV6244gdkjVVb0JKkfhXr1FAGTJ4l0sahp2nR3iG91WB57FNjFZkVQxbcBgDBB5Iz2rxnxhoXjfw78JtXh1iHw/Ot3fQ3V9ew3c7TzStdR7TtMQXAIRcZ4UcV7CnhpG8by+JLu48+VbRbSzh2YFsmS0hzn5mc7ecDAUCtugDy3Xrq78MfEXw54t8WxRQW0mmz6df3Fnvlt7SQuHQklQ21uRkjr6Vk6rp7fEzWfGGs+Ho3msf+Ec/siwuShRbybzGmOwnqoYKucYz0Ne0UUAeK+IPFth41+Fdt4N0PzpPEWoRW1nNp5gcSWRDIZWlBA2qoU8nrxXtEaLFGsaDCqAqj0Ap1FABRRRQAUUUUAFFFFABRRRQBX1G/t9K0u61C+k8u2tIXmmf+6igkn8hXGfCixuZdBvPFWqxlNS8T3Jv5FbrFDjEEefRUwR/vV3dFAHi3hDxbpvgD4b3Pg/V/PTXtLe6gt7DyHaW93SO0bRAD5w28cj05xVW902Pw74c8EeGPHnm2nhdbBpNSKIxje7yGWKV1yVUFmPBAJHXFe50UAeXfC2W1g8Vazp3g2ae58FxQRyWryBzHDcsxLxwuwyy45PJwfrXqNFFABRRRQAUUUUAFFFFABRRRQAUUUUAeTfEnx9p1x4gl8BvrUOhwNEp1fUZm2skTAHyYR3dlPLdFB7nitLWZ/h1qnw508Nqi22hWN1HFY31g7qbSeNTtKuAdpAz8zcc88kV6PRQB494Y0xde+I1vrnh7V9W1uy0iwuETVdWkJimuJcKscYCqpVQCWZV5yOTxWL4o0Lxt4b+G/wBk1ODw/MJtWt7m6vIrudpri4e4Q7mBiAxnA68KOOle90UAVtPN62nQHVkt0vSg85bZ2aMN32lgCR9QKs0UUAFFFFABRRRQAUUUUAFFFFABRRRQAyYyLBIYVDSBSUUnAJxwK+czc+Grvwzca3q1/fwfFIGSaNUjlS5juhkRwpEBtMfQdDkE5Pp9H0UAcBrOr+Dl03Rx8VbXSk1ZrBJXW/svMSN2A8xUZlKg7lPAOeBWN4Fj0nS9F8YXs9nLB4GurtTYW1xbSOjRlQsrLEVLCNnPHGMZPABr1iigDxho/CWrfEDwxN8KbS1S8tb0vqVzpVv5MCWm070kKqFJY7QByfpXs9FFABRRRQAUUUUAFFFFABRRRQAVieLtS03TPDsz67Fdvp037i4e1SRmiRgQWJj+dV7bl5GRW3RQB4z4P/sWD4s2Z+F09xeaNd20p16RmkmhRlX9xiWTLb93BXceO3WvRNQ8d6Dp2l67fPdNKmgnZfJHE25HwCFGQAScjkHHPWuirE8K+Gk8NabPG9x9svby5ku727KbDPK5yTtydoAwoGTgAUAec+B/F/hrXvF0fiXxD4h09tfv1W003S45SwsImbiMHo0rEjc34DitDxhqHwnup9Vt9esNPudYcvFJENPb7bLIBtAQ7N5PAAYHHfOOa9RooA4PQNTvvA/wNtNR8X+YbzTdO3zJK2XJ58uMn+9yi/Wrvwy0G50PwXDLquTq2qSvqOosRgmaU7iD6bRtX/gNdfRQAUUUUAFFFFABRRRQAUUUUAeUa9LoXhn403er+NLW3TTtR0uJLPULq38yOKWNmDx7sHaxUg9sgYpPBw0Wx8O+K9S1uwFr4S1TVzJZ2t1ZsY2jwo8zytp2ozrkZAxgdK9YooA8d02LwxqXxX8PXvwttII4bZJ/7YudNg8m1MJTCI2AFZi+CAOeMnpxv6zo2meKPGdzouk6baW8KBX8RajBAqSzg/Mtp5gG4lxhn54TA6tXodFAHjfhzVr5vFWkwxatftrjavdQarozSt5FtZL5ojIh+7GoCw7WAG7d1Oa9koooAKKKKAHR/wCsX6irtUo/9Yv1FXaACiiigAooooAKKKKACiiqmqzXNvo17Np6o13HbyPAsillLhSVBAIJGccAigC3RWP4R1s+JPBmj606qj39nFO6oMKrMoLAcngHI61R8L+JL3xNrWszQRQroNnP9js5wreZdSoSJnBzjyw3yDA5Ksc9qAOmorGsvGXhjUldtO8R6TdrG6I5gvonCs7bUU4bgs3AHc8CsrWr26n+KnhrSbS5mihhtbvULyOOQqsigJFGrAdRukJweMqPwAOuorI0b7RLqWrXD69Dqlq1z5cFtDEgFgUXa8RZSSzbuTu5HTArH8SeP9BtPC/iCbSdd067v9MsJ5mt7a8jeWNkGOVBJGHKjnoSKAOvorD024h8L+CdOPibVUh+y2kMVze6hcgbpNoBLSOeSW9T1NW7LxBo2oxxyafq9hdpJE86NBco4eNW2s4IPKhuCegPFAGjRXG6J8UPDWueKNR0e21fSsW0sMNpKuoxs187puYRp3CkhcgnJyOMVt6ebibxLqkw16G8s4xHCumxRJmykC7mLuCWLMGU4OMDHBzmgDXrL1bwxoGvyxya7oem6nJEpWN7y0jmKA9QCwOBTR4r8PHWv7HGvaYdT37PsP2yPzt2M48vO7OOcYq/Pe2ttPbwXNzDDLcuUgjkkCtKwBYhQfvEAE4HYE0ASxxpDEscSKkaKFVFGAoHQAdhTqzdI8R6H4g87+wdZ0/U/I2+b9iukm8vdnG7aTjODjPoa0qAMjw7bq3hfSiSebOH/wBAFaX2ZPVqpeG/+RV0n/ryh/8AQBWlQBF9mT1aj7Mnq1S0UARfZk9Wo+zJ6tUtFAEX2ZPVqPsyerV5pqjeKLP40eEm1TW2FjqF1fxx6XZkpAIY7d2jMneSQ8Mc8KRwOMmx8TPFqad4g0Xw5Lrc2hWt/HNc3l5bKTcGNMBYocKx3szdQCQFOOtAHof2ZPVqPsyerV5TL4x0Xwv8LfFGveEfEepa1LZIi+Xq88sslpMx2JlZQHUEsDg8Hbx3o8RaZrPw503SPEq+K9X1KaO+t4dXgv7rzLe4jlcI5SM/LEQWBUrjA65oA9W+zJ6tR9mT1apaKAIvsyerUfZk9WqWigCL7Mnq1H2ZPVqlooAi+zJ6tR9mT1apaKAIvsyerUfZk9WqWigCL7Mnq1H2ZPVqlrznXGvfFHxcbwrJrd9pWmWWkJfGLTrgwTXUjysmTIPmCKFHAxyefSgD0H7Mnq1H2ZPVq858Hx32sf8ACWeCdb1vU7gaJfxJb6lFdNDdNDIgkRWlTBLDkE9xWbPoM1n8YPD+haD4j8SSi2jbU9V+1axPPGIQdscZVm2ne/UHsDQB6x9mT1aj7Mnq1S0UARfZk9Wo+zJ6tUtFAEX2ZPVqPsyerVLRQBF9mT1aj7Mnq1S0UARfZk9Wo+zJ6tUtFAEX2ZPVqPsyerVLRQBF9mT1aj7Mnq1PcM0bBG2sQcMRnB9cV5F4z07WPAo8PatYeL9b1HVrvV4LOW2urjdBeiQneogA2pgA42jgdyeaAPWvsyerUfZk9WrzH4g6m8HxF0+x8T67qPh7wpLYForyxuGtllvN5yksy8qAgBAyAT3PStr4U3WrXfhy+l1G8vL7TjfyDR7u/GJ7izwux24BIJ3YYgEjnoRQB2n2ZPVqPsyerVLRQBF9mT1aj7Mnq1S0UARfZk9Wo+zJ6tUtFAEX2ZPVqPsyerVLRQBF9mT1aj7Mnq1S0UARfZk9Wo+zJ6tUtFAEX2ZPVqPsyerVLXJfE+91zT/h9f3PhkTi8Qx73to98scO8eY6L3YJk/rQB1H2ZPVqPsyerV5N4Rv0n+Imkx+BPFOreItEktJZNaN/dtcx2/yjycM/KSF85QdgcgVDptnrXjfwvr/ik+LNX0/U7e7u47G2srry7a0EDMER4ukmdoLFuoPagD1/7Mnq1H2ZPVqxfAuvTeJ/AOi61dKq3F7ZxyTBRgb8fNgdhkGt+gCL7Mnq1H2ZPVqlooAi+zJ6tR9mT1apaKAIvsyerUfZk9WqWigCL7Mnq1H2ZPVqlooAi+zJ6tR9mT1apaKAIvsyerUfZk9Wqnr9pcX2h3NvaarJpEjgZvYlUtEgYFyN3AJUEZPTOe1edeHpptL+MUGjeHPE2o+INIl0+SbU47y9N4tnICPLIkOdpbn5M9MnHTAB6j9mT1aj7Mnq1ea/EPw9Y+G/C+seI5PEHioTKGeC2h1y4VXmdsRxqgbgFmAwOg+la0Wo3/w++EennWLifV9cWCOBFnlMkl1eSH5Y9xOSNzYz2Vc9qAO0+zJ6tR9mT1avOvhJ/bVtqni3TPEWs3WrXNlfQhpbiUsqs8Cu4QH7qbmOFHAGK9KoAi+zJ6tR9mT1apaKAIvsyerUfZk9WqWigCL7Mnq1H2ZPVqlooAi+zJ6tR9mT1apaKAIvsyerUfZk9WqRl3IVJIyMZBwRXj3xH8L/APCN+Gol0PxL4rk1vU7qOw02N9fuWBlc/eI3dFUMx+lAHrv2ZPVqPsyerV5D48v59G1WbTdV8SatYJZ+HkbR5YLmSNr++BdW3bf9bJ8sf7s5zuJxzXR2Wp6v4y1XT9MiuJrK20hIZtdubZjGZrvaG+yKw6AH5pMdtq92oA7v7Mnq1H2ZPVqlooAi+zJ6tR9mT1apaKAIhbqrAgng1LRRQAUUUUAFFFFABRRRQAUUUUAeN6Fq13YfDe18EaFJ5WtzatfaNbupz9miincyT/RImXHqzJ610XiLSLSzTwb8P7CPydHupmS5j/5629vEXMbeu99m71BbOcmt3RPAmkaD4u1jxHaG4kv9WbMnnOGSEcFhGABtDFVLZJyVX0q7r/hu319rKZrq6sL3T5jNaXtmUEkJKlWADqykMpIIZSPxANAHKePLLS9R8eeAdK+zQG/i1FrxGCjdDbwRMxHHRTIIuOmVHpkWdImjufix4v1efiHSbG105ZOMD5WuJOf+2iZ+laWn+AdMsPFcPiSS6vr7V47eS3e5upFYyhypyQFAXG3AVAqjcx25YmrCeDrKLSdfsY7m7X+35pprqcOvmI0qBDsO3ACqAFyDjHegDzuwNzL8JfC+nu0kEvjTVvMvpFYq5huHluZBkdC0Y2ZHOGzW38U9L0a7svCXhwWVqs1xq9vDZRJGFNvBHhpSgHRRGu0jp8w46V1eo+ENP1Dw/p2lLJcWi6W8MlhcWzKJbZ4htRl3AqflypBUghiCOaqQeAdPXxHYa/f31/qeq2JcpdXboS25CgG1UVVAVjgIFBJy2480AUtORdf+LmtXF6BJH4bigtLGJhlY5Zo/NllH+0VZEz2AIH3jVTwpbadd/GTxlqmmQwoLaG1sJZIVAEk/zSSkkdWAMSn3XnpW9e+DYrjXbrVbHV9T0qW+REvY7J4wtyEBCk70Zkbadu5CrYxzkAibwr4O0rwbbX0GipIsd7dG6kErbiGKKmN2MkYQHLEsSWJJJNAGN8Kx9p8L32tHrrerXd+Of4DKY4//ACHGlcla6hdt8NLy+sJpLW68ZeJmgjukbDxQzXIgDqR3EMfykYwcEV6D4d8Hp4Y019N0/WdSfThG0dtaymEraAkn92wjDnGcDezcYpP+EF0c+BLTwmRcfYLOKJIJVl2TRvGQUlDrjDhlDZAxntg4oAw/iVpWmaT8F9S0nTrGGGJIEt9OtolxtnZwsOz/AGvMKnPXPOepqt4o0WLxd8VvDmi6qfPs9H06bUryHOEuWdlijVwOqkrISp4YAggjIrpbfwdEdTtr/W9X1LXprN/MtFvzCsdvJgjeI4Y41ZsMQGYMV/hxk5v2ugWtr4ov9eWSaS7voIbdg7ApGkZYgIMZGS5JyTzjpQBzluouvjtcvbptTTfD0cEzKOC005ZFP0ELEf75rt6y9P0C103XdW1aKSaS51V4mm8xgQgjTYqrgDA6nnPLGtSgDN8N/wDIq6T/ANeUP/oArSrN8N/8irpP/XlD/wCgCtKgAooooAKKKKAPJfGHiWSX4o+FryDw34mnttBur5buaHRZ3Vt8LRqUIXDgt3HbmtPxS1/ZeN/C/jmy0bUL/T1sZrW9toLZmurdZQro/k/eyCMMOo9K9HooA8U1nwbq3xEtvHeqR6TcaVHq+n21rp1tfL5M1y8DeYJHTPyZYBRu5x1ArS17UtX+JGm6R4cj8L6xprtfW8+rz6ha+VDbxxMHcI54lJZQF254OTivWaKACiiigAooooAKKKKACiiigAooooAK8++IVv4budXtf+Eg8Ia9q1xFBut77SLaZiuSQYvMhZWU8Zw2F+Yc9ceg0UAef/C7wq3huw1rVbjSv7IbV7r7RHpyne9vCiBY1cgnMhwzNyeW9c0/4X6XfyrrXi3xBZzWeq+ILwyC3uIykltax/JDGynkHALH/ervaKACiiigAooooAKKKKACiiigAooooAKKKKAGTy+RbyS7Hk8tS2yNcs2BnAHc14voniabVPFf/CV+NfC3ioXltvi0rTotBuHjsIzwXLbfmlYDk9AOBXtdFAHlfimF4vigdS8VeGdT8Q+Hzp6JpyWtkbyO1mJbzS8AydxBADFTxx640vhPpd/p0WvMdOu9I0K4vvM0jTbwbZLePaN525JRWbJC9ueBmvQqKACiiigAooooAKKKKACiiigAooooAKKKKACuK+K9lrGoeC0h0SC6u0F7A2oWlnJsmubQN+9jQ5HJHoRkZHtXa0UAeP6bYxX/AMR/Dt/4F8I6n4agtRImrXFzp5sYpYPLwkRQ48xt2MEA49fSv4p0jQNUv9Wi0f4ca5Nr927pumglt7CWXJAmlYOIXXPzdCT6Z6e0UUAY/hLQV8L+D9K0NJPN+wWscDSAY3sB8zficmtiiigAooooAKKKKACiiigAooooAKKKKAMjxReSWXh+4kTQ5ddjbEc9hCFZpIm4fCtw/BPy9+lebaJpaXvxR0TUvA3hLUPC2l2scw1h7iyNhFdApiOMQ8b2Dc7gOPU17BRQBwHinTr/AMU/FDw9pMtlcDQdHB1a6uGiIinuAdsEQboSpJcjnjFXvF/g3V/EPiLR9W0nxDDpjaUJDHBcaf8AakMjjb5mPMXDBcgdcZOK7GigDzD4c6D4q03x/wCLbnXNRE1rLdxlmOlmBb1vJQCSNi5wq42kDdkjqOlen0UUAFFFFABRRRQAUUUUAFFFFABXAJp1/wCI/jW+o6jZXEOkeGbTytPaaIqtxdTD95KhP3gqDbn1PWu/ooA57xffavDp8Gn+G7eRtS1KTyI7vyi0VkuMtNIenyj7qn7zYHrjznxV4MtdI1CKwm0HUtZ0mPQ3h0420LzsmomRmeZyv3JH3IfNOACG5Fez0UAZvhyC+tvC2lQaxJ5uoRWUKXT5zulCAOc9/mzWlRRQAUUUUAFFFFABRRRQAUUUUAFFFFABRRRQAUUUUAFFFU9Ui1Oaz26Ld2lpc7gfMu7VrhNvcbVkjOenO78KALlFef6PqvjjWPEmv6Ymr+H0i0eaGD7R/Ys5853iEjDb9qGNoZR1Oc9q6251e18P6RDceKtX060ORG91KwtYXkIJwodzjODxuJ4oA06Kr2Go2Wq2Md7pd5Be2kuTHPbSrJG+Dg4ZSQeQR+FUtM8VeH9b87+xtd0zUPs675vsl5HL5a+rbScDg8mgDVorjdE+KHhrXPFGo6PbavpWLaWGG0lXUY2a+d03MI07hSQuQTk5HGK2bOWX/hINXupfENvc2ECxx/2ekca/YHVdzmSQEsSwZThsYGPXNAGzRWQ3izw4l5Z2j6/pa3N8iSWkJvYw9wr/AHGRc5YN2IzntWhe31pptlLeajdQ2lrCN0k88gREHqWPAoAnorNsPEeiaqITpesafei4LiE210knmbMb9u0nO3cM46ZGetaVAGH4emceGNLAbgWcXb/YFaPnyf3v0rL8P/8AIs6Z/wBecX/oArQoAk8+T+9+lHnyf3v0qOigCTz5P736UefJ/e/So6KAJPPk/vfpR58n979K8J8Mal4c1bUNTh8T+P8AWLLVv7YuoY7Qa9NAqoJiEULuAAxwBXRfFXVLWx8aeD7bWPEN9oekXKXxupbS9ktt7KsXl7mQ88nj6mgD1Tz5P736UefJ/e/SuCtJI7f4a6xd/DzWrnxFdGGV7WW5v2vWEwThQWJwRgHb6n3ritB1V7jVfCzeEPFeuavrFxcp/blhfXDSRwW4B88yRsMQsGwFAxk8DPWgD3Lz5P736UefJ/e/So6KAJPPk/vfpR58n979KjooAk8+T+9+lHnyf3v0qOigCTz5P736UefJ/e/So6KAJPPk/vfpR58n979KjooAk8+T+9+lHnyf3v0rH8RWUt/o7wRaxNo6FlM13BtDrGD8wVm4UnpuwcVw3g64uLP4r3+i6Lr99r+gJpqz3El5dG6+yXXmYEazHJyVySpPvQB6j58n979KPPk/vfpXhOian4d1LxD4it/Ffj7V9O1BNfvILe1XXZrZEhWTCALuCgdQPpXXfE3ULuwvvDkVzqV/pXhmaWRdU1GxcrJGdo8kNIBmNGbOWH5igD0jz5P736UefJ/e/SvOvhpdXlxq2viy1W+1jwvHJEumX19IZXkkwfOCSHmRA2AGPfIBOCa9BoAk8+T+9+lHnyf3v0qOigCTz5P736UefJ/e/So6KAJPPk/vfpR58n979KjooAk8+T+9+lHnyf3v0qOigCTz5P736UefJ/e/So6KAJPPk/vfpR58n979K8v+ML+JrTw5danp2tNpmnWbW2yOzJWe4ke4RG3v/CgVuAvJPU4GD3Wu6Xc6xp62lpqtzpYaQGWa0A81kGcorHOwk4+YDOM465oA1vPk/vfpR58n979K8y8KSahovxi1XwtBrGoato8ekx3rHUJzcSWlw0m0R+Y3zYZMtgmsj4gxXfhzTZNU0vxxql34q+1oLTTlugYrhmkH7gWq8bQp68njJNAHsnnyf3v0o8+T+9+lRIWMamQAPgbgDkA0tAEnnyf3v0o8+T+9+lR0UASefJ/e/Sjz5P736VHRQBJ58n979KPPk/vfpUdFAEnnyf3v0o8+T+9+lR0UASefJ/e/Sjz5P736VHRQBJ58n979KPPk/vfpUdePeOIr3w1bQX+jeNtT1LxY99EkOmm7BhuizgPF9lXhVCknOMjHJ5oA9l8+T+9+lHnyf3v0rzP4jajPbeLNDttY1e/0TwtPFL9ovrGUw/6RkeWkkoGY1xnByMnrTvAf9s6toviGCy12+l0h7gR6Hq94oluDHtHmMCw+dQ2QrNnPXkUAelefJ/e/Sjz5P736V5VLBqHg/wCLPhbTNM8QavqlvrEdyL+01K5NwFWNAyyrn/V/MccYB6AV6jQBJ58n979KPPk/vfpUdFAEnnyf3v0o8+T+9+lR0UASefJ/e/Sjz5P736VHRQBJ58n979KPPk/vfpUdFAEnnyf3v0o8+T+9+lR1S1gak2kzroTWyX7ACF7oExoSRliBycDJx3IAyOtAGj58n979KPPk/vfpXnvwvfU0u/Fllq+sXeryWWrmFZ7puceTGSFUcIuSSFHArurieK1tpbi5kWKGJC8kjnAVQMkk+gFAFjz5P736UefJ/e/SvHfDuta7q3xa0fVru/vIdL1yzu5bPSzIyxJbx+WIpGTON7bmck8gMB2rb8feH7u30DXvEcnjDWbKe0t5LmzS1uPJgg2LlUMY/wBZkjB3ZJzxigD0fz5P736UefJ/e/SuNsLjxP4h+G+iT2lzBp2rX9rA93cyw5MIZMuyR9N+cYB4GeemDW+Ed1eXfgFG1K+ub+eO+u4jcXUpkkYLO6jJPsB7UAd358n979KPPk/vfpUdFAEnnyf3v0o8+T+9+lR0UASefJ/e/Sjz5P736VHRQBJ58n979KPPk/vfpUdFAEnnyf3v0o8+T+9+lct4h8KTa9evPc+JdX060SDbHb6bcfZgj8kyM45Y9OD8ox0Oa4fSPEvi7UP2ebrVdOmmv9XjeSK3u0iBlmgSbYZVX+J9gbHqR3PUA9h8+T+9+lHnyf3v0rx7wvqEdx460NPAvinWPEGnyQySa0t/dNcRwJsPlklv9XIX42DHQ8ACqeh+KJrfX9Mu77X706kLy+PiKwuJ3MFlbIJSrGM/LEBtj2sMFs980Ae2+fJ/e/Sjz5P736VyPhFtU1m5ufE2qSXNtBeoE07TXYqsFuDkSOnTzX+8c8qML611VAEnnyf3v0o8+T+9+lR0UASpM5dQW4J9KtVSj/1i/UVdoAKKKKACiiigAooooAKKKKACiiigAooqOeLz7aSHeyeYhXemNy5GMjPegDjPhUDc+GdR1lv+Y1rF5eqfVDKY0P02Rr+FY/h2bxFrPizXvE1no+k6hsv5tNsZb3U5IGtoIW8tlRFt5AN7qzlt2TkAgBRXfeHtDtfDXhyw0XTjI1tYQLBG0pBZgoxliABk9TgCshvBPkX99c6J4h1fRUv5jcXFtZ/Z3jaVvvSATROVLd9pAzzjOaAMa7+Heoy/D/xJpUWp2v8Aa2u3Zv5XWBo7XzCYyYtgYsI3Ee1jkk72OP4a1fC+ux6vrVzp+saAmkeINHhCMgKTJ5EjHa0MoAJjbygSCFIIAI4zWjeeG2msbC3sdc1jTpLFdqXMNwsskq7cESCZXWQnAO5lLAjgjJzJoXhu20OS6uRcXN9qF6ym7v7tlMs+3OwEKqoqqCQFVVHU4ySSAYHwrH2nwvfa0eut6td345/gMpjj/wDIcaVya38yfA/xbrtvlbnxFf3Ztmz8x86b7NBz3+UJjFegeHfB6eGNNfTdP1nUn04RtHbWsphK2gJJ/dsIw5xnA3s3GKYvgXSk8K6L4eSS5Fho8ttLEAy7pjAQy+Z8uCCwDHAGT6DigDlPF3hew8LfBmPwxpcW6a+urKzEx5knuHmiUzMTyWAXcPTaoGABjamVfEHxg+xXqiWy8O2EV5DAwypupndVlI9USNgp7byetdFrOgWuuXGly3kkwGmXq3sUcbAK8iqyrvyCSBvJwMcgelct4ofwxbeLnu7zxjN4S1ZrNbeaTzoYFu4dxZMfaI2RyhLfNH8y7sMegoAg0620zUf2hNWvrCGHz9K0aKC9kjAy08z5XdjqwjhUZ64IHQDHolcD8LdDt7H/AISLWbOyntLXWNSMloLkOJZYERUEr+Z85Lv5j5f5iGBPWu+oAwPD/wDyLOmf9ecX/oArQrP8P/8AIs6Z/wBecX/oArQoAKKKKACiiigDzDxrrj+L/CeoeG7LwVrsuoX0bQxC90/y4IHPAlaYkoNp+bKkniumm1s+D9M0ywvtL1jVHhs443u9PsWuVLKApyFywJxnkY5611NFAHj8Ph/xNPofxC1rw1ps+hXGvLB/ZlhJiKZfLTbJIQDiN5MnHQ5AJ9apy6dbX8nhyHwN4J1nQdZsbyEy39zYm3WGAN+9EspOJtwzx824knvXtlFABRRRQAUUUUAFFFFABRRRQAUUUUAYni28NnoZMnh+bxBaSyCK7s4USRvKIOW8tuJOQo2+hz2rhfCumeb8UINT8I+G77w1oEdnImoJc2ps47uU42BYDjleu/aO4+vqtFAHm3jPxCfEfhjU/Dtt4K166vbyGSCJLnTtkCSMCBIZidgAJ3ZBz6VR17RdR0ibwXDrumX3iPQdK04QXkFjEZ912qoqzPFnMi/KxHBwecZ6+r0UAeb/AA906eLxtrmoaPot7oPhm5giEVldwGDzLnJ3yJCTmMbcA8DJxxxXpFFFABRRRQAUUUUAFFFFABRRRQAUUUUAea/GXUprnwje+HrDRNav7yc20qPZ6bLNFhbhHILqCAcIePp61p+JPHWoW/gV9X8NeG9Yur6Wf7NDaz6dMrxMQT5rx7d/ljHUDk4Heu3ooA87+G1xY2DyWQ03xE+rai7XOoarqekS263EuO7MAFUdFXoB7k55zxelv4j0q8jtPhrqtl4xmOIb2GyWPypugl+2rgFRjqTk9Mc17PRQBW0yK5g0m0i1CUTXccCLPKOjuFAY/icmrNFFABRRRQAUUUUAFFFFABRRRQAUUUUAIxIUlRk44GeteK+LIovE2kzR6R8N9V0rxncODHfJZCAW824ZkN4mFZevOcn0Ga9rooA8w8W2l9b+O9HvvE2jX/iPQLfTdgisbb7SsV9u+aV4BywKYAODjngdag8JtqPhi38X63pPhrVLfQG8qXSdCMJWZ5dpEpSHkxqzEHGPU4GMV6tRQB5P4D1Xbrrax4k0XxFN4m1cpBLcPok8dvZRlvlhRmX5Y1JyWPU8mvWKKKACiiigAooooAKKKKACiiigAqpqmoLpWmTXslvdXKwgExWkDTStzj5UXk9e1W6KAPMPh3rkqeLPEcVzoGv2i6xqrXNtNc6VNFGE8lRl3ZcLyhHPt61r66U+Jei6/wCGtIvrjS3sbxLS7uJbYSJLja7IAHGVIIB5B56YNdxWX4e8P2fhrSvsNi0kgaV55p5iDJPK7FndyAAWJPoO1AHnVz4Y8bRfFPw3NLrsNzDBaXCm7h0QxwwJmPMRxIQCwHByMYPBqLxZrFz4h8ay6V4i8PeIf+EX0uZWWC00maddUmU5DOyrjylI4UfePJ9K9eooAwpfFcEHhqDWf7J1lopn2C1j02U3KckZaEDco+XqR0I9a5P4P6lNDoj6LfaLrVhci5urrfe6dLDEUedmUb2AG7DDj6+lek0UAFFFFABRRRQAUUUUAFFFFAHmPxL1rU7vWIvCyaVriaFND5mpahpunS3DToePs8ZQELkfeY8gcD3k8Ry3Wt/CuSz8FaLq9hDaTQQSWD2z2U8tqpUyJFvweV4yDzyK9KooA8gtbGC/8b+GrrwL4Q1Pw4bOXGpXNxp5so2tQhBiYHHmsTjBAbGM5rr9Xsbvxd4qXS7u2mh8PaWyT3JljKjUZ/vJGM/eiThmPQthexrsKKAPHdA0PUI/F+lyNpGoQeIYdZu5tW1WSJxDcWbebsUSn5XBDQhUH3dvQYr2KiigAooooAdH/rF+oq7VKP8A1i/UVdoAKKKKACiiigAooooAKKKKACiiigAooooAKKKKACiiigAooooAKKKKACiiigDK8OQofC2lErybKHv/ALArR8iP+7+tUfDf/Iq6T/15Q/8AoArSoAj8iP8Au/rR5Ef939akooAj8iP+7+tHkR/3f1qSigCPyI/7v60eRH/d/WpKKAI/Ij/u/rR5Ef8Ad/WpKKAI/Ij/ALv60eRH/d/WpKKAI/Ij/u/rR5Ef939akooAj8iP+7+tHkR/3f1qSigCPyI/7v60eRH/AHf1qSigCPyI/wC7+tHkR/3f1qSigCPyI/7v60eRH/d/WpKKAI/Ij/u/rR5Ef939akooAj8iP+7+tHkR/wB39akooAj8iP8Au/rR5Ef939akooAj8iP+7+tHkR/3f1qSigCPyI/7v60eRH/d/WpKKAI/Ij/u/rR5Ef8Ad/WpKKAI/Ij/ALv60eRH/d/WpKKAI/Ij/u/rR5Ef939akooAj8iP+7+tHkR/3f1qSigCPyI/7v60eRH/AHf1qSigCPyI/wC7+tHkR/3f1qSigCPyI/7v60eRH/d/WpKKAI/Ij/u/rR5Ef939akooAj8iP+7+tHkR/wB39akooAj8iP8Au/rR5Ef939akooAj8iP+7+tHkR/3f1qSigCPyI/7v60eRH/d/WpKKAI/Ij/u/rR5Ef8Ad/WpKKAI/Ij/ALv60eRH/d/WpKKAI/Ij/u/rR5Ef939akooAj8iP+7+tHkR/3f1qSigCPyI/7v60eRH/AHf1qSigCPyI/wC7+tHkR/3f1qSuF+NGoXOlfCTV7yxvriwmje2H2m2laOSNWuYlbDLyPlJHHY0Adt5Ef939aPIj/u/rXCeAn8I3WqzT+GPGuo69OkRV7a61qW6CqSPm8tz7Y3Y7+9afxO8S3XhP4dapqum7RfKqQWpYZCySOsat/wAB3bufSgDqPIj/ALv60eRH/d/WvLNf03VvhxJoGuW/ijWNUWbUoLLVYNRu/MhmSU7TIiHiMqxBAXAxwaxrjV9An+J3i2z8Y+O9W0UwXsKWVtFrU1rGsZgQnCqwUfMTQB7Z5Ef939aPIj/u/rWJqOgSavoWnWOn+INQs7OIIZLm1m3T3UYTAHnHJGTglxyfXnNcp4BuNQ0/4l+K/C/9sX2saTpsVvLFLfymaW2lkBJiMh5YY5APT86APRvIj/u/rR5Ef939akooAj8iP+7+tHkR/wB39akooAj8iP8Au/rR5Ef939akooAj8iP+7+tHkR/3f1qSs3X4tYn0iSHw5cW1rfSMqrcXSF1hUn5mCj7zAZwDwTjPFAF7yI/7v60eRH/d/WuA+FuoXtv4Z8THWtUvNUbS9dv4Bc3cm9zHEQB7DgE4GAM8CuYtLLxHr/wpn+IA8V6vba5JbTala2sFziziRNzJAYcbWG1cEtzk5zQB7N5Ef939aPIj/u/rXlcWv33xH8UaBo9vql5pGnyeHYtbvjps/lSyySkKkXmDlQvzE4PPT6Zmoa14g8NQ+MfC41i/vIdNaxubbUJH8y7gs5pAs/zAZYoAxDHJA5PQUAez+RH/AHf1o8iP+7+teTaJ4zk0tdbtPDt9ceIoLq8htfDZu7h5zPM0IM371ss0UZ+ZmycDcM5wK9K8O6VcaNoVvZ32o3Gp3agtPd3DktLIxyxA/hXJ4UcAYAoAv+RH/d/WjyI/7v61JRQAwQoCCF5HvT6KKACiiigAooooAKKKKACiiigAooooAKKKKACiiigAooooAKKKKACiiigAooooAzfDf/Iq6T/15Q/+gCtKs3w3/wAirpP/AF5Q/wDoArSoAKKKKACiiigAooooAKKKKACiiigAooooAKKKKACiiigAooooAKKKKACiiigAooooAKKKKACiiigAooooAKKKKACiiigAooooAKKKKACiiigAooooAKKKKACiiigAooooAKKKKACiiigAooooAKKKKACiiigAooooAKKKKACiiigArO1zVv7G077W2nX2oqHCtFYw+bIo/vbcgkDHbJ9q0aKAPMIIrnxl8XNA8R6f4f1HSLPRoLlbu81K0NrJeGSMIkQQ/MwU5bLDAxxU/jeQfErwR4s0Dw7BN/aWj3UcamcBUlnjKTbUO7nIG3nGCfxr0isrw54ds/DGk/YLBpZA80k8085BknldizyOQACxJ9B2FAHn+t6jqfxIk0DRrbwzrOlxQ6lBfapPqVp5McKQncY0ZuJGZgACuRjk8VueJPGETQ6jo0vgnxBqcr74Vh/szfb3PGAfNyUCH1Yggds8V3NFAHlLTeJ/hn8F9B0fT9MutV1zYtq8trbPdJZZJYuyoCWCA4A6Egdq1/hnPpdhbPo+n6T4iiupS93eajq2lS2/2uYkbnZ2AG4k8L2A9q7+igAooooAKKKKACiiigAqhrWrJomlyX0tpe3ioQDDY2zTynJxwigk+/pV+igDyj4ZXz3A8SaLqOg69Y/2xrOoXkUt3pc0MXkynK5dgAGI7etZmm3viTRvhPL8Pv8AhFNXm1+O1l02C4its2UisWVZvPJ2hQpBIPORjFe1UUAeTLoV78N/GGhatb6XfavpcfhyLRLs6bAZpYpImBWXyxyVYZBwOMZPvseDbe/uvFnijxtqumXmnW99HDb2NpPD/pBhhViztGMsCzMcL97jp0r0GigDyjW/D+v694P1rxNcWl0utX8UcdnpynbLZ2AmRpIV6YlkjDFu+Sq/w1s/DbTVstW8Qz6TpV1o/h64a3+wWVzbvblZFRhM6xPgoCSg6DJUnvmu+ooAKKKKACiiigAooooAKKKKACiiigAooooAKKKKACiiigAooooAKKKKACiiigAooooAKKKKAI7a3itLWK2t12QwoI41yThQMAZPtUlFFABRRRQAUUUUAFFFFABRRRQAUUUUAFFFFABRRRQAUUUUAFFFFABRRRQAUUUUAFFFFABRRRQAUUUUAFFFFABRRRQAUUUUAFFFFABRRRQAUUUUAFFFFABRRRQAUUUUAFFFFABRRRQAUUUUAFFFFABRRRQAUUUUAFFFFABRRRQAUUUUAFFFFABRRRQAUUUUAFFFFABRRRQAUUUUAFFFFABRRRQAUUUUAFFFFABRRRQAUUUUAFFFFABRRRQAUUUUAFFFFABRRRQAUUUUAFFFFABRRRQAUUUUAFFFFABRRRQAUUUUAFFFFABRRRQAUUUUAFFFFABRRRQAUUUUAFFFFABRRRQAUUUUAFFFFABRRRQAUUUUAFFFFABRRRQAUUUUAFFFFABRRRQAUUUUAFFFFABRRRQAUUUUAFFFFABRRRQAUUUUAFFFFABRRRQAUUUUAFFFFABRRRQAUUUUAFFFFABRRRQAUUUUAFFFFABRRRQAUUUUAFFFFABRRRQAUUUUAFFFFABRRRQAUUUUAFFFFABRRRQAUUUUAFFFFABRRRQAUUUUAFFFFABRRRQAUUUUAFFFFABRRRQAUUUUAFFFFABRRRQAUUUUAFFFFABRRRQAUUUUAFFFFABRRRQAUUUUAFFFFABRRRQAUUUUAFFFFABRRRQAUUUUAFFFFABRRRQAUUUUAFFFFABRRRQAUUUUAFFFFABRRRQAUUUUAFFFFABRRRQAUUUUAFFFFABRRRQAUUUUAFFFFABRRRQAUUUUAFFFFABRRRQAUUUUAFFFFABRRRQAUUUUAFFFFABRRRQAUUUUAFFFFABRRRQAUUUUAFFFFABRRRQAUUUUAFFFFABRRRQB/9k=)"
      ]
    },
    {
      "cell_type": "code",
      "metadata": {
        "colab": {
          "base_uri": "https://localhost:8080/",
          "height": 189
        },
        "id": "rN-zNz3eQjcs",
        "outputId": "fc4dabaf-a887-4420-98fb-a8ac7ab43de8"
      },
      "source": [
        "data = emotion_train_labels.groupby(\"label\").sum()\r\n",
        "data"
      ],
      "execution_count": 15,
      "outputs": [
        {
          "output_type": "execute_result",
          "data": {
            "text/html": [
              "<div>\n",
              "<style scoped>\n",
              "    .dataframe tbody tr th:only-of-type {\n",
              "        vertical-align: middle;\n",
              "    }\n",
              "\n",
              "    .dataframe tbody tr th {\n",
              "        vertical-align: top;\n",
              "    }\n",
              "\n",
              "    .dataframe thead th {\n",
              "        text-align: right;\n",
              "    }\n",
              "</style>\n",
              "<table border=\"1\" class=\"dataframe\">\n",
              "  <thead>\n",
              "    <tr style=\"text-align: right;\">\n",
              "      <th></th>\n",
              "    </tr>\n",
              "    <tr>\n",
              "      <th>label</th>\n",
              "    </tr>\n",
              "  </thead>\n",
              "  <tbody>\n",
              "    <tr>\n",
              "      <th>0</th>\n",
              "    </tr>\n",
              "    <tr>\n",
              "      <th>1</th>\n",
              "    </tr>\n",
              "    <tr>\n",
              "      <th>2</th>\n",
              "    </tr>\n",
              "    <tr>\n",
              "      <th>3</th>\n",
              "    </tr>\n",
              "  </tbody>\n",
              "</table>\n",
              "</div>"
            ],
            "text/plain": [
              "Empty DataFrame\n",
              "Columns: []\n",
              "Index: [0, 1, 2, 3]"
            ]
          },
          "metadata": {
            "tags": []
          },
          "execution_count": 15
        }
      ]
    },
    {
      "cell_type": "code",
      "metadata": {
        "colab": {
          "base_uri": "https://localhost:8080/",
          "height": 313
        },
        "id": "PFQ_-7WmPHq4",
        "outputId": "a7a237c6-cd7e-414a-d602-2c65b550c50c"
      },
      "source": [
        "# Pie chart\r\n",
        "emo_ang_count = emotion_train_labels[emotion_train_labels.label == 0].shape[0]\r\n",
        "emo_joy_count = emotion_train_labels[emotion_train_labels.label == 1].shape[0]\r\n",
        "emo_opt_count = emotion_train_labels[emotion_train_labels.label == 2].shape[0]\r\n",
        "emo_sad_count = emotion_train_labels[emotion_train_labels.label == 3].shape[0]\r\n",
        "\r\n",
        "labels = ['Anger', 'Joy', ' Optimism', 'Sadness']\r\n",
        "sizes = [emo_ang_count, emo_joy_count, emo_opt_count, emo_sad_count]\r\n",
        "fig1, ax1 = plt.subplots()\r\n",
        "explode = (0.02, 0.02, 0.02, 0.02)  \r\n",
        "ax1.pie(sizes, explode= explode, labels=labels, autopct='%1.1f%%', startangle=90)\r\n",
        "ax1.axis('equal')  \r\n",
        "plt.tight_layout()\r\n",
        "plt.title(\"Percentages of Anger, Joy, Optimism and Sadness Tweets in the Training Dataset\")\r\n",
        "plt.show()\r\n"
      ],
      "execution_count": 16,
      "outputs": [
        {
          "output_type": "display_data",
          "data": {
            "image/png": "[encoded data removed]",
            "text/plain": [
              "<Figure size 432x288 with 1 Axes>"
            ]
          },
          "metadata": {
            "tags": []
          }
        }
      ]
    },
    {
      "cell_type": "code",
      "metadata": {
        "colab": {
          "base_uri": "https://localhost:8080/",
          "height": 444
        },
        "id": "BgDz_ccGTVPm",
        "outputId": "80d55bda-5cfa-4a95-f7a8-45cc0383c80b"
      },
      "source": [
        "# Count Plots\r\n",
        "fig, axes = plt.subplots(1, 3, figsize=(15, 5), sharey=False)\r\n",
        "fig.suptitle('Distribution of Anger, Joy, Optimism and Sadness Tweets in All Datasets')\r\n",
        "\r\n",
        "sns.countplot(ax=axes[0], x=emotion_train_labels.label)\r\n",
        "axes[0].set_title('Training Data')\r\n",
        "axes[0].set_xticklabels(labels)\r\n",
        "\r\n",
        "sns.countplot(ax=axes[1], x=emotion_val_labels.label)\r\n",
        "axes[1].set_title('Validation Data')\r\n",
        "axes[1].set_xticklabels(labels)\r\n",
        "\r\n",
        "sns.countplot(ax=axes[2], x=emotion_test_labels.label)\r\n",
        "axes[2].set_title('Test Data')\r\n",
        "axes[2].set_xticklabels(labels)"
      ],
      "execution_count": 17,
      "outputs": [
        {
          "output_type": "execute_result",
          "data": {
            "text/plain": [
              "[Text(0, 0, 'Anger'),\n",
              " Text(0, 0, 'Joy'),\n",
              " Text(0, 0, ' Optimism'),\n",
              " Text(0, 0, 'Sadness')]"
            ]
          },
          "metadata": {
            "tags": []
          },
          "execution_count": 17
        },
        {
          "output_type": "display_data",
          "data": {
            "image/png": "[encoded data removed]",
            "text/plain": [
              "<Figure size 1080x360 with 3 Axes>"
            ]
          },
          "metadata": {
            "tags": [],
            "needs_background": "light"
          }
        }
      ]
    },
    {
      "cell_type": "markdown",
      "metadata": {
        "id": "oCcNzksmBEYM"
      },
      "source": [
        "## Sentiment Analysis Dataset"
      ]
    },
    {
      "cell_type": "markdown",
      "metadata": {
        "id": "WYS4nOBBV7Ow"
      },
      "source": [
        "Loading the datasets:"
      ]
    },
    {
      "cell_type": "code",
      "metadata": {
        "colab": {
          "base_uri": "https://localhost:8080/",
          "height": 424
        },
        "id": "SeUVYNGYBD4l",
        "outputId": "dd4b9bc4-8eae-4f35-e8e9-20692d7762ca"
      },
      "source": [
        "sentiment_train_df = pd.read_csv(\"https://raw.githubusercontent.com/cardiffnlp/tweeteval/main/datasets/sentiment/train_text.txt\", sep=\"\\t\", skip_blank_lines=False, quoting=csv.QUOTE_NONE, header=None)\r\n",
        "sentiment_train_df.columns= [\"tweet\"]\r\n",
        "sentiment_train_labels = pd.read_csv(\"https://raw.githubusercontent.com/cardiffnlp/tweeteval/main/datasets/sentiment/train_labels.txt\", sep=\"\\n\", header=None)\r\n",
        "sentiment_train_labels.columns= [\"label\"]\r\n",
        "\r\n",
        "sentiment_val_df = pd.read_csv(\"https://raw.githubusercontent.com/cardiffnlp/tweeteval/main/datasets/sentiment/val_text.txt\", sep=\"\\n\", skip_blank_lines=False, quoting=csv.QUOTE_NONE, header=None)\r\n",
        "sentiment_val_df.columns= [\"tweet\"]\r\n",
        "sentiment_val_labels = pd.read_csv(\"https://raw.githubusercontent.com/cardiffnlp/tweeteval/main/datasets/sentiment/val_labels.txt\", sep=\"\\n\", header=None)\r\n",
        "sentiment_val_labels.columns= [\"label\"]\r\n",
        "\r\n",
        "sentiment_test_df = pd.read_csv(\"https://raw.githubusercontent.com/cardiffnlp/tweeteval/main/datasets/sentiment/test_text.txt\", sep=\"\\n\", quoting=csv.QUOTE_NONE, skip_blank_lines=False, header=None)\r\n",
        "sentiment_test_df.columns= [\"tweet\"]\r\n",
        "sentiment_test_labels = pd.read_csv(\"https://raw.githubusercontent.com/cardiffnlp/tweeteval/main/datasets/sentiment/test_labels.txt\", sep=\"\\n\", header=None)\r\n",
        "sentiment_test_labels.columns= [\"label\"]\r\n",
        "\r\n",
        "sentiment_train_df"
      ],
      "execution_count": 18,
      "outputs": [
        {
          "output_type": "execute_result",
          "data": {
            "text/html": [
              "<div>\n",
              "<style scoped>\n",
              "    .dataframe tbody tr th:only-of-type {\n",
              "        vertical-align: middle;\n",
              "    }\n",
              "\n",
              "    .dataframe tbody tr th {\n",
              "        vertical-align: top;\n",
              "    }\n",
              "\n",
              "    .dataframe thead th {\n",
              "        text-align: right;\n",
              "    }\n",
              "</style>\n",
              "<table border=\"1\" class=\"dataframe\">\n",
              "  <thead>\n",
              "    <tr style=\"text-align: right;\">\n",
              "      <th></th>\n",
              "      <th>tweet</th>\n",
              "    </tr>\n",
              "  </thead>\n",
              "  <tbody>\n",
              "    <tr>\n",
              "      <th>0</th>\n",
              "      <td>\"QT @user In the original draft of the 7th boo...</td>\n",
              "    </tr>\n",
              "    <tr>\n",
              "      <th>1</th>\n",
              "      <td>\"Ben Smith / Smith (concussion) remains out of...</td>\n",
              "    </tr>\n",
              "    <tr>\n",
              "      <th>2</th>\n",
              "      <td>Sorry bout the stream last night I crashed out...</td>\n",
              "    </tr>\n",
              "    <tr>\n",
              "      <th>3</th>\n",
              "      <td>Chase Headley's RBI double in the 8th inning o...</td>\n",
              "    </tr>\n",
              "    <tr>\n",
              "      <th>4</th>\n",
              "      <td>@user Alciato: Bee will invest 150 million in ...</td>\n",
              "    </tr>\n",
              "    <tr>\n",
              "      <th>...</th>\n",
              "      <td>...</td>\n",
              "    </tr>\n",
              "    <tr>\n",
              "      <th>45610</th>\n",
              "      <td>@user \\\"\"So amazing to have the beautiful Lady...</td>\n",
              "    </tr>\n",
              "    <tr>\n",
              "      <th>45611</th>\n",
              "      <td>9 September has arrived, which means Apple's n...</td>\n",
              "    </tr>\n",
              "    <tr>\n",
              "      <th>45612</th>\n",
              "      <td>Leeds 1-1 Sheff Wed. Giuseppe Bellusci securin...</td>\n",
              "    </tr>\n",
              "    <tr>\n",
              "      <th>45613</th>\n",
              "      <td>@user no I'm in hilton head till the 8th lol g...</td>\n",
              "    </tr>\n",
              "    <tr>\n",
              "      <th>45614</th>\n",
              "      <td>WASHINGTON (Reuters) - U.S. Vice President Joe...</td>\n",
              "    </tr>\n",
              "  </tbody>\n",
              "</table>\n",
              "<p>45615 rows × 1 columns</p>\n",
              "</div>"
            ],
            "text/plain": [
              "                                                   tweet\n",
              "0      \"QT @user In the original draft of the 7th boo...\n",
              "1      \"Ben Smith / Smith (concussion) remains out of...\n",
              "2      Sorry bout the stream last night I crashed out...\n",
              "3      Chase Headley's RBI double in the 8th inning o...\n",
              "4      @user Alciato: Bee will invest 150 million in ...\n",
              "...                                                  ...\n",
              "45610  @user \\\"\"So amazing to have the beautiful Lady...\n",
              "45611  9 September has arrived, which means Apple's n...\n",
              "45612  Leeds 1-1 Sheff Wed. Giuseppe Bellusci securin...\n",
              "45613  @user no I'm in hilton head till the 8th lol g...\n",
              "45614  WASHINGTON (Reuters) - U.S. Vice President Joe...\n",
              "\n",
              "[45615 rows x 1 columns]"
            ]
          },
          "metadata": {
            "tags": []
          },
          "execution_count": 18
        }
      ]
    },
    {
      "cell_type": "markdown",
      "metadata": {
        "id": "qlArbupDWCBn"
      },
      "source": [
        "Checking whether the data is loaded correctly by checking the dimensions of the data frames for the training, validation, and testing datasets to match the dimensions of their corresponding labels dataframes.\r\n"
      ]
    },
    {
      "cell_type": "code",
      "metadata": {
        "colab": {
          "base_uri": "https://localhost:8080/"
        },
        "id": "SccCRzSjFZJZ",
        "outputId": "a30fff1d-1d6c-47fb-83bd-796336a5bc93"
      },
      "source": [
        "print(sentiment_train_df.shape, sentiment_train_labels.shape)\r\n",
        "print(sentiment_val_df.shape, sentiment_val_labels.shape)\r\n",
        "print(sentiment_test_df.shape, sentiment_test_labels.shape)"
      ],
      "execution_count": 19,
      "outputs": [
        {
          "output_type": "stream",
          "text": [
            "(45615, 1) (45615, 1)\n",
            "(2000, 1) (2000, 1)\n",
            "(12284, 1) (12284, 1)\n"
          ],
          "name": "stdout"
        }
      ]
    },
    {
      "cell_type": "code",
      "metadata": {
        "colab": {
          "base_uri": "https://localhost:8080/",
          "height": 313
        },
        "id": "r2XCQPW2GHIA",
        "outputId": "419ed40b-c8a1-4a44-830d-6ed10dcfe594"
      },
      "source": [
        "# Pie chart\r\n",
        "labels = ['Training Set', 'Validation Set', 'Test Set']\r\n",
        "sizes = [len(sentiment_train_labels), len(sentiment_val_labels), len(sentiment_test_labels)]\r\n",
        "explode = (0, 0, 0.1)  \r\n",
        "fig1, ax1 = plt.subplots()\r\n",
        "ax1.pie(sizes, explode=explode, labels=labels, autopct='%1.1f%%', startangle=90)\r\n",
        "ax1.axis('equal')  \r\n",
        "plt.tight_layout()\r\n",
        "plt.title(\"How the data is split\")\r\n",
        "plt.show()\r\n"
      ],
      "execution_count": 20,
      "outputs": [
        {
          "output_type": "display_data",
          "data": {
            "image/png": "[encoded data removed]",
            "text/plain": [
              "<Figure size 432x288 with 1 Axes>"
            ]
          },
          "metadata": {
            "tags": []
          }
        }
      ]
    },
    {
      "cell_type": "code",
      "metadata": {
        "colab": {
          "base_uri": "https://localhost:8080/",
          "height": 143
        },
        "id": "IHtc0SQyJ-WL",
        "outputId": "d2250d9a-5659-48c8-b239-37d910c5d3f0"
      },
      "source": [
        "# Loading the checking the labels\r\n",
        "sentiment_labels = pd.read_csv(\"https://raw.githubusercontent.com/cardiffnlp/tweeteval/main/datasets/sentiment/mapping.txt\", sep=\"\\t\", header=None)\r\n",
        "sentiment_labels"
      ],
      "execution_count": 21,
      "outputs": [
        {
          "output_type": "execute_result",
          "data": {
            "text/html": [
              "<div>\n",
              "<style scoped>\n",
              "    .dataframe tbody tr th:only-of-type {\n",
              "        vertical-align: middle;\n",
              "    }\n",
              "\n",
              "    .dataframe tbody tr th {\n",
              "        vertical-align: top;\n",
              "    }\n",
              "\n",
              "    .dataframe thead th {\n",
              "        text-align: right;\n",
              "    }\n",
              "</style>\n",
              "<table border=\"1\" class=\"dataframe\">\n",
              "  <thead>\n",
              "    <tr style=\"text-align: right;\">\n",
              "      <th></th>\n",
              "      <th>0</th>\n",
              "      <th>1</th>\n",
              "    </tr>\n",
              "  </thead>\n",
              "  <tbody>\n",
              "    <tr>\n",
              "      <th>0</th>\n",
              "      <td>0</td>\n",
              "      <td>negative</td>\n",
              "    </tr>\n",
              "    <tr>\n",
              "      <th>1</th>\n",
              "      <td>1</td>\n",
              "      <td>neutral</td>\n",
              "    </tr>\n",
              "    <tr>\n",
              "      <th>2</th>\n",
              "      <td>2</td>\n",
              "      <td>positive</td>\n",
              "    </tr>\n",
              "  </tbody>\n",
              "</table>\n",
              "</div>"
            ],
            "text/plain": [
              "   0         1\n",
              "0  0  negative\n",
              "1  1   neutral\n",
              "2  2  positive"
            ]
          },
          "metadata": {
            "tags": []
          },
          "execution_count": 21
        }
      ]
    },
    {
      "cell_type": "markdown",
      "metadata": {
        "id": "JdS7KehSX7yn"
      },
      "source": [
        "Data statistics:"
      ]
    },
    {
      "cell_type": "code",
      "metadata": {
        "colab": {
          "base_uri": "https://localhost:8080/"
        },
        "id": "CQdDDth7GjQP",
        "outputId": "7700738d-11c0-4e57-b87f-3ad359f9aa79"
      },
      "source": [
        "print(\"Training Data Statistics: \")\r\n",
        "print(\"Total number of tweets:\", sentiment_train_labels.shape[0])\r\n",
        "print(\"Number of Negative tweets:\", int(sentiment_train_labels.value_counts()[0]))\r\n",
        "print(\"Number of Neutral tweets:\", int(sentiment_train_labels.value_counts()[1]))\r\n",
        "print(\"Number of Positive tweets:\", int(sentiment_train_labels.value_counts()[2]),\"\\n\")\r\n",
        "\r\n",
        "print(\"Validation Data Statistics: \")\r\n",
        "print(\"Total number of tweets:\", sentiment_val_labels.shape[0])\r\n",
        "print(\"Number of Negative tweets:\", int(sentiment_val_labels.value_counts()[0]))\r\n",
        "print(\"Number of Neutral tweets:\", int(sentiment_val_labels.value_counts()[1]))\r\n",
        "print(\"Number of Positive tweets:\", int(sentiment_val_labels.value_counts()[2]),\"\\n\")\r\n",
        "\r\n",
        "print(\"Testing Data Statistics: \")\r\n",
        "print(\"Total number of tweets:\", sentiment_test_labels.shape[0])\r\n",
        "print(\"Number of Negative tweets:\", int(sentiment_test_labels.value_counts()[0]))\r\n",
        "print(\"Number of Neutral tweets:\", int(sentiment_test_labels.value_counts()[1]))\r\n",
        "print(\"Number of Positive tweets:\", int(sentiment_test_labels.value_counts()[2]))"
      ],
      "execution_count": 22,
      "outputs": [
        {
          "output_type": "stream",
          "text": [
            "Training Data Statistics: \n",
            "Total number of tweets: 45615\n",
            "Number of Negative tweets: 7093\n",
            "Number of Neutral tweets: 20673\n",
            "Number of Positive tweets: 17849 \n",
            "\n",
            "Validation Data Statistics: \n",
            "Total number of tweets: 2000\n",
            "Number of Negative tweets: 312\n",
            "Number of Neutral tweets: 869\n",
            "Number of Positive tweets: 819 \n",
            "\n",
            "Testing Data Statistics: \n",
            "Total number of tweets: 12284\n",
            "Number of Negative tweets: 3972\n",
            "Number of Neutral tweets: 5937\n",
            "Number of Positive tweets: 2375\n"
          ],
          "name": "stdout"
        }
      ]
    },
    {
      "cell_type": "markdown",
      "metadata": {
        "id": "Syjmx63rvhNP"
      },
      "source": [
        "![sentiment table.JPG](data:image/jpeg;base64,/9j/4AAQSkZJRgABAQEAeAB4AAD/4RDaRXhpZgAATU0AKgAAAAgABAE7AAIAAAAFAAAISodpAAQAAAABAAAIUJydAAEAAAAKAAAQyOocAAcAAAgMAAAAPgAAAAAc6gAAAAgAAAAAAAAAAAAAAAAAAAAAAAAAAAAAAAAAAAAAAAAAAAAAAAAAAAAAAAAAAAAAAAAAAAAAAAAAAAAAAAAAAAAAAAAAAAAAAAAAAAAAAAAAAAAAAAAAAAAAAAAAAAAAAAAAAAAAAAAAAAAAAAAAAAAAAAAAAAAAAAAAAAAAAAAAAAAAAAAAAAAAAAAAAAAAAAAAAAAAAAAAAAAAAAAAAAAAAAAAAAAAAAAAAAAAAAAAAAAAAAAAAAAAAAAAAAAAAAAAAAAAAAAAAAAAAAAAAAAAAAAAAAAAAAAAAAAAAAAAAAAAAAAAAAAAAAAAAAAAAAAAAAAAAAAAAAAAAAAAAAAAAAAAAAAAAAAAAAAAAAAAAAAAAAAAAAAAAAAAAAAAAAAAAAAAAAAAAAAAAAAAAAAAAAAAAAAAAAAAAAAAAAAAAAAAAAAAAAAAAAAAAAAAAAAAAAAAAAAAAAAAAAAAAAAAAAAAAAAAAAAAAAAAAAAAAAAAAAAAAAAAAAAAAAAAAAAAAAAAAAAAAAAAAAAAAAAAAAAAAAAAAAAAAAAAAAAAAAAAAAAAAAAAAAAAAAAAAAAAAAAAAAAAAAAAAAAAAAAAAAAAAAAAAAAAAAAAAAAAAAAAAAAAAAAAAAAAAAAAAAAAAAAAAAAAAAAAAAAAAAAAAAAAAAAAAAAAAAAAAAAAAAAAAAAAAAAAAAAAAAAAAAAAAAAAAAAAAAAAAAAAAAAAAAAAAAAAAAAAAAAAAAAAAAAAAAAAAAAAAAAAAAAAAAAAAAAAAAAAAAAAAAAAAAAAAAAAAAAAAAAAAAAAAAAAAAAAAAAAAAAAAAAAAAAAAAAAAAAAAAAAAAAAAAAAAAAAAAAAAAAAAAAAAAAAAAAAAAAAAAAAAAAAAAAAAAAAAAAAAAAAAAAAAAAAAAAAAAAAAAAAAAAAAAAAAAAAAAAAAAAAAAAAAAAAAAAAAAAAAAAAAAAAAAAAAAAAAAAAAAAAAAAAAAAAAAAAAAAAAAAAAAAAAAAAAAAAAAAAAAAAAAAAAAAAAAAAAAAAAAAAAAAAAAAAAAAAAAAAAAAAAAAAAAAAAAAAAAAAAAAAAAAAAAAAAAAAAAAAAAAAAAAAAAAAAAAAAAAAAAAAAAAAAAAAAAAAAAAAAAAAAAAAAAAAAAAAAAAAAAAAAAAAAAAAAAAAAAAAAAAAAAAAAAAAAAAAAAAAAAAAAAAAAAAAAAAAAAAAAAAAAAAAAAAAAAAAAAAAAAAAAAAAAAAAAAAAAAAAAAAAAAAAAAAAAAAAAAAAAAAAAAAAAAAAAAAAAAAAAAAAAAAAAAAAAAAAAAAAAAAAAAAAAAAAAAAAAAAAAAAAAAAAAAAAAAAAAAAAAAAAAAAAAAAAAAAAAAAAAAAAAAAAAAAAAAAAAAAAAAAAAAAAAAAAAAAAAAAAAAAAAAAAAAAAAAAAAAAAAAAAAAAAAAAAAAAAAAAAAAAAAAAAAAAAAAAAAAAAAAAAAAAAAAAAAAAAAAAAAAAAAAAAAAAAAAAAAAAAAAAAAAAAAAAAAAAAAAAAAAAAAAAAAAAAAAAAAAAAAAAAAAAAAAAAAAAAAAAAAAAAAAAAAAAAAAAAAAAAAAAAAAAAAAAAAAAAAAAAAAAAAAAAAAAAAAAAAAAAAAAAAAAAAAAAAAAAAAAAAAAAAAAAAAAAAAAAAAAAAAAAAAAAAAAAAAAAAAAAAAAAAAAAAAAAAAAAAAAAAAAAAAAAAAAAAAAAAAAAAAAAAAAAAAAAAAAAAAAAAAAAAAAAAAAAAAAAAAAAAAAAAAAAAAAAAAAAAAAAAAAAAAAAAAAAAAAAAAAAAAAAAAAAAAAAAAAAAAAAAAAAAAAAAAAAAAAAAAAAAAAAAAAAAAAAAAAAAAAAAAAAAAAAAAAAAAAAAAAAAAAAAAAAAAAAAAAAAAAAAAAAAAAAAAAAAAAAAAAAAAAAAAAAAAAAAAAAAAAAAAAAAAAAAAAAAAAAAAAAAAAAAAAAAAAAAAAAAAAAAAAAAAAAAAAAAAAAAAAAAAAAAAAAAAAAAAAAAAAAAAAAAAAAAAAAAAAAAAAAAAAAAAAAAAAAAAAAAAAAAAAAAAAAAAAAAAAAAAAAAAAAAAAAAAAAAAAAAAAAAAAAAAAAAAAAAAAAAAAAAAAAAAAAAAAAAAAAAAAAAAAAAAAAAAAAAAAAAAAAAAAAAAAAAAAAAAAAAAAAAAAAAAAAAAAAAAAAAAAAAAAAAAAAAAAAAAAAAAAAAAAAAAAAAAAAAAAAAAAAAAAAAAAAAAAAAAAAAAAAAAAAAAAAAAAAAAAAAAAAAAAAAAAAAAAAAAAAAAAAAAAAAAAAAAAAAAAAAAAAAAAAAAAAAAAAAAAAAAAAAAAAAAAAAAAAAAAAAAAAAAAAAAAAAAAAAAAAAAAAAAAAAAAAAAAAAAAAAAAAAAAAAAAAAAAAAAAAAAAAAAAAAAAAAAAAAAAAAAAAAAAAAAAAAAAAAAAAAAAAAAAAAAAAAAAAAAAAAAAAAAAAAAAAAAAAAAAAAAAAAAAAAAAAAAAAAAAAAAAAAAAAAAAAAAAAAAAAAAAAAAAAAAAAAAAAAAAAAAAAAAAAAAAAAAAAAAAAAAAAAAAAAAAAAAAAAAAAAAAAAAAAAAAAAAAAAAAAAAAAAAAAAAAAAAAAAAAAAAAAAAAAAAAAAAAAAAAAAAAAAAAAAAAAAAAAAAAAAAAAAAAAAAAAAAAAAAAAAAAAAAAAAAAAAAAAAAAAAAAAAEloYWIAAAAFkAMAAgAAABQAABCekAQAAgAAABQAABCykpEAAgAAAAM2MgAAkpIAAgAAAAM2MgAA6hwABwAACAwAAAiSAAAAABzqAAAACAAAAAAAAAAAAAAAAAAAAAAAAAAAAAAAAAAAAAAAAAAAAAAAAAAAAAAAAAAAAAAAAAAAAAAAAAAAAAAAAAAAAAAAAAAAAAAAAAAAAAAAAAAAAAAAAAAAAAAAAAAAAAAAAAAAAAAAAAAAAAAAAAAAAAAAAAAAAAAAAAAAAAAAAAAAAAAAAAAAAAAAAAAAAAAAAAAAAAAAAAAAAAAAAAAAAAAAAAAAAAAAAAAAAAAAAAAAAAAAAAAAAAAAAAAAAAAAAAAAAAAAAAAAAAAAAAAAAAAAAAAAAAAAAAAAAAAAAAAAAAAAAAAAAAAAAAAAAAAAAAAAAAAAAAAAAAAAAAAAAAAAAAAAAAAAAAAAAAAAAAAAAAAAAAAAAAAAAAAAAAAAAAAAAAAAAAAAAAAAAAAAAAAAAAAAAAAAAAAAAAAAAAAAAAAAAAAAAAAAAAAAAAAAAAAAAAAAAAAAAAAAAAAAAAAAAAAAAAAAAAAAAAAAAAAAAAAAAAAAAAAAAAAAAAAAAAAAAAAAAAAAAAAAAAAAAAAAAAAAAAAAAAAAAAAAAAAAAAAAAAAAAAAAAAAAAAAAAAAAAAAAAAAAAAAAAAAAAAAAAAAAAAAAAAAAAAAAAAAAAAAAAAAAAAAAAAAAAAAAAAAAAAAAAAAAAAAAAAAAAAAAAAAAAAAAAAAAAAAAAAAAAAAAAAAAAAAAAAAAAAAAAAAAAAAAAAAAAAAAAAAAAAAAAAAAAAAAAAAAAAAAAAAAAAAAAAAAAAAAAAAAAAAAAAAAAAAAAAAAAAAAAAAAAAAAAAAAAAAAAAAAAAAAAAAAAAAAAAAAAAAAAAAAAAAAAAAAAAAAAAAAAAAAAAAAAAAAAAAAAAAAAAAAAAAAAAAAAAAAAAAAAAAAAAAAAAAAAAAAAAAAAAAAAAAAAAAAAAAAAAAAAAAAAAAAAAAAAAAAAAAAAAAAAAAAAAAAAAAAAAAAAAAAAAAAAAAAAAAAAAAAAAAAAAAAAAAAAAAAAAAAAAAAAAAAAAAAAAAAAAAAAAAAAAAAAAAAAAAAAAAAAAAAAAAAAAAAAAAAAAAAAAAAAAAAAAAAAAAAAAAAAAAAAAAAAAAAAAAAAAAAAAAAAAAAAAAAAAAAAAAAAAAAAAAAAAAAAAAAAAAAAAAAAAAAAAAAAAAAAAAAAAAAAAAAAAAAAAAAAAAAAAAAAAAAAAAAAAAAAAAAAAAAAAAAAAAAAAAAAAAAAAAAAAAAAAAAAAAAAAAAAAAAAAAAAAAAAAAAAAAAAAAAAAAAAAAAAAAAAAAAAAAAAAAAAAAAAAAAAAAAAAAAAAAAAAAAAAAAAAAAAAAAAAAAAAAAAAAAAAAAAAAAAAAAAAAAAAAAAAAAAAAAAAAAAAAAAAAAAAAAAAAAAAAAAAAAAAAAAAAAAAAAAAAAAAAAAAAAAAAAAAAAAAAAAAAAAAAAAAAAAAAAAAAAAAAAAAAAAAAAAAAAAAAAAAAAAAAAAAAAAAAAAAAAAAAAAAAAAAAAAAAAAAAAAAAAAAAAAAAAAAAAAAAAAAAAAAAAAAAAAAAAAAAAAAAAAAAAAAAAAAAAAAAAAAAAAAAAAAAAAAAAAAAAAAAAAAAAAAAAAAAAAAAAAAAAAAAAAAAAAAAAAAAAAAAAAAAAAAAAAAAAAAAAAAAAAAAAAAAAAAAAAAAAAAAAAAAAAAAAAAAAAAAAAAAAAAAAAAAAAAAAAAAAAAAAAAAAAAAAAAAAAAAAAAAAAAAAAAAAAAAAAAAAAAAAAAAAAAAAAAAAAAAAAAAAAAAAAAAAAAAAAAAAAAAAAAAAAAAAAAAAAAAAAAAAAAAAAAAAAAAAAAAAAAAAAAAAAAAAAAAAAAAAAAAAAAAAAAAAAAAAAAAAAAAAAAAAAAAAAAAAAAAAAAAAAAAAAAAAAAAAAAAAAAAAAAAAAAAAAAAAAAAAAAAAAAAAAAAAAAAAAAAAAAAAAAAAAAAAAAAAAAAAAAAAAAAAAAAAAAAAAAAAAAAAAAAAAAAAAAAAAAAAAAAAAAAAAAAAAAAAAAAAAAAAAAAAAAAAAAAAAAAAAAAAAAAAAAAAAAAAAAAAAAAAAAAAAAAAAAAAAAAAAAAAAAAAAAAAAAAAAAAAAAAAAAAAAAAAAAAAAAAAAAAAAAAAAAAAAAAAAAAAAAAAAAAAAAAAAAAAAAAAAAAAAAAAAAAAAAAAAAAAAAAAAAAAAAAAAAAAAAAAAAAAAAAAAAAAAAAAAAAAAAAAAAAAAAAAAAAAAAAAAAAAAAAAAAAAAAAAAAAAAAAAAAAAAAAAAAAAAAAAAAAAAAAAAAAAAAAAAAAAAAAAAAAAAAAAAAAAAAAAAAAAAAAAAAAAAAAAAAAAAAAAAAAAAAAAAAAAAAAAAAAAAAAAAAAAAAAAAAAAAAAAAAAAAAAAAAAAAAAAAAAAAAAAAAAAAAAAAAAAAAAAAAAAAAAAAAAAAAAAAAAAAAAAAAAAAAAAAAAAAAAAAAAAAAAAAAAAAAAAAAAAAAAAAAAAAAAAAAAAAAAAAAAAAAAAAAAAAAAAAAAAAAAAAAAAAAAAAAAAAAAAAAAAAAAAAAAAAAAAAAAAAAAAAAAAAAAAAAAAAAAAAAAAAAAAAAAAAAAAAAAAAAAAAAAAAAAAAAAAAAAAAAAAAAAAAAAAAAAAAAAAAAAAAAAAAAAAAAAAAAAAAAAAAAAAAAAAAAAAAAAAAAAAAAAAAAAAAAAAAAAAAAAAAAAAAAAAAAAAAAAAAAAAMjAyMTowMjoyNCAwNjoyNzo0MgAyMDIxOjAyOjI0IDA2OjI3OjQyAAAASQBoAGEAYgAAAP/hCxdodHRwOi8vbnMuYWRvYmUuY29tL3hhcC8xLjAvADw/eHBhY2tldCBiZWdpbj0n77u/JyBpZD0nVzVNME1wQ2VoaUh6cmVTek5UY3prYzlkJz8+DQo8eDp4bXBtZXRhIHhtbG5zOng9ImFkb2JlOm5zOm1ldGEvIj48cmRmOlJERiB4bWxuczpyZGY9Imh0dHA6Ly93d3cudzMub3JnLzE5OTkvMDIvMjItcmRmLXN5bnRheC1ucyMiPjxyZGY6RGVzY3JpcHRpb24gcmRmOmFib3V0PSJ1dWlkOmZhZjViZGQ1LWJhM2QtMTFkYS1hZDMxLWQzM2Q3NTE4MmYxYiIgeG1sbnM6ZGM9Imh0dHA6Ly9wdXJsLm9yZy9kYy9lbGVtZW50cy8xLjEvIi8+PHJkZjpEZXNjcmlwdGlvbiByZGY6YWJvdXQ9InV1aWQ6ZmFmNWJkZDUtYmEzZC0xMWRhLWFkMzEtZDMzZDc1MTgyZjFiIiB4bWxuczp4bXA9Imh0dHA6Ly9ucy5hZG9iZS5jb20veGFwLzEuMC8iPjx4bXA6Q3JlYXRlRGF0ZT4yMDIxLTAyLTI0VDA2OjI3OjQyLjYxNTwveG1wOkNyZWF0ZURhdGU+PC9yZGY6RGVzY3JpcHRpb24+PHJkZjpEZXNjcmlwdGlvbiByZGY6YWJvdXQ9InV1aWQ6ZmFmNWJkZDUtYmEzZC0xMWRhLWFkMzEtZDMzZDc1MTgyZjFiIiB4bWxuczpkYz0iaHR0cDovL3B1cmwub3JnL2RjL2VsZW1lbnRzLzEuMS8iPjxkYzpjcmVhdG9yPjxyZGY6U2VxIHhtbG5zOnJkZj0iaHR0cDovL3d3dy53My5vcmcvMTk5OS8wMi8yMi1yZGYtc3ludGF4LW5zIyI+PHJkZjpsaT5JaGFiPC9yZGY6bGk+PC9yZGY6U2VxPg0KCQkJPC9kYzpjcmVhdG9yPjwvcmRmOkRlc2NyaXB0aW9uPjwvcmRmOlJERj48L3g6eG1wbWV0YT4NCiAgICAgICAgICAgICAgICAgICAgICAgICAgICAgICAgICAgICAgICAgICAgICAgICAgICAgICAgICAgICAgICAgICAgICAgICAgICAgICAgICAgICAgICAgICAgICAgICAgICAKICAgICAgICAgICAgICAgICAgICAgICAgICAgICAgICAgICAgICAgICAgICAgICAgICAgICAgICAgICAgICAgICAgICAgICAgICAgICAgICAgICAgICAgICAgICAgICAgICAgIAogICAgICAgICAgICAgICAgICAgICAgICAgICAgICAgICAgICAgICAgICAgICAgICAgICAgICAgICAgICAgICAgICAgICAgICAgICAgICAgICAgICAgICAgICAgICAgICAgICAgCiAgICAgICAgICAgICAgICAgICAgICAgICAgICAgICAgICAgICAgICAgICAgICAgICAgICAgICAgICAgICAgICAgICAgICAgICAgICAgICAgICAgICAgICAgICAgICAgICAgICAKICAgICAgICAgICAgICAgICAgICAgICAgICAgICAgICAgICAgICAgICAgICAgICAgICAgICAgICAgICAgICAgICAgICAgICAgICAgICAgICAgICAgICAgICAgICAgICAgICAgIAogICAgICAgICAgICAgICAgICAgICAgICAgICAgICAgICAgICAgICAgICAgICAgICAgICAgICAgICAgICAgICAgICAgICAgICAgICAgICAgICAgICAgICAgICAgICAgICAgICAgCiAgICAgICAgICAgICAgICAgICAgICAgICAgICAgICAgICAgICAgICAgICAgICAgICAgICAgICAgICAgICAgICAgICAgICAgICAgICAgICAgICAgICAgICAgICAgICAgICAgICAKICAgICAgICAgICAgICAgICAgICAgICAgICAgICAgICAgICAgICAgICAgICAgICAgICAgICAgICAgICAgICAgICAgICAgICAgICAgICAgICAgICAgICAgICAgICAgICAgICAgIAogICAgICAgICAgICAgICAgICAgICAgICAgICAgICAgICAgICAgICAgICAgICAgICAgICAgICAgICAgICAgICAgICAgICAgICAgICAgICAgICAgICAgICAgICAgICAgICAgICAgCiAgICAgICAgICAgICAgICAgICAgICAgICAgICAgICAgICAgICAgICAgICAgICAgICAgICAgICAgICAgICAgICAgICAgICAgICAgICAgICAgICAgICAgICAgICAgICAgICAgICAKICAgICAgICAgICAgICAgICAgICAgICAgICAgICAgICAgICAgICAgICAgICAgICAgICAgICAgICAgICAgICAgICAgICAgICAgICAgICAgICAgICAgICAgICAgICAgICAgICAgIAogICAgICAgICAgICAgICAgICAgICAgICAgICAgICAgICAgICAgICAgICAgICAgICAgICAgICAgICAgICAgICAgICAgICAgICAgICAgICAgICAgICAgICAgICAgICAgICAgICAgCiAgICAgICAgICAgICAgICAgICAgICAgICAgICAgICAgICAgICAgICAgICAgICAgICAgICAgICAgICAgICAgICAgICAgICAgICAgICAgICAgICAgICAgICAgICAgICAgICAgICAKICAgICAgICAgICAgICAgICAgICAgICAgICAgICAgICAgICAgICAgICAgICAgICAgICAgICAgICAgICAgICAgICAgICAgICAgICAgICAgICAgICAgICAgICAgICAgICAgICAgIAogICAgICAgICAgICAgICAgICAgICAgICAgICAgICAgICAgICAgICAgICAgICAgICAgICAgICAgICAgICAgICAgICAgICAgICAgICAgICAgICAgICAgICAgICAgICAgICAgICAgCiAgICAgICAgICAgICAgICAgICAgICAgICAgICAgICAgICAgICAgICAgICAgICAgICAgICAgICAgICAgICAgICAgICAgICAgICAgICAgICAgICAgICAgICAgICAgICAgICAgICAKICAgICAgICAgICAgICAgICAgICAgICAgICAgICAgICAgICAgICAgICAgICAgICAgICAgICAgICAgICAgICAgICAgICAgICAgICAgICAgICAgICAgICAgICAgICAgICAgICAgIAogICAgICAgICAgICAgICAgICAgICAgICAgICAgICAgICAgICAgICAgICAgICAgICAgICAgICAgICAgICAgICAgICAgICAgICAgICAgICAgICAgICAgICAgICAgICAgICAgICAgCiAgICAgICAgICAgICAgICAgICAgICAgICAgICAgICAgICAgICAgICAgICAgICAgICAgICAgICAgICAgICAgICAgICAgICAgICAgICAgICAgICAgICAgICAgICAgICAgICAgICAKICAgICAgICAgICAgICAgICAgICAgICAgICAgICAgICAgICAgICAgICAgICAgICAgICAgICAgICAgICAgICAgICAgICAgICAgICAgICAgICAgICAgICAgICAgICAgICAgICAgIAogICAgICAgICAgICAgICAgICAgICAgICAgICAgPD94cGFja2V0IGVuZD0ndyc/Pv/bAEMABwUFBgUEBwYFBggHBwgKEQsKCQkKFQ8QDBEYFRoZGBUYFxseJyEbHSUdFxgiLiIlKCkrLCsaIC8zLyoyJyorKv/bAEMBBwgICgkKFAsLFCocGBwqKioqKioqKioqKioqKioqKioqKioqKioqKioqKioqKioqKioqKioqKioqKioqKioqKv/AABEIAOcDiAMBIgACEQEDEQH/xAAfAAABBQEBAQEBAQAAAAAAAAAAAQIDBAUGBwgJCgv/xAC1EAACAQMDAgQDBQUEBAAAAX0BAgMABBEFEiExQQYTUWEHInEUMoGRoQgjQrHBFVLR8CQzYnKCCQoWFxgZGiUmJygpKjQ1Njc4OTpDREVGR0hJSlNUVVZXWFlaY2RlZmdoaWpzdHV2d3h5eoOEhYaHiImKkpOUlZaXmJmaoqOkpaanqKmqsrO0tba3uLm6wsPExcbHyMnK0tPU1dbX2Nna4eLj5OXm5+jp6vHy8/T19vf4+fr/xAAfAQADAQEBAQEBAQEBAAAAAAAAAQIDBAUGBwgJCgv/xAC1EQACAQIEBAMEBwUEBAABAncAAQIDEQQFITEGEkFRB2FxEyIygQgUQpGhscEJIzNS8BVictEKFiQ04SXxFxgZGiYnKCkqNTY3ODk6Q0RFRkdISUpTVFVWV1hZWmNkZWZnaGlqc3R1dnd4eXqCg4SFhoeIiYqSk5SVlpeYmZqio6Slpqeoqaqys7S1tre4ubrCw8TFxsfIycrS09TV1tfY2dri4+Tl5ufo6ery8/T19vf4+fr/2gAMAwEAAhEDEQA/APpGiiigAooooAKKKKACiiigAooooAKKKKACiiigAooooAKKKKACiiigAooooAKKKKACiiigAooooAKKKKACiiigAooooAKKKKACiiigAooooAKKKKACiiigAooooAKKKKACiiigAooooAKKKKACiiigAooooAKKKKACiiigAooooAKKKKACiiigAooooAKKKKACiiigAooooAKKKKACiiigAooooAKKKKACiiigAooooAKKKKACiiigAooooAKKKKACiiigAooooAKKKKACiiigAooooAKKKKACiiigAooooAKKKKACiiigAooooAKKKKACiiigAooooAKKKKACiiigAooooAKKKKACiiigAooooAKKKKACiiigAooooAKKKKACiiigAooooAKKKKACiiigAooooAKKKKACiiigAooooAKKKKACiiigAooooAKKKKACiiigAooooAKKKKACiiigAooooAKKKKACiiigAooooAKKKKACiiigAooooAKKKKACiiigAooooAKKKKACiiigAooooAKKKKACiiigAooooAKKKKACiiigAooooAKKKKACiiigAooooAKKKKACiiigAooooAKKKKACiiigAooooAKKKKACiiigAooooAKKKKACiiigAooooAKKKKACiiigAooooAKKKKACiiigAooooAKKKKACiiigAooooAKKKKACiiigAooooAKKKKACiiigAooooAKKKKACiiigAooooAKKKKACiiigAooooAKKKKACiiigAooooAKKKKACiiigAooooAKKKKACiiigAooooAKKKKACiiigAooooAKKKKACiiigAooooAKKKKACiiigAooooAKKKKACiiigAooooAKKKKACiiigAooooAKKKKACiiigAooooAKKKKACiiigAooooAKKKKACiiigAooooAKKKKACiiigAooooAKKKKACiiigAooooAKKKKACiiigAry2Xxvrdv8AGSWGS6U+FUvYtEaLyU+S7kgEqvvxu+9iPBOMsPavUq8p0Dw83jH4P69NA4S68QajeanZygj5JBMfs7Z9hFHz6UAdZ4j1m/t/HXhPRdNn8pL6W5nvcRq26CKLpkjjMjx8jB/WtLVPFekaPeiyupp5rwp5htbK0mu5UToHZIVZlUngMQATxXCeAvEC+PfiIviBFCrp/hyCCWMjmG5nlZpV+o8gL7c+tL8O7HxRqfhqbXrPW9LtX126murgy6S81wh3sgTzPPC5RVCgFMDbgg85APQLLxFpGoeHxrlrqEB0zy2ka6kby1jVc7t+7GwrgghsEEEHGKx/+FleFlaJZ7+e1M5QW4urC4gNxvdUUxb4x5g3OmSmQAwJwOa5/XPD9rpEvg/wnDLNPY6nrkt3fSXLAtdOiS3JD4AUhpVU7QAOMYxVjx7fWWq+P/BXhQGOW8/tIavKuNxhigjkKsf7u58AH2IoA6/WfEemaCbdNRnkE10WEFtbwSXE020ZYrFGrOwAIyQMDIzjNU9N8b+H9YmuodMvnubizgM9zbpbS+dCoZl2tHt3B8ow8sjf7cisnwl/xMviF4x1O6+ae0uodLtw3/LKFIUlIHpueUk+uB6Vn+BdX07WPE3jrxbZMklj9qisUuIx/rVtocswPcbpGwe4A5oAveD/AIhp4m1jVbZ7S9jhi1B7WxcaRdoCkaLvMsjJsRt+8bWKkYAIzVy01jQtO1LWNXfXr+eO51KHTJIbgu1vaXAxGI4l24QMzjc3IJPJ44rfC2MWfwr0u+u8I99E+pzt7zs0xP4Bx+VceLOef9mO91RkxeXKS+ISSckP9oN0pz9AtAHq2qazYaNHbPqU5iF1cx2sOI2cvK5wqgKCefXoOpwKq6r4q0jR71bK6mmlvGTzfstlaS3cypnG9o4lZlXPG4gDPGa5y1nj8c/ES3v7V/N0Tw0hMb/wz38qYPsfKjOP96UjqtZPw+sfE+qaHe+ILLWtKtZNcvriecz6TJNcJtkaJU8z7QqnYsYUDZgY6HnIB6JpGsWGvaXFqGk3K3NrLkK4BUgg4KspAKsCCCpAIIwRV2srw74etvDWltZ2k09wZbiW5nuLgqZJpZHLu7bQFySegAHtWrQAUUUUAFFFFABRRRQAVxnxO1fWdO0DT7PwteLZaxq+pwWNtcNEsgj3ZZ22sCCAiN1H612dcRr/APxMvjF4UsFwy6baXmqSqexIWCM/nI/5e1AF3w54wXUvhjF4lvl8uWCzkkvo8f6uaEESrj2ZGpfDGuzWnwx0rW/GmoxQzSWUU95cz7IVVpACAQMAHLBQB1OB1Nec+OZ5PDb+MfCMBCL4rMFzpoPQyXMqW9yo98kPj/bJ9a6nxPZ3+o/Ezw1oelXNnZwaXp82pQre2jXEUkqskKfIskfzIrsQc8Fs4zggA6vS/GGj6tqf9nW8l3BemMyrb31hPaPIgOCyCZF3gEjO3OMjPWr2n6xY6pcX0FhP50mn3H2a5ARgI5dqvtyRgna6njPWsix8L3kniK213xJqq6hfWUUsNpFa2v2a3hWTZvbYWd2c7MZLkY6KDknA+H+r2Ok/C+/8W6pMsNvfXl7qs79SA0zBV922qigDknAFAHRX/jbRrHQtS1USXFzb6ZPLb3H2e0mkKSxglwQqEgDHL/dHrVTwb4z/ALc8H2+o6zDcWl3HYpdX27Tbm3hQldzBGlXDgf7LN69CK4crNH+zTEjZS98Tldx6/Pf3GSffCzfkK7H4oP8AYPhXqdlYARPdxR6ZbqvYzOsIA+gf9KANfSfGGi69cxw6PcT3gkjDiaKzmMK5UNtaXZsV8EZRiGGcEVWuPiH4YtZ5En1F0hik8mS9+yzG0V+6m5CeVuz8uN+d3y/e4rL8YwL4G+Cl/Z+G8WYsbAWts6DBj3EJ5mf7w3FifXJqt8SrjTPB3wau9Fs0ijFzaf2Rp1scZkeRfLUAdyASxPsaAH/ETVLXX/hpZRaZN5tv4nurK0t5NpTfFPIpJwwB5iDHBxXfgBVAUYA4AHauB1iyQeOvAXhy3+a302O4v3X0EMIhjOPrN+ld9QAUUUUAFFFFABRRRQAUUUUAcb4nv9Vu/Hug+G9H1a40tJ7a5vb6a2hieTy02IgBlR1GXk9O1N03UNY0f4kR+Gr/AFSbWrO902S+inuYokmt2jdEKnykRSh3gj5cgg8nPGUsGtax8ZtfvdB1DT7QaTp9rpzNeWL3O5nLTMBtlj28GPPJzx0xVnxDplz4Q8H+KvFj30mpeI30yT/TDHsSBEVikcUYJ2RqzFsEsxOSzHjABu33j3w7p810k13cSrZsy3c9pYz3ENsy8ssssaMkZUcsGIKjk4FaV9r+lado6ardXsQspQhhljPmedv+4IwuS5bI2hQS2RjNZUB0nwL8MkZjGmnaZp+5icHzflyT/tM7H6szeprntJ8CapJ8MPBtot8NO1vQVhuojPD50YlEZVopEyCV2uy8EEdQeKAOy0nxLpmtLdGyknR7TBniu7SW2ljBGQxjlVW2nBw2MHBweDXGap4xtPBvwvGr6Ffapr8mpBp9NuL+3uLgSPK42K5VB5aZcBVO0kDC5NM1bxrqF78H/Flxe2UVpq+nGfSZFt5S8UlwQqK8bEA7SZVwDyDkHpVjxPpsdtD8P/CMSqY/7RgyP4TFaQtLj/vqNKANzU/EOlX3gnUbq8vtU0i02fZpbz7DcWc8TPhA0ayR7s5cYYA4PfitPSb6wW4m0G2vZrm80mGBbj7QWaTaynY7OR85YKckZ5BzzXO/EbN7ceFNDUbv7R12B5Ez1igDXDfrEo/Gs/Xtbs/BvxUvtVv2KW974dD+Woy000E+1UUd2b7QqgdzQB29vrmnXWpajYQ3INxpez7YCjKsO9N65Yjafl54JwCM4yKyoPiB4buL21t472bbeTCC2umsp1tZ5DnaqXBQRMWwQuGO48DJNcLreh6pYfD3TNLvZoodV8Xa9GdXldDJGpl3SGIgMCUCxJDgMMjjIzXYzeEdU1g2kPijWbWews54riOz0zTjaJI8bBk8wvLKSqlQQFKe5I4oA62iiigAooooAKKKKACiiigArG13Trq4Bu4fEmpaPDBETIlnHasrAZJY+bC5zj0IHHStmuS+Kd89h8LteaA4nuLU2kPOMyTERL+rigDM8A2fiTXvBuja7rPjDWBPewrdNbpbWSxlGO5F/wCPfdgptyQ2eTjFb2o+O/D+mXFzDNc3M5tAftT2VhcXUdsRnIkeJGVGAGSrEEDBIwQabrsknhH4X6g+mLmXSNIk+zgLnmKE7ePT5RUegf2X4M+GFlPNMsdjZaetxPcFgTISu95Ce7MxJz3Le9ACeMvG9n4Z8C3PiC0LXytatLZPbQSXEMr7cx7njBCoSV+YkDng1e0XxJb3+gtfX3nWRtYQ97Je2M9lGhC5dh56r8gweckAdTXnTaXc2nwa8E+F9Si8qfVtRs4Z4GH+rTzDcshHbCxlcduldX8Q/wDTdQ8KaHN/x56nrCi6U9JEiieYRn1BaNcjuARQBbb4l+FYhEbnUJ7UTlRbtdWFxCLncyqPJLoPN5dfubuCD05qn4tI1H4j+C9IzlIZ7nVJVHpFF5af+PzA/hVX4hX9lf8Ai/wZ4UJjlvbnVU1FojyY4bdXk3n0yygD1+Yc81b0zOpfGvXLrA2aRpVtYqf9uZ2mf9Fi/T8ADtaKKKACiiigAooooAKKKKAOd8c+I5/DHhsXdjHC95cXUFnbm4z5SPLIqB3xg7V3EkAjOMZGc0thoOu2d/a3E3i+8v41J+0211Z2wjkBU/cMaIyENgjLPxkEHqNbVdKsdb0q403VrWO7s7lDHNDIMqw/zyD1B5FcX4b+1eGPiJdeFIdUudR0VdLOoRi9k82TTj521YvNPLIVLbQ5LAR9SKAN2bx54eivLm0S7nubu1naCa2s7Ke4lVlCljsjRmKjeoLgbQWAJycUzXfFtjF8M9S8U6Tdx3NqmnS3NtNG3DkIdo9juwMdQeDXPfCcaXZ/D+98YzSRRNrdzdarfXTN9xPNkIBPYIueOgO71NYAtbj/AIUj4e0i4iaGTxNrUX7l+DHDPdtdFcdv3QOR9aAOr03SLDSvCvgjwxdavf6bdxiFoI7JzGbt4Yi8kchCkeWeSwJGcAZ5wUT4kwv8Q7zREs9RawsrNGmkTRbx5RcPIwA+WM4TahIYjDZ4bANSz51L45WsZ5i0XQ5JevSW4lCj/wAchb86PAQF74i8aa0cbrnWTZp/uW0axf8AofmfnQB21FFFABRRRQAUUUUAFFFFABRRTZIxLE8bFgrqVJVipwfQjkH3FADqKzf7BtP+e2of+DK4/wDi6P7BtP8AntqH/gyuP/i6ANKis3+wbT/ntqH/AIMrj/4uj+wbT/ntqH/gyuP/AIugDSorN/sG0/57ah/4Mrj/AOLo/sG0/wCe2of+DK4/+LoA0qKzf7BtP+e2of8AgyuP/i6P7BtP+e2of+DK4/8Ai6ANKis3+wbT/ntqH/gyuP8A4uj+wbT/AJ7ah/4Mrj/4ugDSorN/sG0/57ah/wCDK4/+Lo/sG0/57ah/4Mrj/wCLoA0qKzf7BtP+e2of+DK4/wDi6P7BtP8AntqH/gyuP/i6ANKis3+wbT/ntqH/AIMrj/4uj+wbT/ntqH/gyuP/AIugDSorN/sG0/57ah/4Mrj/AOLo/sG0/wCe2of+DK4/+LoA0qKzf7BtP+e2of8AgyuP/i6P7BtP+e2of+DK4/8Ai6ANKiuc1TS4ba401YbnUFE90Y5B/aM53L5MjY+/6qD+FTf2RB/z8ah/4MZ//i6AN2isL+yIP+fjUP8AwYz/APxdH9kQf8/Gof8Agxn/APi6ANuSNZYnjfO11KnBIOD7jpVXSdKstD0i10vSoPs9naRCKGLcW2KOAMkkn6k1nf2RB/z8ah/4MZ//AIuj+yIP+fjUP/BjP/8AF0ATaJ4W0Xw5dajcaLYraS6ncG5uyrsRJIerYJIHU8DAqhP8PPDk8t032e8hjvHaS4trbU7mC3lZhhi0KSCM7v4vl+bJznJqz/ZEH/PxqH/gxn/+Lo/siD/n41D/AMGM/wD8XQBW8X22jnTrG21jRtQurKOYNFNpcMrSWToPkZfIPnJnlQYwcDIOAecHwt4etp/H41zTNJu7LSrGxkghuNSSVbm9uZnQySsJj5x2rEqbpME5wMqoNdP/AGRB/wA/Gof+DGf/AOLo/siD/n41D/wYz/8AxdACaj4J0HVdVm1C8tJTPcKiXKxXc0UV0qZ2iaJHCSjBK4dWyvynI4q7pegaXotnPaaZZpBb3E0k8sWSyszn5uCTgdto4A4AAqn/AGRB/wA/Gof+DGf/AOLo/siD/n41D/wYz/8AxdACab4L0XSNJutLsY7xbC6g+zvbSahcSIkeCNsYdz5QwxHybe3oK0hpFiuhDRlt1Gni2+yiAE4EW3btznP3ePWs7+yIP+fjUP8AwYz/APxdH9kQf8/Gof8Agxn/APi6AL2iaJp3hzRbbSNEtEs7C1XZDCmSFGcnk8kkkkk8kkk1kXHw98O3FxeSfZ7y3W+kaS5gtNTubeCZmADFoY5FQlgPm+X5uSc5NWf7Ig/5+NQ/8GM//wAXR/ZEH/PxqH/gxn/+LoA2ooo4IUhgjWOKNQqIi4VQOAAB0FPrC/siD/n41D/wYz//ABdH9kQf8/Gof+DGf/4ugDdorC/siD/n41D/AMGM/wD8XR/ZEH/PxqH/AIMZ/wD4ugDdorC/siD/AJ+NQ/8ABjP/APF0f2RB/wA/Gof+DGf/AOLoA3aKwv7Ig/5+NQ/8GM//AMXR/ZEH/PxqH/gxn/8Ai6AN2qK6NYJr8mtLAf7QktltWmLsf3SsWC7c7RyxOQMmqH9kQf8APxqH/gxn/wDi6P7Ig/5+NQ/8GM//AMXQBNrHhXRfEGo6Xf6vYJc3Wkz/AGiylLsphfjkYIz91eDkcDjina34Z0rxC9rJqcEhns2Zra5t7iS3mhLDawWWNlcBhwQDg4Gc4FV/7Ig/5+NQ/wDBjP8A/F0f2RB/z8ah/wCDGf8A+LoAtaN4e07QRcHTo5jJcsGmnubmW4lkIGADJKzMQB0GcDJx1NZX/Ct/C3l3ER06RrecysbZrycwRNLu3vFEX2ROd7fMgUjc2CMmrf8AZEH/AD8ah/4MZ/8A4uj+yIP+fjUP/BjP/wDF0AWb/wAN6TqXh9NEvLQPp8axrHErshj8sgoVZSGUqVGCCCMUw+FtKk0+zsriO5uobK6S8g+1Xs07rKjblYu7lmweQGJHA44FQ/2RB/z8ah/4MZ//AIuj+yIP+fjUP/BjP/8AF0Aa19ZW2pWE9lqEEdxa3EZjlhkXKupGCCKwE+HfhkLGJrGe6aF43ikvL6e4kj8t1dVV5HZlTcikoDtJUZBxVn+yIP8An41D/wAGM/8A8XR/ZEH/AD8ah/4MZ/8A4ugDQ/sex/t7+2vIzqH2b7IJi7cRbt+0LnA+bnOMnA54FXawv7Ig/wCfjUP/AAYz/wDxdH9kQf8APxqH/gxn/wDi6AN2isL+yIP+fjUP/BjP/wDF0f2RB/z8ah/4MZ//AIugDdorC/siD/n41D/wYz//ABdH9kQf8/Gof+DGf/4ugDdorC/siD/n41D/AMGM/wD8XR/ZEH/PxqH/AIMZ/wD4ugDdorC/siD/AJ+NQ/8ABjP/APF0f2RB/wA/Gof+DGf/AOLoAv6fo1hpd1f3FjB5cuoz/abpy7N5km1VzyTj5VUYGBx0q3NDFc28kFxGksMqlJI5FDK6kYIIPUEdqxf7Ig/5+NQ/8GM//wAXR/ZEH/PxqH/gxn/+LoAgs/h/4csZrV4rOeVLN1ktLe6vZ7iC2dfutFDI7JGV6KVUFRwMVb1XwnpOsagL66W7huxGIjPY389o7oCSFYwuu8AkkBs4ycYyaj/siD/n41D/AMGM/wD8XR/ZEH/PxqH/AIMZ/wD4ugCVvCWhtoVvow06NNPt5o547dGZR5iOJFZsHLHeNxznceTnNSa34b0zxEtsNUhlZ7SUzW81vcyW8sTlSpKyRsrDIYggHB71W/siD/n41D/wYz//ABdH9kQf8/Gof+DGf/4ugC3/AGBpxvNMu5IpJbnSonitJZZ5HZFdVViSzHexCj5myevPJyzU/DOj6zrOl6rqdilze6Q7vZSOT+5ZwAx25wT8oxkHBAIwear/ANkQf8/Gof8Agxn/APi6P7Ig/wCfjUP/AAYz/wDxdAF/WNG0/X9Mk0/V7Zbm2kwSjEgqQchlYYKsDyGBBB5BqnpnhLSdK1Fb+3W8nukjaOOa+1C4u2iViCwTznbZnauduM4GelM/siD/AJ+NQ/8ABjP/APF0f2RB/wA/Gof+DGf/AOLoA3aKwv7Ig/5+NQ/8GM//AMXR/ZEH/PxqH/gxn/8Ai6AN2isL+yIP+fjUP/BjP/8AF0f2RB/z8ah/4MZ//i6AN2isL+yIP+fjUP8AwYz/APxdH9kQf8/Gof8Agxn/APi6AN2isL+yIP8An41D/wAGM/8A8XR/ZEH/AD8ah/4MZ/8A4ugDdqjq2jWGuWsVvqkHnxRTx3KJvZcSRsGQnaRnDAHB4OORVD+yIP8An41D/wAGM/8A8XR/ZEH/AD8ah/4MZ/8A4ugDbkjSaJo5UV43UqyMMhgeoI7iuctfh94atJYGjsppIraTzbe0nvZ5raBgcgxwO5jQrn5dqjb2xVj+yIP+fjUP/BjP/wDF0f2RB/z8ah/4MZ//AIugC3rfh/TfEVnFbatC8iQTLcQvFM8MkUi5w6OhDKcEjII4JHeor7wvpWpaLBpV/FcT29u6SwyPdzGeN0OVdZ93mBh/e3ZwSM4JFQ/2RB/z8ah/4MZ//i6P7Ig/5+NQ/wDBjP8A/F0AFh4K0DTdSt9RtbFvt1v5m27luJJZn3gBjI7sWkOFCguWKgYGBxWhY6PY6beX91ZQeXPqMwnunLsxkcIqA8k4wqqMDA4rP/siD/n41D/wYz//ABdH9kQf8/Gof+DGf/4ugDdorC/siD/n41D/AMGM/wD8XR/ZEH/PxqH/AIMZ/wD4ugDdorC/siD/AJ+NQ/8ABjP/APF0f2RB/wA/Gof+DGf/AOLoA3aKwv7Ig/5+NQ/8GM//AMXR/ZEH/PxqH/gxn/8Ai6AN2isL+yIP+fjUP/BjP/8AF0f2RB/z8ah/4MZ//i6AHat4R0fWtSj1G7huIb6OIwi6sr2a0laMkHYzwupZQRkBsgEnGMmsnxJo0Phr4beIk8K6ZNNf3FnNt8vfcXFxM6lVZ3Ys8hBYcsSQBjoK1P7Ig/5+NQ/8GM//AMXR/ZEH/PxqH/gxn/8Ai6AMzS/hh4Y07T7a1Fg5jiSLzbZbuYWs7oqqHe3DCJ2+RSSyEkgE810d7o9jqN/YXl7B5s+nStNasXYCN2QoWwDgnazDkHGcjms/+yIP+fjUP/BjP/8AF0f2RB/z8ah/4MZ//i6ANC20extNXvtUt4Nt7frGtzLvY7xGCEGCcADc3THU1UsfCmk6brVzqlhHc29xdStNNGl7MIHkYAM5g3+XuOOTtznnrUX9kQf8/Gof+DGf/wCLo/siD/n41D/wYz//ABdAG7RWF/ZEH/PxqH/gxn/+Lo/siD/n41D/AMGM/wD8XQBu0Vhf2RB/z8ah/wCDGf8A+Lp8GlQR3EbrPfEq4IDX87A89wXwR7GgDaooooAKKKKACiiigAooooAKKKKACiiigAooooARwxjYRkK+DtLDIB9xxmuA1fVfHGmeJ9A0aPV/D88msSTAv/Ys6+QkUZdnx9qOedq445Yc16BXEKDqXx1dh80Wi6CFPostzNn89kH60AdBYS6jpy48Uaxpcz3EqxWxt7RrQFzn5MPNJvY44Ax0PBqzpuuaTrMU0uj6pZX8cD7JXtbhJRG3oxUnB9jXFfEPTIvFfjTwj4YuizWZluNTvY1YjzIokCBGx/CzTbSOhG4Vc8bRpqGueFvCJRU03UZ5ZbyFRhZYLePcISP7rO0eR3AI6E0Ab1j4w8M6mrHTfEWk3YWSOJjb30cmHkO1FOG6seAO56U66+0TeLLCO216G3it4JZbnSREjSXSthUkLE7kVWB+6OScE9q5PxxZ6ZqPxI8B6b9nga/hvJb7eFG+K3hiY49lMhjwOhK8dKsaNdRzfEzxrrdyT9n0q2tdOSTsoSNp5cfjKuf92gDpL3xb4c06HztQ1/S7SLznt9897Gi+ahw6ZJ+8p4I6jvUmvXGPDd1Jbazb6Q0kW2HUplR44GfAR8MQrckYBOCSK8/8BaXZ+G/g/eeLNVhWbUNTsJ9UvZZfmPlyb5hEM9Fw/ToWZj3qGSwmg+Gvw28K3O55r66sBcxH/nnAn2iRT7DygKAPShf2ulw29rquq25ultjIzzukTSrGB5ku3jAGQTjgZFGk67pOvW7z6HqllqUMbbHks7hJlVsZwSpIBwRxXEXWi23iz45TSagvn2XhvS4VWBzlHuJpGkBYdG2rEhweh2nsKWDUhYeOviL4gjjzDpen2sLgdJpIoZJ2zjuFlRaAOyvfE2g6bqkOm6jrenWl/Pt8m1nu40lk3HC7UJyckYGByau2l5bX9uJ7G4iuYSzIJIXDruVirDI4yGBB9CCK4PT7bSvD3wUudT8TRwXgvNPOoatJcIG+1zSIGIb15IRR2AUDGBW18M9KfRfhh4espRiVbGOSXJz+8cb35/3mNAGlrf8Ax96P/wBfrf8Aoiap6g1v/j70f/r9b/0RNU9ABRRRQAUUUUAFUtY0tNZ0uSxlury0WQgmWyuGglXBzw6kEdOfartI7bI2cgkKCcKMk/Qd6APKJtCls/i3oGiaH4h8RSi3jbUtU+1avPNGIQdscZVjg736g9ga7nx14hfwr4D1jW4VVprO2Z4g3TeeFz7biKxPhnpl/IuseK9etJrTVNeuy4t7hCklvbR/JDGVPQ4BJ/3qPFc0Hj/RfGngrTYplv7C3ijaSUBYXlkTzYwrA54KgNkDGe9AHOeILHWvAfhKw8Zf8JVq1/d201u2qQ3dzutriOV1RwsR+WPBcYK4xjnPWtG2s77x54x8UxXniPVdMg0e5Wzs7XS7o2+zMYbzXxy5JJwDxweDVDW73WPH3hLT/CA8L6vp9zcS2w1We9tvLt7eOJ1eQrIeJMlMKFznPOKueMbTw1c+Jbt7vwF4g1LVtqxiexhlihvPlG0PKjhCvY+Z0weKALXhO/1Txf8ADCIavr8um3VpeS2l/qFttjeZYpGX5WPEZb5csPfGM8Q+B7m5t/idrOjaTrt7r/h2Cxjle4u7k3JtbsvgwrKck5T5iCeDT9H0STwN8LrHTNT8MnXUubh5NTsbKJJVhEjM/wAsTcSKh2Jgc9x0xVTwdpbP8TX1Xwv4dvfDfhxbBorqG5tzaJdTlgVKW56bR/Hgen1APU6KKKACiiigAooooAKKKKACiiigAooooAw/EHh2fX57dTrmo6dZxK3mQadL5LzMcYJlHzADngYznk8V5rYeNtW8M/Djx5dSajNq8fh+/ey02+u/ndySqgO38ZV3GT3rqfib4i1zTo7LSNA07VCNR3C61SxsJLo2UQ67VQH943QZ4HWse70PT/FHwc1fwZ4V0TVtMWC1UwLqljJbedIH8wHc4G5iycn1bmgBviDTdY+HmnaT4jXxTq2ozR3tvDq0N9db7e4jlcI5VD8sZBYFSvQdc16dqV9HpmlXd/OCYrWF5nA67VUk/wAq8013UdW+ImnaT4ej8M6vpzte28+rT39r5UNvHEwdwjniQllAG3PXJxXYX+rWniHUNe8GwrOl3HpwMs5QeUomVlUA5zngnBH50AeceHPE+h69HpmqeJfHusW+rag6SLDZzSwWNuzHK2+QnlEgfKd5JJzXfeJ/C2nStfa7qWv+ILCCKEyzLZ6vNBDGiJyQisAOFyfU5NcBcDXNZ+ENt8Om8J6nFrAghsJZ5rXbZxLGy/v/ADs7WG1cgDJz2rsPiRYajren6N4QsILqS21a5VNSvEjbbDaxYdwzjhWfAUZPPzCgCh4B0vWbz4TtPqHiLU7GTVbhr5Lm5uDPPaWrEbY1kkzjMag7jnBcmo/C881h8XJdG0HxFf6/op00zXovLs3Ys594CASnOCwydmemT6Y7TxLONN8OlY/D8mt2fywz2FuiMTCRg4jbhwOBt7iuB8O6YLn4paZqfgzwxf8AhnRYLaZdWFxZmyjvGZcRKsJxkq3O7HtmgD1miiigAooooAKKKKACiiigAooooAK4L4sr4iXwfqd3o2r/ANk2dlYS3EslsCLmWRQSqK38C9yR8x6DHWu9rhfivqjp4K1XRbXSdX1C71KwljhNhYSToGIwAzKCF/GgDfTT/wC3/BdnbXV7fQGe2hd7i0uXhmzhTnzFOee/rzXBTaFLZ/FvQNE0PxD4ilFvG2pap9q1eeaMQg7Y4yrHB3v1B7A123g7Wl1LwzDnTtUsns4UikjvrGSB2IQZ2qwBYe4rH+GemX8i6x4r160mtNU167Li3uEKSW9tH8kMZU9DgEn/AHqAOk8Vzarb+ENVm8PRebqkdpI1omM5k2nGB3Oeg7mvJ9B1V7jVfCzeEPFeuavrFxcp/blhfXDSRwW4B88yRsMQsGwFAxk8DPWu08Wa7f8AiHRfGXhzwYt1Fr2kwQp53yortKu/bE+fvbMjnGCR9a42XTra/k8OQ+BvBOs6DrNjeQmW/ubE26wwBv3ollJxNuGePm3Ek96AOo+J+s6jcQzeHPDl7NZXUdjLqWoXluxV7a3jUlVVhyrSOAo/2Q5rP1DXtWPwz+H1rBqs1nceITY213qW7dMqvBvcqzZ+diMbjnqe9S654D8U2lv4uv8AS/FEMv8AbCzTSWzaP5szp5ZWOBXEucBflXC9STjJpdO0v7H8F9F0/wAeaReeIYmgtl+x2emsJrJRCNqsgbfuQgqXXDZYfKOaAJ7Bb7wb8VdM0FNZ1HU9K1yyndYtSuTcSQTQ7SWV2+baVPT1r0evKvBfhG1uPiBD4i03w9faJpmn2kkMD6o0huryWQgFiJGZ1RVBADY5c4HWvVaACiiigAooooAKKKKACiiigBssiQxPLK6pGilmZjgKB1JryHStd1vWPi14a1l9Qu4dF1tL9bLThIyxNbwxp5czJnBZ2dmyRwuyvQ/Gnh648V+Eb3RLTUjpjXiqj3Ai8z5NwLLt3LwwBU8jg1wGpeFPG0PxG8HMNdt7iG1ivFW6t9C2Q2abIxsYCQj5wMLkjG04zQBT1PV9Ef4teLLHxd411TRYreSzWxt4dXltYwGt1L4CkD7xyfrXrulRwQ6RaR2l1JeQLCojuJJjM0q44YuSdxPXPeuZ17xhBA17pc/g/X9TZi0Yij03zILnsP3mSgU+rEfTtWd4Xlb4W/CXQbPxNHNNciZLUxW2JGSSeZiiDLchdwXgn7vGaAMzxh4ts7n4g3Xh7VfEV/oum6baRSyRaWsn2m8mkJIAMas4RFAztxywya6bRJDe+AS3gHXzqjSviC+1WV7gxZcB92QGJUZIVuc4BOKyLyS98G/FTWNbl0XUtT0zXLK3US6bam4eGaHcuxlXkAhs56ZqTwVFeeGPD3iLxBrGkXsB1bVpNQj0y1gM9xFG5RFyiZy5xuYDp+FAEvwol1E2vii11bVbvVZbLxDcWyXF2+W2rHFwB0UZJO0YAzXFaJqfh3UvEPiK38V+PtX07UE1+8gt7VddmtkSFZMIAu4KB1A+ldJ8MdZlj1rxDZ3eg69ZnVtdub62mutLmiiETRpgs7KApOwjB749al8Z+IT4j8Man4dtvBWvXV7eQyQRJc6dsgSRgQJDMTsABO7IOfSgD0hAAigEkAcEnOfxpazfDenT6P4V0nTLubz7iysobeWXJPmMiBS3PPJGa0qACiiigAooooAKKKKAIru2F5ZT2zSSxLNG0ZkhkKOoIxlWHKkZ4I6GvJPHXhd9Mm0TRfD/AIo8Urq+tXqwxM2uXD+TCnzTS7S3O1eP+BCvYK4Pw7p99rXxS13xPq1ncW1vp6jSdJS4iZNyA7ppgD1DNgBh1UUAZXjfxbayePv+Eb1LxBe6JptpZJczjTQ/2q7ldjtRSis4RVXJK4PzDmjUNVsovhpb3HhnxNqd9pMmrQxX+pS3LvcWluXAlG8gOmOMlvmUMT6Vd1V77wl8VrvxA+j6hqelatpsVu0mm2xuJYJomYgMi/NtZW6jvU3ga1vtItPFPiXVdLurJdVvnvodNSPzLhY1QAZRc/vH2k7RnkigDF0Pxbfw6ZqGl+Hr2bV577VJLfw9cXkjTEwCNDJOzty8UbM3zHO44XJyK9L0bTm0nRrWxe8ub54Iwr3N1IXklbqWYn1OeOg6DgV5vrfhrWb3wtca/qtnPcarqV3atfWFsSzwacsys1pHjljsyXA+8xI5wBW/8N9PexXXXtLC50zRLi/D6ZZXMTRNEnlIHIjblFMgYhSB645oA7aiiigAp0f+sX6im06P/WL9RQBdooooAKKKKACiiigAooooAKKKKACiiigAooooAKytO8PWuma9q+rwyTSXOrvE0/mFSqCNNiquACBjJ5J5JrVooAy/7AtT4u/4SJpJmuxY/YUQkeWkfmb2IGM7iQuecYVeKi1/w1Br0tjcfa7rT77T5Gktb2zKeZFuXaww6spDA4IKnt3ANbNFAHMaZ4C0zTfFaeJGub291YWz20lzdyKxlDshLEBQFxsACptQBmwuWJqYeDLFdC1/S0urxE16a4mup1dfNVpl2tsO3AwoCrkEgAda6GigDG1bwvY6v4Ol8MyvPb2Etstqfs7BXEYAG0EgjkDHToTUl34es7zxBpWrytKJdKSZLaFSBGDIoUsRjOQowMEYDGtWigDL0vQLXStW1bUYZJpbjVp0nnaVgdu2NY1VcAYUBehyck81Vh8PaXouma80y3N3Bqk815fKyGV33oFKKsa7iAqhQoBPHc1vUUAeI6/pnhvxH4Ut/DXhvxXc+LJZfKgsdPS7imSwhLqrzSCJAcJGThpixDbcfMQa9sRFjjVEG1VAAA7CnUUAZOt/8fej/wDX63/oiap6j1ZQ2oaMG5H21v8A0nmq/wCRH/d/WgCpRVvyI/7v60eRH/d/WgCpRVvyI/7v60eRH/d/WgCpRVvyI/7v60eRH/d/WgCpWXoXh+08Pw3a2jSyyXl1Jd3E8xBeWRznJIAGAMKBjgKBW/5Ef939aPIj/u/rQBUoq35Ef939aPIj/u/rQBUoq35Ef939aPIj/u/rQBUoq35Ef939aPIj/u/rQBUoq35Ef939aPIj/u/rQBUoq35Ef939aPIj/u/rQBUoq35Ef939aPIj/u/rQBUoq35Ef939aPIj/u/rQBUoq35Ef939aPIj/u/rQBUoq35Ef939aPIj/u/rQBUrL0jw/Z6Neand27SS3OqXJubmaYgsxwFVAQB8qqAqjsPUkmt/yI/7v60eRH/d/WgCpRVvyI/7v60eRH/d/WgCpRVvyI/7v60eRH/d/WgCpRVvyI/7v60eRH/d/WgCpRVvyI/7v60eRH/d/WgCpRVvyI/7v60eRH/d/WgCpRVvyI/7v60eRH/d/WgCpRVvyI/7v60eRH/d/WgCpRVvyI/7v60eRH/d/WgCpRVvyI/7v60eRH/d/WgDA0Lw/aeH4btbRpZZLy6ku7ieYgvLI5zkkADAGFAxwFArUq35Ef8Ad/WjyI/7v60AVKKt+RH/AHf1o8iP+7+tAFSirfkR/wB39aPIj/u/rQBUoq35Ef8Ad/WjyI/7v60AVKKt+RH/AHf1o8iP+7+tAFSirfkR/wB39aPIj/u/rQBUoq35Ef8Ad/WjyI/7v60AVKKt+RH/AHf1o8iP+7+tAFSsvU/D9nq+q6XfXzSOdLlaeCDI8syldodhjJZQW28jG49eMb/kR/3f1o8iP+7+tAFSirfkR/3f1o8iP+7+tAFSirfkR/3f1o8iP+7+tAFSirfkR/3f1o8iP+7+tAFSirfkR/3f1o8iP+7+tAFSirfkR/3f1o8iP+7+tAFSirfkR/3f1o8iP+7+tAFSirfkR/3f1o8iP+7+tAFSirfkR/3f1o8iP+7+tAFSirfkR/3f1o8iP+7+tAFSirfkR/3f1o8iP+7+tAFSnR/6xfqKs+RH/d/WlEKAgheR70APooooAKKKKACiiigAooooAKKKKACiiigDldY1m/074neG9PE//Et1W1u43hKr/r4wkiNnG7OzzOAcce1L488QXuk6Vbad4fKHxBrM32PTVcAhGxl5mB/hjQM54PIA71Q+JJWxn8J60xCDT9egWSQjhY5leFsnsMyL+VJ4NQ+KvEd545uQ32V1ax0RG/htVb55sesrrkH+4qetAG5eeJdN8PtbabqV7dX2o/Z1dktbKS5ndR8vmvHAhKqWB52hc5A6Yp+j+L9A1+1vLnRtThu4LIKbiWMHbHlA+M4wTtIyB06HB4rn/h5cwtouv+JtSlSOW81W8e5nlbAiigkaJFJPRVSPPtlj3rkrPVVf4FeMfE2mIEPiS+vHtDgqT50gtYj7E4U/U0Aa/hdLSX4M6edY1W/0aXxPeeeLrT3KXHnXVwZEVXCtjIYKWPbPI6jutX8SaVoMkEF/NM1xPnyra1tpbqd1A5by4lZ9o7tjAJAJyRnldZsUj8XfD7wzAAbfT/OvXUdlt4PKj9vvTL+VWvBDLfeI/GWt3jA3C6q2nozf8sreCNNqj0BZ3c+u7NAFPTNa07xj8Xra70m5W6tNF0aQthWVop55gu11YAo4WBgVYAjdyK37jx/4atLqWKfUGWOCbyJrwWsptIZMgbHuQvlKwYhSC4wTg88V55b6/jwZ8T/Hmg7UN3M8VlPEuN6QQLGsox1yxdgT7V0vjm60v4f/AARurGLygg0/+zbKI4P2iZ4yijH8RJyx9QGJ70AWvF/xItNH+HyeINCWa+fUIVbTD9guHikd2VU8zauUBLjAYqW6Lk1f1XxBpWoeCr+4vL/VdHtG22kl4LG4s7iN5CqK0ayR7slnUBgCAT14NYXiPTEtbX4e+EI1BjGoW+5T08u0gaXH/fUaVf8AiFm+1Twhoijd9t1uOeRSeDHbo05z/wACRKAN++1nS/C1hZ2+o3szuyiG3j2vc3NyVAyVRAXkYDliAcDJOBzTtF8S6V4ga5j0y4cz2jKtxbXEElvNDuGVLRSKrqGHIJGDg4ziue8MAaj8T/GGo3YzcWD2+m2wbrDB5KTNj03vJk+uxfSobO7il+KnifXIiDYaRpMFhcSqfledWkmdcjqUR0z6b8UAa83xC8NRPcRrezXEttLJHPDaWM9xJEY2KOzJGjMEDKy78bSQQCcVu2F9a6pp9vfafOlxa3MaywyxnKupGQRXnngOGHwd8EpvEksSLe3llNrl7IR80jurSgHucAhQPb1NdP8ADvSn0T4a+HtPl4lg0+ESDOcOUBYfmTQBpap/yEdG/wCv1v8A0nmrSrN1T/kI6N/1+t/6TzVpUAFFFFABRRRQAUUUUAUdatIb/RLu1urme0gkiIlmt5TG6L3IYcjjPI5rxzw4fCcvxk0JfhLcILeK3uG1428zmGWMp+6Dbz88m/nIyR1Nexa5JqsOizyeHre2udRTa0UN05SOTDDcpYdCVyAegOM8V59d6P4n8Z+N/Depaj4Xi8NRaJcm5mvJL2Keaf5Svkp5efkOedxGR27EAg+LugzvPpetXmq3M0Uet6fHZ2CHZDDmVQ7sB/rHJzgngA4A716F4h8OWXiexistUa4NqkwlkhhmaMT4BGx9vJTJyVzyVGeOK4v4oR+KdZW10zQvCNxfwWmo2l79sW+t41kEbh2UK7hgeMcir/i3VPHV34Difwv4cltNau5vJmhku7dpLOHnMqkvsZsAYG7jdz0oAxPh9p9ro/xg8VaX4UDxeG7S1gWa3R2aCG9JyypnIB2/eA6Hr2r1WuF+HsWoaLaxaJ/whN9o1moaWS+utQt7hp5TyzvscszseScfkMV3VABRRRQAUUUUAFFFFABRRRQAUUUUAFFFFABRRRQB8/eMbrwxpHjrxOvxSsptSurjbPokqTErFBtVVjXDAQMH/jbaCec1u69f6z4e+Gfgjw9rV/fXV3qk8cGoXOmFpp5YVRpDHGy/MWYBE3g9NxzzmtCx0rxT4U1jxRGPB0PiiDXNQlu1vRfQxlon4WCZZedqDgbdwxnAqvb/AA78S6H8PfCS2DQX2u+G79r37IZiscsblw9ujt0wrgAnj5fSgC14Rn8J6Tqup2PhrwtqHhrxCNOeZLW/iKtdxg8OMSMr/NgE53dfeuBkt/DA+CCeNIdcjTxskQuzqUl9i6N0Gy0JUtyOCuzGMdu9eo6TpPiLXfiJF4s1/SE0WHTtPktLKxe6SaaV5GBZ3ZMqq4UAAEnv7Vhax4V1bxn51g/w80zww9+wXUdbea2mmMWfnWIxjezMOMttwDQB6npt0b7SrS7ZQpuIElKjtuUHH61ZpsUaQwpFEoVEUKqjsB0FOoAKKKKACiiigAooooAKKKKACiiigAooooAK+cPE9x4e07XvFtj8QLSa+8U3F2z6JeLckLHFJxbKsm4Lb7D13Y6Z+avo+vItO0TxZ4c0jX9Ak8E2/iFdUu7ic6l9vhRLkSsSpnWT58qCBwG6cUAdPd+GNX1L4d6Vpmr6/cI9vZL/AGnJZth71ljGV837wUtkkjBYemTWD4Xvr/Tf2W7e90csL630GSSBlXcVcKxBA7kda2NNsPEPgr4X6PoVtpM3iS/htfs85guoohHwehlZcqM7R3wBxUPw0TxRonw9g0TVvCklpd6VYbITLfQNHeSDOEBRmKA8ckd+9AHnurw+EfDHgHw94v8ACerw/wDCRJPaSPci/Lz6jvZVmjlBYl+CxII+Xb2r6EryaXwde+KtStoJfAOmeErH7VFdaldh7d7i8EbhxEvkg8FwpLMRwDxXrNABRRRQAUUUUAFFFFABRRRQAUUUUAFYviLwppnipbaLXFmuLSAsxsxMyQzEgAGRRjfjnAPHJ4PFbVcN8UD4xuNLs9O8F6fPPFeSMuo3VrcwxTwQjHyxmRlAZ8kbuduDxkigDH+EUC2fiTxvZ6I8h8LWuoRQ6YhkLxxyhD9oWMnPyhyvA4q78SpG1XxZ4N8GyzTQ2Gu3VzJeiGQoZoreHf5RYc7WJGcelX/CV5PoPh+SxuPBs3hjSdKtGkjaa9t5VYLy2fLdjnqxY9eSeaxb5dc8a6F4L8f6Jo8cOradI90ulz3ABkgmQo6LKVADFdpBIA9aAKFxBZ/Cz4lpD4cjNrpGp6Jd3MmmqzGIT24DiRV/hJUkHGAfrWOvguyvPga/jmWe5Pi06a+sjWfPcTJIFMoRecBMDbtxjH512Vn4e1vxd40k17xZpS6NYwaXLp1pp7XKTyuZiPNkcoSgG0BQuT6nHSsKLQviBH8Nj8OholttNu2nf2/9tTyPsxyu/wArPmb9h27cYzzmgBbN7f4p+PLG08RK1zpFp4ctdR+wbmWKa4uOd7qCNwVcAA9CTWz8OI/7A8deMfB9tLI2l6a9rdafDI7OYEmjJeME9FDLwPekvPDWt+EPGlpr/hLShrVm2kR6VdWIuUhmHlNmOVWfCtxkEEj8a1fAugata6x4h8TeJIY7TUdeniP2KKbzRbQwpsjQsOC3LE445oA7OiiigAooooAKKKKACiiigArA8aWmjXfhqU+KLyW00iB1luik7RLIo42OV5KEkZAIzgduK36xvEt3r9jZwT+GdMttUlWYfaLWa48lni2nPluflDBtvDcEZ5FAHmXw6Gmz/EDxK3wwuFj8MLpixGNXPk/2huOHjRuQoTgkDBPrWb4bn/4Qy40fVv7A1awuLbSpLbXBPA6NquoSNEIo0LcTO0gkIdcgA8nFdloOga9qvxU/4THVdDh8NwQae1l9m+0RzT3jM4bdIY8rtGOBknP6bEWg6jrnjC41nXYza2+nb7fRrber7SRhrttpxuYHao6quc4LHABD4BSyWbUZ7zWLDUfFN44l1VLa5SQ2uOEgCg5VIwdoz1OSeTXaV5V4G8Ha3p2q+F01DRItLTw5Y3FrPepNG41FpNoBUKd207S53gHJHXk16rQAUUUUAFFFFABRRRQAUUUUAFFFFABRRRQAUUUUAFFFFAGZ4h8O6X4r0KfRtftftdhcbTLD5jJu2sGHzKQRyo6Gr9vbw2lrFbW0axQwoI441GAqgYAHsBUlFAHPP4E8Oy6nPeyWDubif7TNbNcym1llwB5jW27yi2QG3FM7gG+9zU6eEdDTQbHRRZH+z7CaOe3hM0h2vG+9CSWy2GGcMSD3zW1RQBSOj2J15daMGdQW2NosxduIiwcqFzjlgDnGeBWZe+B/D+oalcX13ZSO90VN1Ct1KsFyQMAywBhHJwAPmU5AHoK6CigDNtPD2lWOiz6Tb2Uf2C4aZpoJMyLKZWZpN27OQxduDxg46cVkJ8N/C4t1glsJ7pI/LERu7+4uGhCMGVY2kclFyq5VSA20ZBArqaKAMvW/DemeIlthqkMrPaSma3mt7mS3licqVJWSNlYZDEEA4PenDQNO+3adevFJLc6ZA8FrNNPJIyK4UNksx3MQi5Zst155OdKigDD1Lwdo2q6m2ozxXVveugjkuLC/ns3lUfdDmF1347bs4ycdasL4a0eLwzL4ft7CK30qWF4HtrfMSlHBDDK4IJycnOSSTnNalFAGdf6Bpup+HpNDvbbfpskIga3V2QGMYAXKkHGB61ogBVAUYA4AHaiigDN1T/kI6N/1+t/6TzVpVla0SLzRyDg/bW/9J5qseY/95vzoAu0VS8x/7zfnR5j/AN5vzoAu0VS8x/7zfnR5j/3m/OgC7RVLzH/vN+dHmP8A3m/OgC7RVLzH/vN+dHmP/eb86ALtFUvMf+8350eY/wDeb86ALtFUvMf+8350eY/95vzoAu0VS8x/7zfnR5j/AN5vzoAu0VS8x/7zfnR5j/3m/OgC7RVLzH/vN+dHmP8A3m/OgC7RVLzH/vN+dHmP/eb86ALtFUvMf+8350eY/wDeb86ALtFUvMf+8350eY/95vzoAu0VS8x/7zfnR5j/AN5vzoAu0VS8x/7zfnR5j/3m/OgC7RVLzH/vN+dHmP8A3m/OgC7RVLzH/vN+dHmP/eb86ALtFUvMf+8350eY/wDeb86ALtFUvMf+8350eY/95vzoAu0VS8x/7zfnR5j/AN5vzoAu0VS8x/7zfnR5j/3m/OgC7RVLzH/vN+dHmP8A3m/OgC7RVLzH/vN+dHmP/eb86ALtFUvMf+8350eY/wDeb86ALtFUvMf+8350eY/95vzoAu0VS8x/7zfnR5j/AN5vzoAu0VS8x/7zfnR5j/3m/OgC7RVLzH/vN+dHmP8A3m/OgC7RVLzH/vN+dHmP/eb86ALtFUvMf+8350eY/wDeb86ALtFUvMf+8350eY/95vzoAu0VS8x/7zfnR5j/AN5vzoAXVtKs9c0m40zVITPZ3KbJot7LvXuCVIOD39RxVtEWNFRFCqowFAwAPSqfmP8A3m/OjzH/ALzfnQBdoql5j/3m/OjzH/vN+dAF2iqXmP8A3m/OjzH/ALzfnQBdoql5j/3m/OjzH/vN+dAF2iqXmP8A3m/OjzH/ALzfnQBdoql5j/3m/OjzH/vN+dAF2iqXmP8A3m/OjzH/ALzfnQBdoql5j/3m/OjzH/vN+dAF2iqXmP8A3m/OjzH/ALzfnQBdoql5j/3m/OjzH/vN+dAF2iqXmP8A3m/OjzH/ALzfnQBdoql5j/3m/OnI7GRcseo70AW6KKKACiiigAooooAKKKKACiiigAooooAKKKKACiiigDgfiT/bmheF9U1zRvFWqQXI2JaWSwWbQ+a7rGi/NAXILMOrZrotM0PUdPukuL7xZqupIinfBcw2iRscdT5cCsMdfvfXNYnxD/0/V/B2hrgm81yO4dT3jtkaZvw3Kn50fFdrmbwjbaTaTrb/ANtalbabLM6llWOV8OGAKkhgNhAIzuxkZoA0o/iD4aluII476VormUQwXv2Of7JK5OAFudnlNkjAw/J4HPFXtW8U6Vot5HZ3ktxLdyR+aLays5rqUJnG8pEjMq543EAZ4zWPP4P1XWba3sPEus2cmlW8kUostK002iyGJ1dFdnllOwFB8qbDwOccVQ8W2mseD9S1jx14fltLuFrNG1PTL3MfmRwK5DRTDOxsMflZWByehoAteNfiHbaB4E/tvRle/mvIh/ZxWznmheRmVVEhRfk5cfKxUkggcjFXNV8QaVqHgq/uLy/1XR7RttpJeCxuLO4jeQqitGske7JZ1AYAgE9eDWX40uU1268D6dGjCPU9WivWSVcERwRNcYYeu5UGKm+IWb7VPCGiKN323W455FJ4MdujTnP/AAJEoA2b3xHonhb7Hpmram0cxti8RuNzvKsZRCS2Ducs6AD7zM2ACan0XxNpfiCW6h02Wfz7MqLi3ubWW2li3DKkxyqrYIBwcYOD6GuWttOt9e+O2paldRrKPDmm29rbBhkJNOXkdx6ME2DPo1Vo9Qlg8U/EnxHbKHOlWUNnBgZ3PDbtO3H+9MB+FAHTah488O6XeTW15eyf6MypczRWk0sFqx7SzIhjiPIJDsMAgnAOa1dI1iw17TE1DSLgXNpI7okoUqGKOUbGQDjcpGeh6jI5rioNU034f/AiHUryRHVNME7tIQxu7mVdxzn7xeRj19eeK6D4faQdB+HOgaYwxJb2EQkGP4yoLf8AjxNAFzW/+PvR/wDr9b/0RNU9Qa3/AMfej/8AX63/AKImqegAooooAKKKKACs/XrS2vdBvIL+6ntLVoyZ5oJTE6oOW+YcgEAgkc4JxitCs7XpdXg0eWXw7bW13foVKQXMhjSRdw3LuGdp25wcEZxnigDyjwp/wjEnxi04fCudF06GymOuCCVvJmyB5OAx+Zw2SWGeOp616J8RL+/0v4ca9faOzJewWUjxOgyyHH3h7gZP4VzT6P4j8WfEDw/rWo+HI/DkOivJLLcSXcU09zuTaI18snCeu4/hXQ2fiy61XV/FWnado4uP7DMUUMhuQqXsrRb2jztwhUlVOc9e1AHmWrW3hLwrovhfxH4N1SAaw17aiWVL7fLqMUjASrKCxL/eyePlx2rtfH3hXwLpmi6x4r1/w7Y3dxFEZneRfmmkxhVznqTtH41mJ4Qu/Ees2Pm+BtO8Jafb3kd5ezI1u9xetGdyRjyQcLvAJLHJx0roPGegan4o8TeHLD7P/wAU/a3Jv9RlMijzHjH7mLbnJBY5PGMD1oAo+C/h3BafCrS9A1k3Ee9vtl7BbzGIO7ksYm287BkDAIztHvnN8F6ba6J8bNe0vwmrQeH7fS4jeW0bkwxXzPkBQTgHywcgfjXW+P7jxTB4WdfA1iLvVJ5Fi3GSNTbxkHdKA7KrEYAAJ6kHoDWV8P4NR0OCLR28GX+mW7l5rnUbvULed55iMl5NjlmZj3xxx0AoA7uiiigAooooAKKKKACiiigAooooAKKKKACvC7ix8JWHjDxbe/EPwpfXEcmpmSHUpNLmlgSHyk5MijGMg17pXFa7q/jO5hv9L0/wWjmYSQw3supxfZ9pyodl+/05KhfbPegDq9LksptItJNJeN7BoENs0Ryhj2jbj2xivKlsPDPirx74wj+IV1DJNp86Q2VveXRhW2tvKVhJGMjBJJJfrwOldNb3LfDXwz4O8NQwHVrm6uodMJWTyyq7WaScDByq4JxxwRzTPFUGpX+syJH8NtN1qSLC2eqXtxbmNcjOWDDzFAOeFBzjrzwAYHhO60vXvgzFJ421mWXStKv5YZbw3RVbuJJGSMSsvLqdycdyq5zzl3wtXSZ/HHiRvBEn/FIeRFGsIcmI3WTvaJWOVXbwTjBPTpXRaZo+v+BfBem2Wg2Ntrt0kry6ijTC3aZpCzu0ZPyjDNwGxx3FVPDega3e/E+58Y6ro8Xh6FtO+wiyWdJZrlvM3ebIY/l4AwOSfftQBznxL+Hvg+w0ey0fw/4csIda127SytJFjyYV6yS4z0VAfxIr16wsodN022sbUEQ2sSQxhjkhVAA5+grk7TQNT1D4uXniHWbYRWGmWa2ejqZFbez/ADTTYHKngJz1HauzoAKKKKACiiigAooooAKKKKACiiigAooooA8h+K3hDQdE8H32uQG8bxNLdKdPvvtLtctcPINscfP3cZGwDAA9RmvV7EXA0+3F7g3IiXzcf38DP65ry0R+M7nx1PrviDwRd6ktlKyaPbw6jarDbJ083DSZaVh3I4HArsrrxdcWuv8AhnR5dHdbvW0lkniNwpaxWNAxLbQQwyQuQQM9CelAHnvxUt/AVjFq63l7LP4znG6wJuZDcQTNzCEIwscYOPQY6nJr0J/B2neJvDejR+OdPtdVv7S1QSSSjcBKUXzCMepWsXxJceM9S03VdCm8E2WpR3Jlhtr37fGLfy2yEeSN/nDAEZCg5IOCKvHSPEHhj4Ox6NoH/Ey12009bWBxIqDzMBd4LkDCZJGeoUCgDlfh94a0hvGHi7xD4b02Kx06CNtGsUt1IExT5ppMd8uFAPotYnw7t/AWiab4bi8T+GLnSPEG6NUvdR0yaFHuQcriRhtzkDFeteG9AHg7wLZ6PpUKXEtja4VC+wTzYJJLYONzknODjPSuU8S2fiv4gafF4fvfDA0KxkuYZbu+uL6GYhI3D4iVCSWJXGW28UAek0UUUAFFFFABRRRQAUUUUAFFFFAEV2k8tlPHZzLBcNGyxSsm8RsRwxXvg84715v4F0b+w/i54qtWvrrUJm0+ykmuruTc8rsZcn0UeigAAcV6TcySQ2sskEJuJUQskKsFMjAcKCeBnpk8V5rosni+H4malrl14Hu4LTVILW2JOo2rGARltzkCTJGHzgc8UAWviN4O8Kjw9r/iPxH50twlu0kVzLctm1ZVxGsIyAh3Y4A5J5zmuj8AnVG+Huhtr5kbUWsozOZfv7iv8X+1jGc9647xNbeLdW8feZqPhG51Xw7pjq+n2tvf20cdxMOfOlDuCdp+6pGB1rpdX8Z3ui+HdNvb7w/LDqGoahFYx6a91GXBdyMhk3KcKC2B2HOKADxZ4L8LasL3WPF6vcwQ2xz9ouHEVqigksiggK3ct19+1cBaL4lvP2ZbCa4nuWkVlnuBLceVNNYLMTt8wkbSYsc55HHet/x9ZeKtc8VQWLeGbjVfCdsqyyQWt7BF9um6hZd7g+Wv93HzEc8VZ8WaX4i8ZeD7Ep4eWwuNO1WG6fRr27iZL6GMZ2FoyygEsMBuMpyOlAHO/DyTw5q3xHhu/hpG2maTa2DHVbd3Mf2h5ApiAhY5yuCTJjBzgE1U+Lc8vi3S9YvopHGj+Gbm2ggKni4vWuIlkb3EaMU/3nb0rqU0fxF4o+IWh67f+Hv+EZh0mKdZpWvIpZ7sSJtEY8okbVPzfMfoKyPFPwevLb4dz6P4W1/xBfbZImi0+4urcRP+/V3YkxryPmf73JHfoQD1+iqumWTadpsNpJe3N80S4NxdsrSyc9WKgDP0Aq1QAUUUUAFFFFABRRRQAyaPzreSISPGXUrvjOGXI6j3ryDxh4U0nwn4j8Hf8Ies8PiO71eNHlFy7y3VsATO0xYneuMEk9M8V67dyTQ2U8lrB9onSNmjh3BfMYDhcngZPGa8p8ML400/V7nX/EfgS+1LXrvMbXC6laCO1hzkQwqZflXuT1Y8mgDQ+Nmhz6j4C1i+n1S5jsbOxZ0sITsWWbP35GHLADGE4GRk54xq+OrO6vvAunRwWtxe2i3Vo+oWtspaSe1DAyKFHLdiVHJAIqP4pxeIdW8Kah4f8P8AhybU/wC0LQp9qS7giWJiehDsCeBnj1ra0bU9afwzNNfeGrmzvbWPbDYvdwO1yVQYw6sVXJ4+YjFAHnmmandaRY6roOhrLoUOp30lxZG8TyRpGnhEElwUf/Vgvv2I2PmOcAA16b4Wi0W38NWdt4XuLe50yBPLhlt5hKrY6kuCdzE5JPck1xmpeBdVm8IvdTpDqXiK71G11HUYS4WO4WKVXFqhbgIqjaueCck/eNbngfR76xutf1K/08aUNWvluItPDo5hVYkjJYoSu5ihY4J7c0AdbRRRQAU6P/WL9RTadH/rF+ooAu0UUUAFFFFABRRRQAUUUUAFFFFABRRRQAUUUUAFFFFAFG40awu9ZstVuIC97YpIltJvYCMSYD/LnBztHJGfSl1fR9P1/SZ9N1i1S6s7hdskT/oQRyrA4IYYIIBBBFXaKAMTTfCGkaXqSX8Ivri6jRkikvtSuLsxBsbtnnSMFJwASMEjiqx+H/hxpWL2dw8DSmY2L307Whctvz9mL+V975sbMbuevNdJRQBl634b0zxEtsNUhlZ7SUzW81vcyW8sTlSpKyRsrDIYggHB704aBp327Tr14pJbnTIHgtZpp5JGRXChslmO5iEXLNluvPJzpUUAUrHR7HTby/urKDy59RmE905dmMjhFQHknGFVRgYHFQR6TY6Np+pnT9Ne4+2Sy3dxbI4ZrmVx8w/eMF5wBgkKOBwK1KKAPH9T8NaF4g0mLRPCnh7WlmnKRmTVre9ig0y2Lr53lfacKhMe5AkPJB6bQcewABVAUYA4AHaiigDJ1v8A4+9H/wCv1v8A0RNU9R6qAdQ0YEZH21v/AEnmrR8tP7q/lQBSoq75af3V/Kjy0/ur+VAFKirvlp/dX8qPLT+6v5UAUqKu+Wn91fyo8tP7q/lQBSqnpekWOi2r2+mweTHJNJO/zFi8jsWZiWJJJJPU+3QVs+Wn91fyo8tP7q/lQBSoq75af3V/Kjy0/ur+VAFKirvlp/dX8qPLT+6v5UAUqKu+Wn91fyo8tP7q/lQBSoq75af3V/Kjy0/ur+VAFKirvlp/dX8qPLT+6v5UAUqKu+Wn91fyo8tP7q/lQBSoq75af3V/Kjy0/ur+VAFKirvlp/dX8qPLT+6v5UAUqKu+Wn91fyo8tP7q/lQBjS6RYz61b6tNBvvbWJ4YZSx/dq5BbC5xk7RzjOBjOKuVd8tP7q/lR5af3V/KgClRV3y0/ur+VHlp/dX8qAKVFXfLT+6v5UeWn91fyoApUVd8tP7q/lR5af3V/KgClRV3y0/ur+VHlp/dX8qAKVFXfLT+6v5UeWn91fyoApUVd8tP7q/lR5af3V/KgClRV3y0/ur+VHlp/dX8qAKVFXfLT+6v5UeWn91fyoApVTXSLFdcfWBBm/kt1tjMWJxEGLbQCcDk5OAM8ZzgVs+Wn91fyo8tP7q/lQBSoq75af3V/Kjy0/ur+VAFKirvlp/dX8qPLT+6v5UAUqKu+Wn91fyo8tP7q/lQBSoq75af3V/Kjy0/ur+VAFKirvlp/dX8qPLT+6v5UAUqKu+Wn91fyo8tP7q/lQBSoq75af3V/Kjy0/ur+VAFKirvlp/dX8qPLT+6v5UAUqp3WkWN7qdlqF1B5lzYbzbOWOIy4wx25wTgYyRkZOMZNbPlp/dX8qPLT+6v5UAUqKu+Wn91fyo8tP7q/lQBSoq75af3V/Kjy0/ur+VAFKirvlp/dX8qPLT+6v5UAUqKu+Wn91fyo8tP7q/lQBSoq75af3V/Kjy0/ur+VAFKirvlp/dX8qPLT+6v5UAUqKu+Wn91fyo8tP7q/lQBSoq75af3V/Kjy0/ur+VAFKirvlp/dX8qPLT+6v5UAUqKu+Wn91fyo8tP7q/lQBSp0f8ArF+oq35af3V/Kl2KOij8qAFooooAKKKKACiiigAooooAKKKKACiiigAooooAKKKKACiiigAooooAKKKKACiiigAooooAzdU/5COjf9frf+k81aVZuqf8hHRv+v1v/SeatKgAooooAKKKKACiiigAooooAKKKKACiiigAooooAKKKKACiiigAooooAKKKKACiiigAooooAKKKKACiiigAooooAKKKKACiiigAooooAKKKKACiiigAooooAKKKKACiiigAooooAKKKKACiiigAooooAKKKKACiiigDn/H0E118NfE1vaRSTTy6RdJFHEpZnYwsAAByST2Fec/D6P4d6VqPh+1n8Mz6D4nNuiwy6jpk1s003l7ZNjuMEn5vrnivXNTnvLbTZptMs1vrpFzHbtMIhIc9NxBA4z/9brXAarp3ijx7rWgR6r4bHh7TdH1SLVJJ7i9inlmeLOyNFjJABJ5JIOO1AHP2mm+FfFvi3xs3xGvITfWGpNb2kd3eGH7FaiNTHJECwCkksdw7jNdf8GtZu9c+FemXGo3RvbiFprY3RbcZljlZFbPfKgc9+tVvFVtq+o6zMtv8MtK1W6j+Sy1i/uLdo0BHDMGHmjB6qoPTg1LHIPhN8P8AQdLhgOr3k97FZbRJ5TTzzyFpHHB6Eu2PQdRjNAHJfEibQdM+JrXXxPtpNR8PXOnBdMjRmkSCVNxl3Qqc5Ix+8xgcAkVQuJL7TfgxoKX+qzW+h6v4jjWWVLzzHtNLldysTTqTjGFUsDwGxmuwu9L8TeHfidrniKx8Nr4mtdXggihaO8ihmsljTDRYlIGxm+b5T1PINM8MeHNd8L+DdX+0+GrXU31bVZbs+H4rqMRWsEmP3alxsYgjJHC88dOQDLs4vDvhD41+GdN8CXVtFaa3bXUWo6faXXmRgxx+ZFKUycMcMM9wPrXOWNh4Y8QfDfXvEfijVoofGUU96xu5r4xT2E8cjiKOMbhsUAJ8oHO4iu78K+DbmXxna6/eeF9O8KWOmQSx2OmWZiMkksuA80piGz7o2gAk8sc1U8SaLrviW4vLa1+HWlabqN1ut/8AhI7qa3mMMZ48xNo81m2nIBC4PU0Adr4F1a4134faDql6d1zd6fDLMw/icoNx/E5Nb9UtH0u30PQ7HSrIEW9jbx28Weu1FCjPvgVdoAKKKKACiiigAooooA8o+NGhTzaXHrF1qty9vb39ilrp8Z2QoxuEDO+OZGOcDPC9hnmtf4qXM1wfDPhuK5mtoNe1ZLe7kgco7QKpd0DAgjdgDI7ZqD4rQ+KNb0z+xdA8KXGoRC5trkXq3tvGh8uVXZdruGz8uM4xzU3inSvEPivQtF1mz0YaZrui6mt7Fp15cxt5yLlWjMiFlXcrcHsQM0AYmpaZp3wu+Jnh2TwxAbHTNYtr2K/sY3Yxu8MPmxyBSThsgqT6H61j6d4LsvEPwVm8bX8k7+LLmym1SPVhO6yQSjc6KnPyoMBdo4xmuvg0XxB4y8c6ZrfijRBoWnaPa3EcFnJdpPLcTTp5bsfLJUKEyBk5yenpiWeh+P8ASvh3N8PbXQ7eZPJlsYNfN8iwrbuWAdov9YHCNjABGcc0AZWtC58WadZ61rWhahrH9peFIG0prG2eRbXUGDFz8v8Aqmy0ZEjYGF61vwaza+Ib/SYvFesWlro2ivHEz3Vyka6vqcYAbaSRvjicduGf/crqNV0PVbTwhpHhPwwXhg8mOxuNS8xQ1pbIgUsoJyZGA2rjOCcnpzzniTwVeafqx/4R7w3Dq2mS+Hjo0Ft50afY3Dsd7eYRlWDDcVy2U6HNAHqIORkciis7w7p02j+F9K026m8+azs4beSX/noyIFLfiRmtGgAooooAKKKKACiiigAooooAKKKKACiiigAooooAKKKKACiiigAooooAKKKKACiiigAooooAKKKKAM3VP+Qjo3/X63/pPNWlTXjR2RnRWaNtyEjJU4IyPQ4JH4mnUAFFFFABRRRQAUUUUAFFFFABRRRQAUUUUAFFFFABRRRQAUUUUAFFFFABRRRQAUUUUAFFFFABRRRQAUUUUAFFFFABRRRQAUUUUAFFFFABRRRQAUUUUAFFFFABRRRQAUUUUAFFFFABRRRQAUUUUAFFFFABRRRQAUUUUAFFFFABVK60ewvtUsdRu4PNutP3m2cs2Iy42sducE4GMkZAJxjJzdooAKKKKACiiigAooooAKKKKACiiigAooooAKKKKACiiigAooooAKKKKACiiigAooooAKKKKACiiigAooooAKKKKACiiigAooooAKKKKACiiigAooooAKKKKACiiigAooooAKKKKACiiigAooooAKKKKACiiigAooooAKKKKACiiigAooooAKKKKACiiigAooooAKKKKACiiigAooooAKKKKACiiigAooooAKKKKACiiigAooooAKKKKACiiigAooooAKKKKACiiigAooooAKKKKACiiigAooooAKKKKACiiigAooooAKKKKACiiigAooooAKKKKACiiigAooooAKKKKACiiigAooooAKKKKACiiigAooooAKKKKACiiigAooooAKKKKACiiigAooooAKKKKACiiigAooooAKKKKACiiigAooooAKKKKACiiigAooooAKKKKACiiigAooooAKKKKACiiigAooooAKKKKACiiigAooooAKKKKACiiigAooooAKKKKACiiigAooooAKKKKACiiigAooooAKKKKACiiigAooooAKKKKACiiigAooooAKKKKACiiigAooooAKKKKACiiigAooooAKKKKACiiigAooooAKKKKACiiigAooooAKKKKACiiigAooooAKKKKACiiigAooooAKKKKAP/2Q==)"
      ]
    },
    {
      "cell_type": "code",
      "metadata": {
        "colab": {
          "base_uri": "https://localhost:8080/",
          "height": 313
        },
        "id": "jIV_vpa0Gb6g",
        "outputId": "fea2f7d7-5588-4b74-f486-65488bde145e"
      },
      "source": [
        "# Pie chart\r\n",
        "senti_neg_count = sentiment_train_labels[sentiment_train_labels.label == 0].shape[0]\r\n",
        "senti_neut_count = sentiment_train_labels[sentiment_train_labels.label == 1].shape[0]\r\n",
        "senti_pos_count = sentiment_train_labels[sentiment_train_labels.label == 2].shape[0]\r\n",
        "\r\n",
        "labels = ['Negative', 'Neutral', ' Positive']\r\n",
        "sizes = [senti_neg_count, senti_neut_count, senti_pos_count]\r\n",
        "fig1, ax1 = plt.subplots()\r\n",
        "explode = (0.02, 0.02, 0.02)  \r\n",
        "ax1.pie(sizes, explode= explode, labels=labels, autopct='%1.1f%%', startangle=90)\r\n",
        "ax1.axis('equal')  \r\n",
        "plt.tight_layout()\r\n",
        "plt.title(\"Percentages of Neagtive, Neutral, and Positive Tweets in the Training Dataset\")\r\n",
        "plt.show()\r\n"
      ],
      "execution_count": 23,
      "outputs": [
        {
          "output_type": "display_data",
          "data": {
            "image/png": "[encoded data removed]",
            "text/plain": [
              "<Figure size 432x288 with 1 Axes>"
            ]
          },
          "metadata": {
            "tags": []
          }
        }
      ]
    },
    {
      "cell_type": "code",
      "metadata": {
        "colab": {
          "base_uri": "https://localhost:8080/",
          "height": 388
        },
        "id": "RROJlAT_TdZw",
        "outputId": "d8c4c673-3c8f-430e-eb66-0b39364e764b"
      },
      "source": [
        "# Count Plots\r\n",
        "fig, axes = plt.subplots(1, 3, figsize=(15, 5), sharey=False)\r\n",
        "fig.suptitle('Distribution of the Sentiment Analysis Tweets in All Datasets')\r\n",
        "\r\n",
        "sns.countplot(ax=axes[0], x=sentiment_train_labels.label)\r\n",
        "axes[0].set_title('Training Data')\r\n",
        "axes[0].set_xticklabels(labels)\r\n",
        "\r\n",
        "sns.countplot(ax=axes[1], x=sentiment_val_labels.label)\r\n",
        "axes[1].set_title('Validation Data')\r\n",
        "axes[1].set_xticklabels(labels)\r\n",
        "\r\n",
        "sns.countplot(ax=axes[2], x=sentiment_test_labels.label)\r\n",
        "axes[2].set_title('Test Data')\r\n",
        "axes[2].set_xticklabels(labels)"
      ],
      "execution_count": 24,
      "outputs": [
        {
          "output_type": "execute_result",
          "data": {
            "text/plain": [
              "[Text(0, 0, 'Negative'), Text(0, 0, 'Neutral'), Text(0, 0, ' Positive')]"
            ]
          },
          "metadata": {
            "tags": []
          },
          "execution_count": 24
        },
        {
          "output_type": "display_data",
          "data": {
            "image/png": "[encoded data removed]",
            "text/plain": [
              "<Figure size 1080x360 with 3 Axes>"
            ]
          },
          "metadata": {
            "tags": [],
            "needs_background": "light"
          }
        }
      ]
    },
    {
      "cell_type": "markdown",
      "metadata": {
        "id": "iAm95-Qb4HDZ"
      },
      "source": [
        "# Preprocessing"
      ]
    },
    {
      "cell_type": "markdown",
      "metadata": {
        "id": "nSIP-YsMlsp9"
      },
      "source": [
        "## Checking for null values"
      ]
    },
    {
      "cell_type": "code",
      "metadata": {
        "colab": {
          "base_uri": "https://localhost:8080/"
        },
        "id": "RizbPAFhX7Ae",
        "outputId": "a6c36d16-031e-44a0-d700-6cf09acb7e09"
      },
      "source": [
        "print(\"Number of NULL values in the hate training set: \", hate_train_df['tweet'].isnull().values.sum())\r\n",
        "print(\"Number of NULL values in the hate validation set: \", hate_val_df['tweet'].isnull().values.sum())\r\n",
        "print(\"Number of NULL values in the hate testing set: \", hate_test_df['tweet'].isnull().values.sum(), '\\n')\r\n",
        "\r\n",
        "print(\"Number of NULL values in the emotion recognition training set: \", emotion_train_df['tweet'].isnull().values.sum())\r\n",
        "print(\"Number of NULL values in the emotion recognition validation set: \", emotion_val_df['tweet'].isnull().values.sum())\r\n",
        "print(\"Number of NULL values in the emotion recognition test set: \", emotion_test_df['tweet'].isnull().values.sum(), '\\n')\r\n",
        "\r\n",
        "print(\"Number of NULL values in the emotion sentiment analysis training set: \", sentiment_train_df['tweet'].isnull().values.sum())\r\n",
        "print(\"Number of NULL values in the emotion sentiment analysis validation set: \", sentiment_val_df['tweet'].isnull().values.sum())\r\n",
        "print(\"Number of NULL values in the emotion sentiment analysis test set: \", sentiment_test_df['tweet'].isnull().values.sum())\r\n"
      ],
      "execution_count": 25,
      "outputs": [
        {
          "output_type": "stream",
          "text": [
            "Number of NULL values in the hate training set:  7\n",
            "Number of NULL values in the hate validation set:  1\n",
            "Number of NULL values in the hate testing set:  0 \n",
            "\n",
            "Number of NULL values in the emotion recognition training set:  0\n",
            "Number of NULL values in the emotion recognition validation set:  0\n",
            "Number of NULL values in the emotion recognition test set:  0 \n",
            "\n",
            "Number of NULL values in the emotion sentiment analysis training set:  0\n",
            "Number of NULL values in the emotion sentiment analysis validation set:  0\n",
            "Number of NULL values in the emotion sentiment analysis test set:  0\n"
          ],
          "name": "stdout"
        }
      ]
    },
    {
      "cell_type": "markdown",
      "metadata": {
        "id": "Ia9quSsmrRIu"
      },
      "source": [
        "### Droping null values from the hate speech training set"
      ]
    },
    {
      "cell_type": "code",
      "metadata": {
        "colab": {
          "base_uri": "https://localhost:8080/",
          "height": 460
        },
        "id": "7vPZN5N6d3YV",
        "outputId": "90097ec4-24e2-4d83-f1bf-5e02ec3c8baf"
      },
      "source": [
        "print(hate_train_df.shape)\r\n",
        "print(hate_train_labels.shape)\r\n",
        "hate_train_df"
      ],
      "execution_count": 26,
      "outputs": [
        {
          "output_type": "stream",
          "text": [
            "(9000, 1)\n",
            "(9000, 1)\n"
          ],
          "name": "stdout"
        },
        {
          "output_type": "execute_result",
          "data": {
            "text/html": [
              "<div>\n",
              "<style scoped>\n",
              "    .dataframe tbody tr th:only-of-type {\n",
              "        vertical-align: middle;\n",
              "    }\n",
              "\n",
              "    .dataframe tbody tr th {\n",
              "        vertical-align: top;\n",
              "    }\n",
              "\n",
              "    .dataframe thead th {\n",
              "        text-align: right;\n",
              "    }\n",
              "</style>\n",
              "<table border=\"1\" class=\"dataframe\">\n",
              "  <thead>\n",
              "    <tr style=\"text-align: right;\">\n",
              "      <th></th>\n",
              "      <th>tweet</th>\n",
              "    </tr>\n",
              "  </thead>\n",
              "  <tbody>\n",
              "    <tr>\n",
              "      <th>0</th>\n",
              "      <td>@user nice new signage. Are you not concerned ...</td>\n",
              "    </tr>\n",
              "    <tr>\n",
              "      <th>1</th>\n",
              "      <td>A woman who you fucked multiple times saying y...</td>\n",
              "    </tr>\n",
              "    <tr>\n",
              "      <th>2</th>\n",
              "      <td>@user @user real talk do you have eyes or were...</td>\n",
              "    </tr>\n",
              "    <tr>\n",
              "      <th>3</th>\n",
              "      <td>your girlfriend lookin at me like a groupie in...</td>\n",
              "    </tr>\n",
              "    <tr>\n",
              "      <th>4</th>\n",
              "      <td>Hysterical woman like @user</td>\n",
              "    </tr>\n",
              "    <tr>\n",
              "      <th>...</th>\n",
              "      <td>...</td>\n",
              "    </tr>\n",
              "    <tr>\n",
              "      <th>8995</th>\n",
              "      <td>Oooohhhh bitch didn't even listen to the dead ...</td>\n",
              "    </tr>\n",
              "    <tr>\n",
              "      <th>8996</th>\n",
              "      <td>@user Good Luck @user More Americans #WalkAway...</td>\n",
              "    </tr>\n",
              "    <tr>\n",
              "      <th>8997</th>\n",
              "      <td>Bitch you can't keep up so stop trying</td>\n",
              "    </tr>\n",
              "    <tr>\n",
              "      <th>8998</th>\n",
              "      <td>@user @user @user @user @user @user Japan is a...</td>\n",
              "    </tr>\n",
              "    <tr>\n",
              "      <th>8999</th>\n",
              "      <td>@user hi Best l see someone fucking girl comme...</td>\n",
              "    </tr>\n",
              "  </tbody>\n",
              "</table>\n",
              "<p>9000 rows × 1 columns</p>\n",
              "</div>"
            ],
            "text/plain": [
              "                                                  tweet\n",
              "0     @user nice new signage. Are you not concerned ...\n",
              "1     A woman who you fucked multiple times saying y...\n",
              "2     @user @user real talk do you have eyes or were...\n",
              "3     your girlfriend lookin at me like a groupie in...\n",
              "4                          Hysterical woman like @user \n",
              "...                                                 ...\n",
              "8995  Oooohhhh bitch didn't even listen to the dead ...\n",
              "8996  @user Good Luck @user More Americans #WalkAway...\n",
              "8997            Bitch you can't keep up so stop trying \n",
              "8998  @user @user @user @user @user @user Japan is a...\n",
              "8999  @user hi Best l see someone fucking girl comme...\n",
              "\n",
              "[9000 rows x 1 columns]"
            ]
          },
          "metadata": {
            "tags": []
          },
          "execution_count": 26
        }
      ]
    },
    {
      "cell_type": "code",
      "metadata": {
        "colab": {
          "base_uri": "https://localhost:8080/",
          "height": 424
        },
        "id": "USeQiUfBeH3q",
        "outputId": "7dba8885-8e6a-4201-f53d-2f387ea9aa48"
      },
      "source": [
        "hate_train_labels"
      ],
      "execution_count": 27,
      "outputs": [
        {
          "output_type": "execute_result",
          "data": {
            "text/html": [
              "<div>\n",
              "<style scoped>\n",
              "    .dataframe tbody tr th:only-of-type {\n",
              "        vertical-align: middle;\n",
              "    }\n",
              "\n",
              "    .dataframe tbody tr th {\n",
              "        vertical-align: top;\n",
              "    }\n",
              "\n",
              "    .dataframe thead th {\n",
              "        text-align: right;\n",
              "    }\n",
              "</style>\n",
              "<table border=\"1\" class=\"dataframe\">\n",
              "  <thead>\n",
              "    <tr style=\"text-align: right;\">\n",
              "      <th></th>\n",
              "      <th>label</th>\n",
              "    </tr>\n",
              "  </thead>\n",
              "  <tbody>\n",
              "    <tr>\n",
              "      <th>0</th>\n",
              "      <td>0</td>\n",
              "    </tr>\n",
              "    <tr>\n",
              "      <th>1</th>\n",
              "      <td>1</td>\n",
              "    </tr>\n",
              "    <tr>\n",
              "      <th>2</th>\n",
              "      <td>1</td>\n",
              "    </tr>\n",
              "    <tr>\n",
              "      <th>3</th>\n",
              "      <td>1</td>\n",
              "    </tr>\n",
              "    <tr>\n",
              "      <th>4</th>\n",
              "      <td>0</td>\n",
              "    </tr>\n",
              "    <tr>\n",
              "      <th>...</th>\n",
              "      <td>...</td>\n",
              "    </tr>\n",
              "    <tr>\n",
              "      <th>8995</th>\n",
              "      <td>0</td>\n",
              "    </tr>\n",
              "    <tr>\n",
              "      <th>8996</th>\n",
              "      <td>0</td>\n",
              "    </tr>\n",
              "    <tr>\n",
              "      <th>8997</th>\n",
              "      <td>1</td>\n",
              "    </tr>\n",
              "    <tr>\n",
              "      <th>8998</th>\n",
              "      <td>0</td>\n",
              "    </tr>\n",
              "    <tr>\n",
              "      <th>8999</th>\n",
              "      <td>1</td>\n",
              "    </tr>\n",
              "  </tbody>\n",
              "</table>\n",
              "<p>9000 rows × 1 columns</p>\n",
              "</div>"
            ],
            "text/plain": [
              "      label\n",
              "0         0\n",
              "1         1\n",
              "2         1\n",
              "3         1\n",
              "4         0\n",
              "...     ...\n",
              "8995      0\n",
              "8996      0\n",
              "8997      1\n",
              "8998      0\n",
              "8999      1\n",
              "\n",
              "[9000 rows x 1 columns]"
            ]
          },
          "metadata": {
            "tags": []
          },
          "execution_count": 27
        }
      ]
    },
    {
      "cell_type": "code",
      "metadata": {
        "colab": {
          "base_uri": "https://localhost:8080/",
          "height": 424
        },
        "id": "h9mZwUsXaZLn",
        "outputId": "806d3e1b-370a-4008-adbc-44ea59e9554b"
      },
      "source": [
        "df = pd.concat([hate_train_df, hate_train_labels], axis=1)\r\n",
        "df"
      ],
      "execution_count": 28,
      "outputs": [
        {
          "output_type": "execute_result",
          "data": {
            "text/html": [
              "<div>\n",
              "<style scoped>\n",
              "    .dataframe tbody tr th:only-of-type {\n",
              "        vertical-align: middle;\n",
              "    }\n",
              "\n",
              "    .dataframe tbody tr th {\n",
              "        vertical-align: top;\n",
              "    }\n",
              "\n",
              "    .dataframe thead th {\n",
              "        text-align: right;\n",
              "    }\n",
              "</style>\n",
              "<table border=\"1\" class=\"dataframe\">\n",
              "  <thead>\n",
              "    <tr style=\"text-align: right;\">\n",
              "      <th></th>\n",
              "      <th>tweet</th>\n",
              "      <th>label</th>\n",
              "    </tr>\n",
              "  </thead>\n",
              "  <tbody>\n",
              "    <tr>\n",
              "      <th>0</th>\n",
              "      <td>@user nice new signage. Are you not concerned ...</td>\n",
              "      <td>0</td>\n",
              "    </tr>\n",
              "    <tr>\n",
              "      <th>1</th>\n",
              "      <td>A woman who you fucked multiple times saying y...</td>\n",
              "      <td>1</td>\n",
              "    </tr>\n",
              "    <tr>\n",
              "      <th>2</th>\n",
              "      <td>@user @user real talk do you have eyes or were...</td>\n",
              "      <td>1</td>\n",
              "    </tr>\n",
              "    <tr>\n",
              "      <th>3</th>\n",
              "      <td>your girlfriend lookin at me like a groupie in...</td>\n",
              "      <td>1</td>\n",
              "    </tr>\n",
              "    <tr>\n",
              "      <th>4</th>\n",
              "      <td>Hysterical woman like @user</td>\n",
              "      <td>0</td>\n",
              "    </tr>\n",
              "    <tr>\n",
              "      <th>...</th>\n",
              "      <td>...</td>\n",
              "      <td>...</td>\n",
              "    </tr>\n",
              "    <tr>\n",
              "      <th>8995</th>\n",
              "      <td>Oooohhhh bitch didn't even listen to the dead ...</td>\n",
              "      <td>0</td>\n",
              "    </tr>\n",
              "    <tr>\n",
              "      <th>8996</th>\n",
              "      <td>@user Good Luck @user More Americans #WalkAway...</td>\n",
              "      <td>0</td>\n",
              "    </tr>\n",
              "    <tr>\n",
              "      <th>8997</th>\n",
              "      <td>Bitch you can't keep up so stop trying</td>\n",
              "      <td>1</td>\n",
              "    </tr>\n",
              "    <tr>\n",
              "      <th>8998</th>\n",
              "      <td>@user @user @user @user @user @user Japan is a...</td>\n",
              "      <td>0</td>\n",
              "    </tr>\n",
              "    <tr>\n",
              "      <th>8999</th>\n",
              "      <td>@user hi Best l see someone fucking girl comme...</td>\n",
              "      <td>1</td>\n",
              "    </tr>\n",
              "  </tbody>\n",
              "</table>\n",
              "<p>9000 rows × 2 columns</p>\n",
              "</div>"
            ],
            "text/plain": [
              "                                                  tweet  label\n",
              "0     @user nice new signage. Are you not concerned ...      0\n",
              "1     A woman who you fucked multiple times saying y...      1\n",
              "2     @user @user real talk do you have eyes or were...      1\n",
              "3     your girlfriend lookin at me like a groupie in...      1\n",
              "4                          Hysterical woman like @user       0\n",
              "...                                                 ...    ...\n",
              "8995  Oooohhhh bitch didn't even listen to the dead ...      0\n",
              "8996  @user Good Luck @user More Americans #WalkAway...      0\n",
              "8997            Bitch you can't keep up so stop trying       1\n",
              "8998  @user @user @user @user @user @user Japan is a...      0\n",
              "8999  @user hi Best l see someone fucking girl comme...      1\n",
              "\n",
              "[9000 rows x 2 columns]"
            ]
          },
          "metadata": {
            "tags": []
          },
          "execution_count": 28
        }
      ]
    },
    {
      "cell_type": "code",
      "metadata": {
        "id": "Ur8lbZXboOxe"
      },
      "source": [
        "df.dropna(inplace=True)\r\n",
        "df.reset_index(drop=True, inplace=True)"
      ],
      "execution_count": 29,
      "outputs": []
    },
    {
      "cell_type": "code",
      "metadata": {
        "colab": {
          "base_uri": "https://localhost:8080/",
          "height": 424
        },
        "id": "JIibokJ6hGFb",
        "outputId": "4f209b20-7559-4c27-edea-7da2d6409711"
      },
      "source": [
        "hate_train_df = df[['tweet']]\r\n",
        "hate_train_labels = df[['label']]\r\n",
        "hate_train_df"
      ],
      "execution_count": 30,
      "outputs": [
        {
          "output_type": "execute_result",
          "data": {
            "text/html": [
              "<div>\n",
              "<style scoped>\n",
              "    .dataframe tbody tr th:only-of-type {\n",
              "        vertical-align: middle;\n",
              "    }\n",
              "\n",
              "    .dataframe tbody tr th {\n",
              "        vertical-align: top;\n",
              "    }\n",
              "\n",
              "    .dataframe thead th {\n",
              "        text-align: right;\n",
              "    }\n",
              "</style>\n",
              "<table border=\"1\" class=\"dataframe\">\n",
              "  <thead>\n",
              "    <tr style=\"text-align: right;\">\n",
              "      <th></th>\n",
              "      <th>tweet</th>\n",
              "    </tr>\n",
              "  </thead>\n",
              "  <tbody>\n",
              "    <tr>\n",
              "      <th>0</th>\n",
              "      <td>@user nice new signage. Are you not concerned ...</td>\n",
              "    </tr>\n",
              "    <tr>\n",
              "      <th>1</th>\n",
              "      <td>A woman who you fucked multiple times saying y...</td>\n",
              "    </tr>\n",
              "    <tr>\n",
              "      <th>2</th>\n",
              "      <td>@user @user real talk do you have eyes or were...</td>\n",
              "    </tr>\n",
              "    <tr>\n",
              "      <th>3</th>\n",
              "      <td>your girlfriend lookin at me like a groupie in...</td>\n",
              "    </tr>\n",
              "    <tr>\n",
              "      <th>4</th>\n",
              "      <td>Hysterical woman like @user</td>\n",
              "    </tr>\n",
              "    <tr>\n",
              "      <th>...</th>\n",
              "      <td>...</td>\n",
              "    </tr>\n",
              "    <tr>\n",
              "      <th>8988</th>\n",
              "      <td>Oooohhhh bitch didn't even listen to the dead ...</td>\n",
              "    </tr>\n",
              "    <tr>\n",
              "      <th>8989</th>\n",
              "      <td>@user Good Luck @user More Americans #WalkAway...</td>\n",
              "    </tr>\n",
              "    <tr>\n",
              "      <th>8990</th>\n",
              "      <td>Bitch you can't keep up so stop trying</td>\n",
              "    </tr>\n",
              "    <tr>\n",
              "      <th>8991</th>\n",
              "      <td>@user @user @user @user @user @user Japan is a...</td>\n",
              "    </tr>\n",
              "    <tr>\n",
              "      <th>8992</th>\n",
              "      <td>@user hi Best l see someone fucking girl comme...</td>\n",
              "    </tr>\n",
              "  </tbody>\n",
              "</table>\n",
              "<p>8993 rows × 1 columns</p>\n",
              "</div>"
            ],
            "text/plain": [
              "                                                  tweet\n",
              "0     @user nice new signage. Are you not concerned ...\n",
              "1     A woman who you fucked multiple times saying y...\n",
              "2     @user @user real talk do you have eyes or were...\n",
              "3     your girlfriend lookin at me like a groupie in...\n",
              "4                          Hysterical woman like @user \n",
              "...                                                 ...\n",
              "8988  Oooohhhh bitch didn't even listen to the dead ...\n",
              "8989  @user Good Luck @user More Americans #WalkAway...\n",
              "8990            Bitch you can't keep up so stop trying \n",
              "8991  @user @user @user @user @user @user Japan is a...\n",
              "8992  @user hi Best l see someone fucking girl comme...\n",
              "\n",
              "[8993 rows x 1 columns]"
            ]
          },
          "metadata": {
            "tags": []
          },
          "execution_count": 30
        }
      ]
    },
    {
      "cell_type": "code",
      "metadata": {
        "colab": {
          "base_uri": "https://localhost:8080/",
          "height": 424
        },
        "id": "GQsj7j2JhhYX",
        "outputId": "b71863f9-0f9c-4e7f-add7-49f9ff68a1d4"
      },
      "source": [
        "hate_train_labels"
      ],
      "execution_count": 31,
      "outputs": [
        {
          "output_type": "execute_result",
          "data": {
            "text/html": [
              "<div>\n",
              "<style scoped>\n",
              "    .dataframe tbody tr th:only-of-type {\n",
              "        vertical-align: middle;\n",
              "    }\n",
              "\n",
              "    .dataframe tbody tr th {\n",
              "        vertical-align: top;\n",
              "    }\n",
              "\n",
              "    .dataframe thead th {\n",
              "        text-align: right;\n",
              "    }\n",
              "</style>\n",
              "<table border=\"1\" class=\"dataframe\">\n",
              "  <thead>\n",
              "    <tr style=\"text-align: right;\">\n",
              "      <th></th>\n",
              "      <th>label</th>\n",
              "    </tr>\n",
              "  </thead>\n",
              "  <tbody>\n",
              "    <tr>\n",
              "      <th>0</th>\n",
              "      <td>0</td>\n",
              "    </tr>\n",
              "    <tr>\n",
              "      <th>1</th>\n",
              "      <td>1</td>\n",
              "    </tr>\n",
              "    <tr>\n",
              "      <th>2</th>\n",
              "      <td>1</td>\n",
              "    </tr>\n",
              "    <tr>\n",
              "      <th>3</th>\n",
              "      <td>1</td>\n",
              "    </tr>\n",
              "    <tr>\n",
              "      <th>4</th>\n",
              "      <td>0</td>\n",
              "    </tr>\n",
              "    <tr>\n",
              "      <th>...</th>\n",
              "      <td>...</td>\n",
              "    </tr>\n",
              "    <tr>\n",
              "      <th>8988</th>\n",
              "      <td>0</td>\n",
              "    </tr>\n",
              "    <tr>\n",
              "      <th>8989</th>\n",
              "      <td>0</td>\n",
              "    </tr>\n",
              "    <tr>\n",
              "      <th>8990</th>\n",
              "      <td>1</td>\n",
              "    </tr>\n",
              "    <tr>\n",
              "      <th>8991</th>\n",
              "      <td>0</td>\n",
              "    </tr>\n",
              "    <tr>\n",
              "      <th>8992</th>\n",
              "      <td>1</td>\n",
              "    </tr>\n",
              "  </tbody>\n",
              "</table>\n",
              "<p>8993 rows × 1 columns</p>\n",
              "</div>"
            ],
            "text/plain": [
              "      label\n",
              "0         0\n",
              "1         1\n",
              "2         1\n",
              "3         1\n",
              "4         0\n",
              "...     ...\n",
              "8988      0\n",
              "8989      0\n",
              "8990      1\n",
              "8991      0\n",
              "8992      1\n",
              "\n",
              "[8993 rows x 1 columns]"
            ]
          },
          "metadata": {
            "tags": []
          },
          "execution_count": 31
        }
      ]
    },
    {
      "cell_type": "code",
      "metadata": {
        "colab": {
          "base_uri": "https://localhost:8080/"
        },
        "id": "cdGZhwPchrQs",
        "outputId": "927a245b-5e9f-4d0e-c416-c92a305d9079"
      },
      "source": [
        "print(\"Number of NULL values in the hate training set: \", hate_train_df['tweet'].isnull().values.sum())\r\n",
        "print(hate_train_df.shape)\r\n",
        "print(hate_train_labels.shape)"
      ],
      "execution_count": 32,
      "outputs": [
        {
          "output_type": "stream",
          "text": [
            "Number of NULL values in the hate training set:  0\n",
            "(8993, 1)\n",
            "(8993, 1)\n"
          ],
          "name": "stdout"
        }
      ]
    },
    {
      "cell_type": "markdown",
      "metadata": {
        "id": "B0pzBU35rZ-_"
      },
      "source": [
        "### Dropping null values from the hate speech validation set"
      ]
    },
    {
      "cell_type": "code",
      "metadata": {
        "colab": {
          "base_uri": "https://localhost:8080/"
        },
        "id": "7r6q6aGNiCRj",
        "outputId": "83fb0089-902c-410d-ba26-bdd7ea770f11"
      },
      "source": [
        "print(\"Number of NULL values in the hate validation set: \", hate_val_df['tweet'].isnull().values.sum())"
      ],
      "execution_count": 33,
      "outputs": [
        {
          "output_type": "stream",
          "text": [
            "Number of NULL values in the hate validation set:  1\n"
          ],
          "name": "stdout"
        }
      ]
    },
    {
      "cell_type": "code",
      "metadata": {
        "colab": {
          "base_uri": "https://localhost:8080/",
          "height": 424
        },
        "id": "fJM4MsmZjCgx",
        "outputId": "832c24bb-843d-4a74-8e37-e020e76ef499"
      },
      "source": [
        "hate_val_df"
      ],
      "execution_count": 34,
      "outputs": [
        {
          "output_type": "execute_result",
          "data": {
            "text/html": [
              "<div>\n",
              "<style scoped>\n",
              "    .dataframe tbody tr th:only-of-type {\n",
              "        vertical-align: middle;\n",
              "    }\n",
              "\n",
              "    .dataframe tbody tr th {\n",
              "        vertical-align: top;\n",
              "    }\n",
              "\n",
              "    .dataframe thead th {\n",
              "        text-align: right;\n",
              "    }\n",
              "</style>\n",
              "<table border=\"1\" class=\"dataframe\">\n",
              "  <thead>\n",
              "    <tr style=\"text-align: right;\">\n",
              "      <th></th>\n",
              "      <th>tweet</th>\n",
              "    </tr>\n",
              "  </thead>\n",
              "  <tbody>\n",
              "    <tr>\n",
              "      <th>0</th>\n",
              "      <td>@user @user If book Claire wanted to \"stay in ...</td>\n",
              "    </tr>\n",
              "    <tr>\n",
              "      <th>1</th>\n",
              "      <td>After arriving in the EU refugees make protest...</td>\n",
              "    </tr>\n",
              "    <tr>\n",
              "      <th>2</th>\n",
              "      <td>😳👇</td>\n",
              "    </tr>\n",
              "    <tr>\n",
              "      <th>3</th>\n",
              "      <td>@user Worst thing is if they are that stupid t...</td>\n",
              "    </tr>\n",
              "    <tr>\n",
              "      <th>4</th>\n",
              "      <td>@user Say's the HYSTERICAL woman. It is woman ...</td>\n",
              "    </tr>\n",
              "    <tr>\n",
              "      <th>...</th>\n",
              "      <td>...</td>\n",
              "    </tr>\n",
              "    <tr>\n",
              "      <th>995</th>\n",
              "      <td>Pass #MeritBased Immigration. Kill #ChainMigra...</td>\n",
              "    </tr>\n",
              "    <tr>\n",
              "      <th>996</th>\n",
              "      <td>imagine chaeyoung cutting some cooked meat for...</td>\n",
              "    </tr>\n",
              "    <tr>\n",
              "      <th>997</th>\n",
              "      <td>I usually dont hate people but I actually hate...</td>\n",
              "    </tr>\n",
              "    <tr>\n",
              "      <th>998</th>\n",
              "      <td>Cameron stopped immigrants voting on the EU in...</td>\n",
              "    </tr>\n",
              "    <tr>\n",
              "      <th>999</th>\n",
              "      <td>Large scale migration of illegal migrants to D...</td>\n",
              "    </tr>\n",
              "  </tbody>\n",
              "</table>\n",
              "<p>1000 rows × 1 columns</p>\n",
              "</div>"
            ],
            "text/plain": [
              "                                                 tweet\n",
              "0    @user @user If book Claire wanted to \"stay in ...\n",
              "1    After arriving in the EU refugees make protest...\n",
              "2                                                  😳👇 \n",
              "3    @user Worst thing is if they are that stupid t...\n",
              "4    @user Say's the HYSTERICAL woman. It is woman ...\n",
              "..                                                 ...\n",
              "995  Pass #MeritBased Immigration. Kill #ChainMigra...\n",
              "996  imagine chaeyoung cutting some cooked meat for...\n",
              "997  I usually dont hate people but I actually hate...\n",
              "998  Cameron stopped immigrants voting on the EU in...\n",
              "999  Large scale migration of illegal migrants to D...\n",
              "\n",
              "[1000 rows x 1 columns]"
            ]
          },
          "metadata": {
            "tags": []
          },
          "execution_count": 34
        }
      ]
    },
    {
      "cell_type": "code",
      "metadata": {
        "colab": {
          "base_uri": "https://localhost:8080/",
          "height": 424
        },
        "id": "8sU-Oa5bjs0j",
        "outputId": "180d4fe2-120e-4c58-a96f-2070fbb4df50"
      },
      "source": [
        "hate_val_labels"
      ],
      "execution_count": 35,
      "outputs": [
        {
          "output_type": "execute_result",
          "data": {
            "text/html": [
              "<div>\n",
              "<style scoped>\n",
              "    .dataframe tbody tr th:only-of-type {\n",
              "        vertical-align: middle;\n",
              "    }\n",
              "\n",
              "    .dataframe tbody tr th {\n",
              "        vertical-align: top;\n",
              "    }\n",
              "\n",
              "    .dataframe thead th {\n",
              "        text-align: right;\n",
              "    }\n",
              "</style>\n",
              "<table border=\"1\" class=\"dataframe\">\n",
              "  <thead>\n",
              "    <tr style=\"text-align: right;\">\n",
              "      <th></th>\n",
              "      <th>label</th>\n",
              "    </tr>\n",
              "  </thead>\n",
              "  <tbody>\n",
              "    <tr>\n",
              "      <th>0</th>\n",
              "      <td>0</td>\n",
              "    </tr>\n",
              "    <tr>\n",
              "      <th>1</th>\n",
              "      <td>0</td>\n",
              "    </tr>\n",
              "    <tr>\n",
              "      <th>2</th>\n",
              "      <td>0</td>\n",
              "    </tr>\n",
              "    <tr>\n",
              "      <th>3</th>\n",
              "      <td>1</td>\n",
              "    </tr>\n",
              "    <tr>\n",
              "      <th>4</th>\n",
              "      <td>0</td>\n",
              "    </tr>\n",
              "    <tr>\n",
              "      <th>...</th>\n",
              "      <td>...</td>\n",
              "    </tr>\n",
              "    <tr>\n",
              "      <th>995</th>\n",
              "      <td>1</td>\n",
              "    </tr>\n",
              "    <tr>\n",
              "      <th>996</th>\n",
              "      <td>0</td>\n",
              "    </tr>\n",
              "    <tr>\n",
              "      <th>997</th>\n",
              "      <td>1</td>\n",
              "    </tr>\n",
              "    <tr>\n",
              "      <th>998</th>\n",
              "      <td>1</td>\n",
              "    </tr>\n",
              "    <tr>\n",
              "      <th>999</th>\n",
              "      <td>0</td>\n",
              "    </tr>\n",
              "  </tbody>\n",
              "</table>\n",
              "<p>1000 rows × 1 columns</p>\n",
              "</div>"
            ],
            "text/plain": [
              "     label\n",
              "0        0\n",
              "1        0\n",
              "2        0\n",
              "3        1\n",
              "4        0\n",
              "..     ...\n",
              "995      1\n",
              "996      0\n",
              "997      1\n",
              "998      1\n",
              "999      0\n",
              "\n",
              "[1000 rows x 1 columns]"
            ]
          },
          "metadata": {
            "tags": []
          },
          "execution_count": 35
        }
      ]
    },
    {
      "cell_type": "code",
      "metadata": {
        "colab": {
          "base_uri": "https://localhost:8080/",
          "height": 424
        },
        "id": "Xk5A79Cpjacl",
        "outputId": "5b8d059b-70c2-4bad-c056-7d49ef4fdcc0"
      },
      "source": [
        "df = pd.concat([hate_val_df, hate_val_labels], axis=1)\r\n",
        "df"
      ],
      "execution_count": 36,
      "outputs": [
        {
          "output_type": "execute_result",
          "data": {
            "text/html": [
              "<div>\n",
              "<style scoped>\n",
              "    .dataframe tbody tr th:only-of-type {\n",
              "        vertical-align: middle;\n",
              "    }\n",
              "\n",
              "    .dataframe tbody tr th {\n",
              "        vertical-align: top;\n",
              "    }\n",
              "\n",
              "    .dataframe thead th {\n",
              "        text-align: right;\n",
              "    }\n",
              "</style>\n",
              "<table border=\"1\" class=\"dataframe\">\n",
              "  <thead>\n",
              "    <tr style=\"text-align: right;\">\n",
              "      <th></th>\n",
              "      <th>tweet</th>\n",
              "      <th>label</th>\n",
              "    </tr>\n",
              "  </thead>\n",
              "  <tbody>\n",
              "    <tr>\n",
              "      <th>0</th>\n",
              "      <td>@user @user If book Claire wanted to \"stay in ...</td>\n",
              "      <td>0</td>\n",
              "    </tr>\n",
              "    <tr>\n",
              "      <th>1</th>\n",
              "      <td>After arriving in the EU refugees make protest...</td>\n",
              "      <td>0</td>\n",
              "    </tr>\n",
              "    <tr>\n",
              "      <th>2</th>\n",
              "      <td>😳👇</td>\n",
              "      <td>0</td>\n",
              "    </tr>\n",
              "    <tr>\n",
              "      <th>3</th>\n",
              "      <td>@user Worst thing is if they are that stupid t...</td>\n",
              "      <td>1</td>\n",
              "    </tr>\n",
              "    <tr>\n",
              "      <th>4</th>\n",
              "      <td>@user Say's the HYSTERICAL woman. It is woman ...</td>\n",
              "      <td>0</td>\n",
              "    </tr>\n",
              "    <tr>\n",
              "      <th>...</th>\n",
              "      <td>...</td>\n",
              "      <td>...</td>\n",
              "    </tr>\n",
              "    <tr>\n",
              "      <th>995</th>\n",
              "      <td>Pass #MeritBased Immigration. Kill #ChainMigra...</td>\n",
              "      <td>1</td>\n",
              "    </tr>\n",
              "    <tr>\n",
              "      <th>996</th>\n",
              "      <td>imagine chaeyoung cutting some cooked meat for...</td>\n",
              "      <td>0</td>\n",
              "    </tr>\n",
              "    <tr>\n",
              "      <th>997</th>\n",
              "      <td>I usually dont hate people but I actually hate...</td>\n",
              "      <td>1</td>\n",
              "    </tr>\n",
              "    <tr>\n",
              "      <th>998</th>\n",
              "      <td>Cameron stopped immigrants voting on the EU in...</td>\n",
              "      <td>1</td>\n",
              "    </tr>\n",
              "    <tr>\n",
              "      <th>999</th>\n",
              "      <td>Large scale migration of illegal migrants to D...</td>\n",
              "      <td>0</td>\n",
              "    </tr>\n",
              "  </tbody>\n",
              "</table>\n",
              "<p>1000 rows × 2 columns</p>\n",
              "</div>"
            ],
            "text/plain": [
              "                                                 tweet  label\n",
              "0    @user @user If book Claire wanted to \"stay in ...      0\n",
              "1    After arriving in the EU refugees make protest...      0\n",
              "2                                                  😳👇       0\n",
              "3    @user Worst thing is if they are that stupid t...      1\n",
              "4    @user Say's the HYSTERICAL woman. It is woman ...      0\n",
              "..                                                 ...    ...\n",
              "995  Pass #MeritBased Immigration. Kill #ChainMigra...      1\n",
              "996  imagine chaeyoung cutting some cooked meat for...      0\n",
              "997  I usually dont hate people but I actually hate...      1\n",
              "998  Cameron stopped immigrants voting on the EU in...      1\n",
              "999  Large scale migration of illegal migrants to D...      0\n",
              "\n",
              "[1000 rows x 2 columns]"
            ]
          },
          "metadata": {
            "tags": []
          },
          "execution_count": 36
        }
      ]
    },
    {
      "cell_type": "code",
      "metadata": {
        "colab": {
          "base_uri": "https://localhost:8080/"
        },
        "id": "EMWLQc84WJ_u",
        "outputId": "3857fd7d-50f4-4051-9327-f48f44089bee"
      },
      "source": [
        "df.dropna(inplace=True)\r\n",
        "df.reset_index(drop=True, inplace=True)\r\n",
        "df.shape"
      ],
      "execution_count": 37,
      "outputs": [
        {
          "output_type": "execute_result",
          "data": {
            "text/plain": [
              "(999, 2)"
            ]
          },
          "metadata": {
            "tags": []
          },
          "execution_count": 37
        }
      ]
    },
    {
      "cell_type": "code",
      "metadata": {
        "colab": {
          "base_uri": "https://localhost:8080/"
        },
        "id": "CzE0NHqVkO21",
        "outputId": "a1fde22d-33f2-4aa2-86f9-b75acb01aa52"
      },
      "source": [
        "hate_val_df = df[['tweet']]\r\n",
        "hate_val_labels = df[['label']]\r\n",
        "print(hate_val_df.shape)\r\n",
        "print(hate_val_labels.shape)"
      ],
      "execution_count": 38,
      "outputs": [
        {
          "output_type": "stream",
          "text": [
            "(999, 1)\n",
            "(999, 1)\n"
          ],
          "name": "stdout"
        }
      ]
    },
    {
      "cell_type": "code",
      "metadata": {
        "colab": {
          "base_uri": "https://localhost:8080/"
        },
        "id": "WPhYNJYAkv1A",
        "outputId": "3168e3c8-2b36-4eb5-fe4f-f6c8d113ca48"
      },
      "source": [
        "print(\"Number of NULL values in the hate training set: \", hate_train_df['tweet'].isnull().values.sum())\r\n",
        "print(\"Number of NULL values in the hate validation set: \", hate_val_df['tweet'].isnull().values.sum())\r\n",
        "print(\"Number of NULL values in the hate testing set: \", hate_test_df['tweet'].isnull().values.sum(), '\\n')"
      ],
      "execution_count": 39,
      "outputs": [
        {
          "output_type": "stream",
          "text": [
            "Number of NULL values in the hate training set:  0\n",
            "Number of NULL values in the hate validation set:  0\n",
            "Number of NULL values in the hate testing set:  0 \n",
            "\n"
          ],
          "name": "stdout"
        }
      ]
    },
    {
      "cell_type": "markdown",
      "metadata": {
        "id": "tE1WLTCGbSAh"
      },
      "source": [
        "## Cleaning Tweets Text"
      ]
    },
    {
      "cell_type": "markdown",
      "metadata": {
        "id": "ZkMoDGpuYkdx"
      },
      "source": [
        "Removing the **#** **hashtag** symbols, **RT** acronym, and @user mentions"
      ]
    },
    {
      "cell_type": "code",
      "metadata": {
        "id": "jhd49hpwllII"
      },
      "source": [
        "# Create a function to clean the tweets\r\n",
        "def cleanTxt(text):\r\n",
        "  text = re.sub('@[A-Za-z0–9]+', '', text) #Removing @mentions\r\n",
        "  text = re.sub('#', '', text) # Removing '#' hash tag\r\n",
        "  text = re.sub('RT[\\s]+', '', text) # Removing RT\r\n",
        "  # text = re.sub('https?:\\/\\/\\S+', '', text) # Removing hyperlink\r\n",
        " \r\n",
        "  return text"
      ],
      "execution_count": 40,
      "outputs": []
    },
    {
      "cell_type": "markdown",
      "metadata": {
        "id": "GYfnBCAFPD5u"
      },
      "source": [
        "Apply cleaning on all datasets"
      ]
    },
    {
      "cell_type": "code",
      "metadata": {
        "colab": {
          "base_uri": "https://localhost:8080/",
          "height": 424
        },
        "id": "w6WbmA1tlmdy",
        "outputId": "af7e4380-0d36-42e5-8e43-5a36309d9da9"
      },
      "source": [
        "# Clean the tweets\r\n",
        "sentiment_train_df['tweet'] = sentiment_train_df['tweet'].apply(cleanTxt)\r\n",
        "sentiment_val_df['tweet'] = sentiment_val_df['tweet'].apply(cleanTxt)\r\n",
        "sentiment_test_df['tweet'] = sentiment_test_df['tweet'].apply(cleanTxt)\r\n",
        "\r\n",
        "emotion_train_df['tweet'] = emotion_train_df['tweet'].apply(cleanTxt)\r\n",
        "emotion_val_df['tweet'] = emotion_val_df['tweet'].apply(cleanTxt)\r\n",
        "emotion_test_df['tweet'] = emotion_test_df['tweet'].apply(cleanTxt)\r\n",
        "\r\n",
        "hate_train_df['tweet'] = hate_train_df['tweet'].apply(cleanTxt)\r\n",
        "hate_val_df['tweet'] = hate_val_df['tweet'].apply(cleanTxt)\r\n",
        "hate_test_df['tweet'] = hate_test_df['tweet'].apply(cleanTxt)\r\n",
        "\r\n",
        "# Show the cleaned tweets\r\n",
        "sentiment_train_df"
      ],
      "execution_count": 41,
      "outputs": [
        {
          "output_type": "execute_result",
          "data": {
            "text/html": [
              "<div>\n",
              "<style scoped>\n",
              "    .dataframe tbody tr th:only-of-type {\n",
              "        vertical-align: middle;\n",
              "    }\n",
              "\n",
              "    .dataframe tbody tr th {\n",
              "        vertical-align: top;\n",
              "    }\n",
              "\n",
              "    .dataframe thead th {\n",
              "        text-align: right;\n",
              "    }\n",
              "</style>\n",
              "<table border=\"1\" class=\"dataframe\">\n",
              "  <thead>\n",
              "    <tr style=\"text-align: right;\">\n",
              "      <th></th>\n",
              "      <th>tweet</th>\n",
              "    </tr>\n",
              "  </thead>\n",
              "  <tbody>\n",
              "    <tr>\n",
              "      <th>0</th>\n",
              "      <td>\"QT  In the original draft of the 7th book, Re...</td>\n",
              "    </tr>\n",
              "    <tr>\n",
              "      <th>1</th>\n",
              "      <td>\"Ben Smith / Smith (concussion) remains out of...</td>\n",
              "    </tr>\n",
              "    <tr>\n",
              "      <th>2</th>\n",
              "      <td>Sorry bout the stream last night I crashed out...</td>\n",
              "    </tr>\n",
              "    <tr>\n",
              "      <th>3</th>\n",
              "      <td>Chase Headley's RBI double in the 8th inning o...</td>\n",
              "    </tr>\n",
              "    <tr>\n",
              "      <th>4</th>\n",
              "      <td>Alciato: Bee will invest 150 million in Janua...</td>\n",
              "    </tr>\n",
              "    <tr>\n",
              "      <th>...</th>\n",
              "      <td>...</td>\n",
              "    </tr>\n",
              "    <tr>\n",
              "      <th>45610</th>\n",
              "      <td>\\\"\"So amazing to have the beautiful Lady Gaga...</td>\n",
              "    </tr>\n",
              "    <tr>\n",
              "      <th>45611</th>\n",
              "      <td>9 September has arrived, which means Apple's n...</td>\n",
              "    </tr>\n",
              "    <tr>\n",
              "      <th>45612</th>\n",
              "      <td>Leeds 1-1 Sheff Wed. Giuseppe Bellusci securin...</td>\n",
              "    </tr>\n",
              "    <tr>\n",
              "      <th>45613</th>\n",
              "      <td>no I'm in hilton head till the 8th lol go to ...</td>\n",
              "    </tr>\n",
              "    <tr>\n",
              "      <th>45614</th>\n",
              "      <td>WASHINGTON (Reuters) - U.S. Vice President Joe...</td>\n",
              "    </tr>\n",
              "  </tbody>\n",
              "</table>\n",
              "<p>45615 rows × 1 columns</p>\n",
              "</div>"
            ],
            "text/plain": [
              "                                                   tweet\n",
              "0      \"QT  In the original draft of the 7th book, Re...\n",
              "1      \"Ben Smith / Smith (concussion) remains out of...\n",
              "2      Sorry bout the stream last night I crashed out...\n",
              "3      Chase Headley's RBI double in the 8th inning o...\n",
              "4       Alciato: Bee will invest 150 million in Janua...\n",
              "...                                                  ...\n",
              "45610   \\\"\"So amazing to have the beautiful Lady Gaga...\n",
              "45611  9 September has arrived, which means Apple's n...\n",
              "45612  Leeds 1-1 Sheff Wed. Giuseppe Bellusci securin...\n",
              "45613   no I'm in hilton head till the 8th lol go to ...\n",
              "45614  WASHINGTON (Reuters) - U.S. Vice President Joe...\n",
              "\n",
              "[45615 rows x 1 columns]"
            ]
          },
          "metadata": {
            "tags": []
          },
          "execution_count": 41
        }
      ]
    },
    {
      "cell_type": "markdown",
      "metadata": {
        "id": "YWy990PWbW53"
      },
      "source": [
        "## Tokenizing\r\n",
        "\r\n",
        "Exploring the tokenization process"
      ]
    },
    {
      "cell_type": "code",
      "metadata": {
        "id": "H2OEoNBzPtVf",
        "colab": {
          "base_uri": "https://localhost:8080/",
          "height": 67,
          "referenced_widgets": [
            "89243a801d78435dafa9cd14141d31bb",
            "109a122de34142cfb6aafb21e7b7a4c4",
            "a0f78744024c4b9e94be67882c47a8d1",
            "b5fad29d7ab44a7c9ef9699e94c8de45",
            "348413d24050401e902b3d9d85de36c6",
            "99bcd5a002184b3195825b7bbb396e70",
            "2bd662b711824c3ea6cc9c72bc39c75e",
            "8c5fb13618e0418083efc05cd244f59f"
          ]
        },
        "outputId": "93e92ec0-a8ab-4b50-e5cf-5f6a9558b66e"
      },
      "source": [
        "from transformers import BertTokenizer\r\n",
        "tokenizer = BertTokenizer.from_pretrained('bert-base-uncased')"
      ],
      "execution_count": 42,
      "outputs": [
        {
          "output_type": "display_data",
          "data": {
            "application/vnd.jupyter.widget-view+json": {
              "model_id": "89243a801d78435dafa9cd14141d31bb",
              "version_minor": 0,
              "version_major": 2
            },
            "text/plain": [
              "HBox(children=(FloatProgress(value=0.0, description='Downloading', max=231508.0, style=ProgressStyle(descripti…"
            ]
          },
          "metadata": {
            "tags": []
          }
        },
        {
          "output_type": "stream",
          "text": [
            "\n"
          ],
          "name": "stdout"
        }
      ]
    },
    {
      "cell_type": "code",
      "metadata": {
        "colab": {
          "base_uri": "https://localhost:8080/",
          "height": 36
        },
        "id": "FR3-C5go2vEl",
        "outputId": "61604baa-d03f-45ef-9b93-0d978f53e6d2"
      },
      "source": [
        "sentiment_train_df.iloc[3256,0]"
      ],
      "execution_count": 43,
      "outputs": [
        {
          "output_type": "execute_result",
          "data": {
            "application/vnd.google.colaboratory.intrinsic+json": {
              "type": "string"
            },
            "text/plain": [
              "'Would take Pato all day long as a 3rd striker behind Berahino and Kane for a bench or cup player. '"
            ]
          },
          "metadata": {
            "tags": []
          },
          "execution_count": 43
        }
      ]
    },
    {
      "cell_type": "code",
      "metadata": {
        "colab": {
          "base_uri": "https://localhost:8080/"
        },
        "id": "BOTZrcFo47mw",
        "outputId": "e522f402-831d-414e-9f81-fcecab313148"
      },
      "source": [
        "# tokenizing and removing white spaces while keepng punctuation\r\n",
        "sentence_sample = sentiment_train_df.iloc[3256,0]\r\n",
        "token_sample = tokenizer.tokenize(sentence_sample)\r\n",
        "print(token_sample)"
      ],
      "execution_count": 44,
      "outputs": [
        {
          "output_type": "stream",
          "text": [
            "['would', 'take', 'pat', '##o', 'all', 'day', 'long', 'as', 'a', '3rd', 'striker', 'behind', 'be', '##rah', '##ino', 'and', 'kane', 'for', 'a', 'bench', 'or', 'cup', 'player', '.']\n"
          ],
          "name": "stdout"
        }
      ]
    },
    {
      "cell_type": "markdown",
      "metadata": {
        "id": "khUIsELMZJ5r"
      },
      "source": [
        "The tokenizer is 'masking' or tokenizing emojis as [UNK]\r\n"
      ]
    },
    {
      "cell_type": "code",
      "metadata": {
        "colab": {
          "base_uri": "https://localhost:8080/"
        },
        "id": "Q7HmKtXMssvX",
        "outputId": "a2ce45b2-f5fd-490e-dfdf-6048d8fdde14"
      },
      "source": [
        "print(emotion_train_df.iloc[654,0])"
      ],
      "execution_count": 45,
      "outputs": [
        {
          "output_type": "stream",
          "text": [
            "  Did they get the wrong fur Pal? shocking 😱 \n"
          ],
          "name": "stdout"
        }
      ]
    },
    {
      "cell_type": "code",
      "metadata": {
        "colab": {
          "base_uri": "https://localhost:8080/"
        },
        "id": "bVJ_mfposcrr",
        "outputId": "0687d535-1b90-4a8f-a3b5-32ce5e90aba6"
      },
      "source": [
        "# The tokenizer is 'masking' or tokenizing emojis as [UNK]\r\n",
        "tweet_sample = emotion_train_df.iloc[654,0]\r\n",
        "token_sample = tokenizer.tokenize(tweet_sample)\r\n",
        "print(token_sample)"
      ],
      "execution_count": 46,
      "outputs": [
        {
          "output_type": "stream",
          "text": [
            "['did', 'they', 'get', 'the', 'wrong', 'fur', 'pal', '?', 'shocking', '[UNK]']\n"
          ],
          "name": "stdout"
        }
      ]
    },
    {
      "cell_type": "markdown",
      "metadata": {
        "id": "FXbAIPc-ZRyo"
      },
      "source": [
        "Converting the corpus into IDs of unqiue integers associated with each token. \r\n",
        "\r\n",
        "Convert each token to its ID, and that is an integer representing the index of that token in the vocabulary of the model,\r\n"
      ]
    },
    {
      "cell_type": "code",
      "metadata": {
        "colab": {
          "base_uri": "https://localhost:8080/"
        },
        "id": "IIsjmHBakt_4",
        "outputId": "a8653779-da89-42f2-eb57-9607394560ef"
      },
      "source": [
        "token_id_sample = tokenizer.convert_tokens_to_ids(token_sample)\r\n",
        "print(token_id_sample)"
      ],
      "execution_count": 47,
      "outputs": [
        {
          "output_type": "stream",
          "text": [
            "[2106, 2027, 2131, 1996, 3308, 6519, 14412, 1029, 16880, 100]\n"
          ],
          "name": "stdout"
        }
      ]
    },
    {
      "cell_type": "markdown",
      "metadata": {
        "id": "S3LDPHoRBNxT"
      },
      "source": [
        "We have to provide sequences of equal length therefore we'll add some padding.\r\n",
        "\r\n",
        "Then pass \"attention mask\" where each term has a value of 1 and each padding character has a value of 0\r\n",
        "\r\n",
        "Special tokens are needed for separating betwen sentences and that's an artifact from the way that BERT initially trained.  telling BERT that we're interested in squence classification. \"\r\n",
        "\r\n",
        "Exploring types of tokens when encoding them into IDs"
      ]
    },
    {
      "cell_type": "code",
      "metadata": {
        "colab": {
          "base_uri": "https://localhost:8080/"
        },
        "id": "s3Bui9W8biUn",
        "outputId": "1be032b9-1776-4ff5-a7b3-1c586b8fc5e9"
      },
      "source": [
        "print(\"Types of tokens and their IDs:\", tokenizer.special_tokens_map)\r\n",
        "print(tokenizer.pad_token, tokenizer.pad_token_id)\r\n",
        "print(tokenizer.unk_token, tokenizer.unk_token_id)\r\n",
        "print(tokenizer.cls_token, tokenizer.cls_token_id) # CLS is sequence/text classification task\r\n",
        "print(tokenizer.sep_token, tokenizer.sep_token_id)\r\n",
        "print(tokenizer.mask_token, tokenizer.mask_token_id)"
      ],
      "execution_count": 48,
      "outputs": [
        {
          "output_type": "stream",
          "text": [
            "Types of tokens and their IDs: {'unk_token': '[UNK]', 'sep_token': '[SEP]', 'pad_token': '[PAD]', 'cls_token': '[CLS]', 'mask_token': '[MASK]'}\n",
            "[PAD] 0\n",
            "[UNK] 100\n",
            "[CLS] 101\n",
            "[SEP] 102\n",
            "[MASK] 103\n"
          ],
          "name": "stdout"
        }
      ]
    },
    {
      "cell_type": "markdown",
      "metadata": {
        "id": "fpBL1_ciNmDN"
      },
      "source": [
        "Exploring the encoding process"
      ]
    },
    {
      "cell_type": "code",
      "metadata": {
        "colab": {
          "base_uri": "https://localhost:8080/"
        },
        "id": "7WK-bL-KbiXP",
        "outputId": "0bf48e79-7143-44d5-ec4b-5c4199087102"
      },
      "source": [
        "encoding = tokenizer.encode_plus( # why plus?\r\n",
        "        \r\n",
        "    text = tweet_sample,\r\n",
        "    add_special_tokens=True, # Add '[CLS]' and '[SEP]'\r\n",
        "    return_token_type_ids=False,\r\n",
        "    # pad_to_max_length=True,\r\n",
        "    truncation=True,\r\n",
        "    max_length=60, # number of tokens\r\n",
        "    padding='max_length',\r\n",
        "    return_attention_mask = True,\r\n",
        "    return_tensors='pt',  # Return PyTorch tensors, and tf can be used for TensorFlow as well\r\n",
        ")\r\n",
        "\r\n",
        "encoding.keys()"
      ],
      "execution_count": 49,
      "outputs": [
        {
          "output_type": "execute_result",
          "data": {
            "text/plain": [
              "dict_keys(['input_ids', 'attention_mask'])"
            ]
          },
          "metadata": {
            "tags": []
          },
          "execution_count": 49
        }
      ]
    },
    {
      "cell_type": "code",
      "metadata": {
        "colab": {
          "base_uri": "https://localhost:8080/"
        },
        "id": "9wKJThlCJ1-X",
        "outputId": "e3d4b82e-d2c8-4938-ffc3-1fd8bb3d0b0f"
      },
      "source": [
        "encoded_seq = encoding['input_ids'][0]\r\n",
        "print(\"Encoded sequence (IDs):\\n\", encoded_seq)\r\n",
        "print(\"Attention Mask:\\n\", encoding['attention_mask'])"
      ],
      "execution_count": 50,
      "outputs": [
        {
          "output_type": "stream",
          "text": [
            "Encoded sequence (IDs):\n",
            " tensor([  101,  2106,  2027,  2131,  1996,  3308,  6519, 14412,  1029, 16880,\n",
            "          100,   102,     0,     0,     0,     0,     0,     0,     0,     0,\n",
            "            0,     0,     0,     0,     0,     0,     0,     0,     0,     0,\n",
            "            0,     0,     0,     0,     0,     0,     0,     0,     0,     0,\n",
            "            0,     0,     0,     0,     0,     0,     0,     0,     0,     0,\n",
            "            0,     0,     0,     0,     0,     0,     0,     0,     0,     0])\n",
            "Attention Mask:\n",
            " tensor([[1, 1, 1, 1, 1, 1, 1, 1, 1, 1, 1, 1, 0, 0, 0, 0, 0, 0, 0, 0, 0, 0, 0, 0,\n",
            "         0, 0, 0, 0, 0, 0, 0, 0, 0, 0, 0, 0, 0, 0, 0, 0, 0, 0, 0, 0, 0, 0, 0, 0,\n",
            "         0, 0, 0, 0, 0, 0, 0, 0, 0, 0, 0, 0]])\n"
          ],
          "name": "stdout"
        }
      ]
    },
    {
      "cell_type": "code",
      "metadata": {
        "colab": {
          "base_uri": "https://localhost:8080/"
        },
        "id": "aupPI-JjLDaq",
        "outputId": "a5330838-3976-4000-f1f4-3400b2d1a022"
      },
      "source": [
        "print(\"Converting the encoded sequence back to tokens:\\n\", tokenizer.convert_ids_to_tokens(encoded_seq))"
      ],
      "execution_count": 51,
      "outputs": [
        {
          "output_type": "stream",
          "text": [
            "Converting the encoded sequence back to tokens:\n",
            " ['[CLS]', 'did', 'they', 'get', 'the', 'wrong', 'fur', 'pal', '?', 'shocking', '[UNK]', '[SEP]', '[PAD]', '[PAD]', '[PAD]', '[PAD]', '[PAD]', '[PAD]', '[PAD]', '[PAD]', '[PAD]', '[PAD]', '[PAD]', '[PAD]', '[PAD]', '[PAD]', '[PAD]', '[PAD]', '[PAD]', '[PAD]', '[PAD]', '[PAD]', '[PAD]', '[PAD]', '[PAD]', '[PAD]', '[PAD]', '[PAD]', '[PAD]', '[PAD]', '[PAD]', '[PAD]', '[PAD]', '[PAD]', '[PAD]', '[PAD]', '[PAD]', '[PAD]', '[PAD]', '[PAD]', '[PAD]', '[PAD]', '[PAD]', '[PAD]', '[PAD]', '[PAD]', '[PAD]', '[PAD]', '[PAD]', '[PAD]']\n"
          ],
          "name": "stdout"
        }
      ]
    },
    {
      "cell_type": "markdown",
      "metadata": {
        "id": "9Crvn_KQWYOH"
      },
      "source": [
        "Choosing the right size of sequence (or number of tokens) for our dataset is necessary because the larger the sequence length the slower is the process of training the model because there is a corelation between the two."
      ]
    },
    {
      "cell_type": "code",
      "metadata": {
        "colab": {
          "base_uri": "https://localhost:8080/",
          "height": 317
        },
        "id": "98qBBWUkQo24",
        "outputId": "863be6ec-d985-45ec-ca05-1ca7ffc83d4b"
      },
      "source": [
        "token_lens = []\r\n",
        "\r\n",
        "for each_tweet in hate_train_df.tweet:\r\n",
        "  \r\n",
        "  tokens = tokenizer.encode(each_tweet, max_length=512) # max length by the model\r\n",
        "  token_lens.append(len(tokens)) \r\n",
        "\r\n",
        "\r\n",
        "sns.histplot(token_lens)\r\n",
        "plt.xlim([0, 100]);\r\n",
        "plt.xlabel('Number of Tokens per Tweet'); "
      ],
      "execution_count": 52,
      "outputs": [
        {
          "output_type": "stream",
          "text": [
            "Truncation was not explicitly activated but `max_length` is provided a specific value, please use `truncation=True` to explicitly truncate examples to max length. Defaulting to 'longest_first' truncation strategy. If you encode pairs of sequences (GLUE-style) with the tokenizer you can select this strategy more precisely by providing a specific strategy to `truncation`.\n"
          ],
          "name": "stderr"
        },
        {
          "output_type": "display_data",
          "data": {
            "image/png": "[encoded data removed]",
            "text/plain": [
              "<Figure size 432x288 with 1 Axes>"
            ]
          },
          "metadata": {
            "tags": [],
            "needs_background": "light"
          }
        }
      ]
    },
    {
      "cell_type": "code",
      "metadata": {
        "colab": {
          "base_uri": "https://localhost:8080/",
          "height": 281
        },
        "id": "syFUoJ2TbGMj",
        "outputId": "ef90ea73-5c57-4c59-fe44-70f2f26852aa"
      },
      "source": [
        "token_lens = []\r\n",
        "\r\n",
        "for each_tweet in sentiment_train_df.tweet:\r\n",
        "  \r\n",
        "  tokens = tokenizer.encode(each_tweet, max_length=512) # max length by the model\r\n",
        "  token_lens.append(len(tokens)) \r\n",
        "\r\n",
        "\r\n",
        "sns.histplot(token_lens)\r\n",
        "plt.xlim([0, 100]);\r\n",
        "plt.xlabel('Number of Tokens per Tweet'); "
      ],
      "execution_count": 53,
      "outputs": [
        {
          "output_type": "display_data",
          "data": {
            "image/png": "[encoded data removed]",
            "text/plain": [
              "<Figure size 432x288 with 1 Axes>"
            ]
          },
          "metadata": {
            "tags": [],
            "needs_background": "light"
          }
        }
      ]
    },
    {
      "cell_type": "code",
      "metadata": {
        "colab": {
          "base_uri": "https://localhost:8080/",
          "height": 279
        },
        "id": "iPilesbjbGXV",
        "outputId": "e5318d68-0bdf-4241-84cc-3915c9db85b9"
      },
      "source": [
        "token_lens = []\r\n",
        "\r\n",
        "for each_tweet in emotion_train_df.tweet:\r\n",
        "  \r\n",
        "  tokens = tokenizer.encode(each_tweet, max_length=512) # max length by the model\r\n",
        "  token_lens.append(len(tokens)) \r\n",
        "\r\n",
        "\r\n",
        "sns.histplot(token_lens)\r\n",
        "plt.xlim([0, 100]);\r\n",
        "plt.xlabel('Number of Tokens per Tweet'); "
      ],
      "execution_count": 54,
      "outputs": [
        {
          "output_type": "display_data",
          "data": {
            "image/png": "[encoded data removed]",
            "text/plain": [
              "<Figure size 432x288 with 1 Axes>"
            ]
          },
          "metadata": {
            "tags": [],
            "needs_background": "light"
          }
        }
      ]
    },
    {
      "cell_type": "markdown",
      "metadata": {
        "id": "hXEYKNelN3FM"
      },
      "source": [
        "# BERT: Exploring Initial Model\r\n",
        "\r\n",
        "Loading the dataset to BERT using PyTorch library"
      ]
    },
    {
      "cell_type": "code",
      "metadata": {
        "id": "_P0o_sQQaI3L"
      },
      "source": [
        "MAX_LEN = 100  # The highest number of tokens in our dataset\r\n",
        "BATCH_SIZE = 16\r\n",
        "\r\n",
        "class SentimentsDataset(Dataset):\r\n",
        "\r\n",
        "  def __init__(self, sentiment, targets, tokenizer, max_len):\r\n",
        "\r\n",
        "    self.sentiment = sentiment\r\n",
        "    self.targets = targets\r\n",
        "    self.tokenizer = tokenizer\r\n",
        "    self.max_len = max_len\r\n",
        "\r\n",
        "  def __len__(self):\r\n",
        "\r\n",
        "    return len(self.sentiment)\r\n",
        "\r\n",
        "  def __getitem__(self, item):\r\n",
        "\r\n",
        "    sentiment = str(self.sentiment[item])\r\n",
        "    target = self.targets[item]\r\n",
        "    encoding = self.tokenizer.encode_plus(\r\n",
        "\r\n",
        "      sentiment,\r\n",
        "      add_special_tokens=True,\r\n",
        "      max_length=self.max_len,\r\n",
        "      return_token_type_ids=False,\r\n",
        "      padding='max_length',\r\n",
        "      return_attention_mask=True,\r\n",
        "      return_tensors='pt',\r\n",
        "\r\n",
        "    )\r\n",
        "\r\n",
        "    return {\r\n",
        "\r\n",
        "      'sentiment_text': sentiment,\r\n",
        "      'input_ids': encoding['input_ids'].flatten(),\r\n",
        "      'attention_mask': encoding['attention_mask'].flatten(),\r\n",
        "      'targets': torch.tensor(target, dtype=torch.long)\r\n",
        "    }"
      ],
      "execution_count": 55,
      "outputs": []
    },
    {
      "cell_type": "code",
      "metadata": {
        "id": "K6xz6u8DcP_n"
      },
      "source": [
        "def create_data_loader(df, labels, tokenizer, max_len, batch_size):\r\n",
        "\r\n",
        "  ds = SentimentsDataset(\r\n",
        "           \r\n",
        "      sentiment=df.tweet.to_numpy(),\r\n",
        "      targets=labels.label.to_numpy(),\r\n",
        "      tokenizer=tokenizer,\r\n",
        "      max_len=max_len\r\n",
        "\r\n",
        "  )\r\n",
        "\r\n",
        "  return DataLoader(\r\n",
        "      \r\n",
        "      ds,\r\n",
        "      batch_size=batch_size,\r\n",
        "      num_workers=4\r\n",
        "\r\n",
        "  )\r\n",
        "\r\n",
        "train_data_loader = create_data_loader(sentiment_train_df, sentiment_train_labels, tokenizer, MAX_LEN, BATCH_SIZE)\r\n",
        "val_data_loader = create_data_loader(sentiment_val_df, sentiment_val_labels, tokenizer, MAX_LEN, BATCH_SIZE)\r\n",
        "test_data_loader = create_data_loader(sentiment_test_df, sentiment_test_labels, tokenizer, MAX_LEN, BATCH_SIZE)"
      ],
      "execution_count": 56,
      "outputs": []
    },
    {
      "cell_type": "code",
      "metadata": {
        "colab": {
          "base_uri": "https://localhost:8080/"
        },
        "id": "IpsPfnqGihA8",
        "outputId": "2b821fa0-81f8-45e1-cfe0-c5c5f3c2931f"
      },
      "source": [
        "data = next(iter(train_data_loader))\r\n",
        "\r\n",
        "data.keys()\r\n",
        "\r\n",
        "(['sentiment_text', 'input_ids', 'attention_mask', 'targets'])\r\n",
        "\r\n",
        "print(data['input_ids'].shape)\r\n",
        "print(data['attention_mask'].shape)\r\n",
        "print(data['targets'].shape)"
      ],
      "execution_count": 57,
      "outputs": [
        {
          "output_type": "stream",
          "text": [
            "torch.Size([16, 100])\n",
            "torch.Size([16, 100])\n",
            "torch.Size([16])\n"
          ],
          "name": "stdout"
        }
      ]
    }
  ]
}